{
 "cells": [
  {
   "cell_type": "markdown",
   "id": "6c5ba474",
   "metadata": {
    "papermill": {
     "duration": 0.01533,
     "end_time": "2023-03-30T19:58:44.274741",
     "exception": false,
     "start_time": "2023-03-30T19:58:44.259411",
     "status": "completed"
    },
    "tags": []
   },
   "source": [
    "# Cyclistic case study\n",
    "Author: Juan Martinez"
   ]
  },
  {
   "cell_type": "markdown",
   "id": "5382c897",
   "metadata": {
    "papermill": {
     "duration": 0.015466,
     "end_time": "2023-03-30T19:58:44.304375",
     "exception": false,
     "start_time": "2023-03-30T19:58:44.288909",
     "status": "completed"
    },
    "tags": []
   },
   "source": [
    "## Summary\n",
    "Cyclistic is a fictional startup which launched a successful bike-sharing program in 2016 with a fleet of 5,824 bikes and 692 stations across Chicago. The bikes can be picked up and returned to any station anytime. Cyclistic's marketing strategy has focused on appealing to a broad audience with flexible pricing options for single-ride, full-day, and annual passes.\n",
    "The company's finance analysts have determined that annual members are more profitable than casual riders, and their goal is to convert casual riders into members. To do this, the marketing team wants to better understand the differences between the two groups and use data analysis to identify trends."
   ]
  },
  {
   "cell_type": "markdown",
   "id": "97ef2607",
   "metadata": {
    "papermill": {
     "duration": 0.014076,
     "end_time": "2023-03-30T19:58:44.333427",
     "exception": false,
     "start_time": "2023-03-30T19:58:44.319351",
     "status": "completed"
    },
    "tags": []
   },
   "source": [
    "# 1.- Ask\n",
    "\n",
    "### Key Stakeholders.\n",
    "* Lily Moreno: Director of marketing and manager.\n",
    "* Cyclistic marketing analytics team.\n",
    "* Cyclistic executive team.\n",
    "\n",
    "### Business task.\n",
    "\n",
    "Identify the differences between “casual” and “member” users, in order to build marketing strategies to convince casual users to turn into members."
   ]
  },
  {
   "cell_type": "markdown",
   "id": "83336e39",
   "metadata": {
    "papermill": {
     "duration": 0.014258,
     "end_time": "2023-03-30T19:58:44.362114",
     "exception": false,
     "start_time": "2023-03-30T19:58:44.347856",
     "status": "completed"
    },
    "tags": []
   },
   "source": [
    "# 2.-Prepare\n",
    "\n",
    "### Dataset used.\n",
    "The data is public data provided by Motivate International Inc. Under a license agreement made between Lyft Bikes and Scooters, LLC. and the city of Chicago. The license can be read [here](https://ride.divvybikes.com/data-license-agreement).\n",
    "\n",
    "### Information about our dataset.\n",
    "Data is available from april 2021 to march 2022. Every dataset files are in CSV format, and divided between the months.\n",
    "\n",
    "### Data organization.\n",
    "For our purpose, we will use all the data available. "
   ]
  },
  {
   "cell_type": "markdown",
   "id": "46fadcd3",
   "metadata": {
    "papermill": {
     "duration": 0.013998,
     "end_time": "2023-03-30T19:58:44.390304",
     "exception": false,
     "start_time": "2023-03-30T19:58:44.376306",
     "status": "completed"
    },
    "tags": []
   },
   "source": [
    "# 3.- Process\n",
    "### Loading the datasets"
   ]
  },
  {
   "cell_type": "code",
   "execution_count": 1,
   "id": "82633659",
   "metadata": {
    "execution": {
     "iopub.execute_input": "2023-03-30T19:58:44.420572Z",
     "iopub.status.busy": "2023-03-30T19:58:44.420199Z",
     "iopub.status.idle": "2023-03-30T19:58:45.471841Z",
     "shell.execute_reply": "2023-03-30T19:58:45.470668Z"
    },
    "papermill": {
     "duration": 1.069863,
     "end_time": "2023-03-30T19:58:45.474462",
     "exception": false,
     "start_time": "2023-03-30T19:58:44.404599",
     "status": "completed"
    },
    "tags": []
   },
   "outputs": [],
   "source": [
    "import pandas as pd\n",
    "import numpy as np\n",
    "import datetime as dt\n",
    "import matplotlib.pyplot as plt\n",
    "import seaborn as sns"
   ]
  },
  {
   "cell_type": "code",
   "execution_count": 2,
   "id": "86d00080",
   "metadata": {
    "_cell_guid": "b1076dfc-b9ad-4769-8c92-a6c4dae69d19",
    "_uuid": "8f2839f25d086af736a60e9eeb907d3b93b6e0e5",
    "execution": {
     "iopub.execute_input": "2023-03-30T19:58:45.507955Z",
     "iopub.status.busy": "2023-03-30T19:58:45.506777Z",
     "iopub.status.idle": "2023-03-30T19:58:45.523162Z",
     "shell.execute_reply": "2023-03-30T19:58:45.521344Z"
    },
    "papermill": {
     "duration": 0.035647,
     "end_time": "2023-03-30T19:58:45.525615",
     "exception": false,
     "start_time": "2023-03-30T19:58:45.489968",
     "status": "completed"
    },
    "tags": []
   },
   "outputs": [
    {
     "name": "stdout",
     "output_type": "stream",
     "text": [
      "/kaggle/input/cyclistic-bike-share/202110-divvy-tripdata.csv\n",
      "/kaggle/input/cyclistic-bike-share/202105-divvy-tripdata.csv\n",
      "/kaggle/input/cyclistic-bike-share/202109-divvy-tripdata.csv\n",
      "/kaggle/input/cyclistic-bike-share/202111-divvy-tripdata.csv\n",
      "/kaggle/input/cyclistic-bike-share/202107-divvy-tripdata.csv\n",
      "/kaggle/input/cyclistic-bike-share/202202-divvy-tripdata.csv\n",
      "/kaggle/input/cyclistic-bike-share/202203-divvy-tripdata.csv\n",
      "/kaggle/input/cyclistic-bike-share/202108-divvy-tripdata.csv\n",
      "/kaggle/input/cyclistic-bike-share/202106-divvy-tripdata.csv\n",
      "/kaggle/input/cyclistic-bike-share/202201-divvy-tripdata.csv\n",
      "/kaggle/input/cyclistic-bike-share/202104-divvy-tripdata.csv\n",
      "/kaggle/input/cyclistic-bike-share/202112-divvy-tripdata.csv\n"
     ]
    }
   ],
   "source": [
    "import os\n",
    "for dirname, _, filenames in os.walk('/kaggle/input'):\n",
    "    for filename in filenames:\n",
    "        print(os.path.join(dirname, filename))"
   ]
  },
  {
   "cell_type": "code",
   "execution_count": 3,
   "id": "bd794e4b",
   "metadata": {
    "execution": {
     "iopub.execute_input": "2023-03-30T19:58:45.556133Z",
     "iopub.status.busy": "2023-03-30T19:58:45.555780Z",
     "iopub.status.idle": "2023-03-30T19:59:13.534865Z",
     "shell.execute_reply": "2023-03-30T19:59:13.533921Z"
    },
    "papermill": {
     "duration": 27.997277,
     "end_time": "2023-03-30T19:59:13.537442",
     "exception": false,
     "start_time": "2023-03-30T19:58:45.540165",
     "status": "completed"
    },
    "tags": []
   },
   "outputs": [],
   "source": [
    "april_21 = pd.read_csv('/kaggle/input/cyclistic-bike-share/202104-divvy-tripdata.csv')\n",
    "may_21 = pd.read_csv('/kaggle/input/cyclistic-bike-share/202105-divvy-tripdata.csv')\n",
    "june_21 = pd.read_csv('/kaggle/input/cyclistic-bike-share/202106-divvy-tripdata.csv')\n",
    "july_21 = pd.read_csv('/kaggle/input/cyclistic-bike-share/202107-divvy-tripdata.csv')\n",
    "august_21 = pd.read_csv('/kaggle/input/cyclistic-bike-share/202108-divvy-tripdata.csv')\n",
    "september_21 = pd.read_csv('/kaggle/input/cyclistic-bike-share/202109-divvy-tripdata.csv')\n",
    "october_21 = pd.read_csv('/kaggle/input/cyclistic-bike-share/202110-divvy-tripdata.csv')\n",
    "november_21 = pd.read_csv('/kaggle/input/cyclistic-bike-share/202111-divvy-tripdata.csv')\n",
    "december_21 = pd.read_csv('/kaggle/input/cyclistic-bike-share/202112-divvy-tripdata.csv')\n",
    "january_22 = pd.read_csv('/kaggle/input/cyclistic-bike-share/202201-divvy-tripdata.csv')\n",
    "february_22 = pd.read_csv('/kaggle/input/cyclistic-bike-share/202202-divvy-tripdata.csv')\n",
    "march_22 = pd.read_csv('/kaggle/input/cyclistic-bike-share/202203-divvy-tripdata.csv')"
   ]
  },
  {
   "cell_type": "markdown",
   "id": "4737e77b",
   "metadata": {
    "papermill": {
     "duration": 0.014058,
     "end_time": "2023-03-30T19:59:13.566187",
     "exception": false,
     "start_time": "2023-03-30T19:59:13.552129",
     "status": "completed"
    },
    "tags": []
   },
   "source": [
    "### Combining the datasets"
   ]
  },
  {
   "cell_type": "code",
   "execution_count": 4,
   "id": "6635070a",
   "metadata": {
    "execution": {
     "iopub.execute_input": "2023-03-30T19:59:13.597239Z",
     "iopub.status.busy": "2023-03-30T19:59:13.596793Z",
     "iopub.status.idle": "2023-03-30T19:59:14.759021Z",
     "shell.execute_reply": "2023-03-30T19:59:14.758199Z"
    },
    "papermill": {
     "duration": 1.180414,
     "end_time": "2023-03-30T19:59:14.760970",
     "exception": false,
     "start_time": "2023-03-30T19:59:13.580556",
     "status": "completed"
    },
    "tags": []
   },
   "outputs": [
    {
     "data": {
      "text/html": [
       "<div>\n",
       "<style scoped>\n",
       "    .dataframe tbody tr th:only-of-type {\n",
       "        vertical-align: middle;\n",
       "    }\n",
       "\n",
       "    .dataframe tbody tr th {\n",
       "        vertical-align: top;\n",
       "    }\n",
       "\n",
       "    .dataframe thead th {\n",
       "        text-align: right;\n",
       "    }\n",
       "</style>\n",
       "<table border=\"1\" class=\"dataframe\">\n",
       "  <thead>\n",
       "    <tr style=\"text-align: right;\">\n",
       "      <th></th>\n",
       "      <th>ride_id</th>\n",
       "      <th>rideable_type</th>\n",
       "      <th>started_at</th>\n",
       "      <th>ended_at</th>\n",
       "      <th>start_station_name</th>\n",
       "      <th>start_station_id</th>\n",
       "      <th>end_station_name</th>\n",
       "      <th>end_station_id</th>\n",
       "      <th>start_lat</th>\n",
       "      <th>start_lng</th>\n",
       "      <th>end_lat</th>\n",
       "      <th>end_lng</th>\n",
       "      <th>member_casual</th>\n",
       "    </tr>\n",
       "  </thead>\n",
       "  <tbody>\n",
       "    <tr>\n",
       "      <th>0</th>\n",
       "      <td>6C992BD37A98A63F</td>\n",
       "      <td>classic_bike</td>\n",
       "      <td>2021-04-12 18:25:36</td>\n",
       "      <td>2021-04-12 18:56:55</td>\n",
       "      <td>State St &amp; Pearson St</td>\n",
       "      <td>TA1307000061</td>\n",
       "      <td>Southport Ave &amp; Waveland Ave</td>\n",
       "      <td>13235</td>\n",
       "      <td>41.897448</td>\n",
       "      <td>-87.628722</td>\n",
       "      <td>41.948150</td>\n",
       "      <td>-87.663940</td>\n",
       "      <td>member</td>\n",
       "    </tr>\n",
       "    <tr>\n",
       "      <th>1</th>\n",
       "      <td>1E0145613A209000</td>\n",
       "      <td>docked_bike</td>\n",
       "      <td>2021-04-27 17:27:11</td>\n",
       "      <td>2021-04-27 18:31:29</td>\n",
       "      <td>Dorchester Ave &amp; 49th St</td>\n",
       "      <td>KA1503000069</td>\n",
       "      <td>Dorchester Ave &amp; 49th St</td>\n",
       "      <td>KA1503000069</td>\n",
       "      <td>41.805772</td>\n",
       "      <td>-87.592464</td>\n",
       "      <td>41.805772</td>\n",
       "      <td>-87.592464</td>\n",
       "      <td>casual</td>\n",
       "    </tr>\n",
       "    <tr>\n",
       "      <th>2</th>\n",
       "      <td>E498E15508A80BAD</td>\n",
       "      <td>docked_bike</td>\n",
       "      <td>2021-04-03 12:42:45</td>\n",
       "      <td>2021-04-07 11:40:24</td>\n",
       "      <td>Loomis Blvd &amp; 84th St</td>\n",
       "      <td>20121</td>\n",
       "      <td>Loomis Blvd &amp; 84th St</td>\n",
       "      <td>20121</td>\n",
       "      <td>41.741487</td>\n",
       "      <td>-87.658410</td>\n",
       "      <td>41.741487</td>\n",
       "      <td>-87.658410</td>\n",
       "      <td>casual</td>\n",
       "    </tr>\n",
       "    <tr>\n",
       "      <th>3</th>\n",
       "      <td>1887262AD101C604</td>\n",
       "      <td>classic_bike</td>\n",
       "      <td>2021-04-17 09:17:42</td>\n",
       "      <td>2021-04-17 09:42:48</td>\n",
       "      <td>Honore St &amp; Division St</td>\n",
       "      <td>TA1305000034</td>\n",
       "      <td>Southport Ave &amp; Waveland Ave</td>\n",
       "      <td>13235</td>\n",
       "      <td>41.903119</td>\n",
       "      <td>-87.673935</td>\n",
       "      <td>41.948150</td>\n",
       "      <td>-87.663940</td>\n",
       "      <td>member</td>\n",
       "    </tr>\n",
       "    <tr>\n",
       "      <th>4</th>\n",
       "      <td>C123548CAB2A32A5</td>\n",
       "      <td>docked_bike</td>\n",
       "      <td>2021-04-03 12:42:25</td>\n",
       "      <td>2021-04-03 14:13:42</td>\n",
       "      <td>Loomis Blvd &amp; 84th St</td>\n",
       "      <td>20121</td>\n",
       "      <td>Loomis Blvd &amp; 84th St</td>\n",
       "      <td>20121</td>\n",
       "      <td>41.741487</td>\n",
       "      <td>-87.658410</td>\n",
       "      <td>41.741487</td>\n",
       "      <td>-87.658410</td>\n",
       "      <td>casual</td>\n",
       "    </tr>\n",
       "    <tr>\n",
       "      <th>...</th>\n",
       "      <td>...</td>\n",
       "      <td>...</td>\n",
       "      <td>...</td>\n",
       "      <td>...</td>\n",
       "      <td>...</td>\n",
       "      <td>...</td>\n",
       "      <td>...</td>\n",
       "      <td>...</td>\n",
       "      <td>...</td>\n",
       "      <td>...</td>\n",
       "      <td>...</td>\n",
       "      <td>...</td>\n",
       "      <td>...</td>\n",
       "    </tr>\n",
       "    <tr>\n",
       "      <th>284037</th>\n",
       "      <td>E23BE3DB740BE3B4</td>\n",
       "      <td>docked_bike</td>\n",
       "      <td>2022-03-13 16:31:03</td>\n",
       "      <td>2022-03-13 16:39:32</td>\n",
       "      <td>Michigan Ave &amp; Oak St</td>\n",
       "      <td>13042</td>\n",
       "      <td>Streeter Dr &amp; Grand Ave</td>\n",
       "      <td>13022</td>\n",
       "      <td>41.900960</td>\n",
       "      <td>-87.623777</td>\n",
       "      <td>41.892278</td>\n",
       "      <td>-87.612043</td>\n",
       "      <td>casual</td>\n",
       "    </tr>\n",
       "    <tr>\n",
       "      <th>284038</th>\n",
       "      <td>15AF71F3220F2A75</td>\n",
       "      <td>docked_bike</td>\n",
       "      <td>2022-03-09 06:56:02</td>\n",
       "      <td>2022-03-09 07:42:14</td>\n",
       "      <td>Broadway &amp; Barry Ave</td>\n",
       "      <td>13137</td>\n",
       "      <td>Ravenswood Ave &amp; Berteau Ave</td>\n",
       "      <td>TA1309000018</td>\n",
       "      <td>41.937582</td>\n",
       "      <td>-87.644098</td>\n",
       "      <td>41.957921</td>\n",
       "      <td>-87.673567</td>\n",
       "      <td>casual</td>\n",
       "    </tr>\n",
       "    <tr>\n",
       "      <th>284039</th>\n",
       "      <td>9C4CE6CC19F8225B</td>\n",
       "      <td>electric_bike</td>\n",
       "      <td>2022-03-09 15:55:26</td>\n",
       "      <td>2022-03-09 16:08:54</td>\n",
       "      <td>NaN</td>\n",
       "      <td>NaN</td>\n",
       "      <td>Albany Ave &amp; Montrose Ave</td>\n",
       "      <td>15621</td>\n",
       "      <td>41.940000</td>\n",
       "      <td>-87.710000</td>\n",
       "      <td>41.961041</td>\n",
       "      <td>-87.705866</td>\n",
       "      <td>member</td>\n",
       "    </tr>\n",
       "    <tr>\n",
       "      <th>284040</th>\n",
       "      <td>F4E136DEF696F3AE</td>\n",
       "      <td>electric_bike</td>\n",
       "      <td>2022-03-21 16:12:44</td>\n",
       "      <td>2022-03-21 16:18:24</td>\n",
       "      <td>NaN</td>\n",
       "      <td>NaN</td>\n",
       "      <td>Larrabee St &amp; Division St</td>\n",
       "      <td>KA1504000079</td>\n",
       "      <td>41.910000</td>\n",
       "      <td>-87.650000</td>\n",
       "      <td>41.903486</td>\n",
       "      <td>-87.643353</td>\n",
       "      <td>member</td>\n",
       "    </tr>\n",
       "    <tr>\n",
       "      <th>284041</th>\n",
       "      <td>5AEC5F39AF711895</td>\n",
       "      <td>classic_bike</td>\n",
       "      <td>2022-03-03 18:13:40</td>\n",
       "      <td>2022-03-03 18:23:39</td>\n",
       "      <td>Clark St &amp; Randolph St</td>\n",
       "      <td>TA1305000030</td>\n",
       "      <td>Streeter Dr &amp; Grand Ave</td>\n",
       "      <td>13022</td>\n",
       "      <td>41.884576</td>\n",
       "      <td>-87.631890</td>\n",
       "      <td>41.892278</td>\n",
       "      <td>-87.612043</td>\n",
       "      <td>member</td>\n",
       "    </tr>\n",
       "  </tbody>\n",
       "</table>\n",
       "<p>5723532 rows × 13 columns</p>\n",
       "</div>"
      ],
      "text/plain": [
       "                 ride_id  rideable_type           started_at  \\\n",
       "0       6C992BD37A98A63F   classic_bike  2021-04-12 18:25:36   \n",
       "1       1E0145613A209000    docked_bike  2021-04-27 17:27:11   \n",
       "2       E498E15508A80BAD    docked_bike  2021-04-03 12:42:45   \n",
       "3       1887262AD101C604   classic_bike  2021-04-17 09:17:42   \n",
       "4       C123548CAB2A32A5    docked_bike  2021-04-03 12:42:25   \n",
       "...                  ...            ...                  ...   \n",
       "284037  E23BE3DB740BE3B4    docked_bike  2022-03-13 16:31:03   \n",
       "284038  15AF71F3220F2A75    docked_bike  2022-03-09 06:56:02   \n",
       "284039  9C4CE6CC19F8225B  electric_bike  2022-03-09 15:55:26   \n",
       "284040  F4E136DEF696F3AE  electric_bike  2022-03-21 16:12:44   \n",
       "284041  5AEC5F39AF711895   classic_bike  2022-03-03 18:13:40   \n",
       "\n",
       "                   ended_at        start_station_name start_station_id  \\\n",
       "0       2021-04-12 18:56:55     State St & Pearson St     TA1307000061   \n",
       "1       2021-04-27 18:31:29  Dorchester Ave & 49th St     KA1503000069   \n",
       "2       2021-04-07 11:40:24     Loomis Blvd & 84th St            20121   \n",
       "3       2021-04-17 09:42:48   Honore St & Division St     TA1305000034   \n",
       "4       2021-04-03 14:13:42     Loomis Blvd & 84th St            20121   \n",
       "...                     ...                       ...              ...   \n",
       "284037  2022-03-13 16:39:32     Michigan Ave & Oak St            13042   \n",
       "284038  2022-03-09 07:42:14      Broadway & Barry Ave            13137   \n",
       "284039  2022-03-09 16:08:54                       NaN              NaN   \n",
       "284040  2022-03-21 16:18:24                       NaN              NaN   \n",
       "284041  2022-03-03 18:23:39    Clark St & Randolph St     TA1305000030   \n",
       "\n",
       "                    end_station_name end_station_id  start_lat  start_lng  \\\n",
       "0       Southport Ave & Waveland Ave          13235  41.897448 -87.628722   \n",
       "1           Dorchester Ave & 49th St   KA1503000069  41.805772 -87.592464   \n",
       "2              Loomis Blvd & 84th St          20121  41.741487 -87.658410   \n",
       "3       Southport Ave & Waveland Ave          13235  41.903119 -87.673935   \n",
       "4              Loomis Blvd & 84th St          20121  41.741487 -87.658410   \n",
       "...                              ...            ...        ...        ...   \n",
       "284037       Streeter Dr & Grand Ave          13022  41.900960 -87.623777   \n",
       "284038  Ravenswood Ave & Berteau Ave   TA1309000018  41.937582 -87.644098   \n",
       "284039     Albany Ave & Montrose Ave          15621  41.940000 -87.710000   \n",
       "284040     Larrabee St & Division St   KA1504000079  41.910000 -87.650000   \n",
       "284041       Streeter Dr & Grand Ave          13022  41.884576 -87.631890   \n",
       "\n",
       "          end_lat    end_lng member_casual  \n",
       "0       41.948150 -87.663940        member  \n",
       "1       41.805772 -87.592464        casual  \n",
       "2       41.741487 -87.658410        casual  \n",
       "3       41.948150 -87.663940        member  \n",
       "4       41.741487 -87.658410        casual  \n",
       "...           ...        ...           ...  \n",
       "284037  41.892278 -87.612043        casual  \n",
       "284038  41.957921 -87.673567        casual  \n",
       "284039  41.961041 -87.705866        member  \n",
       "284040  41.903486 -87.643353        member  \n",
       "284041  41.892278 -87.612043        member  \n",
       "\n",
       "[5723532 rows x 13 columns]"
      ]
     },
     "execution_count": 4,
     "metadata": {},
     "output_type": "execute_result"
    }
   ],
   "source": [
    "df = pd.concat([april_21,may_21,june_21,july_21,august_21,september_21,october_21,november_21,december_21,january_22,february_22,march_22])\n",
    "df"
   ]
  },
  {
   "cell_type": "markdown",
   "id": "cb85b675",
   "metadata": {
    "papermill": {
     "duration": 0.015891,
     "end_time": "2023-03-30T19:59:14.792093",
     "exception": false,
     "start_time": "2023-03-30T19:59:14.776202",
     "status": "completed"
    },
    "tags": []
   },
   "source": [
    "### Overall information about the dataset\n",
    "Let's check some information about our dataset"
   ]
  },
  {
   "cell_type": "code",
   "execution_count": 5,
   "id": "2b2bfce0",
   "metadata": {
    "execution": {
     "iopub.execute_input": "2023-03-30T19:59:14.826058Z",
     "iopub.status.busy": "2023-03-30T19:59:14.824385Z",
     "iopub.status.idle": "2023-03-30T19:59:14.832816Z",
     "shell.execute_reply": "2023-03-30T19:59:14.831307Z"
    },
    "papermill": {
     "duration": 0.027119,
     "end_time": "2023-03-30T19:59:14.834768",
     "exception": false,
     "start_time": "2023-03-30T19:59:14.807649",
     "status": "completed"
    },
    "tags": []
   },
   "outputs": [
    {
     "data": {
      "text/plain": [
       "(5723532, 13)"
      ]
     },
     "execution_count": 5,
     "metadata": {},
     "output_type": "execute_result"
    }
   ],
   "source": [
    "df.shape"
   ]
  },
  {
   "cell_type": "code",
   "execution_count": 6,
   "id": "0e3ef76b",
   "metadata": {
    "execution": {
     "iopub.execute_input": "2023-03-30T19:59:14.867035Z",
     "iopub.status.busy": "2023-03-30T19:59:14.866649Z",
     "iopub.status.idle": "2023-03-30T19:59:14.887901Z",
     "shell.execute_reply": "2023-03-30T19:59:14.886249Z"
    },
    "papermill": {
     "duration": 0.040299,
     "end_time": "2023-03-30T19:59:14.890403",
     "exception": false,
     "start_time": "2023-03-30T19:59:14.850104",
     "status": "completed"
    },
    "tags": []
   },
   "outputs": [
    {
     "name": "stdout",
     "output_type": "stream",
     "text": [
      "<class 'pandas.core.frame.DataFrame'>\n",
      "Int64Index: 5723532 entries, 0 to 284041\n",
      "Data columns (total 13 columns):\n",
      " #   Column              Dtype  \n",
      "---  ------              -----  \n",
      " 0   ride_id             object \n",
      " 1   rideable_type       object \n",
      " 2   started_at          object \n",
      " 3   ended_at            object \n",
      " 4   start_station_name  object \n",
      " 5   start_station_id    object \n",
      " 6   end_station_name    object \n",
      " 7   end_station_id      object \n",
      " 8   start_lat           float64\n",
      " 9   start_lng           float64\n",
      " 10  end_lat             float64\n",
      " 11  end_lng             float64\n",
      " 12  member_casual       object \n",
      "dtypes: float64(4), object(9)\n",
      "memory usage: 611.3+ MB\n"
     ]
    }
   ],
   "source": [
    "df.info()"
   ]
  },
  {
   "cell_type": "markdown",
   "id": "a64fd9cf",
   "metadata": {
    "papermill": {
     "duration": 0.01473,
     "end_time": "2023-03-30T19:59:14.921281",
     "exception": false,
     "start_time": "2023-03-30T19:59:14.906551",
     "status": "completed"
    },
    "tags": []
   },
   "source": [
    "### Cleaning\n",
    "\n",
    "Checking null values and duplicates"
   ]
  },
  {
   "cell_type": "code",
   "execution_count": 7,
   "id": "15d4dca5",
   "metadata": {
    "execution": {
     "iopub.execute_input": "2023-03-30T19:59:14.953353Z",
     "iopub.status.busy": "2023-03-30T19:59:14.952951Z",
     "iopub.status.idle": "2023-03-30T19:59:17.727265Z",
     "shell.execute_reply": "2023-03-30T19:59:17.726220Z"
    },
    "papermill": {
     "duration": 2.792823,
     "end_time": "2023-03-30T19:59:17.729166",
     "exception": false,
     "start_time": "2023-03-30T19:59:14.936343",
     "status": "completed"
    },
    "tags": []
   },
   "outputs": [
    {
     "data": {
      "text/plain": [
       "0"
      ]
     },
     "execution_count": 7,
     "metadata": {},
     "output_type": "execute_result"
    }
   ],
   "source": [
    "# Cheking for duplicate values\n",
    "df['ride_id'].duplicated().sum()"
   ]
  },
  {
   "cell_type": "code",
   "execution_count": 8,
   "id": "41079610",
   "metadata": {
    "execution": {
     "iopub.execute_input": "2023-03-30T19:59:17.762299Z",
     "iopub.status.busy": "2023-03-30T19:59:17.761896Z",
     "iopub.status.idle": "2023-03-30T19:59:19.601134Z",
     "shell.execute_reply": "2023-03-30T19:59:19.600196Z"
    },
    "papermill": {
     "duration": 1.860211,
     "end_time": "2023-03-30T19:59:19.604693",
     "exception": false,
     "start_time": "2023-03-30T19:59:17.744482",
     "status": "completed"
    },
    "tags": []
   },
   "outputs": [
    {
     "data": {
      "text/plain": [
       "ride_id                    0\n",
       "rideable_type              0\n",
       "started_at                 0\n",
       "ended_at                   0\n",
       "start_station_name    745376\n",
       "start_station_id      745373\n",
       "end_station_name      796247\n",
       "end_station_id        796247\n",
       "start_lat                  0\n",
       "start_lng                  0\n",
       "end_lat                 4716\n",
       "end_lng                 4716\n",
       "member_casual              0\n",
       "dtype: int64"
      ]
     },
     "execution_count": 8,
     "metadata": {},
     "output_type": "execute_result"
    }
   ],
   "source": [
    "# Checking for null values\n",
    "df.isnull().sum()"
   ]
  },
  {
   "cell_type": "code",
   "execution_count": 9,
   "id": "53143738",
   "metadata": {
    "execution": {
     "iopub.execute_input": "2023-03-30T19:59:19.641534Z",
     "iopub.status.busy": "2023-03-30T19:59:19.640215Z",
     "iopub.status.idle": "2023-03-30T19:59:21.473895Z",
     "shell.execute_reply": "2023-03-30T19:59:21.472650Z"
    },
    "papermill": {
     "duration": 1.854233,
     "end_time": "2023-03-30T19:59:21.475996",
     "exception": false,
     "start_time": "2023-03-30T19:59:19.621763",
     "status": "completed"
    },
    "tags": []
   },
   "outputs": [
    {
     "data": {
      "text/plain": [
       "ride_id                    0\n",
       "rideable_type              0\n",
       "started_at                 0\n",
       "ended_at                   0\n",
       "start_station_name    745376\n",
       "start_station_id      745373\n",
       "end_station_name      796247\n",
       "end_station_id        796247\n",
       "start_lat                  0\n",
       "start_lng                  0\n",
       "end_lat                 4716\n",
       "end_lng                 4716\n",
       "member_casual              0\n",
       "dtype: int64"
      ]
     },
     "execution_count": 9,
     "metadata": {},
     "output_type": "execute_result"
    }
   ],
   "source": [
    "df.isna().sum()"
   ]
  },
  {
   "cell_type": "markdown",
   "id": "b4335f47",
   "metadata": {
    "papermill": {
     "duration": 0.01518,
     "end_time": "2023-03-30T19:59:21.506751",
     "exception": false,
     "start_time": "2023-03-30T19:59:21.491571",
     "status": "completed"
    },
    "tags": []
   },
   "source": [
    "We see a high number of null values in some columns, but what percentage of the data is missing?"
   ]
  },
  {
   "cell_type": "code",
   "execution_count": 10,
   "id": "a960c009",
   "metadata": {
    "execution": {
     "iopub.execute_input": "2023-03-30T19:59:21.539965Z",
     "iopub.status.busy": "2023-03-30T19:59:21.539585Z",
     "iopub.status.idle": "2023-03-30T19:59:23.366682Z",
     "shell.execute_reply": "2023-03-30T19:59:23.364907Z"
    },
    "papermill": {
     "duration": 1.847051,
     "end_time": "2023-03-30T19:59:23.369448",
     "exception": false,
     "start_time": "2023-03-30T19:59:21.522397",
     "status": "completed"
    },
    "tags": []
   },
   "outputs": [
    {
     "name": "stdout",
     "output_type": "stream",
     "text": [
      "The percentage of missing values is: 13.91 %\n"
     ]
    }
   ],
   "source": [
    "# Calculating the percentage of null values\n",
    "print('The percentage of missing values is:',round((df.isna().sum().max() * 100)/df.shape[0],2),'%')"
   ]
  },
  {
   "cell_type": "markdown",
   "id": "c14b2eeb",
   "metadata": {
    "papermill": {
     "duration": 0.015103,
     "end_time": "2023-03-30T19:59:23.400162",
     "exception": false,
     "start_time": "2023-03-30T19:59:23.385059",
     "status": "completed"
    },
    "tags": []
   },
   "source": [
    "13% of the data is missing, just counting the columns where there is the highest number of null values. 13% is a big deal and by that measure, our analysis could be considered bias.\n",
    "However, this columns contain information about the name, and id of the station where the ride began and ended. Although of some value, it is not critical information for our analysis.\n",
    "That's why I decide to keep these missing values, since we are not going to use these variables, instead of deleting the rows containing those missing values, which could endanger the analysis."
   ]
  },
  {
   "cell_type": "markdown",
   "id": "7a747803",
   "metadata": {
    "papermill": {
     "duration": 0.014996,
     "end_time": "2023-03-30T19:59:23.430306",
     "exception": false,
     "start_time": "2023-03-30T19:59:23.415310",
     "status": "completed"
    },
    "tags": []
   },
   "source": [
    "### Formatting columns"
   ]
  },
  {
   "cell_type": "markdown",
   "id": "8cebd85a",
   "metadata": {
    "papermill": {
     "duration": 0.015025,
     "end_time": "2023-03-30T19:59:23.460795",
     "exception": false,
     "start_time": "2023-03-30T19:59:23.445770",
     "status": "completed"
    },
    "tags": []
   },
   "source": [
    "I'll check if the data types align with the desired formats for each columns"
   ]
  },
  {
   "cell_type": "code",
   "execution_count": 11,
   "id": "64cc1679",
   "metadata": {
    "execution": {
     "iopub.execute_input": "2023-03-30T19:59:23.493397Z",
     "iopub.status.busy": "2023-03-30T19:59:23.493048Z",
     "iopub.status.idle": "2023-03-30T19:59:23.502618Z",
     "shell.execute_reply": "2023-03-30T19:59:23.501460Z"
    },
    "papermill": {
     "duration": 0.028865,
     "end_time": "2023-03-30T19:59:23.505030",
     "exception": false,
     "start_time": "2023-03-30T19:59:23.476165",
     "status": "completed"
    },
    "tags": []
   },
   "outputs": [
    {
     "name": "stdout",
     "output_type": "stream",
     "text": [
      "<class 'pandas.core.frame.DataFrame'>\n",
      "Int64Index: 5723532 entries, 0 to 284041\n",
      "Data columns (total 13 columns):\n",
      " #   Column              Dtype  \n",
      "---  ------              -----  \n",
      " 0   ride_id             object \n",
      " 1   rideable_type       object \n",
      " 2   started_at          object \n",
      " 3   ended_at            object \n",
      " 4   start_station_name  object \n",
      " 5   start_station_id    object \n",
      " 6   end_station_name    object \n",
      " 7   end_station_id      object \n",
      " 8   start_lat           float64\n",
      " 9   start_lng           float64\n",
      " 10  end_lat             float64\n",
      " 11  end_lng             float64\n",
      " 12  member_casual       object \n",
      "dtypes: float64(4), object(9)\n",
      "memory usage: 611.3+ MB\n"
     ]
    }
   ],
   "source": [
    "df.info()"
   ]
  },
  {
   "cell_type": "markdown",
   "id": "a6fcd457",
   "metadata": {
    "papermill": {
     "duration": 0.015384,
     "end_time": "2023-03-30T19:59:23.537325",
     "exception": false,
     "start_time": "2023-03-30T19:59:23.521941",
     "status": "completed"
    },
    "tags": []
   },
   "source": [
    "We see that the 'started_at' and 'ended_at' columns are Dtype objects, and should be dates. Let's change that"
   ]
  },
  {
   "cell_type": "code",
   "execution_count": 12,
   "id": "8b4c88c7",
   "metadata": {
    "execution": {
     "iopub.execute_input": "2023-03-30T19:59:23.570505Z",
     "iopub.status.busy": "2023-03-30T19:59:23.570089Z",
     "iopub.status.idle": "2023-03-30T19:59:26.021445Z",
     "shell.execute_reply": "2023-03-30T19:59:26.019866Z"
    },
    "papermill": {
     "duration": 2.471322,
     "end_time": "2023-03-30T19:59:26.024161",
     "exception": false,
     "start_time": "2023-03-30T19:59:23.552839",
     "status": "completed"
    },
    "tags": []
   },
   "outputs": [],
   "source": [
    "df['started_at'] = pd.to_datetime(df['started_at'])\n",
    "df['ended_at'] = pd.to_datetime(df['ended_at'])"
   ]
  },
  {
   "cell_type": "markdown",
   "id": "22105404",
   "metadata": {
    "papermill": {
     "duration": 0.015312,
     "end_time": "2023-03-30T19:59:26.055461",
     "exception": false,
     "start_time": "2023-03-30T19:59:26.040149",
     "status": "completed"
    },
    "tags": []
   },
   "source": [
    "### Deleting wrong entries\n",
    "Now we want to check if there are not false dates, or dates that were wrongly recorded"
   ]
  },
  {
   "cell_type": "code",
   "execution_count": 13,
   "id": "6393ce06",
   "metadata": {
    "execution": {
     "iopub.execute_input": "2023-03-30T19:59:26.089117Z",
     "iopub.status.busy": "2023-03-30T19:59:26.088763Z",
     "iopub.status.idle": "2023-03-30T19:59:26.953445Z",
     "shell.execute_reply": "2023-03-30T19:59:26.952216Z"
    },
    "papermill": {
     "duration": 0.884733,
     "end_time": "2023-03-30T19:59:26.955998",
     "exception": false,
     "start_time": "2023-03-30T19:59:26.071265",
     "status": "completed"
    },
    "tags": []
   },
   "outputs": [
    {
     "data": {
      "text/plain": [
       "(145, 13)"
      ]
     },
     "execution_count": 13,
     "metadata": {},
     "output_type": "execute_result"
    }
   ],
   "source": [
    "false_dates = df.loc[(df['started_at'] > df['ended_at'])]\n",
    "false_dates.shape"
   ]
  },
  {
   "cell_type": "markdown",
   "id": "ae8a2060",
   "metadata": {
    "papermill": {
     "duration": 0.015434,
     "end_time": "2023-03-30T19:59:26.987545",
     "exception": false,
     "start_time": "2023-03-30T19:59:26.972111",
     "status": "completed"
    },
    "tags": []
   },
   "source": [
    "There are 145 wrong entries where the 'started_at' column has a datetime value lower than the correspondent 'ended_at' value.\n",
    "This is not possible since the start of the trip hast to be an earlier date and time than the end of the trip."
   ]
  },
  {
   "cell_type": "code",
   "execution_count": 14,
   "id": "4f555c26",
   "metadata": {
    "execution": {
     "iopub.execute_input": "2023-03-30T19:59:27.020930Z",
     "iopub.status.busy": "2023-03-30T19:59:27.020512Z",
     "iopub.status.idle": "2023-03-30T19:59:28.715400Z",
     "shell.execute_reply": "2023-03-30T19:59:28.714278Z"
    },
    "papermill": {
     "duration": 1.714521,
     "end_time": "2023-03-30T19:59:28.717931",
     "exception": false,
     "start_time": "2023-03-30T19:59:27.003410",
     "status": "completed"
    },
    "tags": []
   },
   "outputs": [],
   "source": [
    "#deleting the wrong entries \n",
    "df = df.drop(false_dates.index.to_list()).copy()"
   ]
  },
  {
   "cell_type": "markdown",
   "id": "bc8bf37e",
   "metadata": {
    "papermill": {
     "duration": 0.015405,
     "end_time": "2023-03-30T19:59:28.749379",
     "exception": false,
     "start_time": "2023-03-30T19:59:28.733974",
     "status": "completed"
    },
    "tags": []
   },
   "source": [
    "### Adding columns.\n",
    "I will add some columns, like the length of the ride, the day of the week, the hour of the day, and the name of the month to use them later at the analysis phase"
   ]
  },
  {
   "cell_type": "code",
   "execution_count": 15,
   "id": "04fa9f22",
   "metadata": {
    "execution": {
     "iopub.execute_input": "2023-03-30T19:59:28.782651Z",
     "iopub.status.busy": "2023-03-30T19:59:28.782287Z",
     "iopub.status.idle": "2023-03-30T19:59:28.855894Z",
     "shell.execute_reply": "2023-03-30T19:59:28.854198Z"
    },
    "papermill": {
     "duration": 0.093415,
     "end_time": "2023-03-30T19:59:28.858810",
     "exception": false,
     "start_time": "2023-03-30T19:59:28.765395",
     "status": "completed"
    },
    "tags": []
   },
   "outputs": [],
   "source": [
    "df['ride_length_min'] = ((df['ended_at'] - df['started_at'])/pd.Timedelta(minutes=1)).astype('int32')"
   ]
  },
  {
   "cell_type": "code",
   "execution_count": 16,
   "id": "02e5b320",
   "metadata": {
    "execution": {
     "iopub.execute_input": "2023-03-30T19:59:28.893300Z",
     "iopub.status.busy": "2023-03-30T19:59:28.892935Z",
     "iopub.status.idle": "2023-03-30T19:59:30.469749Z",
     "shell.execute_reply": "2023-03-30T19:59:30.468281Z"
    },
    "papermill": {
     "duration": 1.597254,
     "end_time": "2023-03-30T19:59:30.472432",
     "exception": false,
     "start_time": "2023-03-30T19:59:28.875178",
     "status": "completed"
    },
    "tags": []
   },
   "outputs": [],
   "source": [
    "# Creating the name of the day of the week\n",
    "df['day'] = df['started_at'].dt.day_name()\n",
    "\n",
    "# creating the hour of the day\n",
    "df['hour'] = df['started_at'].dt.hour\n",
    "\n",
    "# Creating the month column\n",
    "df['month'] = df['started_at'].dt.month\n",
    "\n",
    "df['day_of_week'] = df['started_at'].dt.dayofweek"
   ]
  },
  {
   "cell_type": "markdown",
   "id": "76f155e3",
   "metadata": {
    "papermill": {
     "duration": 0.016314,
     "end_time": "2023-03-30T19:59:30.505382",
     "exception": false,
     "start_time": "2023-03-30T19:59:30.489068",
     "status": "completed"
    },
    "tags": []
   },
   "source": [
    "With the recently column created, we sort the values in ascending order"
   ]
  },
  {
   "cell_type": "code",
   "execution_count": 17,
   "id": "fbcbe2d3",
   "metadata": {
    "execution": {
     "iopub.execute_input": "2023-03-30T19:59:30.541614Z",
     "iopub.status.busy": "2023-03-30T19:59:30.541225Z",
     "iopub.status.idle": "2023-03-30T19:59:36.671211Z",
     "shell.execute_reply": "2023-03-30T19:59:36.669284Z"
    },
    "papermill": {
     "duration": 6.152017,
     "end_time": "2023-03-30T19:59:36.674342",
     "exception": false,
     "start_time": "2023-03-30T19:59:30.522325",
     "status": "completed"
    },
    "tags": []
   },
   "outputs": [
    {
     "data": {
      "text/html": [
       "<div>\n",
       "<style scoped>\n",
       "    .dataframe tbody tr th:only-of-type {\n",
       "        vertical-align: middle;\n",
       "    }\n",
       "\n",
       "    .dataframe tbody tr th {\n",
       "        vertical-align: top;\n",
       "    }\n",
       "\n",
       "    .dataframe thead th {\n",
       "        text-align: right;\n",
       "    }\n",
       "</style>\n",
       "<table border=\"1\" class=\"dataframe\">\n",
       "  <thead>\n",
       "    <tr style=\"text-align: right;\">\n",
       "      <th></th>\n",
       "      <th>ride_id</th>\n",
       "      <th>rideable_type</th>\n",
       "      <th>started_at</th>\n",
       "      <th>ended_at</th>\n",
       "      <th>start_station_name</th>\n",
       "      <th>start_station_id</th>\n",
       "      <th>end_station_name</th>\n",
       "      <th>end_station_id</th>\n",
       "      <th>start_lat</th>\n",
       "      <th>start_lng</th>\n",
       "      <th>end_lat</th>\n",
       "      <th>end_lng</th>\n",
       "      <th>member_casual</th>\n",
       "      <th>ride_length_min</th>\n",
       "      <th>day</th>\n",
       "      <th>hour</th>\n",
       "      <th>month</th>\n",
       "      <th>day_of_week</th>\n",
       "    </tr>\n",
       "  </thead>\n",
       "  <tbody>\n",
       "    <tr>\n",
       "      <th>298935</th>\n",
       "      <td>109E1D34D9F9E595</td>\n",
       "      <td>electric_bike</td>\n",
       "      <td>2021-11-10 18:34:28</td>\n",
       "      <td>2021-11-10 18:34:40</td>\n",
       "      <td>Rush St &amp; Cedar St</td>\n",
       "      <td>KA1504000133</td>\n",
       "      <td>NaN</td>\n",
       "      <td>NaN</td>\n",
       "      <td>41.902464</td>\n",
       "      <td>-87.627802</td>\n",
       "      <td>41.900000</td>\n",
       "      <td>-87.630000</td>\n",
       "      <td>member</td>\n",
       "      <td>0</td>\n",
       "      <td>Wednesday</td>\n",
       "      <td>18</td>\n",
       "      <td>11</td>\n",
       "      <td>2</td>\n",
       "    </tr>\n",
       "    <tr>\n",
       "      <th>547654</th>\n",
       "      <td>44133F3A381849A9</td>\n",
       "      <td>electric_bike</td>\n",
       "      <td>2021-10-27 08:02:58</td>\n",
       "      <td>2021-10-27 08:03:00</td>\n",
       "      <td>St. Clair St &amp; Erie St</td>\n",
       "      <td>13016</td>\n",
       "      <td>St. Clair St &amp; Erie St</td>\n",
       "      <td>13016</td>\n",
       "      <td>41.894194</td>\n",
       "      <td>-87.622822</td>\n",
       "      <td>41.894208</td>\n",
       "      <td>-87.622864</td>\n",
       "      <td>casual</td>\n",
       "      <td>0</td>\n",
       "      <td>Wednesday</td>\n",
       "      <td>8</td>\n",
       "      <td>10</td>\n",
       "      <td>2</td>\n",
       "    </tr>\n",
       "    <tr>\n",
       "      <th>296317</th>\n",
       "      <td>80198B33C8BE45AB</td>\n",
       "      <td>electric_bike</td>\n",
       "      <td>2021-10-22 17:58:48</td>\n",
       "      <td>2021-10-22 17:59:12</td>\n",
       "      <td>Racine Ave &amp; Fullerton Ave</td>\n",
       "      <td>TA1306000026</td>\n",
       "      <td>Racine Ave &amp; Fullerton Ave</td>\n",
       "      <td>TA1306000026</td>\n",
       "      <td>41.925635</td>\n",
       "      <td>-87.658281</td>\n",
       "      <td>41.925636</td>\n",
       "      <td>-87.658291</td>\n",
       "      <td>member</td>\n",
       "      <td>0</td>\n",
       "      <td>Friday</td>\n",
       "      <td>17</td>\n",
       "      <td>10</td>\n",
       "      <td>4</td>\n",
       "    </tr>\n",
       "    <tr>\n",
       "      <th>547651</th>\n",
       "      <td>BB6EDF79EE465D8F</td>\n",
       "      <td>electric_bike</td>\n",
       "      <td>2021-10-30 18:43:21</td>\n",
       "      <td>2021-10-30 18:43:25</td>\n",
       "      <td>St. Clair St &amp; Erie St</td>\n",
       "      <td>13016</td>\n",
       "      <td>St. Clair St &amp; Erie St</td>\n",
       "      <td>13016</td>\n",
       "      <td>41.894314</td>\n",
       "      <td>-87.622590</td>\n",
       "      <td>41.894326</td>\n",
       "      <td>-87.622597</td>\n",
       "      <td>member</td>\n",
       "      <td>0</td>\n",
       "      <td>Saturday</td>\n",
       "      <td>18</td>\n",
       "      <td>10</td>\n",
       "      <td>5</td>\n",
       "    </tr>\n",
       "    <tr>\n",
       "      <th>547650</th>\n",
       "      <td>4D2296EA5BF64C5C</td>\n",
       "      <td>electric_bike</td>\n",
       "      <td>2021-10-24 13:12:04</td>\n",
       "      <td>2021-10-24 13:12:20</td>\n",
       "      <td>Wolcott (Ravenswood) Ave &amp; Montrose Ave</td>\n",
       "      <td>TA1307000144</td>\n",
       "      <td>Wolcott (Ravenswood) Ave &amp; Montrose Ave</td>\n",
       "      <td>TA1307000144</td>\n",
       "      <td>41.961347</td>\n",
       "      <td>-87.676225</td>\n",
       "      <td>41.961346</td>\n",
       "      <td>-87.676240</td>\n",
       "      <td>member</td>\n",
       "      <td>0</td>\n",
       "      <td>Sunday</td>\n",
       "      <td>13</td>\n",
       "      <td>10</td>\n",
       "      <td>6</td>\n",
       "    </tr>\n",
       "    <tr>\n",
       "      <th>...</th>\n",
       "      <td>...</td>\n",
       "      <td>...</td>\n",
       "      <td>...</td>\n",
       "      <td>...</td>\n",
       "      <td>...</td>\n",
       "      <td>...</td>\n",
       "      <td>...</td>\n",
       "      <td>...</td>\n",
       "      <td>...</td>\n",
       "      <td>...</td>\n",
       "      <td>...</td>\n",
       "      <td>...</td>\n",
       "      <td>...</td>\n",
       "      <td>...</td>\n",
       "      <td>...</td>\n",
       "      <td>...</td>\n",
       "      <td>...</td>\n",
       "      <td>...</td>\n",
       "    </tr>\n",
       "    <tr>\n",
       "      <th>640346</th>\n",
       "      <td>99415B003B7E7EEE</td>\n",
       "      <td>docked_bike</td>\n",
       "      <td>2021-07-08 19:29:49</td>\n",
       "      <td>2021-08-11 21:56:58</td>\n",
       "      <td>Kedzie Ave &amp; Milwaukee Ave</td>\n",
       "      <td>13085</td>\n",
       "      <td>Base - 2132 W Hubbard Warehouse</td>\n",
       "      <td>Hubbard Bike-checking (LBS-WH-TEST)</td>\n",
       "      <td>41.929567</td>\n",
       "      <td>-87.707857</td>\n",
       "      <td>41.889955</td>\n",
       "      <td>-87.680651</td>\n",
       "      <td>casual</td>\n",
       "      <td>49107</td>\n",
       "      <td>Thursday</td>\n",
       "      <td>19</td>\n",
       "      <td>7</td>\n",
       "      <td>3</td>\n",
       "    </tr>\n",
       "    <tr>\n",
       "      <th>81713</th>\n",
       "      <td>E6E1E5BFFD72ECEC</td>\n",
       "      <td>docked_bike</td>\n",
       "      <td>2021-06-05 23:33:51</td>\n",
       "      <td>2021-07-12 13:55:14</td>\n",
       "      <td>Clark St &amp; Lake St</td>\n",
       "      <td>KA1503000012</td>\n",
       "      <td>Base - 2132 W Hubbard Warehouse</td>\n",
       "      <td>Hubbard Bike-checking (LBS-WH-TEST)</td>\n",
       "      <td>41.886021</td>\n",
       "      <td>-87.630876</td>\n",
       "      <td>41.889955</td>\n",
       "      <td>-87.680651</td>\n",
       "      <td>casual</td>\n",
       "      <td>52701</td>\n",
       "      <td>Saturday</td>\n",
       "      <td>23</td>\n",
       "      <td>6</td>\n",
       "      <td>5</td>\n",
       "    </tr>\n",
       "    <tr>\n",
       "      <th>46321</th>\n",
       "      <td>BDA1217EC8532C7B</td>\n",
       "      <td>docked_bike</td>\n",
       "      <td>2021-05-02 02:56:07</td>\n",
       "      <td>2021-06-08 13:37:43</td>\n",
       "      <td>State St &amp; Van Buren St</td>\n",
       "      <td>TA1305000035</td>\n",
       "      <td>Wells St &amp; Polk St</td>\n",
       "      <td>SL-011</td>\n",
       "      <td>41.877181</td>\n",
       "      <td>-87.627844</td>\n",
       "      <td>41.872596</td>\n",
       "      <td>-87.633502</td>\n",
       "      <td>casual</td>\n",
       "      <td>53921</td>\n",
       "      <td>Sunday</td>\n",
       "      <td>2</td>\n",
       "      <td>5</td>\n",
       "      <td>6</td>\n",
       "    </tr>\n",
       "    <tr>\n",
       "      <th>545476</th>\n",
       "      <td>7F0578ABF030FC83</td>\n",
       "      <td>docked_bike</td>\n",
       "      <td>2021-06-04 22:03:33</td>\n",
       "      <td>2021-07-13 14:15:14</td>\n",
       "      <td>Streeter Dr &amp; Grand Ave</td>\n",
       "      <td>13022</td>\n",
       "      <td>Base - 2132 W Hubbard Warehouse</td>\n",
       "      <td>Hubbard Bike-checking (LBS-WH-TEST)</td>\n",
       "      <td>41.892278</td>\n",
       "      <td>-87.612043</td>\n",
       "      <td>41.889955</td>\n",
       "      <td>-87.680651</td>\n",
       "      <td>casual</td>\n",
       "      <td>55691</td>\n",
       "      <td>Friday</td>\n",
       "      <td>22</td>\n",
       "      <td>6</td>\n",
       "      <td>4</td>\n",
       "    </tr>\n",
       "    <tr>\n",
       "      <th>595683</th>\n",
       "      <td>F043F0F6A1AA4F85</td>\n",
       "      <td>docked_bike</td>\n",
       "      <td>2021-06-05 02:27:26</td>\n",
       "      <td>2021-07-13 22:51:35</td>\n",
       "      <td>Michigan Ave &amp; Lake St</td>\n",
       "      <td>TA1305000011</td>\n",
       "      <td>Malcolm X College Vaccination Site</td>\n",
       "      <td>631</td>\n",
       "      <td>41.886024</td>\n",
       "      <td>-87.624117</td>\n",
       "      <td>41.877618</td>\n",
       "      <td>-87.673895</td>\n",
       "      <td>casual</td>\n",
       "      <td>55944</td>\n",
       "      <td>Saturday</td>\n",
       "      <td>2</td>\n",
       "      <td>6</td>\n",
       "      <td>5</td>\n",
       "    </tr>\n",
       "  </tbody>\n",
       "</table>\n",
       "<p>5722281 rows × 18 columns</p>\n",
       "</div>"
      ],
      "text/plain": [
       "                 ride_id  rideable_type          started_at  \\\n",
       "298935  109E1D34D9F9E595  electric_bike 2021-11-10 18:34:28   \n",
       "547654  44133F3A381849A9  electric_bike 2021-10-27 08:02:58   \n",
       "296317  80198B33C8BE45AB  electric_bike 2021-10-22 17:58:48   \n",
       "547651  BB6EDF79EE465D8F  electric_bike 2021-10-30 18:43:21   \n",
       "547650  4D2296EA5BF64C5C  electric_bike 2021-10-24 13:12:04   \n",
       "...                  ...            ...                 ...   \n",
       "640346  99415B003B7E7EEE    docked_bike 2021-07-08 19:29:49   \n",
       "81713   E6E1E5BFFD72ECEC    docked_bike 2021-06-05 23:33:51   \n",
       "46321   BDA1217EC8532C7B    docked_bike 2021-05-02 02:56:07   \n",
       "545476  7F0578ABF030FC83    docked_bike 2021-06-04 22:03:33   \n",
       "595683  F043F0F6A1AA4F85    docked_bike 2021-06-05 02:27:26   \n",
       "\n",
       "                  ended_at                       start_station_name  \\\n",
       "298935 2021-11-10 18:34:40                       Rush St & Cedar St   \n",
       "547654 2021-10-27 08:03:00                   St. Clair St & Erie St   \n",
       "296317 2021-10-22 17:59:12               Racine Ave & Fullerton Ave   \n",
       "547651 2021-10-30 18:43:25                   St. Clair St & Erie St   \n",
       "547650 2021-10-24 13:12:20  Wolcott (Ravenswood) Ave & Montrose Ave   \n",
       "...                    ...                                      ...   \n",
       "640346 2021-08-11 21:56:58               Kedzie Ave & Milwaukee Ave   \n",
       "81713  2021-07-12 13:55:14                       Clark St & Lake St   \n",
       "46321  2021-06-08 13:37:43                  State St & Van Buren St   \n",
       "545476 2021-07-13 14:15:14                  Streeter Dr & Grand Ave   \n",
       "595683 2021-07-13 22:51:35                   Michigan Ave & Lake St   \n",
       "\n",
       "       start_station_id                         end_station_name  \\\n",
       "298935     KA1504000133                                      NaN   \n",
       "547654            13016                   St. Clair St & Erie St   \n",
       "296317     TA1306000026               Racine Ave & Fullerton Ave   \n",
       "547651            13016                   St. Clair St & Erie St   \n",
       "547650     TA1307000144  Wolcott (Ravenswood) Ave & Montrose Ave   \n",
       "...                 ...                                      ...   \n",
       "640346            13085          Base - 2132 W Hubbard Warehouse   \n",
       "81713      KA1503000012          Base - 2132 W Hubbard Warehouse   \n",
       "46321      TA1305000035                       Wells St & Polk St   \n",
       "545476            13022          Base - 2132 W Hubbard Warehouse   \n",
       "595683     TA1305000011       Malcolm X College Vaccination Site   \n",
       "\n",
       "                             end_station_id  start_lat  start_lng    end_lat  \\\n",
       "298935                                  NaN  41.902464 -87.627802  41.900000   \n",
       "547654                                13016  41.894194 -87.622822  41.894208   \n",
       "296317                         TA1306000026  41.925635 -87.658281  41.925636   \n",
       "547651                                13016  41.894314 -87.622590  41.894326   \n",
       "547650                         TA1307000144  41.961347 -87.676225  41.961346   \n",
       "...                                     ...        ...        ...        ...   \n",
       "640346  Hubbard Bike-checking (LBS-WH-TEST)  41.929567 -87.707857  41.889955   \n",
       "81713   Hubbard Bike-checking (LBS-WH-TEST)  41.886021 -87.630876  41.889955   \n",
       "46321                                SL-011  41.877181 -87.627844  41.872596   \n",
       "545476  Hubbard Bike-checking (LBS-WH-TEST)  41.892278 -87.612043  41.889955   \n",
       "595683                                  631  41.886024 -87.624117  41.877618   \n",
       "\n",
       "          end_lng member_casual  ride_length_min        day  hour  month  \\\n",
       "298935 -87.630000        member                0  Wednesday    18     11   \n",
       "547654 -87.622864        casual                0  Wednesday     8     10   \n",
       "296317 -87.658291        member                0     Friday    17     10   \n",
       "547651 -87.622597        member                0   Saturday    18     10   \n",
       "547650 -87.676240        member                0     Sunday    13     10   \n",
       "...           ...           ...              ...        ...   ...    ...   \n",
       "640346 -87.680651        casual            49107   Thursday    19      7   \n",
       "81713  -87.680651        casual            52701   Saturday    23      6   \n",
       "46321  -87.633502        casual            53921     Sunday     2      5   \n",
       "545476 -87.680651        casual            55691     Friday    22      6   \n",
       "595683 -87.673895        casual            55944   Saturday     2      6   \n",
       "\n",
       "        day_of_week  \n",
       "298935            2  \n",
       "547654            2  \n",
       "296317            4  \n",
       "547651            5  \n",
       "547650            6  \n",
       "...             ...  \n",
       "640346            3  \n",
       "81713             5  \n",
       "46321             6  \n",
       "545476            4  \n",
       "595683            5  \n",
       "\n",
       "[5722281 rows x 18 columns]"
      ]
     },
     "execution_count": 17,
     "metadata": {},
     "output_type": "execute_result"
    }
   ],
   "source": [
    "df.sort_values(by='ride_length_min',ascending=True)"
   ]
  },
  {
   "cell_type": "markdown",
   "id": "a5ca1052",
   "metadata": {
    "papermill": {
     "duration": 0.016059,
     "end_time": "2023-03-30T19:59:36.707434",
     "exception": false,
     "start_time": "2023-03-30T19:59:36.691375",
     "status": "completed"
    },
    "tags": []
   },
   "source": [
    "We see there are entries in which the rides lasted less than 1 minute. We'll check what percentage of the data represent this instance."
   ]
  },
  {
   "cell_type": "code",
   "execution_count": 18,
   "id": "6facd18b",
   "metadata": {
    "execution": {
     "iopub.execute_input": "2023-03-30T19:59:36.744720Z",
     "iopub.status.busy": "2023-03-30T19:59:36.744340Z",
     "iopub.status.idle": "2023-03-30T19:59:37.798858Z",
     "shell.execute_reply": "2023-03-30T19:59:37.797362Z"
    },
    "papermill": {
     "duration": 1.075296,
     "end_time": "2023-03-30T19:59:37.801019",
     "exception": false,
     "start_time": "2023-03-30T19:59:36.725723",
     "status": "completed"
    },
    "tags": []
   },
   "outputs": [
    {
     "name": "stdout",
     "output_type": "stream",
     "text": [
      "The percentage is: 1.5590461216427505\n"
     ]
    }
   ],
   "source": [
    "print('The percentage is:',df.query('ride_length_min == 0').shape[0] / df.shape[0] * 100)"
   ]
  },
  {
   "cell_type": "markdown",
   "id": "5b833be9",
   "metadata": {
    "papermill": {
     "duration": 0.015469,
     "end_time": "2023-03-30T19:59:37.832662",
     "exception": false,
     "start_time": "2023-03-30T19:59:37.817193",
     "status": "completed"
    },
    "tags": []
   },
   "source": [
    "With just a 1% percent, we can delete the rows which have less than 1 minute in ride length"
   ]
  },
  {
   "cell_type": "code",
   "execution_count": 19,
   "id": "9f1a24f6",
   "metadata": {
    "execution": {
     "iopub.execute_input": "2023-03-30T19:59:37.866411Z",
     "iopub.status.busy": "2023-03-30T19:59:37.866048Z",
     "iopub.status.idle": "2023-03-30T19:59:40.049650Z",
     "shell.execute_reply": "2023-03-30T19:59:40.048546Z"
    },
    "papermill": {
     "duration": 2.203736,
     "end_time": "2023-03-30T19:59:40.052260",
     "exception": false,
     "start_time": "2023-03-30T19:59:37.848524",
     "status": "completed"
    },
    "tags": []
   },
   "outputs": [],
   "source": [
    "zero_length = (df['ride_length_min'] < 1)\n",
    "zero_length_index = df.loc[zero_length].index.to_list()\n",
    "df = df.drop(axis=0,index=zero_length_index, inplace=False)"
   ]
  },
  {
   "cell_type": "code",
   "execution_count": 20,
   "id": "80d25fc0",
   "metadata": {
    "execution": {
     "iopub.execute_input": "2023-03-30T19:59:40.086786Z",
     "iopub.status.busy": "2023-03-30T19:59:40.086379Z",
     "iopub.status.idle": "2023-03-30T19:59:40.115417Z",
     "shell.execute_reply": "2023-03-30T19:59:40.114101Z"
    },
    "papermill": {
     "duration": 0.049558,
     "end_time": "2023-03-30T19:59:40.118436",
     "exception": false,
     "start_time": "2023-03-30T19:59:40.068878",
     "status": "completed"
    },
    "tags": []
   },
   "outputs": [
    {
     "data": {
      "text/html": [
       "<div>\n",
       "<style scoped>\n",
       "    .dataframe tbody tr th:only-of-type {\n",
       "        vertical-align: middle;\n",
       "    }\n",
       "\n",
       "    .dataframe tbody tr th {\n",
       "        vertical-align: top;\n",
       "    }\n",
       "\n",
       "    .dataframe thead th {\n",
       "        text-align: right;\n",
       "    }\n",
       "</style>\n",
       "<table border=\"1\" class=\"dataframe\">\n",
       "  <thead>\n",
       "    <tr style=\"text-align: right;\">\n",
       "      <th></th>\n",
       "      <th>ride_id</th>\n",
       "      <th>rideable_type</th>\n",
       "      <th>started_at</th>\n",
       "      <th>ended_at</th>\n",
       "      <th>start_station_name</th>\n",
       "      <th>start_station_id</th>\n",
       "      <th>end_station_name</th>\n",
       "      <th>end_station_id</th>\n",
       "      <th>start_lat</th>\n",
       "      <th>start_lng</th>\n",
       "      <th>end_lat</th>\n",
       "      <th>end_lng</th>\n",
       "      <th>member_casual</th>\n",
       "      <th>ride_length_min</th>\n",
       "      <th>day</th>\n",
       "      <th>hour</th>\n",
       "      <th>month</th>\n",
       "      <th>day_of_week</th>\n",
       "    </tr>\n",
       "  </thead>\n",
       "  <tbody>\n",
       "  </tbody>\n",
       "</table>\n",
       "</div>"
      ],
      "text/plain": [
       "Empty DataFrame\n",
       "Columns: [ride_id, rideable_type, started_at, ended_at, start_station_name, start_station_id, end_station_name, end_station_id, start_lat, start_lng, end_lat, end_lng, member_casual, ride_length_min, day, hour, month, day_of_week]\n",
       "Index: []"
      ]
     },
     "execution_count": 20,
     "metadata": {},
     "output_type": "execute_result"
    }
   ],
   "source": [
    "df.query('ride_length_min < 0')"
   ]
  },
  {
   "cell_type": "markdown",
   "id": "7a8c57da",
   "metadata": {
    "papermill": {
     "duration": 0.016657,
     "end_time": "2023-03-30T19:59:40.152711",
     "exception": false,
     "start_time": "2023-03-30T19:59:40.136054",
     "status": "completed"
    },
    "tags": []
   },
   "source": [
    "# 4.- Analysis\n",
    "\n",
    "Let's perform some exploratory and statistical analysis to our dataset, emphasizing the need to understand the bussines question.\n",
    "The difference between member and casual users"
   ]
  },
  {
   "cell_type": "markdown",
   "id": "53ebead1",
   "metadata": {
    "papermill": {
     "duration": 0.016345,
     "end_time": "2023-03-30T19:59:40.186700",
     "exception": false,
     "start_time": "2023-03-30T19:59:40.170355",
     "status": "completed"
    },
    "tags": []
   },
   "source": [
    "### Describing the data\n",
    "I'll take a quick look at the numerical data with the describe function"
   ]
  },
  {
   "cell_type": "code",
   "execution_count": 21,
   "id": "1a4187c4",
   "metadata": {
    "execution": {
     "iopub.execute_input": "2023-03-30T19:59:40.222952Z",
     "iopub.status.busy": "2023-03-30T19:59:40.222607Z",
     "iopub.status.idle": "2023-03-30T19:59:41.351272Z",
     "shell.execute_reply": "2023-03-30T19:59:41.350257Z"
    },
    "papermill": {
     "duration": 1.149351,
     "end_time": "2023-03-30T19:59:41.353307",
     "exception": false,
     "start_time": "2023-03-30T19:59:40.203956",
     "status": "completed"
    },
    "tags": []
   },
   "outputs": [
    {
     "data": {
      "text/html": [
       "<div>\n",
       "<style scoped>\n",
       "    .dataframe tbody tr th:only-of-type {\n",
       "        vertical-align: middle;\n",
       "    }\n",
       "\n",
       "    .dataframe tbody tr th {\n",
       "        vertical-align: top;\n",
       "    }\n",
       "\n",
       "    .dataframe thead th {\n",
       "        text-align: right;\n",
       "    }\n",
       "</style>\n",
       "<table border=\"1\" class=\"dataframe\">\n",
       "  <thead>\n",
       "    <tr style=\"text-align: right;\">\n",
       "      <th></th>\n",
       "      <th>start_lat</th>\n",
       "      <th>start_lng</th>\n",
       "      <th>end_lat</th>\n",
       "      <th>end_lng</th>\n",
       "      <th>ride_length_min</th>\n",
       "      <th>hour</th>\n",
       "      <th>month</th>\n",
       "      <th>day_of_week</th>\n",
       "    </tr>\n",
       "  </thead>\n",
       "  <tbody>\n",
       "    <tr>\n",
       "      <th>count</th>\n",
       "      <td>5033885.00</td>\n",
       "      <td>5033885.00</td>\n",
       "      <td>5029606.00</td>\n",
       "      <td>5029606.00</td>\n",
       "      <td>5033885.00</td>\n",
       "      <td>5033885.00</td>\n",
       "      <td>5033885.00</td>\n",
       "      <td>5033885.00</td>\n",
       "    </tr>\n",
       "    <tr>\n",
       "      <th>mean</th>\n",
       "      <td>41.90</td>\n",
       "      <td>-87.65</td>\n",
       "      <td>41.90</td>\n",
       "      <td>-87.65</td>\n",
       "      <td>21.45</td>\n",
       "      <td>14.23</td>\n",
       "      <td>7.33</td>\n",
       "      <td>3.16</td>\n",
       "    </tr>\n",
       "    <tr>\n",
       "      <th>std</th>\n",
       "      <td>0.05</td>\n",
       "      <td>0.03</td>\n",
       "      <td>0.05</td>\n",
       "      <td>0.03</td>\n",
       "      <td>179.18</td>\n",
       "      <td>5.06</td>\n",
       "      <td>2.54</td>\n",
       "      <td>2.00</td>\n",
       "    </tr>\n",
       "    <tr>\n",
       "      <th>min</th>\n",
       "      <td>41.64</td>\n",
       "      <td>-87.84</td>\n",
       "      <td>41.39</td>\n",
       "      <td>-88.97</td>\n",
       "      <td>1.00</td>\n",
       "      <td>0.00</td>\n",
       "      <td>1.00</td>\n",
       "      <td>0.00</td>\n",
       "    </tr>\n",
       "    <tr>\n",
       "      <th>25%</th>\n",
       "      <td>41.88</td>\n",
       "      <td>-87.66</td>\n",
       "      <td>41.88</td>\n",
       "      <td>-87.66</td>\n",
       "      <td>6.00</td>\n",
       "      <td>11.00</td>\n",
       "      <td>6.00</td>\n",
       "      <td>1.00</td>\n",
       "    </tr>\n",
       "    <tr>\n",
       "      <th>50%</th>\n",
       "      <td>41.90</td>\n",
       "      <td>-87.64</td>\n",
       "      <td>41.90</td>\n",
       "      <td>-87.64</td>\n",
       "      <td>11.00</td>\n",
       "      <td>15.00</td>\n",
       "      <td>7.00</td>\n",
       "      <td>3.00</td>\n",
       "    </tr>\n",
       "    <tr>\n",
       "      <th>75%</th>\n",
       "      <td>41.93</td>\n",
       "      <td>-87.63</td>\n",
       "      <td>41.93</td>\n",
       "      <td>-87.63</td>\n",
       "      <td>21.00</td>\n",
       "      <td>18.00</td>\n",
       "      <td>9.00</td>\n",
       "      <td>5.00</td>\n",
       "    </tr>\n",
       "    <tr>\n",
       "      <th>max</th>\n",
       "      <td>42.07</td>\n",
       "      <td>-87.52</td>\n",
       "      <td>42.15</td>\n",
       "      <td>-87.49</td>\n",
       "      <td>55944.00</td>\n",
       "      <td>23.00</td>\n",
       "      <td>12.00</td>\n",
       "      <td>6.00</td>\n",
       "    </tr>\n",
       "  </tbody>\n",
       "</table>\n",
       "</div>"
      ],
      "text/plain": [
       "        start_lat   start_lng     end_lat     end_lng  ride_length_min  \\\n",
       "count  5033885.00  5033885.00  5029606.00  5029606.00       5033885.00   \n",
       "mean        41.90      -87.65       41.90      -87.65            21.45   \n",
       "std          0.05        0.03        0.05        0.03           179.18   \n",
       "min         41.64      -87.84       41.39      -88.97             1.00   \n",
       "25%         41.88      -87.66       41.88      -87.66             6.00   \n",
       "50%         41.90      -87.64       41.90      -87.64            11.00   \n",
       "75%         41.93      -87.63       41.93      -87.63            21.00   \n",
       "max         42.07      -87.52       42.15      -87.49         55944.00   \n",
       "\n",
       "             hour       month  day_of_week  \n",
       "count  5033885.00  5033885.00   5033885.00  \n",
       "mean        14.23        7.33         3.16  \n",
       "std          5.06        2.54         2.00  \n",
       "min          0.00        1.00         0.00  \n",
       "25%         11.00        6.00         1.00  \n",
       "50%         15.00        7.00         3.00  \n",
       "75%         18.00        9.00         5.00  \n",
       "max         23.00       12.00         6.00  "
      ]
     },
     "execution_count": 21,
     "metadata": {},
     "output_type": "execute_result"
    }
   ],
   "source": [
    "round(df.describe(),2)"
   ]
  },
  {
   "cell_type": "markdown",
   "id": "08475634",
   "metadata": {
    "papermill": {
     "duration": 0.016422,
     "end_time": "2023-03-30T19:59:41.386571",
     "exception": false,
     "start_time": "2023-03-30T19:59:41.370149",
     "status": "completed"
    },
    "tags": []
   },
   "source": [
    "The interesting part is the ride_length_min variable. I see that the max value is way higher than the 75 percentile, meaning that this could be an outlier, and here could be more.\n",
    "\n",
    "We need to take this into account in our analisis"
   ]
  },
  {
   "cell_type": "markdown",
   "id": "c0c03e85",
   "metadata": {
    "papermill": {
     "duration": 0.016374,
     "end_time": "2023-03-30T19:59:41.419445",
     "exception": false,
     "start_time": "2023-03-30T19:59:41.403071",
     "status": "completed"
    },
    "tags": []
   },
   "source": [
    "### Number of values\n",
    "I will count the number of values for type of users and rideable type"
   ]
  },
  {
   "cell_type": "code",
   "execution_count": 22,
   "id": "e2039fd2",
   "metadata": {
    "execution": {
     "iopub.execute_input": "2023-03-30T19:59:41.455455Z",
     "iopub.status.busy": "2023-03-30T19:59:41.454794Z",
     "iopub.status.idle": "2023-03-30T19:59:41.706158Z",
     "shell.execute_reply": "2023-03-30T19:59:41.705201Z"
    },
    "papermill": {
     "duration": 0.27191,
     "end_time": "2023-03-30T19:59:41.708215",
     "exception": false,
     "start_time": "2023-03-30T19:59:41.436305",
     "status": "completed"
    },
    "tags": []
   },
   "outputs": [
    {
     "data": {
      "text/plain": [
       "member    2779130\n",
       "casual    2254755\n",
       "Name: member_casual, dtype: int64"
      ]
     },
     "execution_count": 22,
     "metadata": {},
     "output_type": "execute_result"
    }
   ],
   "source": [
    "# Count of member users and casual users\n",
    "df['member_casual'].value_counts()"
   ]
  },
  {
   "cell_type": "code",
   "execution_count": 23,
   "id": "7e846878",
   "metadata": {
    "execution": {
     "iopub.execute_input": "2023-03-30T19:59:41.746122Z",
     "iopub.status.busy": "2023-03-30T19:59:41.745696Z",
     "iopub.status.idle": "2023-03-30T19:59:41.991229Z",
     "shell.execute_reply": "2023-03-30T19:59:41.989571Z"
    },
    "papermill": {
     "duration": 0.268107,
     "end_time": "2023-03-30T19:59:41.993851",
     "exception": false,
     "start_time": "2023-03-30T19:59:41.725744",
     "status": "completed"
    },
    "tags": []
   },
   "outputs": [
    {
     "data": {
      "text/plain": [
       "classic_bike     2861129\n",
       "electric_bike    1902466\n",
       "docked_bike       270290\n",
       "Name: rideable_type, dtype: int64"
      ]
     },
     "execution_count": 23,
     "metadata": {},
     "output_type": "execute_result"
    }
   ],
   "source": [
    "# Count of rideable types\n",
    "df['rideable_type'].value_counts()"
   ]
  },
  {
   "cell_type": "markdown",
   "id": "59fa8f70",
   "metadata": {
    "papermill": {
     "duration": 0.017098,
     "end_time": "2023-03-30T19:59:42.028693",
     "exception": false,
     "start_time": "2023-03-30T19:59:42.011595",
     "status": "completed"
    },
    "tags": []
   },
   "source": [
    "### Grouping the data\n",
    "I'll group the data by type of users and rideable type. This will be useful for further analysis"
   ]
  },
  {
   "cell_type": "code",
   "execution_count": 24,
   "id": "6cd1b449",
   "metadata": {
    "execution": {
     "iopub.execute_input": "2023-03-30T19:59:42.065025Z",
     "iopub.status.busy": "2023-03-30T19:59:42.064600Z",
     "iopub.status.idle": "2023-03-30T19:59:42.069656Z",
     "shell.execute_reply": "2023-03-30T19:59:42.068724Z"
    },
    "papermill": {
     "duration": 0.025634,
     "end_time": "2023-03-30T19:59:42.071612",
     "exception": false,
     "start_time": "2023-03-30T19:59:42.045978",
     "status": "completed"
    },
    "tags": []
   },
   "outputs": [],
   "source": [
    "# Grouping by type of user\n",
    "user_grp = df.groupby('member_casual')\n",
    "# Grouping by type of rideable\n",
    "rideable_grp = df.groupby('rideable_type')"
   ]
  },
  {
   "cell_type": "markdown",
   "id": "d6104d87",
   "metadata": {
    "papermill": {
     "duration": 0.016233,
     "end_time": "2023-03-30T19:59:42.104598",
     "exception": false,
     "start_time": "2023-03-30T19:59:42.088365",
     "status": "completed"
    },
    "tags": []
   },
   "source": [
    "### Max values"
   ]
  },
  {
   "cell_type": "code",
   "execution_count": 25,
   "id": "7d0e8c08",
   "metadata": {
    "execution": {
     "iopub.execute_input": "2023-03-30T19:59:42.141285Z",
     "iopub.status.busy": "2023-03-30T19:59:42.140321Z",
     "iopub.status.idle": "2023-03-30T19:59:42.971728Z",
     "shell.execute_reply": "2023-03-30T19:59:42.970354Z"
    },
    "papermill": {
     "duration": 0.853326,
     "end_time": "2023-03-30T19:59:42.974247",
     "exception": false,
     "start_time": "2023-03-30T19:59:42.120921",
     "status": "completed"
    },
    "tags": []
   },
   "outputs": [
    {
     "name": "stdout",
     "output_type": "stream",
     "text": [
      "max ride length by user group:\n",
      "\n",
      "member_casual\n",
      "casual    55944\n",
      "member     1559\n",
      "Name: ride_length_min, dtype: int32\n",
      "\n",
      "max ride length by rideable type:\n",
      "rideable_type\n",
      "classic_bike      1559\n",
      "docked_bike      55944\n",
      "electric_bike      487\n",
      "Name: ride_length_min, dtype: int32\n"
     ]
    }
   ],
   "source": [
    "# Max ride length by user grp\n",
    "print('max ride length by user group:')\n",
    "print()\n",
    "print(user_grp['ride_length_min'].max())\n",
    "\n",
    "print()\n",
    "print('max ride length by rideable type:')\n",
    "print(rideable_grp['ride_length_min'].max())"
   ]
  },
  {
   "cell_type": "markdown",
   "id": "a65d9eda",
   "metadata": {
    "papermill": {
     "duration": 0.017028,
     "end_time": "2023-03-30T19:59:43.008750",
     "exception": false,
     "start_time": "2023-03-30T19:59:42.991722",
     "status": "completed"
    },
    "tags": []
   },
   "source": [
    "We can see that the max for casual users, and specifically the one for docked bike is so big, making the math, 55944 is about 932 hours, I wonder if anyone is capable of riding a bike for that many hours.\n",
    "\n",
    "That's clearly an outlier, but what about for the other type of bikes and users?"
   ]
  },
  {
   "cell_type": "code",
   "execution_count": 26,
   "id": "45a4218f",
   "metadata": {
    "execution": {
     "iopub.execute_input": "2023-03-30T19:59:43.045131Z",
     "iopub.status.busy": "2023-03-30T19:59:43.044742Z",
     "iopub.status.idle": "2023-03-30T19:59:43.883888Z",
     "shell.execute_reply": "2023-03-30T19:59:43.882671Z"
    },
    "papermill": {
     "duration": 0.860227,
     "end_time": "2023-03-30T19:59:43.886309",
     "exception": false,
     "start_time": "2023-03-30T19:59:43.026082",
     "status": "completed"
    },
    "tags": []
   },
   "outputs": [
    {
     "data": {
      "text/plain": [
       "member_casual  rideable_type\n",
       "casual         classic_bike      1559\n",
       "               docked_bike      55944\n",
       "               electric_bike      487\n",
       "member         classic_bike      1559\n",
       "               electric_bike      480\n",
       "Name: ride_length_min, dtype: int32"
      ]
     },
     "execution_count": 26,
     "metadata": {},
     "output_type": "execute_result"
    }
   ],
   "source": [
    "df.groupby(['member_casual','rideable_type'])['ride_length_min'].max()"
   ]
  },
  {
   "cell_type": "markdown",
   "id": "5b0f1bfb",
   "metadata": {
    "papermill": {
     "duration": 0.017509,
     "end_time": "2023-03-30T19:59:43.921311",
     "exception": false,
     "start_time": "2023-03-30T19:59:43.903802",
     "status": "completed"
    },
    "tags": []
   },
   "source": [
    "The maximum time for classic bike in both kind of users is 1599 which is about 26 hours, more than a day!. clearly an outlier if it's not someone doing a marathon.\n",
    "\n",
    "And the maximum time for electric bike is 480, which translates to 8 hours. \n"
   ]
  },
  {
   "cell_type": "markdown",
   "id": "4f068bd4",
   "metadata": {
    "papermill": {
     "duration": 0.017222,
     "end_time": "2023-03-30T19:59:43.956868",
     "exception": false,
     "start_time": "2023-03-30T19:59:43.939646",
     "status": "completed"
    },
    "tags": []
   },
   "source": [
    "### Average and median values"
   ]
  },
  {
   "cell_type": "code",
   "execution_count": 27,
   "id": "e6aa6488",
   "metadata": {
    "execution": {
     "iopub.execute_input": "2023-03-30T19:59:43.993749Z",
     "iopub.status.busy": "2023-03-30T19:59:43.993344Z",
     "iopub.status.idle": "2023-03-30T19:59:44.052603Z",
     "shell.execute_reply": "2023-03-30T19:59:44.051832Z"
    },
    "papermill": {
     "duration": 0.080028,
     "end_time": "2023-03-30T19:59:44.054471",
     "exception": false,
     "start_time": "2023-03-30T19:59:43.974443",
     "status": "completed"
    },
    "tags": []
   },
   "outputs": [
    {
     "data": {
      "text/plain": [
       "member_casual\n",
       "casual    31.701661\n",
       "member    13.130528\n",
       "Name: ride_length_min, dtype: float64"
      ]
     },
     "execution_count": 27,
     "metadata": {},
     "output_type": "execute_result"
    }
   ],
   "source": [
    "# Average ride length by user group\n",
    "user_grp['ride_length_min'].mean()"
   ]
  },
  {
   "cell_type": "code",
   "execution_count": 28,
   "id": "1caa034b",
   "metadata": {
    "execution": {
     "iopub.execute_input": "2023-03-30T19:59:44.090506Z",
     "iopub.status.busy": "2023-03-30T19:59:44.089867Z",
     "iopub.status.idle": "2023-03-30T19:59:44.265945Z",
     "shell.execute_reply": "2023-03-30T19:59:44.264572Z"
    },
    "papermill": {
     "duration": 0.19643,
     "end_time": "2023-03-30T19:59:44.268124",
     "exception": false,
     "start_time": "2023-03-30T19:59:44.071694",
     "status": "completed"
    },
    "tags": []
   },
   "outputs": [
    {
     "data": {
      "text/plain": [
       "member_casual\n",
       "casual    16.0\n",
       "member     9.0\n",
       "Name: ride_length_min, dtype: float64"
      ]
     },
     "execution_count": 28,
     "metadata": {},
     "output_type": "execute_result"
    }
   ],
   "source": [
    "# Median ride length by user group\n",
    "user_grp['ride_length_min'].median()"
   ]
  },
  {
   "cell_type": "code",
   "execution_count": 29,
   "id": "bdd8ef8f",
   "metadata": {
    "execution": {
     "iopub.execute_input": "2023-03-30T19:59:44.304201Z",
     "iopub.status.busy": "2023-03-30T19:59:44.303895Z",
     "iopub.status.idle": "2023-03-30T19:59:44.366198Z",
     "shell.execute_reply": "2023-03-30T19:59:44.364957Z"
    },
    "papermill": {
     "duration": 0.083819,
     "end_time": "2023-03-30T19:59:44.369167",
     "exception": false,
     "start_time": "2023-03-30T19:59:44.285348",
     "status": "completed"
    },
    "tags": []
   },
   "outputs": [
    {
     "data": {
      "text/plain": [
       "rideable_type\n",
       "classic_bike     19.576177\n",
       "docked_bike      82.961090\n",
       "electric_bike    15.525850\n",
       "Name: ride_length_min, dtype: float64"
      ]
     },
     "execution_count": 29,
     "metadata": {},
     "output_type": "execute_result"
    }
   ],
   "source": [
    "# Average ride length by rideable type\n",
    "rideable_grp['ride_length_min'].mean()"
   ]
  },
  {
   "cell_type": "code",
   "execution_count": 30,
   "id": "da3affbd",
   "metadata": {
    "execution": {
     "iopub.execute_input": "2023-03-30T19:59:44.405582Z",
     "iopub.status.busy": "2023-03-30T19:59:44.405199Z",
     "iopub.status.idle": "2023-03-30T19:59:44.559698Z",
     "shell.execute_reply": "2023-03-30T19:59:44.558546Z"
    },
    "papermill": {
     "duration": 0.175522,
     "end_time": "2023-03-30T19:59:44.562343",
     "exception": false,
     "start_time": "2023-03-30T19:59:44.386821",
     "status": "completed"
    },
    "tags": []
   },
   "outputs": [
    {
     "data": {
      "text/plain": [
       "rideable_type\n",
       "classic_bike     12.0\n",
       "docked_bike      28.0\n",
       "electric_bike    10.0\n",
       "Name: ride_length_min, dtype: float64"
      ]
     },
     "execution_count": 30,
     "metadata": {},
     "output_type": "execute_result"
    }
   ],
   "source": [
    "# Median ride length by rideable type\n",
    "rideable_grp['ride_length_min'].median()"
   ]
  },
  {
   "cell_type": "code",
   "execution_count": 31,
   "id": "db73b26d",
   "metadata": {
    "execution": {
     "iopub.execute_input": "2023-03-30T19:59:44.600758Z",
     "iopub.status.busy": "2023-03-30T19:59:44.600373Z",
     "iopub.status.idle": "2023-03-30T19:59:45.201181Z",
     "shell.execute_reply": "2023-03-30T19:59:45.200058Z"
    },
    "papermill": {
     "duration": 0.622555,
     "end_time": "2023-03-30T19:59:45.203113",
     "exception": false,
     "start_time": "2023-03-30T19:59:44.580558",
     "status": "completed"
    },
    "tags": []
   },
   "outputs": [
    {
     "data": {
      "text/plain": [
       "0    4\n",
       "dtype: int32"
      ]
     },
     "execution_count": 31,
     "metadata": {},
     "output_type": "execute_result"
    }
   ],
   "source": [
    "df.query('member_casual == \"member\"')['ride_length_min'].mode()"
   ]
  },
  {
   "cell_type": "markdown",
   "id": "b3764e59",
   "metadata": {
    "papermill": {
     "duration": 0.017334,
     "end_time": "2023-03-30T19:59:45.238274",
     "exception": false,
     "start_time": "2023-03-30T19:59:45.220940",
     "status": "completed"
    },
    "tags": []
   },
   "source": [
    "### Frequency of values\n",
    "\n",
    "I'm going to analyze the number of repeating values within the column of the ride length, to see where exactly the majority of values are,and what percentage of the data the outliers are"
   ]
  },
  {
   "cell_type": "code",
   "execution_count": 32,
   "id": "165bd564",
   "metadata": {
    "execution": {
     "iopub.execute_input": "2023-03-30T19:59:45.274253Z",
     "iopub.status.busy": "2023-03-30T19:59:45.273872Z",
     "iopub.status.idle": "2023-03-30T19:59:45.732314Z",
     "shell.execute_reply": "2023-03-30T19:59:45.730799Z"
    },
    "papermill": {
     "duration": 0.479151,
     "end_time": "2023-03-30T19:59:45.734946",
     "exception": false,
     "start_time": "2023-03-30T19:59:45.255795",
     "status": "completed"
    },
    "tags": []
   },
   "outputs": [
    {
     "data": {
      "text/plain": [
       "<bound method Series.reset_index of freq\n",
       "(-54.943, 1399.575]      5030055\n",
       "(1399.575, 2798.15]         3094\n",
       "(2798.15, 4196.725]          164\n",
       "(4196.725, 5595.3]            96\n",
       "(5595.3, 6993.875]            76\n",
       "(6993.875, 8392.45]           57\n",
       "(8392.45, 9791.025]           43\n",
       "(9791.025, 11189.6]           40\n",
       "(11189.6, 12588.175]          52\n",
       "(12588.175, 13986.75]         28\n",
       "(13986.75, 15385.325]         25\n",
       "(15385.325, 16783.9]          20\n",
       "(16783.9, 18182.475]          15\n",
       "(18182.475, 19581.05]         15\n",
       "(19581.05, 20979.625]          9\n",
       "(20979.625, 22378.2]          12\n",
       "(22378.2, 23776.775]          10\n",
       "(23776.775, 25175.35]         12\n",
       "(25175.35, 26573.925]         11\n",
       "(26573.925, 27972.5]           6\n",
       "(27972.5, 29371.075]           5\n",
       "(29371.075, 30769.65]          6\n",
       "(30769.65, 32168.225]          4\n",
       "(32168.225, 33566.8]           5\n",
       "(33566.8, 34965.375]           5\n",
       "(34965.375, 36363.95]          3\n",
       "(36363.95, 37762.525]          0\n",
       "(37762.525, 39161.1]           2\n",
       "(39161.1, 40559.675]           4\n",
       "(40559.675, 41958.25]          4\n",
       "(41958.25, 43356.825]          0\n",
       "(43356.825, 44755.4]           0\n",
       "(44755.4, 46153.975]           0\n",
       "(46153.975, 47552.55]          1\n",
       "(47552.55, 48951.125]          1\n",
       "(48951.125, 50349.7]           1\n",
       "(50349.7, 51748.275]           0\n",
       "(51748.275, 53146.85]          1\n",
       "(53146.85, 54545.425]          1\n",
       "(54545.425, 55944.0]           2\n",
       "Name: day_of_week, dtype: int64>"
      ]
     },
     "execution_count": 32,
     "metadata": {},
     "output_type": "execute_result"
    }
   ],
   "source": [
    "# I begin by creating a frequency table by grouping together the minutes in 40 bins\n",
    "frequency_table = df.copy()\n",
    "frequency_table['freq'] = pd.cut(df['ride_length_min'],40)\n",
    "frequency = frequency_table.groupby('freq')['day_of_week'].count().reset_index\n",
    "frequency"
   ]
  },
  {
   "cell_type": "code",
   "execution_count": 33,
   "id": "e78b6d24",
   "metadata": {
    "execution": {
     "iopub.execute_input": "2023-03-30T19:59:45.773235Z",
     "iopub.status.busy": "2023-03-30T19:59:45.772527Z",
     "iopub.status.idle": "2023-03-30T19:59:45.778507Z",
     "shell.execute_reply": "2023-03-30T19:59:45.777192Z"
    },
    "papermill": {
     "duration": 0.027638,
     "end_time": "2023-03-30T19:59:45.781117",
     "exception": false,
     "start_time": "2023-03-30T19:59:45.753479",
     "status": "completed"
    },
    "tags": []
   },
   "outputs": [
    {
     "name": "stdout",
     "output_type": "stream",
     "text": [
      "the majority of unbiased values fall within the 99.9 % of the data\n"
     ]
    }
   ],
   "source": [
    "print('the majority of unbiased values fall within the',round((5030055/df.shape[0] * 100),1),'% of the data')"
   ]
  },
  {
   "cell_type": "markdown",
   "id": "2508c739",
   "metadata": {
    "papermill": {
     "duration": 0.018038,
     "end_time": "2023-03-30T19:59:45.817809",
     "exception": false,
     "start_time": "2023-03-30T19:59:45.799771",
     "status": "completed"
    },
    "tags": []
   },
   "source": [
    "the max value which is part of the 99.9% of the data is 1399.57 minutes, that's still 23 hours in length for a ride. we can still filter the data even more by just using the 99.5% or 99.0% of values"
   ]
  },
  {
   "cell_type": "markdown",
   "id": "7671dd35",
   "metadata": {
    "papermill": {
     "duration": 0.018058,
     "end_time": "2023-03-30T19:59:45.853988",
     "exception": false,
     "start_time": "2023-03-30T19:59:45.835930",
     "status": "completed"
    },
    "tags": []
   },
   "source": [
    "With this information we can state that the outliers only represent the 0.1% of values in the data, however, since the range is very large between the minimum and maximum values, we can say that the averages could be somewhat affected by this outliers. In this case we need to take that into acount by the time of sharing our insights"
   ]
  },
  {
   "cell_type": "markdown",
   "id": "06602ae1",
   "metadata": {
    "papermill": {
     "duration": 0.018057,
     "end_time": "2023-03-30T19:59:45.890343",
     "exception": false,
     "start_time": "2023-03-30T19:59:45.872286",
     "status": "completed"
    },
    "tags": []
   },
   "source": [
    "# 5.- Share"
   ]
  },
  {
   "cell_type": "code",
   "execution_count": 34,
   "id": "76ede051",
   "metadata": {
    "execution": {
     "iopub.execute_input": "2023-03-30T19:59:45.929150Z",
     "iopub.status.busy": "2023-03-30T19:59:45.928802Z",
     "iopub.status.idle": "2023-03-30T19:59:45.933701Z",
     "shell.execute_reply": "2023-03-30T19:59:45.932203Z"
    },
    "papermill": {
     "duration": 0.027697,
     "end_time": "2023-03-30T19:59:45.936330",
     "exception": false,
     "start_time": "2023-03-30T19:59:45.908633",
     "status": "completed"
    },
    "tags": []
   },
   "outputs": [],
   "source": [
    "yellow = '#e1f26b'\n",
    "blue = '#4594a4'\n",
    "green = '#9ccc84'\n",
    "gray = '#d3e6ea'\n",
    "lblue ='#9ccbd4'\n",
    "white = '#FFFFFF'"
   ]
  },
  {
   "cell_type": "markdown",
   "id": "ca5d55ff",
   "metadata": {
    "papermill": {
     "duration": 0.017968,
     "end_time": "2023-03-30T19:59:45.972590",
     "exception": false,
     "start_time": "2023-03-30T19:59:45.954622",
     "status": "completed"
    },
    "tags": []
   },
   "source": [
    "### Outliers in ride length"
   ]
  },
  {
   "cell_type": "code",
   "execution_count": 35,
   "id": "9c4743e3",
   "metadata": {
    "execution": {
     "iopub.execute_input": "2023-03-30T19:59:46.010903Z",
     "iopub.status.busy": "2023-03-30T19:59:46.010539Z",
     "iopub.status.idle": "2023-03-30T19:59:54.673184Z",
     "shell.execute_reply": "2023-03-30T19:59:54.671855Z"
    },
    "papermill": {
     "duration": 8.684498,
     "end_time": "2023-03-30T19:59:54.675325",
     "exception": false,
     "start_time": "2023-03-30T19:59:45.990827",
     "status": "completed"
    },
    "tags": []
   },
   "outputs": [
    {
     "data": {
      "image/png": "[encoded data removed]",
      "text/plain": [
       "<Figure size 1200x500 with 3 Axes>"
      ]
     },
     "metadata": {},
     "output_type": "display_data"
    }
   ],
   "source": [
    "fig, ax = plt.subplots(nrows=1,ncols=3,figsize=(12,5),sharex=False)\n",
    "\n",
    "plt.subplot(1,3,1)\n",
    "ax1 = sns.boxplot(data=df,x='rideable_type',y='ride_length_min')\n",
    "ax1.set_title('Ride length distribution per rideable type')\n",
    "\n",
    "# Filtering out the docked_bike value\n",
    "no_docked_bike = df.query('rideable_type != \"docked_bike\"')\n",
    "\n",
    "plt.subplot(1,3,2)\n",
    "ax2 = sns.boxplot(data = no_docked_bike, x='rideable_type', y='ride_length_min')\n",
    "ax2.set_title('Ride length distribution without docked bike')\n",
    "\n",
    "# Filtering our the 1% of values\n",
    "percent_99 = np.percentile(df['ride_length_min'],99)\n",
    "df_99 = df.loc[(df['ride_length_min'] <= percent_99)]\n",
    "\n",
    "plt.subplot(1,3,3)\n",
    "ax3 = sns.boxplot(data=df_99,x='rideable_type',y='ride_length_min')\n",
    "ax3.set_title('Ride length distribution 99%')\n",
    "\n",
    "plt.tight_layout()\n",
    "plt.show()"
   ]
  },
  {
   "cell_type": "markdown",
   "id": "ffca81c9",
   "metadata": {
    "papermill": {
     "duration": 0.017833,
     "end_time": "2023-03-30T19:59:54.711958",
     "exception": false,
     "start_time": "2023-03-30T19:59:54.694125",
     "status": "completed"
    },
    "tags": []
   },
   "source": [
    "We can see that for the type of docked bike, the ride length in minutes get way higher than those for the classic and electric bike, so the data is biased with many outliers.\n",
    "\n",
    "For the classic bike and electric bike it seems there are not that many outliers, but after a closer look, we see in the second graph that there are many outliers as well, ranging up to 1600 minutes.\n",
    "\n",
    "In the third graph we eliminate the 1% of values which exceed the normal distribution, so that we can see better the distribution and percentiles. Also confirms visually what we already know about the median of the ride length for the rideable type.\n",
    "\n",
    "* 12 minutes for the classic bike\n",
    "* 28 minutes for the docked bike\n",
    "* 10 minutes for the electric bike\n",
    "\n",
    "Also close to the average if we eliminate that 0.1% or up to 1% of very extreme values. These lengths are closer to what an actual user is expected to spend riding a bike every time they use the service.   "
   ]
  },
  {
   "cell_type": "markdown",
   "id": "0d9de222",
   "metadata": {
    "papermill": {
     "duration": 0.018034,
     "end_time": "2023-03-30T19:59:54.747879",
     "exception": false,
     "start_time": "2023-03-30T19:59:54.729845",
     "status": "completed"
    },
    "tags": []
   },
   "source": [
    "### Ride length per weekday\n",
    "\n",
    "Let's see what is the difference between users in terms of ride length per day"
   ]
  },
  {
   "cell_type": "code",
   "execution_count": 36,
   "id": "2533c09e",
   "metadata": {
    "execution": {
     "iopub.execute_input": "2023-03-30T19:59:54.786721Z",
     "iopub.status.busy": "2023-03-30T19:59:54.786355Z",
     "iopub.status.idle": "2023-03-30T19:59:56.070629Z",
     "shell.execute_reply": "2023-03-30T19:59:56.069103Z"
    },
    "papermill": {
     "duration": 1.30712,
     "end_time": "2023-03-30T19:59:56.073393",
     "exception": false,
     "start_time": "2023-03-30T19:59:54.766273",
     "status": "completed"
    },
    "tags": []
   },
   "outputs": [
    {
     "data": {
      "image/png": "[encoded data removed]",
      "text/plain": [
       "<Figure size 640x480 with 1 Axes>"
      ]
     },
     "metadata": {},
     "output_type": "display_data"
    }
   ],
   "source": [
    "weekday_name = ['Monday','Tuesday','Wednesday','Thursday','Friday','Saturday','Sunday']\n",
    "\n",
    "fig, ax= plt.subplots(1,1)\n",
    "day_grp = df_99.groupby(['member_casual','day_of_week']).mean().reset_index()\n",
    "sns.lineplot(data=day_grp, x='day_of_week',y='ride_length_min',hue='member_casual',palette=[green,blue],sizes=[20,20])\n",
    "ax.set_xticks(range(len(weekday_name)))\n",
    "ax.set_xticklabels(weekday_name)\n",
    "\n",
    "plt.title('Ride length per weekday')\n",
    "plt.grid(visible=True,alpha=0.3)\n",
    "\n",
    "plt.show()"
   ]
  },
  {
   "cell_type": "markdown",
   "id": "aa7e6f57",
   "metadata": {
    "papermill": {
     "duration": 0.019165,
     "end_time": "2023-03-30T19:59:56.112178",
     "exception": false,
     "start_time": "2023-03-30T19:59:56.093013",
     "status": "completed"
    },
    "tags": []
   },
   "source": [
    "We can see that the casual users average ride length fall during weekdays and rise during the weekends.\n",
    "\n",
    "The member users although also having an increase during the weekends, during weekdays(monday to friday) the tendency is flat around 12 minutes on average."
   ]
  },
  {
   "cell_type": "markdown",
   "id": "b5e97523",
   "metadata": {
    "papermill": {
     "duration": 0.019281,
     "end_time": "2023-03-30T19:59:56.151190",
     "exception": false,
     "start_time": "2023-03-30T19:59:56.131909",
     "status": "completed"
    },
    "tags": []
   },
   "source": [
    "### Percentage of member and casual users \n",
    "\n",
    "What is the proportion of member and casual users from the total?"
   ]
  },
  {
   "cell_type": "code",
   "execution_count": 37,
   "id": "c2da8ae1",
   "metadata": {
    "execution": {
     "iopub.execute_input": "2023-03-30T19:59:56.191671Z",
     "iopub.status.busy": "2023-03-30T19:59:56.191276Z",
     "iopub.status.idle": "2023-03-30T19:59:56.844178Z",
     "shell.execute_reply": "2023-03-30T19:59:56.843357Z"
    },
    "papermill": {
     "duration": 0.675716,
     "end_time": "2023-03-30T19:59:56.846302",
     "exception": false,
     "start_time": "2023-03-30T19:59:56.170586",
     "status": "completed"
    },
    "tags": []
   },
   "outputs": [
    {
     "data": {
      "image/png": "[encoded data removed]",
      "text/plain": [
       "<Figure size 640x480 with 1 Axes>"
      ]
     },
     "metadata": {},
     "output_type": "display_data"
    }
   ],
   "source": [
    "users = df['member_casual']\n",
    "\n",
    "plt.pie(users.value_counts(),labels=users.unique(),colors=[blue,green],autopct=\"%1.1f%%\")\n",
    "\n",
    "plt.title('Number of users per user type')\n",
    "plt.tight_layout()\n",
    "plt.show()"
   ]
  },
  {
   "cell_type": "markdown",
   "id": "d001bed1",
   "metadata": {
    "papermill": {
     "duration": 0.025721,
     "end_time": "2023-03-30T19:59:56.898019",
     "exception": false,
     "start_time": "2023-03-30T19:59:56.872298",
     "status": "completed"
    },
    "tags": []
   },
   "source": [
    "### Number of rides per user type\n",
    "\n",
    "How many rides each type of user did? and for every type of rideable?"
   ]
  },
  {
   "cell_type": "code",
   "execution_count": 38,
   "id": "f30a13a5",
   "metadata": {
    "execution": {
     "iopub.execute_input": "2023-03-30T19:59:56.946615Z",
     "iopub.status.busy": "2023-03-30T19:59:56.946168Z",
     "iopub.status.idle": "2023-03-30T19:59:58.140535Z",
     "shell.execute_reply": "2023-03-30T19:59:58.139394Z"
    },
    "papermill": {
     "duration": 1.218481,
     "end_time": "2023-03-30T19:59:58.142513",
     "exception": false,
     "start_time": "2023-03-30T19:59:56.924032",
     "status": "completed"
    },
    "tags": []
   },
   "outputs": [
    {
     "data": {
      "image/png": "[encoded data removed]",
      "text/plain": [
       "<Figure size 640x480 with 1 Axes>"
      ]
     },
     "metadata": {},
     "output_type": "display_data"
    }
   ],
   "source": [
    "ride_user_grp = df.groupby(['member_casual','rideable_type'])['ride_id'].count().reset_index(name='count')\n",
    "\n",
    "ax = sns.barplot(data=ride_user_grp,x='rideable_type',y='count',hue='member_casual',palette=[green,blue],hue_order=['casual','member'])\n",
    "                \n",
    "plt.ylabel('Number of rides (millions)')\n",
    "\n",
    "plt.legend()\n",
    "plt.title('Number of rides per user type and rideable type')\n",
    "plt.tight_layout()\n",
    "\n",
    "plt.show()"
   ]
  },
  {
   "cell_type": "markdown",
   "id": "832da2f8",
   "metadata": {
    "papermill": {
     "duration": 0.019726,
     "end_time": "2023-03-30T19:59:58.182023",
     "exception": false,
     "start_time": "2023-03-30T19:59:58.162297",
     "status": "completed"
    },
    "tags": []
   },
   "source": [
    "We can see that the members ride more often than casual members in both classic and electric bikes, and we also see a lack of usage of the docked bikes by members"
   ]
  },
  {
   "cell_type": "markdown",
   "id": "7797c53f",
   "metadata": {
    "papermill": {
     "duration": 0.019396,
     "end_time": "2023-03-30T19:59:58.221102",
     "exception": false,
     "start_time": "2023-03-30T19:59:58.201706",
     "status": "completed"
    },
    "tags": []
   },
   "source": [
    "### Number of rides per month\n",
    "\n",
    "What are the tendencies in the number of rides each type of user did each month?"
   ]
  },
  {
   "cell_type": "code",
   "execution_count": 39,
   "id": "333c8fe1",
   "metadata": {
    "execution": {
     "iopub.execute_input": "2023-03-30T19:59:58.262804Z",
     "iopub.status.busy": "2023-03-30T19:59:58.262421Z",
     "iopub.status.idle": "2023-03-30T19:59:59.741811Z",
     "shell.execute_reply": "2023-03-30T19:59:59.740226Z"
    },
    "papermill": {
     "duration": 1.502949,
     "end_time": "2023-03-30T19:59:59.744020",
     "exception": false,
     "start_time": "2023-03-30T19:59:58.241071",
     "status": "completed"
    },
    "tags": []
   },
   "outputs": [
    {
     "data": {
      "image/png": "[encoded data removed]",
      "text/plain": [
       "<Figure size 900x600 with 1 Axes>"
      ]
     },
     "metadata": {},
     "output_type": "display_data"
    }
   ],
   "source": [
    "months = ['','January','Febraury','March','April','May','June','July','August','September','October','November','December']\n",
    "\n",
    "fig, ax =plt.subplots(1,1,figsize=(9,6))\n",
    "\n",
    "df['month'].value_counts().sort_index().plot(kind='area', label='all users',color=gray,alpha=1)\n",
    "df.query('member_casual == \"casual\"')['month'].value_counts().sort_index().plot(kind='area', label='casual user',color=green,alpha=1)\n",
    "df.query('member_casual == \"member\"')['month'].value_counts().sort_index().plot(kind='area', label='member user',color=blue,alpha=0.7)\n",
    "\n",
    "ax.set_xticks(range(len(months)))\n",
    "ax.set_xticklabels(months)\n",
    "\n",
    "plt.xlim([1,12])\n",
    "plt.xticks(rotation=20)\n",
    "plt.legend()\n",
    "plt.xlabel('Month')\n",
    "plt.ylabel('Number of rides')\n",
    "plt.tight_layout()\n",
    "plt.show()"
   ]
  },
  {
   "cell_type": "markdown",
   "id": "bac1340a",
   "metadata": {
    "papermill": {
     "duration": 0.022779,
     "end_time": "2023-03-30T19:59:59.788251",
     "exception": false,
     "start_time": "2023-03-30T19:59:59.765472",
     "status": "completed"
    },
    "tags": []
   },
   "source": [
    "For all type of users, we see the rise in spring months, the spike during the summer months. And the fall entering autumn and the bottom at winter.\n",
    "\n",
    "But we also see that the members tend to maintain the number of rides for the summer and autumn seasons. And on the contrary, the casual users take the lead in the mid-summer and then the number of rides fall faster than those for members."
   ]
  },
  {
   "cell_type": "markdown",
   "id": "13e3afb5",
   "metadata": {
    "papermill": {
     "duration": 0.020841,
     "end_time": "2023-03-30T19:59:59.830177",
     "exception": false,
     "start_time": "2023-03-30T19:59:59.809336",
     "status": "completed"
    },
    "tags": []
   },
   "source": [
    "### Number of rides per weekday\n",
    "\n",
    "Are there any tendencies in the number of rides per each day of the week?"
   ]
  },
  {
   "cell_type": "code",
   "execution_count": 40,
   "id": "dee79652",
   "metadata": {
    "execution": {
     "iopub.execute_input": "2023-03-30T19:59:59.873716Z",
     "iopub.status.busy": "2023-03-30T19:59:59.873377Z",
     "iopub.status.idle": "2023-03-30T20:00:00.829241Z",
     "shell.execute_reply": "2023-03-30T20:00:00.828523Z"
    },
    "papermill": {
     "duration": 0.980394,
     "end_time": "2023-03-30T20:00:00.831696",
     "exception": false,
     "start_time": "2023-03-30T19:59:59.851302",
     "status": "completed"
    },
    "tags": []
   },
   "outputs": [
    {
     "data": {
      "text/plain": [
       "Text(0.5, 1.0, 'Number of rides per day')"
      ]
     },
     "execution_count": 40,
     "metadata": {},
     "output_type": "execute_result"
    },
    {
     "data": {
      "image/png": "[encoded data removed]",
      "text/plain": [
       "<Figure size 900x600 with 1 Axes>"
      ]
     },
     "metadata": {},
     "output_type": "display_data"
    }
   ],
   "source": [
    "import matplotlib.patches as mpatches\n",
    "\n",
    "fig, ax =plt.subplots(1,1,figsize=(9,6))\n",
    "\n",
    "ride_per_day = df['started_at'].dt.dayofweek.value_counts().sort_index(ascending=True).to_frame()\n",
    "user_day = user_grp['day_of_week'].value_counts().rename_axis(['member_casual','day_of_week']).reset_index(name='count')\n",
    "\n",
    "user_palette = {'casual':'tab:green', 'member':'tab:blue'}\n",
    "plt.bar(ride_per_day.index,ride_per_day['started_at'],color=gray)\n",
    "sns.barplot(data=user_day,x='day_of_week',y='count',hue='member_casual',palette=[green,blue],hue_order=['casual','member'])\n",
    "\n",
    "ax.set_xticks(range(len(weekday_name)))\n",
    "ax.set_xticklabels(weekday_name)\n",
    "\n",
    "all_legend = mpatches.Patch(color=(gray), label='All')\n",
    "casual_legend = mpatches.Patch(color=(green), label='casual')\n",
    "member_legend = mpatches.Patch(color=(blue),label='member')\n",
    "\n",
    "plt.legend(handles=[all_legend,casual_legend,member_legend])\n",
    "\n",
    "plt.title('Number of rides per day')"
   ]
  },
  {
   "cell_type": "markdown",
   "id": "1dc8a3cc",
   "metadata": {
    "papermill": {
     "duration": 0.02135,
     "end_time": "2023-03-30T20:00:00.874737",
     "exception": false,
     "start_time": "2023-03-30T20:00:00.853387",
     "status": "completed"
    },
    "tags": []
   },
   "source": [
    "We can observe some tendencies. In aggregate for all users and specially for casual users, the number of rides increase the weekends. But for members the tendency is flat and constant during the whole week, even drops slightly during weekends"
   ]
  },
  {
   "cell_type": "markdown",
   "id": "d9bbbd6e",
   "metadata": {
    "papermill": {
     "duration": 0.021763,
     "end_time": "2023-03-30T20:00:00.918357",
     "exception": false,
     "start_time": "2023-03-30T20:00:00.896594",
     "status": "completed"
    },
    "tags": []
   },
   "source": [
    "### Maps\n",
    "\n",
    "Finally I will show two maps to try answering the question: In what areas do casual and member users tend to ride?"
   ]
  },
  {
   "cell_type": "code",
   "execution_count": 41,
   "id": "ea253ec2",
   "metadata": {
    "execution": {
     "iopub.execute_input": "2023-03-30T20:00:00.964343Z",
     "iopub.status.busy": "2023-03-30T20:00:00.963655Z",
     "iopub.status.idle": "2023-03-30T20:00:06.471319Z",
     "shell.execute_reply": "2023-03-30T20:00:06.470341Z"
    },
    "papermill": {
     "duration": 5.533339,
     "end_time": "2023-03-30T20:00:06.473713",
     "exception": false,
     "start_time": "2023-03-30T20:00:00.940374",
     "status": "completed"
    },
    "tags": []
   },
   "outputs": [
    {
     "data": {
      "text/html": [
       "        <script type=\"text/javascript\">\n",
       "        window.PlotlyConfig = {MathJaxConfig: 'local'};\n",
       "        if (window.MathJax && window.MathJax.Hub && window.MathJax.Hub.Config) {window.MathJax.Hub.Config({SVG: {font: \"STIX-Web\"}});}\n",
       "        if (typeof require !== 'undefined') {\n",
       "        require.undef(\"plotly\");\n",
       "        requirejs.config({\n",
       "            paths: {\n",
       "                'plotly': ['https://cdn.plot.ly/plotly-2.18.0.min']\n",
       "            }\n",
       "        });\n",
       "        require(['plotly'], function(Plotly) {\n",
       "            window._Plotly = Plotly;\n",
       "        });\n",
       "        }\n",
       "        </script>\n",
       "        "
      ]
     },
     "metadata": {},
     "output_type": "display_data"
    },
    {
     "data": {
      "text/html": [
       "<div>                            <div id=\"88c8fe6c-c24c-4b9d-a538-4661054b2027\" class=\"plotly-graph-div\" style=\"height:525px; width:100%;\"></div>            <script type=\"text/javascript\">                require([\"plotly\"], function(Plotly) {                    window.PLOTLYENV=window.PLOTLYENV || {};                                    if (document.getElementById(\"88c8fe6c-c24c-4b9d-a538-4661054b2027\")) {                    Plotly.newPlot(                        \"88c8fe6c-c24c-4b9d-a538-4661054b2027\",                        [{\"hovertemplate\":\"member_casual=casual<br>start_lat=%{lat}<br>start_lng=%{lon}<extra></extra>\",\"lat\":[41.915698,41.891264346481535,41.884728,41.891264346481535,41.9376975,41.91832266666667,42.050491,41.85,41.963982,41.95,41.880719,41.90320216666667,41.9401535,41.86722595682,41.93261483333333,41.957867,41.879419,41.8810317,41.900886166666666,41.89184737210993,41.883073,41.98974251144,41.87831661183069,41.93,41.943739,41.929143,41.911722,41.97334764047304,41.949399,41.87785,41.92669,41.912919,41.903546,41.885637,41.9366884494997,41.862378,41.892278,41.919936,41.91753,41.78509714636,41.902973,41.882134,41.943403,41.926277,41.93,41.91,41.965221,41.794223333333335,41.910656333333336,41.857813,41.949399,41.902893,41.900363,41.898203,41.81,41.88602082773,41.93842879148,41.90345,41.892278,41.943739,41.915983,41.96668636205,41.90812616666667,41.96950266666666,41.888716036,41.903486,41.894503,41.89679783333333,41.793242,41.921822,41.894877,41.954373,41.937687,41.9093960065,41.879255,41.949075,41.943613166666665,41.95,42.06,41.93758231600629,41.92533,41.883668,41.87651122881695,41.85308455741279,41.926277,41.979762,41.73,41.877181,41.8839840647265,41.92266566666667,41.929546,41.918216,41.879439,41.8846105,41.87221066666667,41.9256018819,41.92555383333333,41.967096,41.94334,41.94936166666667,41.85418424947,41.949033166666666,41.822985,41.92883,41.93132,41.918306,41.93,41.92664833333333,41.894666,41.96909,41.87651122881695,41.94551633333333,41.8810317,41.907626,41.86953566666666,41.83124883333333,41.93132,41.918306,41.89691,41.89234366666667,41.92591266666667,41.9120495,41.86609533333333,41.894877,41.93132,41.88589516666666,41.911722,41.92154,41.95,41.893992,41.867227,41.94,41.8795785,41.91021,41.795212,41.89434513742426,41.872773,41.886564612,41.943403,41.88,41.96150283333333,41.865312,41.915689,41.870769,41.89675,41.881892,41.895501,41.895634,41.9363715,41.97806083333333,41.79956366666666,41.926756,41.94947274088333,41.93,42.01058656284,41.90096039,41.884114,41.880958,41.867227,41.88713,41.925858,41.768976333333335,41.911722,41.97,41.97,41.915689,41.95,41.726833,41.95600355078549,41.954177,41.87651122881695,41.8378,41.878166,41.90289516666667,41.92393131136619,41.890573,41.86,41.943694666666666,41.90326383333333,41.847203,41.891466,41.88917683258,41.91272933333333,41.867227,41.983593,41.915689,41.88112316666667,41.89084704062381,41.7522005,41.911974,41.896362458,41.915689,41.94005833333333,41.94,41.891578,41.92595666666666,41.88367216666666,41.89,41.90230870122,41.91,41.90230870122,41.73715146431056,41.893992,41.932225,41.97165916666667,41.891847,41.93,41.963004,41.92019556200566,41.79523266666666,41.915689,41.936083,41.902973,41.963982,41.903222,41.883668,41.92,41.7,41.881319815,41.906724,41.926277,41.91710803478932,41.929567,41.892134166666665,41.87231516666667,41.91050936666395,41.892278,41.892278,41.79147816666666,41.903222,41.87077633333333,41.727657666666666,41.96,41.89102331025185,41.91772816666667,41.9,41.9112985,41.9779966544,41.877618,41.915689,41.882134,41.929546,41.906724,41.86722595682,41.862378,41.95,41.91060216666666,41.89691,41.954245,41.9076555,41.92,41.78,41.99,41.89,41.84282533333333,41.96916683333333,41.902309,41.88602082773,41.907626,41.867888,41.92,41.89,41.9218385,41.793242,41.910522,41.890573,41.92953166666667,41.8810317,41.890762,41.79,41.857611,41.97,41.883165,41.94,41.87272133333333,41.880958,41.7,41.91468,41.898969,41.8385075,41.883984,41.88,41.75913116666667,41.88461618962,41.932588,41.93,41.903222,41.8810317,41.872773,41.890762,41.866126,41.910652166666665,41.795264,41.939743,41.94018,41.94908616666667,41.88656316666667,41.961004,41.918249,41.89046733333333,41.857556,41.920196833333335,41.968812,41.949399,41.95087566666667,41.915689,41.866095,41.867888,41.93,41.954383,41.940106,41.894556,41.89,41.90345,41.95439266666666,41.928712,41.92883,41.892278,41.89157216666667,41.969168,41.888243,41.88068883333333,41.95,41.890762,41.90758066666667,41.91751339399,41.86722595682,41.895769,41.8643225,41.93610316666667,41.94,41.93,41.92154,41.93132,41.8985866514,41.925858,41.94454,41.870257,41.879255,41.92876816666666,41.935733,41.902924,41.866095,41.954177,41.932418,41.886875,41.86722595682,41.943403,41.892278,41.8,41.89973333333333,41.935733,41.8765351944122,41.894469,41.872773,41.876243,41.79,41.91,41.92000083333333,41.88,41.902997,41.881892,41.892227166666665,41.95078,41.93314,41.91,41.886976,41.88283,41.94,41.92154,41.943739,41.87138483333333,41.95,41.874736,41.886875,41.898587,41.880958,41.889899,41.921822,41.884584,41.9295665,41.918084,41.92,41.91055866666667,41.91844,41.788746,41.88982216666667,41.889187,41.89841768945,41.90096039,41.89102331025185,41.89997183333333,41.880958,41.889187,41.928712,41.895581666666665,41.983593,41.89576474564,41.883073,41.91552,41.88,41.892278,41.86722595682,41.89184737210993,41.897764,41.894666,41.867491,41.98,41.95600355078549,41.973815,42.03,41.926277,41.86748716666666,41.91,41.9,41.913865,41.88354066666667,41.925899,41.911974,41.93,41.88461618962,41.920082,41.88137,41.892278,41.89,41.867491,41.88460328501,41.89257,41.87,41.932225,41.89,41.67,41.90303566666667,41.95600355078549,41.95440833333333,41.93589416666666,42.010597,41.94,41.904613,41.91,41.922167,41.880958,41.81409271048,41.918216,41.91021,41.886024,41.910386,41.842052,41.79933626261,41.929546,41.902973,41.929591,41.909598,42.048214,41.657075166666665,41.911974,41.961068,41.90985465216731,41.9649995,41.929546,41.903222,41.97,41.91849115368695,41.8810317,41.94,41.79,41.89184737210993,41.830629,42.058239,41.909668,41.8776415962753,41.907626,41.899181,41.88,41.99,41.978013833333335,41.93,41.93128683333333,42.0637925,41.90985465216731,41.866095,41.906724,41.912133,41.94454,41.903266,41.899643,41.924084,41.967096,41.892278,41.880958,41.926277,41.88360333333333,41.75,41.855136,41.949399,41.88485533333333,41.95078,41.95428,41.888716036,41.943739,41.89936843921,41.8810317,41.89,41.86719383333333,41.86708616666667,41.906724,41.8,41.893992,41.87247133333334,41.883984,41.98974251144,41.911722,41.87651122881695,41.96,41.857611,41.929143,41.93961183333333,41.870769,41.89178316666667,41.89,41.744123,41.910535,41.93,41.91468,41.94815,41.88440683333334,41.834734,41.936266,41.867227,41.880958,41.94005066666666,41.9615075,41.892278,41.87508666666667,41.925905,41.78,41.9366884494997,41.88369266666667,41.867888,41.94,41.93,41.93266116666667,41.8,41.90096,41.929143,41.97164383333333,41.940775,41.876511,41.882134,41.88,41.91,41.925423333333335,41.94018,41.791478,41.880422,41.952833,41.898969,41.91,41.894315,41.8854833079,41.88174466666667,41.91372,41.887095333333335,41.8891445,41.867888,41.93,41.870769,41.89,41.939491833333335,41.794853,41.904613,41.92956983333333,41.98,41.855136,41.7,41.867491,41.94018,41.892278,41.88602082773,41.86530966666667,41.8694821,41.965221,41.880958,41.8814305,41.912616,41.956057,41.84,41.89257,41.931248,42.004583,41.88,41.92883,41.88169,41.891847,41.911722,41.883073,41.893992,41.96909,41.889906,41.932418,41.895317912,41.866095,41.874255,41.91402671273,41.91837566666667,41.71,41.872187,41.926277,41.8839840647265,41.929546,41.88989516666667,41.892278,41.82,41.89380805624359,41.872773,41.926277,41.891795,41.932588,41.78060094521422,41.9,41.9364968219,41.9716,41.889906,41.907655,41.978353,41.717877666666666,41.95,41.88129983333333,41.940023333333336,41.89102331025185,41.8810317,41.88719283333333,41.82,41.7664929373,41.911722,41.89109333333333,41.94,41.882134,41.961004,41.91052866666666,41.943034,41.874053,41.69131919221066,41.864883,41.931931,41.86723533333333,41.89158466666667,41.902973,41.886875,41.943403,41.894503,41.79172820953,41.87947235235,41.880559,41.890762,41.872773,41.889187,41.97,41.894773666666666,41.92921183333333,41.81,41.92,41.89,41.907527,41.892278,41.91844,41.935733,41.977995166666666,41.94620583333333,41.830777,41.91010416666667,41.889906,41.92625366666667,41.857901,41.91,41.898543,41.89434513742426,41.94,41.838842,41.926277,41.95434085219,41.891973166666666,41.880317,41.89766,41.876511,41.856268,41.884241,41.880958,41.906972333333336,41.87,41.950903833333335,41.92393131136619,41.9,41.89436233333333,41.866095,41.94075933333333,41.903266,41.88656616666667,41.912133,41.903119,41.97,41.935733,41.92463247165,41.891578,41.886349,41.9,41.90096039,41.892278,41.8809725,41.952833,41.922695,41.88590683333334,41.925858,41.87785,41.885693,41.880958166666666,41.939398,41.85,41.892278,41.932225,41.932225,41.880958,41.91,41.889187,41.842733,41.93125833333333,41.925858,41.87772613,41.886855833333335,41.874754,41.90096,41.9947796884,41.945529,41.8940785,41.91,41.9355505,41.984037,41.93758231600629,41.891847,41.911722,41.8925735,41.87947235235,41.88384783333333,41.90230870122,41.90096039,41.93651166666667,41.90348607004,41.907931833333336,41.89766,41.88845416666667,41.89566383333333,41.967126666666665,41.89088516666666,41.8940665,41.93649383333333,41.79974,41.93,41.872773,41.973348,41.89434513742426,41.892278,41.918322,41.96110133333333,41.87184,41.89675,41.879472,41.791568,41.8810317,41.883984,41.90348607004,41.9396625,41.88577925240433,41.926277,41.949473,41.836208,41.973815,41.892278,41.71,41.880958,41.88930483333333,41.91,41.94367,41.909388666666665,41.968687,41.89238266666667,41.856268,41.928712,41.91844,41.923931,41.884728,41.88105166666666,41.890028,41.918216,41.912133,41.88234816666667,41.877857,41.92,41.909668,41.936083,41.9366884494997,41.914166,41.91050936666395,41.93769183333333,41.906724,41.93,41.90356383333334,41.894722,41.949399,41.9779966544,41.93,41.892278,41.900951166666665,41.894877,41.892278,41.780063166666665,41.92,41.9716,41.884631166666665,41.90804083333333,41.89380805624359,41.93588,41.885651333333335,41.925611,41.957851833333336,41.902973,41.873106166666666,41.9198695,41.892278,41.8759326655,41.88592,41.880958,41.89845816666666,41.886875,41.7665705,41.965221,41.880958,41.88548933333333,41.91369916666667,41.93,41.93,41.90668583333333,41.8384885,41.932225,41.910165,41.943403,41.857611,41.940775,41.98403669612,41.94454,41.93257633333333,41.922695,42.0,41.90096,41.72,41.8695005,41.857611,41.91812933333333,41.954245,41.936688,41.95096566666667,41.8985866514,41.866095,41.87501,41.89017033333333,41.90096039,41.886024,41.856268,41.889187,41.867227,41.8810317,41.94,41.93758231600629,41.903416166666666,41.886349,41.94009433333333,41.89,41.86722595682,41.795137,41.880958,41.894722,41.809855,41.886875,41.92154,41.903032333333336,41.903222,41.9366884494997,41.8349,41.88461618962,41.89099983333333,41.881032,41.91,41.93132,41.78509714636,41.939743,41.901315,41.89576474564,41.86713683333333,41.961041,41.77,41.9033005,41.9716,41.8839840647265,41.925905,41.93,41.891578,41.887832,41.882664,41.895966,41.9,41.893992,41.97,41.984037,41.894556,41.917805,41.96909,41.856802,41.96,41.838781833333336,41.969466567,41.883668,41.92409085038,41.88448283333334,41.940106,41.89766,41.73247033333333,41.81,41.75,41.902832333333336,41.8,41.940106,41.922167,42.050491,41.940106,41.925905,41.9,41.9406,41.94,41.97840716666666,41.89,41.94018,41.958494,41.94947274088333,41.929546,41.902984,41.87186866666666,41.92,41.90096039,41.90345,41.93314,41.93,42.03966333333333,41.879356,41.909668,41.886976,41.89993001,41.880958,41.857899833333335,41.91447316666667,41.963004,41.75,41.912919,41.8854833079,41.75834316666667,41.9267559875,41.8776415962753,41.88851266666666,41.958494,41.893992,41.89,41.925602,41.95,41.86722595682,41.95,41.892278,41.895769,41.950687,41.91844,41.890812333333336,41.795212,41.872773,41.8851655,41.77,41.90248266666666,42.0208872805206,41.890727,41.94,41.879470833333336,41.94815,41.9324945,41.89,41.920082,41.892278,41.886024,41.9366884494997,41.92533,41.76,41.940011,41.78515566666667,41.97337066666667,41.925608635,41.88338,41.939365,41.925905,41.880422,41.879255,41.94,41.968346333333336,41.903222,41.8847302006,41.913865,41.92,41.89576474564,41.8776415962753,41.795212,41.894993,41.911386,41.90096,41.79172820953,41.91,41.969517,41.91824066666667,41.963004,41.95469,41.880422,41.881770333333336,41.93947775040509,41.928887,41.93,41.87,41.88107766666667,41.890762,41.864059,41.86481616666666,41.891466,41.881319815,41.911722,41.9217095,41.903222,41.872187,41.910619617,41.872773,41.918306,41.92533,41.8810317,41.885483,41.886875,41.926277,41.891847,41.891578,42.016977,41.89,41.910337,41.884678982069246,41.880958,41.902973,41.883668,41.912133,41.872773,41.8854833079,41.8,41.915689,41.943739,41.97,41.940106,41.8813715,41.92462433333333,41.911722,41.93,41.88132,41.88,41.9392905,42.0,41.86500316666667,41.889906,41.857813,41.91,41.945529,41.903119,41.97565066666667,41.94454,41.898969,41.912133,41.90230870122,41.79,41.892278,41.89084704062381,41.889906,41.92962933333333,42.01256011541,41.87146651779,41.92,41.886875,41.891578,41.94,41.94,41.886875,41.93190196886,41.91847816666667,41.926277,41.9,41.949399,41.8810317,41.889899,41.95068,41.81,41.87295,41.929567,41.886024,41.8810317,41.910578,41.922167,41.911386,41.87669683333333,41.880329633634624,41.925905,41.92,41.9,41.894722,41.943709,41.90934166666667,42.0,41.957921,41.93132,41.88,41.903119,41.92626816666667,41.74,41.92215633333333,41.93565016666667,41.886585,41.90142383333333,41.922695,41.91021,41.795212,41.809443,41.90101283333333,41.894503,41.917805,41.89184737210993,41.79,41.929558166666666,41.928773,41.8810317,41.903087166666666,41.81,41.865312,41.93,41.918306,41.98039423475,41.949399,41.911722,41.949473,41.893992,41.891474333333335,41.94018,41.88,41.9,41.87,41.946264,41.866095,41.880419,41.89227066666667,41.90096,41.885466,41.889187,41.9325465,41.91018533333333,41.8765351944122,41.9364968219,41.903222,41.867888,41.92214666666667,41.77,41.892278,41.94056583333333,41.9069615,41.898969,41.894666,41.91021,41.884069,41.898203,41.83,41.95,41.883668,41.870769,41.95,41.96909,41.928887,41.883984,41.8777079559,41.890762,41.84,41.86430933333333,41.965221,41.96385733333334,41.939398,41.8985866514,41.89022683333334,42.019159,41.87,41.922695,41.94,41.799568,41.90230870122,41.88363,41.894722,41.883668,41.883165,41.94007033333333,41.884678982069246,41.89510766666667,41.961004,41.94375566666667,41.79,41.892278,41.896746973093805,41.8810317,41.894503,41.79933626261,41.892278,41.925905,41.943192833333335,41.88286733333333,41.90970266666667,41.8810317,41.8921635,41.93758231600629,41.935838333333336,41.963982,41.867888,41.892278,41.838556,41.877472833333336,41.88917683258,41.925858,41.928887,41.957922833333335,41.939365,42.00797192287,41.92,41.9093960065,41.882242,41.894722,41.89224033333333,41.88592,41.8921705,41.89434513742426,41.918216,41.89993001,41.89084704062381,41.89814716666667,41.92549816666666,41.90096,41.85313333333333,41.80229465088,41.883165,41.99,41.838556,41.892278,41.89179766666667,41.884728,41.874754,41.91050936666395,41.969517,41.92393131136619,41.909396,41.93,41.87,41.910522,41.892278,41.8722015,41.892278,41.87619866666667,41.88917683258,41.9898005,41.892278,41.932588,41.93669483333333,41.928773,41.89675,41.911386,41.946655,41.891466,41.9366884494997,41.88917683258,41.910509,41.89084704062381,41.79933626261,41.885637,41.85308455741279,41.8877,41.79524666666666,41.67068066666667,41.89766,41.877663166666665,41.906724,41.73,41.910337,41.894503,41.87768883333333,41.94454,41.880958,41.894503,41.75094,41.9579375,41.9267559875,41.91751339399,41.910535,41.956057,41.9,41.903388,41.929567,41.88,41.78,42.001177,41.89,41.902973,41.921822,41.85789233333333,41.89,41.907993,41.940106,41.911722,41.864059,41.95,41.79,41.8950085,41.903119,41.946176,41.856802,41.89834583333333,41.880958,41.8643175,41.894779666666665,41.94805916666667,41.743695,41.888716036,41.90985465216731,41.939974166666666,41.925642333333336,41.904613,41.963982,41.911722,41.918306,41.80936833333333,41.957081,41.9032215,41.875661,41.84,41.912616,41.881892,41.967968,41.90096039,41.86722595682,41.881032,41.907066,41.89257,41.963982,41.902973,41.880958,41.961068,41.93638116666666,41.97,41.91,41.94990716666667,41.91999416666667,41.919936,41.87480766666667,41.74,41.95,41.857813,41.95,41.9527415,41.882091,41.893992,41.891264346481535,41.918216,41.87215483333333,41.93,41.93,41.867888,41.94,41.94,41.886875,41.93967666666666,41.87506233333333,41.88132,41.8922865,41.89084704062381,41.945529,41.892278,41.864059,41.872773,41.8,41.954164,41.92,41.867324,41.870769,41.915689,41.86,41.867102333333335,41.97491129677,41.903119,41.96325,41.88416216666667,41.925858,41.73733560041666,41.931248,41.892278,41.867239833333336,41.892466166666665,41.898944166666666,41.91468,41.87,41.864059,41.94,41.78509714636,41.85308455741279,41.95078,41.940113833333335,41.92917283333333,41.903266,41.91468,41.94454,41.909769,41.799568,41.86533933333333,41.8776415962753,41.88444583333333,41.8765351944122,41.805772,41.920082,41.90982366666667,41.79,41.94018,41.892331166666665,42.0504865,41.932418,41.93,41.918306,41.892278,41.932588,41.894218333333335,41.8513751729,41.92409085038,41.909668,41.9,41.89084116666667,41.936462166666665,41.94454,41.876482333333335,41.92411616666666,41.910572,41.939371666666666,41.932588,41.891466,41.867888,41.88338,41.87840666666666,41.97,41.830629,41.9,41.8839840647265,41.903486666666666,41.932448,41.889187,41.892278,41.95,41.89722183333333,41.8810317,41.896746973093805,41.95604616666667,41.918306,41.866095,41.884576228,41.915689,41.802406,41.99,41.91173766666667,41.911386,41.89396216666667,41.928742166666666,41.88,41.94,41.93,41.880958,41.890573,41.906866,41.898587,41.907993,41.88986533333333,41.89484983333333,41.932418,41.965845,41.967096,41.94818566666667,41.872501666666665,41.89804,41.912133,41.922695,41.932418,41.890573,41.94018,41.91050936666395,41.926756,41.886875,41.903266,41.9093960065,41.885637,41.867226,41.88711683333333,41.943739,41.884114,41.9267559875,41.918306,41.870769,41.9,41.90763616666667,41.96913633333333,41.86722595682,41.93258963429789,41.884241,41.802404333333335,42.057044,41.89841768945,41.89,41.93758231600629,41.79,41.89107783333333,41.943739,41.9364968219,41.882664,41.86032983333333,41.89257,41.8810317,41.9392495,41.93,41.9256018819,41.89691,41.88460216666667,41.87,41.928773,41.9716,41.954245,41.8810317,41.877713,41.9394145,41.85377981072743,41.90766533333333,41.87964233333334,41.89257,41.82,41.890762,41.95786652415174,41.8,41.93,41.936083,41.89434513742426,41.92,41.795212,41.931248,41.870785,41.963051666666665,41.9908885,41.91579033333333,41.890173,41.89470833333333,41.876652166666666,41.867324,41.922101,41.877245,41.89399216666666,41.88462107257936,41.900779666666665,41.88110116666667,42.03,41.940775,41.89069466666667,41.8817885,41.88634906269,41.95078,41.97838566666667,41.91552,41.989743,41.918084,41.897448,41.983608833333335,41.915689,41.943403,41.952833,41.892278,41.86722595682,41.78794281287,41.880993,41.973815,41.886875,41.86745583333333,41.894722,41.89257,41.864059,41.73,41.89,41.883165,41.929143,41.89,41.893992,41.92,41.906866,41.892278,41.885837,41.74,41.9,41.87772613,41.9,41.97,41.89634433333333,41.96,41.88198066666666,41.880317,41.7809515,41.926277,41.90096039,41.88040316666667,41.88169,41.96110801623,41.91,41.8923265,41.952735,41.89415266666666,41.903180166666665,41.94081083333333,41.84155916666667,41.966399801840986,41.90345,41.96,41.880958,41.91,42.03,41.9,41.925858,41.8679405,41.886976,41.8941715,41.889187,41.88,41.89691,41.791478,41.911722,41.867888,41.885637,41.918493833333336,41.90348607004,41.884679,41.9013065,41.884181833333336,41.814071166666665,41.866095,41.8776415962753,41.903222,41.9840665,41.842052,41.888243,41.950687,41.74,41.93,41.95078,41.925905,42.058239,41.8839840647265,41.93947775040509,41.85,41.894877,42.057044,41.880422,41.91844,41.911722,41.857556,41.892278,41.88117066666667,41.93306666666667,41.89434513742426,41.907066,41.8,41.902973,41.71221283333333,41.864059,41.91,41.886875,41.85147616666666,41.8,41.95,41.86,41.867888,41.94,41.9031655,41.888243,41.92154,41.920763,41.9001825,41.93758231600629,41.9105780349,41.89891683333333,41.89,41.86798383333333,41.969517,41.931248,41.92628166666667,41.968356,41.901282,41.91570416666666,41.9406,41.876243,41.961588,41.91848216666666,41.886976,41.90096,41.918306,41.77,41.90035566666667,41.890762,41.892278,41.91,41.930447666666666,41.894972,41.9,41.91570183333333,41.921822,41.86,41.886976,41.880958,41.85,41.885637,41.79,41.94,41.857723666666665,41.902707,41.88453716666667,41.89564516666667,42.048214,41.85308455741279,41.8797877089,41.92,41.92,41.886976,41.872596,41.73,41.658413,41.907655,41.939398,41.94450883333333,41.8,41.88338,41.94,42.050491,41.881892,41.943739,41.915689,41.9803665,41.884728,41.911722,41.781016,41.91769116666666,41.88912866666666,41.78091096424803,41.85380233333333,41.90096,41.8756065,41.90230870122,41.929143,41.92,41.8582155,41.879472,41.94802166666667,41.8955155,41.895769,41.886024,41.98974251144,41.92,41.94365316666666,41.89,41.93,41.89831983333333,41.857499,41.89102331025185,41.897484166666665,41.883984,41.9105780349,41.894877,41.928712,41.85795,41.932225,41.892278,41.95469,41.883128166666665,41.966399801840986,41.88,41.83010465416,41.880958,41.867888,41.943739,41.91793883333333,41.867888,41.94815,41.89041616666667,41.917513,41.957081,41.97,41.887935,41.913865,41.882242,41.78663233333333,41.795212,41.8378,41.87943409140013,41.870816,41.92922716666666,41.90108433333333,41.892246166666666,41.86722595682,41.95078033333333,41.899181,41.88,41.883668,41.866095,41.915678166666666,41.903222,41.877181,41.878734666666666,41.910621,41.94367,41.95428166666667,41.8810317,41.928773,41.8797877089,41.898418,41.96167,41.889187,41.884616,41.882664,41.89841768945,41.77372095205,41.885837,41.967968,41.89854666666667,41.86,41.8981085,41.79,41.79,41.83821816666666,41.910522,42.0,41.90230870122,41.926277,41.8870905,41.9105780349,41.89084704062381,41.96159633333333,41.88,41.894722,41.9207595,41.883984,41.87943409140013,41.886976,41.866095,41.95,41.89,41.9,41.89,41.87772613,41.929546,41.886024,42.001085,41.8921615,41.8513751729,41.887721062,41.94367,41.881032,41.925905,41.94018,41.88602082773,41.929453,41.89257,41.9366884494997,41.89084704062381,41.88696216666666,41.911356,41.961406,41.7664094567,41.874053,41.881319815,41.876243,41.8810317,41.9267559875,41.892278,42.01213227742,41.882134,41.9579695,41.8835755,41.903222,41.8,41.91,41.79,41.91050936666395,41.885837,41.88190316666667,41.94524356848,41.940775,41.89993001,41.872773,41.90976930169,41.95,41.89220183333333,41.9,41.900363,41.865312,41.97165,41.8985866514,41.89845483333333,41.95,41.926277,41.894503,41.921822,41.90939866666667,41.94,41.973815,41.967096,41.816499,41.95078,41.9560385,41.90345,41.8671177825,41.894556,41.885515833333336,41.79526283333333,41.940106,41.880676,41.91848083333333,41.892278,41.912133,41.864883,41.9,41.96,41.883984,41.86722595682,41.911722,41.978019,41.867227,41.94815,41.93,41.945529,41.91017983333333,41.907626,41.915983,41.915741,41.89637337,41.894503,41.9256018819,41.9,41.902973,41.88917683258,41.870531166666666,41.880958,41.8810317,41.888716036,41.8765351944122,41.805772,41.880958,41.880958,41.886875,41.96,41.93,41.884241,41.88,41.90348607004,41.872773,41.89,41.864883,41.89477383333333,41.894503,41.89,41.78101637196,41.88,41.894877,41.89241016666666,41.93,41.883668,41.903222,41.865234,41.791478,41.92533,41.940106,41.889906,41.93947775040509,41.897448,41.900298357,41.97,41.87947235235,41.91844,41.94,41.925905,41.891466,41.78,41.93669466666667,41.94,41.943645333333336,41.88602082773,41.856268,41.90284866666666,41.89084704062381,41.968812,41.9586275,41.867888,41.94326133333333,41.945529,41.8671115,41.954383,41.902687,41.8513751729,41.9364968219,41.90348607004,41.907655,41.957081,41.910522,41.819102,41.86722595682,41.926277,41.892278,41.867042,41.92154,41.935901666666666,41.94,41.892278,41.91832716666666,41.834733166666666,41.967094,42.058239,41.882134,41.884114,41.918084,41.924156,41.9542845,41.939328833333335,41.894722,41.901246,41.8797877089,41.94,41.891264,41.896746973093805,41.894345,41.86722595682,41.89766,41.89075983333333,41.87,41.86726066666667,41.921822,41.9077735,41.949222166666665,41.892278,41.93132,41.92154,41.96948116666667,41.867227,41.928712,41.79,41.96835449363,41.926277,41.88461618962,41.883984,41.954245,41.93758231600629,41.902973,41.926277,41.8,41.89257,41.86722595682,41.79,41.92393131136619,41.8830015,41.892278,41.926277,41.92920033333333,41.902973,41.91844,41.879255,41.94815,41.907781,41.94454,41.83826366666667,41.885483,41.79172820953,41.91266533333334,41.915983,41.91,41.8839840647265,41.860384,41.87651122881695,41.906724,41.926277,41.90230870122,41.910449166666666,41.889906,41.93132,41.983593,41.87624366666667,41.886935666666666,41.88949181977,42.01,41.88,41.952833,41.79516916666667,41.90316383333333,41.895871666666665,41.911722,42.01,41.906866,42.02360733333333,41.91468,41.89121866666667,41.893992,41.903222,41.932588,41.915689,41.892240666666666,42.00104377979,41.867888,41.851375,41.922677166666666,41.9066695,41.931885,41.867888,41.911974,41.87943409140013,41.911722,41.96,41.90324133333333,41.791478,41.7,41.93,41.91292683333333,41.78,41.90068,42.0,41.867491,41.8839840647265,41.912991833333336,41.958494,41.85319,41.903119,41.915689,41.938429,41.90345,41.93051183333333,41.8810317,41.932588,41.911722,41.96,41.881892,41.88589966666667,41.958494,41.897448,41.90230870122,41.872149666666665,41.880317,41.92154,41.92393131136619,41.87785,41.954245,41.87785,41.92268216666667,41.86,41.89474083333333,41.893992,41.907066,42.016977,41.93132,41.866095,41.9,41.90345,41.86798766666666,41.891701,41.973816,41.9362534831413,41.890898666666665,41.7,41.963982,41.870769,41.901153666666666,41.89,41.78794281287,41.87651122881695,41.96164183333333,41.91469683333333,41.9200005,41.79147716666667,41.94452316666667,41.9040605,41.94454,41.90096,41.867888,41.94454,41.83880466666667,41.909769,41.9658515,41.89576474564,41.902973,41.89993001,41.897764,41.881032,41.87,41.91416083333333,41.779835,41.77,41.907993,41.892278,41.892278,41.91402671273,41.883073,41.8,41.963982,41.893992,41.961004,41.8839840647265,41.88113916666666,41.92463247165,41.94815,41.898203,41.85476416666667,41.968885,41.881032,41.911722,41.9215105,41.883668,41.890762,41.705307996998194,41.892323833333336,41.864059,41.891264346481535,41.89,41.89766,41.867888,41.95792433333333,41.88,41.98974251144,41.94548133333333,41.856303833333335,41.892278,41.909668,41.9364968219,41.954608,41.881032,41.883619333333336,41.892048,41.870104,41.866129,41.87785,41.931248,41.65186780228521,41.894666,41.88590533333333,41.967968166666665,41.917741,41.884241,41.961004,41.94367,41.9218385,41.89766,41.892278,41.880958,41.911722,41.95,41.918306,41.880958],\"legendgroup\":\"casual\",\"lon\":[-87.634633,-87.676842212677,-87.619521,-87.676842212677,-87.64410133333334,-87.636438,-87.677821,-87.69,-87.638181,-87.72,-87.62994516666667,-87.6738045,-87.65295433333333,-87.6153553902,-87.666055,-87.649505,-87.62579833333334,-87.62408432,-87.62390666666667,-87.62058019638062,-87.656952,-87.6601406209,-87.64098107814789,-87.75,-87.66402,-87.649077,-87.626804,-87.6678554713726,-87.654529,-87.62408,-87.697668,-87.664169,-87.64332466666667,-87.641823,-87.63682901859283,-87.651062,-87.612043,-87.64883,-87.70190416666667,-87.6010727606,-87.63128,-87.625125,-87.679618,-87.630834,-87.72,-87.64,-87.658139,-87.60129883333333,-87.64940866666667,-87.62455,-87.654529,-87.687275,-87.696704,-87.637536,-87.6,-87.6308760584,-87.698007756,-87.667747,-87.612043,-87.66402,-87.677335,-87.7080519806,-87.63153933333334,-87.65467733333334,-87.6444478533,-87.643353,-87.617854,-87.63089233333334,-87.587782,-87.64414,-87.632326,-87.6480995,-87.64416333333334,-87.6776919292,-87.639904,-87.64856416666666,-87.66386666666666,-87.65,-87.67,-87.6440978050232,-87.6658,-87.64867,-87.62054800987242,-87.63193130493164,-87.630834,-87.67753,-87.67,-87.627844,-87.6246839761734,-87.6970715,-87.643118,-87.656936,-87.62592416666666,-87.63113783333333,-87.66151966666666,-87.6537080423,-87.65375333333333,-87.667429,-87.67097,-87.64642633333334,-87.6191537415,-87.64852866666666,-87.6071,-87.668507,-87.638742,-87.636282,-87.69,-87.69779166666666,-87.638437,-87.674237,-87.62054800987242,-87.64651133333334,-87.62408432,-87.638566,-87.62397116666666,-87.608882,-87.638742,-87.636282,-87.621743,-87.612148,-87.638951,-87.63502333333334,-87.60735,-87.632326,-87.638742,-87.63581333333333,-87.626804,-87.653818,-87.68,-87.629318,-87.625961,-87.77,-87.63232533333333,-87.6435,-87.580715,-87.62279838323593,-87.623981,-87.658494949,-87.679618,-87.64,-87.65464116666666,-87.617867,-87.6346,-87.625734,-87.63089,-87.648789,-87.682017,-87.672069,-87.65271416666667,-87.66811183333333,-87.59473033333333,-87.634429,-87.64645278453827,-87.74,-87.6624120948,-87.62377664,-87.654264,-87.616743,-87.625961,-87.62639666666666,-87.638973,-87.65295116666667,-87.626804,-87.67,-87.76,-87.6346,-87.64,-87.65422033333333,-87.68016144633293,-87.664358,-87.62054800987242,-87.65114,-87.631929,-87.63166633333333,-87.63582453131676,-87.622072,-87.62,-87.64890333333334,-87.6346605,-87.646795,-87.626761,-87.6385057718,-87.6814205,-87.625961,-87.669154,-87.6346,-87.61676016666667,-87.61861681938171,-87.66382133333333,-87.631942,-87.6540612729,-87.6346,-87.6530025,-87.66,-87.648384,-87.64907216666667,-87.6412225,-87.63,-87.627690528,-87.64,-87.627690528,-87.57274031639099,-87.629318,-87.658617,-87.65027866666667,-87.62058,-87.73,-87.684781,-87.69265919923781,-87.580763,-87.6346,-87.669807,-87.63128,-87.638181,-87.634324,-87.64867,-87.72,-87.54,-87.6295209193,-87.63483,-87.630834,-87.71022096276283,-87.707857,-87.62037883333333,-87.63333866666666,-87.6823890209198,-87.612043,-87.612043,-87.59990883333333,-87.634324,-87.631091,-87.63487783333333,-87.64,-87.63547986745834,-87.69147916666667,-87.68,-87.63866533333334,-87.6680471047,-87.673895,-87.6346,-87.625125,-87.643118,-87.63483,-87.6153553902,-87.651062,-87.74,-87.65325483333334,-87.621743,-87.654406,-87.67255516666667,-87.71,-87.58,-87.71,-87.63,-87.63545016666667,-87.67425066666667,-87.627691,-87.6308760584,-87.638566,-87.623041,-87.7,-87.62,-87.64405733333334,-87.587782,-87.653106,-87.622072,-87.70785766666667,-87.62408432,-87.631697,-87.6,-87.619407,-87.71,-87.6511,-87.65,-87.6241385,-87.616743,-87.61,-87.64332,-87.629912,-87.60813266666666,-87.624684,-87.63,-87.66349133333334,-87.6445705849,-87.636427,-87.74,-87.634324,-87.62408432,-87.623981,-87.631697,-87.60736816666666,-87.649428,-87.596471,-87.658865,-87.65304,-87.64855016666667,-87.65847283333333,-87.649603,-87.63632683333333,-87.62204066666666,-87.661535,-87.69252583333333,-87.657659,-87.654529,-87.659164,-87.6346,-87.607267,-87.623041,-87.63,-87.648043,-87.645451,-87.653449,-87.61,-87.667747,-87.6480805,-87.653833,-87.668507,-87.612043,-87.62110183333333,-87.67423033333333,-87.63639,-87.62975966666667,-87.68,-87.631697,-87.67250316666667,-87.7018089555,-87.6153553902,-87.67722,-87.6235845,-87.66984133333334,-87.79,-87.74,-87.653818,-87.638742,-87.6219152258,-87.638973,-87.654678,-87.639474,-87.639904,-87.6639615,-87.663576,-87.637715,-87.607267,-87.664358,-87.652705,-87.62603,-87.6153553902,-87.679618,-87.612043,-87.68,-87.66846683333333,-87.663576,-87.62047290802002,-87.6533775,-87.623981,-87.624426,-87.6,-87.63,-87.648911,-87.64,-87.683825,-87.648789,-87.6121535,-87.659172,-87.64776,-87.69,-87.612813,-87.661206,-87.65,-87.653818,-87.66402,-87.67358533333334,-87.69,-87.64980616666666,-87.62603,-87.621915,-87.616743,-87.671473,-87.64414,-87.619561,-87.64317583333333,-87.643749,-87.7,-87.64939383333333,-87.65222,-87.601334,-87.62635833333333,-87.627754,-87.6865960164,-87.62377664,-87.63547986745834,-87.63446216666667,-87.616743,-87.627754,-87.653833,-87.67707483333334,-87.669154,-87.6259080327,-87.656952,-87.687022,-87.72,-87.612043,-87.6153553902,-87.62058019638062,-87.642884,-87.638437,-87.63219,-87.65,-87.68016144633293,-87.65966,-87.68,-87.630834,-87.63214833333333,-87.69,-87.69,-87.648755,-87.648494,-87.63902133333333,-87.631942,-87.66,-87.6445705849,-87.677855,-87.67493,-87.612043,-87.67,-87.63219,-87.7063037436,-87.614492,-87.63,-87.658617,-87.62,-87.62,-87.67367083333333,-87.68016144633293,-87.64805216666667,-87.67841033333333,-87.662466,-87.67,-87.640552,-87.72,-87.638888,-87.616743,-87.5970051479,-87.656936,-87.6435,-87.624117,-87.6971395,-87.617,-87.6009581145,-87.643118,-87.63128,-87.6431495,-87.71667283333333,-87.683485,-87.59877416666667,-87.631942,-87.695439,-87.66993016004562,-87.658421,-87.643118,-87.634324,-87.73,-87.69742280244827,-87.62408432,-87.7,-87.6,-87.62058019638062,-87.64129,-87.677432,-87.648128,-87.64961779117584,-87.638566,-87.6722,-87.63,-87.67,-87.66793316666667,-87.71,-87.64424033333333,-87.69873883333334,-87.66993016004562,-87.607267,-87.63483,-87.634656,-87.654678,-87.678435,-87.6677,-87.64617633333333,-87.667429,-87.612043,-87.616743,-87.630834,-87.64850616666666,-87.55,-87.654127,-87.654529,-87.62804916666667,-87.659172,-87.6860505,-87.6444478533,-87.66402,-87.6484798752,-87.62408432,-87.61,-87.626021,-87.62603,-87.63483,-87.58,-87.629318,-87.6336635,-87.624684,-87.6601406209,-87.626804,-87.62054800987242,-87.64,-87.619407,-87.649077,-87.6588705,-87.625734,-87.64851783333333,-87.62,-87.599034,-87.689556,-87.63,-87.64332,-87.66394,-87.696287,-87.625813,-87.652662,-87.625961,-87.616743,-87.65295416666666,-87.67146066666666,-87.612043,-87.63309716666667,-87.64926,-87.61,-87.63682901859283,-87.6485965,-87.623041,-87.64,-87.71,-87.66599883333333,-87.6,-87.623777,-87.649077,-87.65018766666667,-87.639192,-87.620548,-87.625125,-87.61,-87.68,-87.66579816666666,-87.65304,-87.599861,-87.642746,-87.649993,-87.629912,-87.66,-87.62911333333334,-87.6523048564,-87.630427,-87.652775,-87.612813,-87.63838116666666,-87.623041,-87.64,-87.625734,-87.65,-87.668085,-87.618691,-87.640552,-87.707925,-87.69,-87.654127,-87.64,-87.63219,-87.65304,-87.612043,-87.6308760584,-87.61803033333334,-87.6554864,-87.658139,-87.616743,-87.62996683333333,-87.681391,-87.668835,-87.62,-87.614492,-87.644336,-87.661406,-87.68,-87.668507,-87.63953,-87.62058,-87.626804,-87.656952,-87.629318,-87.674237,-87.634266,-87.652705,-87.626396894,-87.607267,-87.639573,-87.705126462,-87.636397,-87.61,-87.661501,-87.630834,-87.6246839761734,-87.643118,-87.61882133333333,-87.612043,-87.62,-87.64169722795485,-87.623981,-87.630834,-87.658751,-87.636427,-87.60583609342575,-87.71,-87.6475386582,-87.650154,-87.634266,-87.672552,-87.659753,-87.56459733333334,-87.75,-87.62407033333334,-87.65307433333334,-87.63547986745834,-87.62408432,-87.62685033333334,-87.63,-87.5864608775,-87.626804,-87.63552033333333,-87.69,-87.625125,-87.649603,-87.6494585,-87.687288,-87.627716,-87.71288573741913,-87.647071,-87.677856,-87.615506,-87.64825833333333,-87.63128,-87.62603,-87.679618,-87.617854,-87.583945009,-87.6256886059,-87.63110233333333,-87.631697,-87.623981,-87.627754,-87.66,-87.63233183333334,-87.6491135,-87.59,-87.64,-87.63,-87.67253366666667,-87.612043,-87.65222,-87.663576,-87.66808933333333,-87.6732475,-87.632504,-87.68231916666667,-87.634266,-87.63096016666667,-87.668745,-87.67,-87.62247733333334,-87.62279838323593,-87.72,-87.621857,-87.630834,-87.6860796243,-87.6206665,-87.635185,-87.62351,-87.620548,-87.613348,-87.629634,-87.616743,-87.66713116666666,-87.62,-87.65923716666667,-87.63582453131676,-87.72,-87.629351,-87.607267,-87.63928216666666,-87.678435,-87.65849483333334,-87.634656,-87.673935,-87.67,-87.663576,-87.6893070063,-87.648384,-87.617517,-87.7,-87.62377664,-87.612043,-87.61677183333333,-87.649993,-87.697153,-87.617839,-87.638973,-87.62408,-87.63579333333334,-87.61677283333333,-87.711561,-87.62,-87.612043,-87.658617,-87.658617,-87.616743,-87.62,-87.627754,-87.635491,-87.64429766666666,-87.638973,-87.65478743,-87.612836,-87.649807,-87.623777,-87.6602845349,-87.646439,-87.64190666666667,-87.72,-87.6637075,-87.65231,-87.6440978050232,-87.62058,-87.626804,-87.61410483333333,-87.6256886059,-87.629926,-87.627690528,-87.62377664,-87.647616,-87.6433534936,-87.63162716666666,-87.62351,-87.62721416666666,-87.67714133333334,-87.66740916666667,-87.6317305,-87.62925316666667,-87.64763766666667,-87.586395,-87.63,-87.623981,-87.667855,-87.62279838323593,-87.612043,-87.63629166666666,-87.70586533333334,-87.64664,-87.63089,-87.625689,-87.607852,-87.62408432,-87.624684,-87.6433534936,-87.65885083333333,-87.65102460980414,-87.630834,-87.646453,-87.613533,-87.65966,-87.612043,-87.67,-87.616743,-87.62777933333334,-87.76,-87.64895,-87.67765283333334,-87.6961625,-87.61219016666666,-87.613348,-87.653833,-87.65222,-87.635825,-87.619521,-87.62990183333334,-87.636618,-87.656936,-87.634656,-87.63956033333334,-87.6317765,-87.66,-87.648128,-87.669807,-87.63682901859283,-87.716755,-87.6823890209198,-87.64413133333333,-87.63483,-87.65,-87.64332416666667,-87.634362,-87.654529,-87.6680471047,-87.69,-87.612043,-87.623733,-87.632326,-87.612043,-87.6297715,-87.77,-87.650154,-87.61958216666666,-87.631584,-87.64169722795485,-87.67842,-87.631172,-87.6537595,-87.649505,-87.63128,-87.668889,-87.64880966666666,-87.612043,-87.6305845355,-87.66717,-87.616743,-87.68668483333333,-87.62603,-87.57647616666667,-87.658139,-87.616743,-87.65235533333333,-87.65273433333333,-87.77,-87.7,-87.63510583333333,-87.60808583333333,-87.658617,-87.6822945,-87.679618,-87.619407,-87.639192,-87.6523104689,-87.654678,-87.63642166666666,-87.697153,-87.66,-87.623777,-87.62,-87.67351666666667,-87.619407,-87.6437515,-87.654406,-87.636829,-87.659157,-87.6219152258,-87.607267,-87.67328,-87.634161,-87.62377664,-87.624117,-87.613348,-87.627754,-87.625961,-87.62408432,-87.65,-87.6440978050232,-87.64322633333333,-87.617517,-87.64543916666666,-87.64,-87.6153553902,-87.58084516666666,-87.616743,-87.634362,-87.606755,-87.62603,-87.653818,-87.69748483333333,-87.634324,-87.63682901859283,-87.61793,-87.6445705849,-87.63539216666666,-87.624084,-87.68,-87.638742,-87.6010727606,-87.658865,-87.677409,-87.6259080327,-87.62605416666666,-87.705866,-87.58,-87.67841083333333,-87.650154,-87.6246839761734,-87.64926,-87.65,-87.648384,-87.755527,-87.63253,-87.667747,-87.73,-87.629318,-87.67,-87.65231,-87.653449,-87.682437,-87.674237,-87.633879,-87.65,-87.62186666666666,-87.654737473,-87.64867,-87.6764600747,-87.62749866666667,-87.645451,-87.62351,-87.65806333333333,-87.61,-87.57,-87.6346055,-87.61,-87.645451,-87.638888,-87.677821,-87.645451,-87.64926,-87.63,-87.6785,-87.66,-87.6597815,-87.65,-87.65304,-87.654966,-87.64645278453827,-87.643118,-87.68377983333333,-87.64658783333333,-87.72,-87.62377664,-87.667747,-87.64776,-87.66,-87.699438,-87.629791,-87.648128,-87.612813,-87.63443007,-87.616743,-87.6408505,-87.66793283333334,-87.684781,-87.65,-87.664169,-87.6523048564,-87.614195,-87.6344287848,-87.64961779117584,-87.627236,-87.654966,-87.629318,-87.66,-87.653708,-87.65,-87.6153553902,-87.71,-87.612043,-87.67722,-87.6687,-87.65222,-87.61818183333334,-87.580715,-87.623981,-87.63160133333334,-87.64,-87.63176766666666,-87.66505792737007,-87.63182333333333,-87.75,-87.6398605,-87.66394,-87.636499,-87.64,-87.677855,-87.612043,-87.624117,-87.63682901859283,-87.6658,-87.55,-87.6529805,-87.6010865,-87.667866,-87.658532262,-87.64117,-87.668385,-87.64926,-87.642746,-87.639904,-87.64,-87.71188216666667,-87.634324,-87.6277335692,-87.648755,-87.66,-87.6259080327,-87.64961779117584,-87.580715,-87.63181183333333,-87.638677,-87.623777,-87.583945009,-87.76,-87.654691,-87.6363285,-87.684781,-87.67393,-87.642746,-87.64134116666666,-87.6637476682663,-87.658971,-87.74,-87.71,-87.62922033333334,-87.631697,-87.623727,-87.647085,-87.626761,-87.6295209193,-87.626804,-87.65374966666667,-87.634324,-87.661501,-87.649469018,-87.623981,-87.636282,-87.6658,-87.62408432,-87.652305,-87.62603,-87.630834,-87.62058,-87.648384,-87.677725,-87.67,-87.670072,-87.62797504663467,-87.616743,-87.63128,-87.64867,-87.634656,-87.623981,-87.6523048564,-87.59,-87.6346,-87.66402,-87.7,-87.645451,-87.6240225,-87.689275,-87.626804,-87.67,-87.629521,-87.62,-87.66825583333333,-87.7,-87.65696416666667,-87.634266,-87.62455,-87.68,-87.646439,-87.673935,-87.701441,-87.654678,-87.629912,-87.634656,-87.627690528,-87.6,-87.612043,-87.61861681938171,-87.634266,-87.6430895,-87.6743671152,-87.6409491327,-87.7,-87.62603,-87.648384,-87.64,-87.69,-87.62603,-87.7011951301,-87.6521245,-87.630834,-87.69,-87.654529,-87.62408432,-87.671473,-87.66862783333333,-87.6,-87.66913,-87.707857,-87.624117,-87.62408432,-87.649422,-87.638888,-87.638677,-87.6444415,-87.64274597167967,-87.64926,-87.65,-87.62,-87.634362,-87.648931,-87.67770983333334,-87.67,-87.673567,-87.638742,-87.65,-87.673935,-87.63091866666667,-87.56,-87.63892183333333,-87.66366333333333,-87.65840183333333,-87.6775425,-87.697153,-87.6435,-87.580715,-87.591875,-87.62361733333333,-87.617854,-87.682437,-87.62058019638062,-87.6,-87.70787616666667,-87.663913,-87.62408432,-87.63473633333334,-87.6,-87.617867,-87.65,-87.636282,-87.7161149615,-87.654529,-87.626804,-87.646453,-87.629318,-87.62668466666666,-87.65304,-87.7,-87.77,-87.61,-87.731023,-87.607267,-87.655519,-87.61222616666667,-87.623777,-87.6523,-87.627754,-87.63634883333333,-87.68240133333333,-87.62047290802002,-87.6475386582,-87.634324,-87.623041,-87.63890566666667,-87.61,-87.612043,-87.678563,-87.66725033333333,-87.629912,-87.638437,-87.6435,-87.656853,-87.637536,-87.63,-87.65,-87.64867,-87.625734,-87.67,-87.674237,-87.658971,-87.624684,-87.6353211408,-87.631697,-87.63,-87.6236575,-87.658139,-87.63812333333334,-87.711561,-87.6219152258,-87.63410383333333,-87.673573,-87.71,-87.697153,-87.65,-87.594747,-87.627690528,-87.6485735,-87.634362,-87.64867,-87.6511,-87.64552683333334,-87.62797504663467,-87.62652033333333,-87.649603,-87.64897566666667,-87.72,-87.612043,-87.63566762208939,-87.62408432,-87.617854,-87.6009581145,-87.612043,-87.64926,-87.67088666666666,-87.66119866666666,-87.6480875,-87.62408432,-87.61200583333333,-87.6440978050232,-87.67842216666666,-87.638181,-87.623041,-87.612043,-87.608218,-87.63526383333334,-87.6385057718,-87.638973,-87.658971,-87.67359716666667,-87.668385,-87.6655023944,-87.63,-87.6776919292,-87.641066,-87.634362,-87.611854,-87.66717,-87.6119715,-87.62279838323593,-87.656936,-87.63443007,-87.61861681938171,-87.637441,-87.653714,-87.623777,-87.63190133333333,-87.6180535802,-87.6511,-87.66,-87.608218,-87.612043,-87.658847,-87.619521,-87.649807,-87.6823890209198,-87.654691,-87.63582453131676,-87.677692,-87.65,-87.64,-87.653106,-87.612043,-87.6295945,-87.612043,-87.62450866666667,-87.6385057718,-87.66006116666667,-87.612043,-87.636427,-87.63684816666667,-87.663913,-87.63089,-87.638677,-87.683359,-87.626761,-87.63682901859283,-87.6385057718,-87.682389,-87.61861681938171,-87.6009581145,-87.641823,-87.63193130493164,-87.76546733333333,-87.58077366666667,-87.622728,-87.62351,-87.64940083333333,-87.63483,-87.65,-87.670072,-87.617854,-87.63496616666667,-87.654678,-87.616743,-87.617854,-87.61379,-87.64946883333333,-87.6344287848,-87.7018089555,-87.689556,-87.668835,-87.68,-87.6678715,-87.707857,-87.63,-87.6,-87.66131583333333,-87.63,-87.63128,-87.64414,-87.62446,-87.64,-87.631501,-87.645451,-87.626804,-87.623727,-87.64,-87.59,-87.6343905,-87.673935,-87.673308,-87.633879,-87.68664166666667,-87.616743,-87.6235535,-87.63430733333334,-87.664063,-87.634089,-87.6444478533,-87.66993016004562,-87.65305316666667,-87.65853116666666,-87.640552,-87.638181,-87.626804,-87.636282,-87.59184766666667,-87.664199,-87.6679175,-87.640707,-87.73,-87.681391,-87.648789,-87.650001,-87.62377664,-87.6153553902,-87.624084,-87.667252,-87.614492,-87.638181,-87.63128,-87.616743,-87.695439,-87.6526595,-87.7,-87.71,-87.7139825,-87.648843,-87.64883,-87.6498065,-87.56,-87.66,-87.62455,-87.83,-87.64996966666666,-87.639833,-87.629318,-87.676842212677,-87.656936,-87.6295105,-87.65,-87.66,-87.623041,-87.69,-87.66,-87.62603,-87.65890083333333,-87.6331245,-87.629521,-87.612128,-87.61861681938171,-87.646439,-87.612043,-87.623727,-87.623981,-87.58,-87.65441966666667,-87.7,-87.648625,-87.625734,-87.6346,-87.71,-87.625922,-87.6925025594,-87.673935,-87.679258,-87.65689833333333,-87.638973,-87.54851460456847,-87.644336,-87.612043,-87.6153565,-87.612323,-87.62992366666667,-87.64332,-87.62,-87.623727,-87.64,-87.6010727606,-87.63193130493164,-87.659172,-87.64556366666666,-87.64915166666667,-87.678435,-87.64332,-87.654678,-87.70528,-87.594747,-87.61788166666666,-87.64961779117584,-87.61969066666667,-87.62047290802002,-87.592464,-87.677855,-87.705345,-87.63,-87.65304,-87.61201666666666,-87.67779466666667,-87.652705,-87.68,-87.636282,-87.612043,-87.636427,-87.618421,-87.6188346489,-87.6764600747,-87.648128,-87.68,-87.61840533333333,-87.64767733333333,-87.654678,-87.62033916666667,-87.67645666666667,-87.68964183333334,-87.66380416666667,-87.636427,-87.626761,-87.623041,-87.64117,-87.64136416666666,-87.74,-87.64129,-87.69,-87.6246839761734,-87.66783116666667,-87.65276183333333,-87.627754,-87.612043,-87.69,-87.6216325,-87.62408432,-87.63566762208939,-87.668905,-87.636282,-87.607267,-87.63188991,-87.6346,-87.586924,-87.68,-87.626843,-87.638677,-87.64205883333334,-87.65379733333333,-87.62,-87.65,-87.68,-87.616743,-87.622072,-87.626217,-87.621915,-87.631501,-87.6342815,-87.6344945,-87.652705,-87.645361,-87.667429,-87.66391616666667,-87.63379366666666,-87.63747233333333,-87.634656,-87.697153,-87.652705,-87.622072,-87.65304,-87.6823890209198,-87.634429,-87.62603,-87.678435,-87.6776919292,-87.641823,-87.615355,-87.61281266666667,-87.66402,-87.654264,-87.6344287848,-87.636282,-87.625734,-87.63,-87.67263283333334,-87.67413616666667,-87.6153553902,-87.66593635082245,-87.629634,-87.586946,-87.686554,-87.6865960164,-87.63,-87.6440978050232,-87.6,-87.66674833333333,-87.66402,-87.6475386582,-87.63253,-87.62578166666667,-87.614492,-87.62408432,-87.66834816666666,-87.75,-87.6537080423,-87.621743,-87.70633016666666,-87.67,-87.663913,-87.650154,-87.654406,-87.62408432,-87.6239605,-87.71162183333334,-87.6466029882431,-87.67259883333334,-87.640029,-87.614492,-87.6,-87.631697,-87.64950513839722,-87.59,-87.65,-87.669807,-87.62279838323593,-87.71,-87.580715,-87.644336,-87.63110666666667,-87.68480566666666,-87.6697185,-87.63463183333333,-87.626185,-87.6323085,-87.64419333333333,-87.648625,-87.63899183333334,-87.639366,-87.64184766666666,-87.62783423066139,-87.66262383333333,-87.61670983333333,-87.71,-87.639192,-87.618187,-87.63951633333333,-87.6175165471,-87.659172,-87.65975716666667,-87.687022,-87.660141,-87.643749,-87.628722,-87.66908016666666,-87.6346,-87.679618,-87.649993,-87.612043,-87.6153553902,-87.5883151702,-87.616732,-87.65966,-87.62603,-87.6486585,-87.634362,-87.614492,-87.623727,-87.63,-87.66,-87.6511,-87.649077,-87.63,-87.629318,-87.74,-87.626217,-87.612043,-87.6355,-87.63,-87.7,-87.65478743,-87.62,-87.67,-87.65408366666666,-87.73,-87.62515016666667,-87.635185,-87.576225,-87.630834,-87.62377664,-87.64272033333333,-87.63953,-87.7289701012,-87.62,-87.61221583333334,-87.6500665,-87.62912516666667,-87.634734,-87.6391795,-87.6575895,-87.68870428204536,-87.667747,-87.68,-87.616743,-87.65,-87.68,-87.69,-87.638973,-87.62301266666667,-87.612813,-87.61848033333334,-87.627754,-87.76,-87.621743,-87.599861,-87.626804,-87.623041,-87.641823,-87.69739916666667,-87.6433534936,-87.627975,-87.67757483333334,-87.624526,-87.5970495,-87.607267,-87.64961779117584,-87.634324,-87.660268,-87.617,-87.63639,-87.6687,-87.53,-87.64,-87.659172,-87.64926,-87.677432,-87.6246839761734,-87.6637476682663,-87.7,-87.632326,-87.686554,-87.642746,-87.65222,-87.626804,-87.661535,-87.612043,-87.616783,-87.64770033333333,-87.62279838323593,-87.667252,-87.6,-87.63128,-87.66773916666666,-87.623727,-87.72,-87.62603,-87.61892516666667,-87.59,-87.69,-87.62,-87.623041,-87.72,-87.66788716666667,-87.63639,-87.653818,-87.66374683333333,-87.6430595,-87.6440978050232,-87.6494219288,-87.629806,-87.65,-87.62309266666666,-87.654691,-87.644336,-87.63096583333333,-87.71184233333334,-87.67740483333333,-87.63457966666667,-87.6785,-87.624426,-87.666036,-87.652268,-87.612813,-87.623777,-87.636282,-87.65,-87.69666216666667,-87.631697,-87.612043,-87.68,-87.7237775,-87.63442716666667,-87.68,-87.63460866666667,-87.64414,-87.62,-87.612813,-87.616743,-87.69,-87.641823,-87.6,-87.79,-87.61955483333334,-87.70922,-87.6442465,-87.67704716666667,-87.683485,-87.63193130493164,-87.686112808,-87.75,-87.68,-87.612813,-87.633502,-87.65,-87.610711,-87.672552,-87.711561,-87.6548125,-87.6,-87.64117,-87.65,-87.677821,-87.648789,-87.66402,-87.6346,-87.7161395,-87.619521,-87.626804,-87.57612,-87.6914365,-87.6385105,-87.57632374763489,-87.6465985,-87.623777,-87.63172933333334,-87.627690528,-87.649077,-87.64,-87.6564625,-87.625689,-87.6639095,-87.62677966666666,-87.67722,-87.624117,-87.6601406209,-87.63,-87.6488905,-87.65,-87.8,-87.62262866666667,-87.646277,-87.63547986745834,-87.623353,-87.624684,-87.6494219288,-87.632326,-87.653833,-87.640826,-87.658617,-87.612043,-87.67393,-87.6510015,-87.68870428204536,-87.65,-87.6702983089,-87.616743,-87.623041,-87.66402,-87.6520855,-87.623041,-87.66394,-87.61800933333333,-87.701809,-87.664199,-87.69,-87.63729866666667,-87.648755,-87.641066,-87.65586833333333,-87.580715,-87.65114,-87.63550400733948,-87.631246,-87.649111,-87.62377916666667,-87.612184,-87.6153553902,-87.6591865,-87.6722,-87.63,-87.64867,-87.607267,-87.6870105,-87.634324,-87.627844,-87.629977,-87.65310733333334,-87.64895,-87.65444666666667,-87.62408432,-87.663913,-87.686112808,-87.686596,-87.65464,-87.627754,-87.644571,-87.63253,-87.6865960164,-87.60563486,-87.6355,-87.650001,-87.62206283333333,-87.68,-87.63760416666666,-87.6,-87.6,-87.645186,-87.653106,-87.68,-87.627690528,-87.630834,-87.61277333333334,-87.6494219288,-87.61861681938171,-87.65462383333333,-87.63,-87.634362,-87.66374683333333,-87.624684,-87.63550400733948,-87.612813,-87.607267,-87.66,-87.65,-87.69,-87.65,-87.65478743,-87.643118,-87.624117,-87.66126016666666,-87.61192433333333,-87.6188346489,-87.636918545,-87.64895,-87.624084,-87.64926,-87.65304,-87.6308760584,-87.68415633333333,-87.614492,-87.63682901859283,-87.61861681938171,-87.626096,-87.6387035,-87.676169,-87.5656875719,-87.627716,-87.6295209193,-87.624426,-87.62408432,-87.6344287848,-87.612043,-87.6829126443,-87.625125,-87.649639,-87.63240633333334,-87.634324,-87.6,-87.69,-87.58,-87.6823890209198,-87.6355,-87.648624,-87.7066499009,-87.639192,-87.63443007,-87.623981,-87.7052804871,-87.65,-87.61197533333333,-87.64,-87.696704,-87.617867,-87.65010666666667,-87.6219152258,-87.68670683333333,-87.72,-87.630834,-87.617854,-87.64414,-87.67773283333334,-87.66,-87.65966,-87.667429,-87.606582,-87.659172,-87.6802445,-87.667747,-87.6410879593,-87.653449,-87.6420585,-87.5810045,-87.645451,-87.63558183333333,-87.6521825,-87.612043,-87.634656,-87.647071,-87.63,-87.64,-87.624684,-87.6153553902,-87.626804,-87.66803383333334,-87.625961,-87.66394,-87.78,-87.646439,-87.64357633333333,-87.638566,-87.677335,-87.63463766666666,-87.66098386,-87.617854,-87.6537080423,-87.64,-87.63128,-87.6385057718,-87.62568066666667,-87.616743,-87.62408432,-87.6444478533,-87.62047290802002,-87.592464,-87.616743,-87.616743,-87.62603,-87.71,-87.64,-87.629634,-87.65,-87.6433534936,-87.623981,-87.62,-87.647071,-87.632225,-87.617854,-87.77,-87.5761197602,-87.63,-87.632326,-87.61441983333333,-87.63,-87.64867,-87.634324,-87.666507,-87.599861,-87.6658,-87.645451,-87.634266,-87.6637476682663,-87.628722,-87.642984629,-87.69,-87.6256886059,-87.65222,-87.73,-87.64926,-87.626761,-87.7,-87.63680233333334,-87.66,-87.648997,-87.6308760584,-87.613348,-87.63167766666666,-87.61861681938171,-87.657659,-87.655157,-87.623041,-87.67058283333333,-87.646439,-87.64103033333333,-87.648043,-87.63173166666667,-87.6188346489,-87.6475386582,-87.6433534936,-87.672552,-87.664199,-87.653106,-87.643278,-87.6153553902,-87.630834,-87.612043,-87.62601583333333,-87.653818,-87.67841016666667,-87.64,-87.612043,-87.63631033333333,-87.62578883333333,-87.679028,-87.677432,-87.625125,-87.654264,-87.643749,-87.67648583333333,-87.65447033333334,-87.6683225,-87.634362,-87.67736933333333,-87.686112808,-87.69,-87.676842,-87.63566762208939,-87.622798,-87.6153553902,-87.62351,-87.63180383333334,-87.65,-87.6154075,-87.64414,-87.68589516666667,-87.654288,-87.612043,-87.638742,-87.653818,-87.65470416666666,-87.625961,-87.653833,-87.74,-87.7118306675,-87.630834,-87.6445705849,-87.624684,-87.654406,-87.6440978050232,-87.63128,-87.630834,-87.59,-87.614492,-87.6153553902,-87.6,-87.63582453131676,-87.65112133333334,-87.612043,-87.630834,-87.64913233333333,-87.63128,-87.65222,-87.639904,-87.66394,-87.685854,-87.654678,-87.64514716666666,-87.652305,-87.583945009,-87.68141316666667,-87.677335,-87.63,-87.6246839761734,-87.625813,-87.62054800987242,-87.63483,-87.630834,-87.627690528,-87.69724033333334,-87.634266,-87.638742,-87.669154,-87.62930083333333,-87.6264555,-87.6882193648,-87.71,-87.61,-87.649993,-87.58090716666666,-87.67850633333333,-87.62568766666666,-87.626804,-87.67,-87.626217,-87.6996905,-87.64332,-87.62640516666667,-87.629318,-87.634324,-87.636427,-87.6346,-87.612343,-87.6611982433,-87.623041,-87.618835,-87.69707683333333,-87.626077,-87.6778185,-87.623041,-87.631942,-87.63550400733948,-87.626804,-87.72,-87.67860983333334,-87.599861,-87.64,-87.71,-87.66422066666667,-87.68,-87.6626,-87.67,-87.63219,-87.6246839761734,-87.66417533333333,-87.654966,-87.63185,-87.673935,-87.6346,-87.698008,-87.667747,-87.72386633333333,-87.62408432,-87.636427,-87.626804,-87.73,-87.648789,-87.63553366666666,-87.654966,-87.628722,-87.627690528,-87.62953133333333,-87.635185,-87.653818,-87.63582453131676,-87.62408,-87.654406,-87.62408,-87.69713266666666,-87.7,-87.63827816666667,-87.629318,-87.667252,-87.677725,-87.638742,-87.607267,-87.68,-87.667747,-87.62302333333334,-87.648259,-87.65968583333333,-87.65266209840775,-87.63172083333333,-87.61,-87.638181,-87.625734,-87.6239315,-87.61,-87.5883151702,-87.62054800987242,-87.65472133333333,-87.64333233333333,-87.64890116666666,-87.59995316666667,-87.65468316666667,-87.63463333333334,-87.654678,-87.623777,-87.623041,-87.654678,-87.62191683333333,-87.70528,-87.64559083333333,-87.6259080327,-87.63128,-87.63443007,-87.642884,-87.624084,-87.73,-87.716787,-87.634774,-87.59,-87.631501,-87.612043,-87.612043,-87.705126462,-87.656952,-87.59,-87.638181,-87.629318,-87.649603,-87.6246839761734,-87.62413066666667,-87.6893070063,-87.66394,-87.637536,-87.66367916666667,-87.684001,-87.624084,-87.626804,-87.707331,-87.64867,-87.631697,-87.62921690940857,-87.612263,-87.623727,-87.676842212677,-87.66,-87.62351,-87.623041,-87.64948366666667,-87.66,-87.6601406209,-87.64661216666667,-87.61328166666667,-87.612043,-87.648128,-87.6475386582,-87.67386616666667,-87.624084,-87.648419,-87.689397,-87.6394695,-87.60730883333333,-87.62408,-87.644336,-87.53967136144637,-87.638437,-87.63025883333333,-87.6499765,-87.691392,-87.629634,-87.649603,-87.64895,-87.65371116666667,-87.62351,-87.612043,-87.616743,-87.626804,-87.65,-87.636282,-87.616743],\"marker\":{\"color\":\"#9ccbd4\",\"opacity\":1},\"mode\":\"markers\",\"name\":\"casual\",\"showlegend\":true,\"subplot\":\"mapbox\",\"type\":\"scattermapbox\"},{\"hovertemplate\":\"member_casual=member<br>start_lat=%{lat}<br>start_lng=%{lon}<extra></extra>\",\"lat\":[41.932418,41.92,41.9361656914064,41.928887,41.96167,41.884114,41.91065433333333,41.961507,41.885837,41.898969,41.9364968219,41.888716036,41.890084,41.954245,41.894722,41.866095,41.891072,41.881319815,41.89691,41.9157,41.88,41.78509714636,41.925614333333336,41.870769,41.911974,41.882306,41.893992,41.912133,41.795212,41.849527,41.895501,41.87501,41.91,41.928712,41.926277,41.85308455741279,41.961588,41.96150583333333,41.90792066666667,41.95267783333333,41.896376252,41.94334,41.907655,41.857611,41.88191116666667,41.88917683258,41.78509714636,41.864883,41.881892,41.907655,41.78509714636,41.88917683258,41.94,41.94,41.922185,41.874754,41.912133,42.004583,41.87470983333333,41.9138055,41.929567,41.836208,41.9716,41.9406,41.89056733333334,41.9093960065,41.88462283333333,41.87632533333333,41.928712,41.700216,41.876268,42.0,42.05,41.893865,41.89576474564,41.89,41.8839840647265,41.842052,41.92393131136619,41.89,42.015962,41.96909,41.889906,41.880958,41.891578,42.048214,41.925905,41.922695,41.888243,41.921525,41.97334764047304,41.903222,41.921822,41.922163833333336,41.912133,41.894503,41.87209383333333,41.912133,41.910522,41.9093960065,41.954383,41.9024335,41.93314,41.79172820953,41.88544216666666,41.94815,41.89682466666667,41.940106,41.958494,41.886976,41.8721955,41.79,41.882242,41.87947235235,41.969517,41.898969,41.906866,41.8643335,41.90301016666667,41.872007833333335,41.889187,41.918306,41.91550483333333,41.89380805624359,41.871262,41.96909,41.890573,41.891466,41.897764,41.94815,41.94018,41.894556,41.791478,41.87,41.91830383333333,41.90985465216731,41.78509714636,41.8906705,41.8839840647265,41.92408866666667,42.00901118058077,41.84847,41.9947796884,41.90696233333333,41.9366884494997,41.88120683333333,41.897448,41.8693105,41.830777,41.894722,41.883668,41.93,41.89380805624359,41.92557333333333,41.93236616666667,41.880410833333336,41.857611,41.882242,41.9105780349,41.94018,41.885513,41.90000033333333,41.871262,41.921822,41.89637337,41.968987,41.90241983333333,41.89546530305,41.961086,41.911974,41.891466,41.892278,41.88602082773,41.91,41.884241,41.890762,41.961041,41.88318130597391,41.902893,41.906866,41.89691,41.9560955,41.85008369347577,41.95434085219,41.880958,41.886976,41.8,41.884241,41.966526,41.78,41.897448,41.92556258,41.98,41.907993,41.857813,41.902871,41.89675,41.888243,41.864059,41.94814633333333,41.882051,41.910337,41.86722595682,41.92556258,41.94,41.95,41.915689,41.929546,41.795200666666666,41.913865,41.89594066666667,41.94,41.882242,41.88358066666667,41.890573,41.918216,41.9466358306,41.93,41.842052,41.886875,41.9267559875,41.91021,41.88548866666667,41.907993,41.885949,41.9578215,41.77,41.89434513742426,41.909374666666665,41.968885,41.891466,41.94815,41.918084,41.88577925240433,41.894435,41.89691,41.938468,41.881892,41.8694821,41.94940483333333,41.88365083333333,41.88917683258,41.939365,41.884241,41.914687,41.913688,41.87427083333333,41.857813,41.911722,41.79939633333333,41.936083,41.69,41.90348607004,41.95439433333333,41.8,41.897448,41.889906,41.91552,41.857813,41.881772833333336,41.857611,41.895596833333336,41.867888,41.88447816666667,41.877522,41.79,41.940102333333336,41.884114,41.878166,41.92,41.795264,41.910522,41.92,41.92393131136619,41.915689,41.89,41.79,41.88325319522858,41.89084704062381,41.9,42.018983166666665,41.877945,41.89434513742426,41.918306,41.88338,41.96706616666667,41.81,41.79,41.892278,41.86,41.89380805624359,41.907655,41.9396435,41.983593,41.889899,41.89661720040753,41.7800835,41.89434513742426,41.918216,41.920771,41.883668,41.911386,41.928773,41.885637,41.892278,41.88917683258,41.9077225,41.80887,41.809443,41.93,41.79430062054,41.89691,41.867888,41.9331095,41.893992,41.89641483333333,41.912133,41.87207763285,41.940714666666665,41.877181,41.896746973093805,41.891466,41.907626,41.7932985,41.93758231600629,41.87220683333334,41.9364968219,41.86711416666667,41.877083,41.8776415962753,41.890762,41.894841,41.864059,41.9614045,41.9490625,41.92166866666667,41.90068,41.79,41.92409085038,41.882091,41.92921533333333,41.943739,41.885637,41.8955855,41.8567145,41.95078,41.894877,41.889187,41.920276,41.919936,41.903222,41.92,41.940749333333336,41.891466,41.830629,41.889187,41.95786652415174,41.967096,41.894722,41.8349,41.95786652415174,41.886835,41.871737,41.888243,41.949074,41.98403669612,41.974915,41.903222,41.91021,41.90761166666667,41.92882316666667,41.866095,41.918216,41.880422,41.88314336439022,41.92,41.89380805624359,41.89434513742426,41.889906,41.897655666666665,41.929567,41.88283,41.92219033333333,41.94078266666666,41.8,41.89143333333333,41.8774345,41.877998,41.8349,41.870816,41.943674,41.899643,41.967128038,41.897764,41.88585733333333,41.727657,41.908150166666665,41.867888,41.788746,41.97,41.8671177825,41.918306,41.92953633333333,41.885637,41.89,41.895748,41.888243,41.867324,41.94,41.9,41.902724147,41.87790866666667,41.919936,41.891578,41.88461618962,41.96909,41.910522,41.870827166666665,41.96915833333333,41.79150116666667,41.917788863,41.937754512,41.90071283333333,41.91017016666667,41.903029,41.96325,41.929624,41.96909,41.918306,41.91844,41.73,41.9226065,41.867477666666666,41.867227,41.867133333333335,41.89576474564,41.864865,41.891795,41.894722,41.907993,41.93132,41.8378,41.788746,41.925858,41.79532583333334,41.90256433333333,41.87937516666667,41.902924,41.88591233333333,41.95,41.791478,41.849527,41.90273166666667,41.98974251144,41.898969,41.879158,41.79146564,41.87184,41.88,41.88,41.89576474564,41.90230870122,41.913688,41.8420325,41.97334764047304,41.94454,41.8652955,41.78509714636,41.96,41.932225,41.89741083333333,41.906866,41.926277,41.854825974,41.919936,41.93256466666666,41.79,41.921822,41.8810317,41.79155566666667,41.907993,41.895748,41.85,41.8854833079,41.8761175,41.925858,41.9105780349,41.891240833333335,41.89576474564,41.896362458,41.93,41.96117083333333,41.907221,41.90345,41.902973,41.9256018819,41.95078,41.97563272521,41.912133,41.870769,41.90452583333333,41.799568,41.78091096424803,41.921822,41.9364968219,41.91,41.902973,41.895748,41.929143,41.891072,41.88571933333333,41.89576474564,41.9185125,41.967094,41.88,41.954261333333335,41.9947796884,41.9256018819,41.92,41.9,41.88990616666667,41.889187,41.8985866514,41.932588,41.903020833333336,41.93,41.94454,41.903222,41.895634,41.92216333333333,41.86,41.880317,41.872596,41.9105780349,41.836208,41.68,41.894503,41.9,41.91844,41.98403669612,41.89766,41.886024,41.891578,41.8,41.88338,41.96,41.903222,41.791478,41.882242,41.8942725,41.830611833333336,41.9182785,41.892022833333336,41.911722,41.9177505,41.9,41.893992,41.883668,41.92,41.74,41.883218166666666,41.845687,41.91643342912655,41.888243,41.925858,41.85,41.8624425,41.94,41.860384,41.768915166666666,41.872437,41.8,41.97328766666666,41.892278,41.929143,41.821657,41.897448,41.87500466666667,41.9093960065,41.928554166666665,41.912133,41.893992,41.94,41.911722,41.911386,41.939354,41.91021,41.9256018819,41.7851005,41.84201216666666,41.895966,41.91839633333333,41.89637337,41.915726,41.882664,41.913929,41.895769,41.925858,41.931248,41.894877,41.90345,41.91751339399,41.89,41.870769,41.907655,41.96,41.89380805624359,41.88325319522858,41.94018,41.91751339399,41.90096039,41.79,41.88452683333333,41.867888,41.898203,41.894722,41.961106658,41.8349,41.945517,42.019159,41.893992,41.94,41.886024,41.8759326655,41.952833,41.90068,41.93216383333333,41.879255,41.928712,41.98403669612,41.945529,41.907066,41.8810317,41.8,41.8514335,41.929432166666665,41.9452135,41.931248,41.9260485,41.871737,41.87295,41.939743,41.967096,41.910522,41.954245,41.894666,41.8967575,41.902973,41.9024005,42.0,41.87295,41.87831661183069,41.8906615,41.965875,41.799568,41.949399,41.83127423549,41.897764,41.92556258,41.93947775040509,41.9615395,41.877945,41.8890835,41.87944694735652,41.88910883333333,41.932418,41.95,41.897764,41.87831661183069,41.926698923,41.882242,41.881805166666666,41.907066,41.902973,41.891795,41.8810317,41.920082,41.89766,41.920771,41.92393131136619,41.893992,41.8854833079,41.9105780349,41.88325319522858,41.90096039,41.9,41.94947274088333,41.96909,41.8776415962753,41.925905,41.8839840647265,41.93,41.892278,41.838556,41.91,41.8924815,42.0,41.89488516666667,41.89,41.9178475,41.967968,41.884576,41.802406,41.9401775,41.894722,41.97,41.881892,41.87943409140013,41.88338,41.88917683258,41.878039,41.878322833333335,41.897448,41.893992,41.969517,41.96167,41.957081,41.87474885079,41.79,41.883990833333336,41.8492,41.9527115,41.871737,41.886835,41.79,41.8794705,41.79929916666666,41.94,41.91190266666667,41.89576474564,41.8,41.93314,41.98,41.889906,41.94367,41.89560733333333,41.98403669612,41.8861375,41.919936,41.946644166666665,41.88338,41.906724,41.868968,41.9178085,41.87831661183069,41.8,41.899181,41.89454333333333,41.838556,41.88610766666667,41.67,41.903222,41.879255,42.04,41.89184737210993,41.920051666666666,41.793289,41.876113833333335,41.889906,41.88997333333333,41.894665333333336,41.880317,41.854954,41.90096039,41.968885,41.945529,41.92,41.86650148316,41.9494475,41.890762,41.928712,41.918084,41.889779833333336,41.882664,41.940775,41.891466,41.87766333333333,41.91461,41.93934266666667,41.96909,41.834734,41.894503,41.902997,41.9217555,41.894739666666666,41.89448816666667,41.90270659438,41.89460566666666,41.9,41.94815,41.884241,41.82168,41.93,41.880317,41.925858,41.93,41.903222,41.876243,41.879695,41.874053,41.932588,41.88190016666667,41.88484583333333,41.954177,41.882242,41.889263,41.93,41.8793563587,41.884241,41.860449333333335,41.891466,41.89095483333333,41.9611725,41.858035,41.97802266666667,41.9,41.8671177825,41.90964216666666,41.89565066666667,41.954383,41.891466,41.95,41.9840446107,41.856268,41.802406,41.915689,41.916471666666666,41.86747783333333,41.860384,41.886875,41.890762,41.799568,41.952833,41.881319815,41.94815,41.882091,41.791478,41.912133,41.88,41.90791933333333,41.885865569,41.857813,41.88455783333333,41.86528883333333,41.879255,41.898203,41.940775,41.9716,41.92402216666667,41.907657504,41.85,41.910570166666666,41.918306,41.898969,41.87947235235,41.917805,41.925905,41.858166,41.79,41.78509714636,41.925905,41.89434513742426,41.921525333333335,41.912133,41.879255,41.870816,41.896776333333335,41.874255,41.902924,41.943739,41.85308455741279,41.84356733333333,41.88038016666667,41.9032625,41.94,41.89434513742426,41.88909116666667,41.899181,41.893992,41.8,41.948797,41.88993666666666,41.7952075,41.91,41.872187,41.90692766666667,41.8,41.89,41.907993,41.906724,41.89434513742426,41.90348607004,41.860384,41.92393131136619,41.87831661183069,41.92154,41.940106,41.870816,41.89380666666667,41.870816,41.95600355078549,41.907993,41.94947274088333,41.932418,41.943718,41.884241,41.89148033333333,41.963982,41.893992,41.897868333333335,41.95600355078549,41.93,41.93,41.915689,41.802406,41.9366884494997,41.876678987795,41.954177,41.884241,41.87,41.89675,41.884069,41.79,41.9492765,41.902973,41.79,41.883010166666665,41.882242,41.94454,41.88461618962,41.78,41.921822,41.9,41.79,41.96909,41.91549216666667,41.79,41.883668,41.93,41.92393131136619,41.912133,41.867227,41.89184737210993,41.858086,41.940775,41.965845,41.915689,41.890573,41.943720166666665,41.885637,41.884011666666666,41.925398666666666,41.89609933333333,41.85418424947,41.880317,41.909668,41.8839765,41.88113616666666,41.90021949323,41.983593,41.79,41.890216333333335,41.872398833333335,41.907066,41.870709,41.88917683258,41.884069,41.94334,41.881892,41.880958,41.928712,41.7953615,41.8776415962753,41.961588,41.888243,41.897764,41.94,41.896746973093805,41.93767566666666,41.9436705,41.853112578,41.9070735,41.896746973093805,41.92178183333333,41.94367,41.965845,41.864883,41.78,41.88177183333333,41.87,41.895634,41.8694821,41.92541533333333,41.87207763285,41.954383,41.89936843921,41.913865,41.877181,41.8603435,41.85308455741279,41.79,41.961004,41.890762,41.874053,41.860384,41.9023245,41.85750568031716,41.911722,41.79,41.932225,41.90096039,41.8721325,41.910522,41.940098166666665,41.928773,41.894722,41.888243,41.945529,41.8777079559,41.895966,41.886875,41.98,41.79,41.921525,41.90068,41.9035035,41.836208,41.94367,41.8,41.79430062054,41.94018,41.830661,41.943739,41.802406,41.83452988563,41.968987,41.90668466666666,41.87464916666666,42.00797192287,41.882134,41.911386,41.943762,41.79430062054,41.949074,41.904613,41.89086533333333,41.90230870122,41.95,41.868968,41.884728,41.903034,41.884728,41.876268,41.96909,41.91844,41.894666,41.906724,41.874754,41.932418,41.8,41.876268,41.90230870122,41.888716036,41.8985866514,41.963982,41.907066,41.899643,41.961041,41.8779635,41.97,41.884241,41.872596,41.88917683258,41.911722,41.89184737210993,41.94911325,41.89993001,41.87943409140013,41.907066,41.906724,42.01,41.9364968219,41.92533,41.802406,41.954383,41.881892,41.89184737210993,41.8349,41.78509714636,41.943739,41.877245,41.834734,41.89519966620159,41.872773,41.81665889302,41.913688,41.92015,41.882664,41.78,41.95786652415174,41.925858,41.877945,41.897764,41.81,41.90096039,41.885837,41.9366884494997,41.8694821,41.89380805624359,41.895748,41.9118005,41.79,41.791478,41.868968,41.94454,41.983593,41.886835,41.8956205,41.99,41.90959883333333,41.932463166666665,41.932588,41.834734,41.92154,41.877945,41.91461,42.050491,41.922695,41.91602183333333,41.92,41.78509714636,41.9,41.8777079559,41.8694821,41.857813,41.911386,41.895769,41.91021,41.8310363140161,41.921525,41.894037833333336,41.886024,41.886616486027656,41.97,41.90280533333333,41.920082,41.925858,41.87241733333333,41.97161033333333,41.9326405,41.857813,41.93,41.910522,41.8841375,41.965804166666665,41.924161029067626,41.879733,41.886024,41.93947775040509,41.935733,41.894877,41.93190196886,41.918306,41.96167,41.939365,41.92883,41.795212,41.876386,41.915983,41.874754,41.983593,41.89084704062381,41.880317,41.93533728263,41.91,41.8839840647265,41.89380805624359,41.894766,41.88325319522858,41.928712,41.91807933333333,41.882134,41.73,41.961507,41.880958,41.94,41.912133,41.95,41.940775,41.96,41.891795,41.89184737210993,41.868035,41.95,41.936266,41.87831661183069,41.928773,41.889202356,41.940106,41.86,41.9,41.876268,41.92463247165,41.895769,41.79,41.891578,41.894503,41.93,41.89,41.871737,41.911974,41.8793563587,41.871737,41.95,41.943682333333335,41.925905,41.880317,41.94,41.914166,41.91050936666395,41.88338,41.891790666666665,41.882242,41.911722,41.883165,41.94367,41.92019556200566,41.936266,41.95600355078549,41.92533,41.87497883333333,41.898969,42.048214,41.912616,41.87,41.79430062054,41.872187,41.89993001,41.98,41.8694025,41.936266,41.91,41.93314,41.89898216666667,41.901404,41.785146833333336,41.91570566666667,41.8,41.973815,41.92154,41.92154,41.911974,41.883073,41.915689,41.87947235235,41.902997,41.869076,41.896362458,41.880958,41.889187,41.867324,41.99925182186,41.925858,41.84404003127,41.94,41.897764,41.92556258,41.857611,41.87785,41.892278,41.88917683258,41.921525,41.89257,41.819167,41.79,41.867888,41.9180655,42.05,41.889906,41.961044,41.882242,41.95600355078549,41.9539795,41.894666,41.894722,41.95786652415174,41.8777079559,41.895748,41.892278,41.884576228,41.89675,41.880317,41.956057,41.932418,41.9093960065,42.009074,41.94947274088333,41.88949181977,41.871262,41.88917683258,41.867888,41.945529,41.890028,41.8440935,41.896746973093805,41.92154,41.894503,41.94367,41.877925873,41.93758231600629,41.94,41.93258963429789,41.936266,41.939743,41.87772613,41.9947796884,41.9366884494997,41.87081616666666,41.893992,41.90985465216731,41.98,41.894648314,41.89841768945,41.8839840647265,41.86722595682,41.881319815,41.85254166666667,41.9466358306,41.883668,41.931248,41.99925182186,41.872596,41.862378,41.909668,41.89102331025185,41.887211,41.915689,41.93842879148,41.8985866514,41.8777079559,41.90068,41.925905,41.921822,41.79,41.872187,41.92,41.936083,41.867227,41.921819166666666,41.827059,41.907626,41.83,41.7914765,41.89,41.9,41.961507,41.89159133333333,41.912616,41.949234833333335,41.8985866514,41.903218333333335,41.8802685,41.92883,41.894722,42.050491,41.89114466666667,41.88,41.924196,41.925858,41.899643,41.913865,41.877945,41.79,41.872773,41.90348607004,42.02,41.911722,41.894666,41.838198,41.86722595682,41.907066,41.89257,41.79,41.8,41.94,41.911386,41.86722595682,41.890028,41.88461618962,41.883207,41.871737,41.89102331025185,41.880329633634624,41.90230870122,41.795212,41.857813,41.91,41.90348607004,41.89,41.967096,41.94367,41.88917683258,41.935733,41.88602082773,41.93258963429789,41.872596,41.886875,41.93,41.68494,41.7941745,41.9543275,41.8847302006,41.896362458,41.918306,41.857611,41.879255,41.965221,41.881892,41.878166,41.931248,41.883258833333336,41.877181,41.890762,41.89,41.8694821,41.8919605,41.877245,41.8834805,41.884241,41.88924283333333,41.912616,41.884678982069246,41.917824,41.928887,41.93,41.89052233333334,41.838556,41.95,41.92186183333333,41.926277,41.888716036,41.795212,41.89675,41.867491,41.922167,41.881892,41.871737,41.9,41.93967366666666,41.913688,41.884114,41.966399801840986,41.890762,41.88462107257936,41.862378,41.95395033333333,41.884728,41.881319815,41.928773,41.87295,41.89102233333333,41.877877593,41.952814333333336,41.90348607004,41.894503,41.88,41.890207648,41.902973,41.877181,41.99,41.88,41.96,41.907655,41.98,41.939365,41.87709366666667,41.866095,41.8,41.90068,41.894162,41.89576474564,41.88325319522858,41.92,41.90230870122,41.86479466666667,41.895769,41.901266,41.89,41.915983,41.95078,41.93,41.9840446107,41.925915833333335,41.925858,41.77,41.929567,41.918216,41.793242,41.89466683333333,41.8,41.900363,41.98,41.92556258,41.920082,41.89757633333333,41.867324,41.87184,41.858166,41.931248,41.9,41.898203,41.91,41.902973,41.87,41.881892,41.894503,42.0,41.95078,41.929143,41.95,41.72161316666666,41.8,41.89661720040753,41.87808716666667,41.94367,41.956057,41.9779966544,41.86801033333333,41.882091,41.967096,41.94,41.90239866666667,41.968812,41.872658666666666,41.88,41.886314166666665,41.89993001,41.925383,41.95,41.88917683258,41.906724,41.94815,41.788746,41.8985866514,41.9908695,41.96152593287,41.925858,41.9394355,41.8784075,41.952833,41.9,41.913688,41.791478,41.943739,41.871262,41.91050936666395,41.89169583333333,41.834734,41.95078,41.87295,41.961548,41.856802,41.842052,41.795212,41.943739,41.87244533333333,41.89,41.91578366666667,41.881892,41.911974,41.895769,41.90763183333333,41.891795,41.90096039,41.932225,41.891466,41.886835,41.94367,41.949074,41.921822,41.903504833333336,41.882242,41.89224516666667,41.902887,41.86,41.91,41.925905,41.897764,41.8,41.91,41.92556258,41.92871616666667,41.890173,41.918306,41.88283,41.93758231600629,41.891578,41.856268,41.882134,41.92,41.93,41.899181,41.880958,41.88951616666667,41.911722,41.9521715,41.93,41.879255,41.932418,41.922695,41.88338,41.912133,41.968885,41.794262333333336,41.961004,41.874255,41.795239,41.74,41.88917683258,41.86810733333333,41.882664,41.883668,41.79,41.8,41.890173,41.89766,41.791478,41.78509714636,41.89451116666667,41.9947796884,41.935733,41.8,41.8777079559,41.94367,41.89084704062381,41.884114,41.97,41.872187,41.891578,41.888243,41.89766,41.79,41.978353,41.87,41.909668,41.898203,41.96325,41.94367,41.886616486027656,41.911974,41.926277,41.949074,41.79,41.929143,41.911367166666665,41.9366884494997,41.872495,41.906724,41.884069,41.95,41.87831661183069,41.94016916666666,41.7951395,41.881892,41.96115266666666,41.91,41.90096039,41.871737,41.894666,41.87772613,41.911386,41.89434513742426,41.9,41.92,41.884256666666666,41.867324,41.929409166666666,41.957728,41.91,41.86783416666667,42.019159,41.882134,41.954245,41.881892,41.88602082773,41.945529,41.87651122881695,41.973815,41.90673833333334,41.911386,41.890028,41.892278,41.93,41.8,41.93258963429789,41.871262,41.918306,41.940775,41.886835,41.88338,41.903222,41.963982,41.910169,41.953393,41.9364968219,41.901315,41.88283,41.79156801058,41.78,41.902893,41.919936,41.945529,41.886976,41.93251933333333,41.97,41.87184,41.91844,41.96909,41.84163253965,41.79,41.895591,41.881892,41.9256018819,41.952769,41.882242,41.915689,41.90759283333333,41.9,41.8694821,41.88917683258,41.94058666666667,41.91,41.91831766666667,41.891466,41.883165,41.926277,41.8582185,41.902973,41.89434513742426,41.893992,41.932418,41.92154,41.79,41.90068,41.894722,41.911722,41.978353,41.9,41.780958772,41.88602082773,41.79,41.963982,41.8847302006,41.79430062054,41.884241,41.8688225,41.9095475,41.89184737210993,41.877181,41.903029,41.911974,41.917741,41.830629,41.892281833333335,41.891795,41.78091096424803,41.897764,41.9183,41.902973,41.881319815,41.910535,41.895966,41.88461618962,41.89,41.92533,41.929143,41.954383,41.89384533333333,41.921822,41.896746973093805,41.94,41.79,41.874754,41.894748,41.892278,41.89380805624359,41.906980157,41.97,41.886616486027656,41.9,41.8914725,41.8,41.87947235235,41.876268,41.882567,41.882664,41.84910969176,41.949399,41.902814,41.965845,41.877245,41.912133,41.915689,41.925858,41.884885833333335,41.88461618962,41.872596,41.949399,41.74,41.893992,41.8694821,41.94069316666667,41.95,41.925905,41.911386,41.89,41.8810317,41.899643,41.889906,41.8577375,41.89637337,41.8,41.929567,41.885637,41.96162266666666,41.911722,41.89,41.885637,41.903222,41.8750236280333,41.906866,41.89003133333333,41.89257,41.892278,41.94018,41.93127916666667,41.8847055,41.901239333333336,41.892278,41.912015833333335,41.842733,41.94,41.86862566666667,41.96140366666667,41.88457183333333,41.94,41.983593,41.88811416666667,41.90096039,41.966399801840986,41.968987,41.9779966544,41.87944694735652,41.88914916666667,41.87421716666667,41.8854833079,41.928773,41.868968,41.8687735,41.860384,41.893992,41.880317,41.799568,41.8,41.8,41.869265218438194,41.92,41.9121185,41.89184737210993,41.9366884494997,41.88169,41.87934437346,41.90300833333333,41.91768783333333,42.02359316666666,41.872181,41.891018,41.949399,41.871262,41.98,41.802562,41.933147,41.898969,41.880422,41.894503,41.8583706903062,41.93314,41.90288816666666,41.93,41.882242,41.973815,41.89,41.903266,41.892278,41.967094,41.885873833333335,41.913688,41.90303766666667,42.06,41.87828266666666,41.96,41.910337,41.89576474564,41.86,41.888243,41.915689,41.8,41.8722055,41.9221695,41.9364968219,41.872176,41.8793563587,41.8671177825,41.878166,41.926277,41.929546,41.954383,41.88283,41.864059,41.79,41.893992,41.92393131136619,41.9200995,41.896944626370825,41.88235083333333,41.961004,41.94367,41.89435316666667,41.9,41.872187,41.92,41.929465,41.9947796884,41.93314,41.904613,41.88444566666666,41.945529,41.87945056,42.048308,41.920082,41.949399,41.91,41.882134,41.89,41.8985866514,41.940775,41.88,41.898969,41.898203,41.949072,41.901441,41.939743,41.737855333333336,41.89434513742426,41.9288025,41.958511,41.886024,42.01256011541,41.87785,41.939743,41.867491,41.97,41.891578,41.8583706903062,41.9716,41.81409271048,41.975695,41.838842,41.88917683258,41.9256018819,41.883668,41.94454,41.88,41.857813,41.88546866666667,41.939365,41.876268,41.90096039,41.93758231600629,41.911365333333336,41.96877216666667,41.911974,41.799568,41.95786652415174,41.84910969176,41.88,41.911974,41.954273666666666,41.888716036,41.842052,41.89637337,41.973815,41.891345666666666,41.925858,41.94367,41.9267559875,41.872187,41.868968,41.793242,41.93758231600629,41.932418,41.939408,41.894503,41.88,41.880958,41.885637,41.79,41.883073,41.894877,41.949331164,41.991178,41.79,41.814115,41.90230870122,41.882664,41.891795,41.872596,41.912133,41.881319815,41.877181,41.93758231600629,41.94080183333333,41.85795,41.88923483333333,41.93,41.885637,41.888716036,41.90230870122,41.87,41.910522,41.93314,41.896746973093805,41.97803062248656,41.877263069,41.87779133333333,41.79,41.88318130597391,41.925905,41.881319815,41.9,41.89691,41.95786652415174,41.94334,41.96,41.89576474564,41.93,41.876243,41.868968,41.9240535,41.98358133333333,41.907626,41.9364968219,41.88325116666667,41.969517,41.867491,41.88917683258,41.921822,41.961467166666665,41.87785,41.932588,41.915983,41.8349,41.91,41.894154,41.9716,41.878166,41.89434513742426,41.898120166666665,41.90348607004,42.019159,41.88917683258,41.952833,41.929567,41.89184737210993,41.92533,41.867888,41.965221,41.94323716666667,41.92883,41.79430062054,41.8830895,41.795264,41.88,41.910522,41.89184737210993,41.79,41.8929055,41.791478,41.880958,41.8839840647265,41.884728,41.8140535,41.93,41.932225,41.902973,41.880958,41.8944975,41.906866,41.90354133333334,41.906724,41.9296205,41.834734,41.90322666666667,41.93,41.92,41.883668,41.883165,41.96,41.90230870122,41.87805683333333,41.91573316666667,41.884576228,41.94524356848,41.97,41.898969,41.97,41.91385066666667,41.75,41.93758231600629,41.89380805624359,41.891795,41.88,41.897448,41.883938,41.894556,41.8,41.939408666666665,41.870816,41.79949429373,41.9,41.874053,41.96167,41.857556,41.891466,41.872187,41.872187,41.885837,41.838464,41.903266,41.894722,41.949327,41.939743,41.95600355078549,41.834734,41.9093960065,41.94,41.867227,41.93258963429789,41.940775,41.939365,41.884241,41.96709616666666,41.788746,41.973381,41.8839840647265,41.8777079559,41.903119,41.894722,41.912133,41.894877,41.883668,41.932588,41.90068,41.949074,41.984003,41.939381599,41.89099566666667,41.89,41.871838,41.918306,41.89639533333333,41.94334,41.89675,41.93758231600629,41.918129,42.01286616666667,41.871262,41.93314,41.918306,41.89494866666666,41.87184,41.92,41.969084,41.88602082773,41.93,41.788746,41.857813,41.87990283333333,41.92533,41.791478,41.84193316666666,41.888115166666665,41.799546166666666,41.945529,41.881319815,41.967096,41.872187,41.90230870122,41.93,41.8740465,41.87943409140013,41.9267559875,41.911722,41.93769533333333,41.906724,41.894722,41.88917683258,41.872187,41.85308455741279,41.871262,41.88577925240433,41.8750236280333,41.88338,41.8854833079,41.93,41.95,41.86722595682,41.92400116666666,41.87622116666667,41.91468,41.95786652415174,41.89380805624359,41.911974,41.880708166666665,41.96896233333333,41.889906,41.89257,41.884728,41.79,41.91011783333333,41.9,41.925855994,41.92154,41.872596,41.907993,41.94454,41.793242,41.79,41.89691,41.91,41.918306,41.902973,41.884241,41.856268,41.903119,41.911408,41.87811890091227,41.861267,41.89434513742426,41.929546,41.931402166666665,41.89691,41.98403669612,41.891795,41.858166,41.936266,41.857556,41.931248,41.87947235235,41.911722,41.932418,41.8985866514,41.886024,41.91844,41.92,41.932418,41.897764,41.88325319522858,41.81409271048,41.888716036,41.878396333333335,41.88634906269,41.915983,41.87,41.94,41.920771,41.949399,41.89414816666667,41.939365,41.906866,41.89102331025185,41.89477433333333,41.902893,41.79146966666666,41.92214616666666,41.886616486027656,41.965221,41.90800083333333,42.00455566666667,42.00104377979,41.940775,41.929143,41.886024,41.88461618962,41.92154,41.79149266666667,41.96909,41.89766,41.95,41.949216,41.757954833333336,41.871514,41.87207763285,41.95,41.8,41.906724,41.902973,41.888243,41.92,41.87295,41.9610375,42.00797192287,41.87295,41.871737,41.909668,41.88338,41.967968,41.909381833333335,41.8762395,41.89576474564,41.88171233333333,41.79,41.785052776,41.877245,41.943739,41.89766,41.98,41.909668,41.961004,41.92,41.8946235,41.872596,41.834709525,41.95437316666667,41.89936843921,41.880422,41.954383,41.945529,41.8750236280333,41.911386,41.9364968219,41.931248,41.890762,41.911974,41.872596,41.90023333333333,41.8885055,42.04819216666667,41.8793563587,42.00445062934,41.871737,41.894877,41.912133,42.04,41.867888,41.79956007,41.9256018819,41.89415833333334,41.866095,41.913688,41.90801316666666,41.89434513742426,41.898203,41.94,41.91,41.88451216666667,41.88577925240433,41.891691923,41.880419,41.79949429373,41.867324,41.92917666666666,41.911722,41.894722,41.907993,41.865234,41.8854995,41.79146683333333,41.92,41.915983,41.89184737210993,41.889758,42.063598,41.91844,41.91,42.0,41.97,41.79,41.904613,41.79,41.90096039,41.90345,41.893992,41.87,41.90096039,41.97334764047304,41.910337,41.940061166666666,41.907993,41.906724,41.884678982069246,41.89,41.79,41.88461618962,41.88,41.86,41.911722,41.795264,41.88169,41.89084704062381,41.918306,41.902973,41.919936,41.902973,41.911859166666666,41.8378,41.856261833333335,41.89,41.89041016666667,41.8,41.907655,41.965845,41.91552,41.93314,41.918216,41.8378,41.883390166666665,41.8793563587,41.973815,41.945529,41.906866,41.931248,41.897764,41.884241,41.92154,41.895553166666666,41.925905,41.857813,41.8746975,41.89380805624359,41.856802,41.8,41.9359035,41.919936,41.795264,41.881319815,41.793242,41.9256018819,41.925858,41.864059,41.900363,41.910535,41.98,42.01256011541,41.9437911500595,41.929546,41.93606316666666,41.902670666666666,41.89637366666667,41.89,41.921822,41.799568,41.911974,41.889187,41.791478,41.90021949323,41.90792166666667,41.918306,41.86052566666667,41.84,41.897448,41.931248,41.899652,41.907626,41.906724,41.957713,41.911722,41.94009666666667,41.73,41.8776415962753,41.89,41.9023665,41.87811890091227,41.907626,41.9093960065,41.87464,41.89074216666667,41.79430062054,41.894877,41.925858,41.91,41.799568,41.89803316666666,41.877245,41.841977166666666,41.943358833333335,41.907066,41.93258963429789,41.9007015,41.88338,41.957921,41.889147,41.919936,41.95078,41.92019556200566,41.881319815,41.79,41.98122486273338,41.92,41.858433,41.946655,41.90021949323,41.865312,41.961004,41.87785,41.94815,41.868009,41.856594,41.88,41.89576474564,41.79,41.903222,41.94,41.922167,41.894666,41.93,41.94,41.79430062054,41.90021949323,41.79,41.90345,41.919953,41.90705783333333,41.912032333333336,41.838556,41.865312,41.89380805624359,41.87947235235,41.88195483333333,41.9117425,41.86488716666667,41.8671465,41.911974,41.7914695,41.87772613,41.877181,41.907993,41.857919455,41.881319815,41.949074,41.94906516666666,41.93,41.9117415,41.89434513742426,41.93258963429789,41.867227,41.795264,41.911386,41.795212,41.871262,41.96167,41.867888,41.90345,41.95437666666667,41.939743,41.866095,41.8797877089,41.72,41.931248,41.911722,41.78878783333333,41.89675,41.876678987795,41.92966216666667,41.799568,41.88860483333333,41.93,41.965221,41.79,41.9364968219,41.949074,41.884580166666666,41.963982,41.884101666666666,41.87831661183069,41.918306,41.878024,41.880958,41.856295,41.8810317,41.93602616666666,41.929143,41.93758231600629,41.945549666666665,41.98403669612,41.902973,41.95,41.8,41.877945,41.872287,42.00797192287,41.932588,41.872187,41.870257,41.878715666666665,41.92,41.869265218438194,41.929399833333335,41.79,41.94360566666667,41.89084704062381,41.870816,41.911722,41.894323,41.880422,41.931248,41.881892,41.868563,41.89469416666667,41.89434513742426,41.87749616666667,41.926277,41.963982,41.92,41.802406,41.94815,41.903119,41.97839316666666,41.888716036,41.96158,41.94,41.95,41.93769233333333,41.89637337,41.802406,41.79430062054,41.884576228,41.88,41.8,41.95,41.94,41.884483337,41.952833,41.88434266666667,41.910292149,41.9,41.94,41.898203,41.895966,41.8787625,41.88,41.89185633333334,41.957921,41.86531316666667,42.063804833333336,41.9,41.928887,41.88338,41.857813,41.879289666666665,41.903375833333335,41.9093955,41.929546,41.88443733333333,41.90345,41.93,42.019121166666665,41.877245,41.88596016666666,41.799568,41.79,41.8776415962753,41.881827,41.838464,41.9256018819,41.953393,41.872187,41.873010666666666,41.918084,41.9840446107,41.89464866666667,41.869265218438194,41.88580216666666,41.870769,41.9364968219,41.8349,41.893992,41.88314333333334,41.894722,41.882664,41.838842,41.8854833079,41.87,41.79,41.8854833079,41.889899,41.836208,41.93758231600629,41.975648166666666,41.87,41.978353,41.888243,41.805772,41.949074,41.90068,41.80241566666667,41.87824716666667,41.926277,41.911722,41.89399466666666,41.9947796884,41.8905055,41.936266,41.894877,41.890173,41.902973,42.015962,41.893992,41.897764,41.93132,41.8777079559,41.884728,41.9,41.89102331025185,41.895769,41.9366884494997,41.867491,41.93],\"legendgroup\":\"member\",\"lon\":[-87.652705,-87.78,-87.65160262584686,-87.658971,-87.65464,-87.654264,-87.6494065,-87.671387,-87.6355,-87.629912,-87.6475386582,-87.6444478533,-87.63391866666667,-87.654406,-87.634362,-87.607267,-87.666611,-87.6295209193,-87.621743,-87.63459366666666,-87.65,-87.6010727606,-87.638959,-87.625734,-87.631942,-87.64139716666666,-87.629318,-87.634656,-87.580715,-87.640591,-87.682017,-87.67328,-87.68,-87.653833,-87.630834,-87.63193130493164,-87.666036,-87.67144716666667,-87.63157966666667,-87.64985666666666,-87.654102087,-87.67097,-87.672552,-87.619407,-87.641504,-87.6385057718,-87.6010727606,-87.647071,-87.648789,-87.672552,-87.6010727606,-87.6385057718,-87.64,-87.65,-87.63903216666667,-87.649807,-87.634656,-87.661406,-87.649834,-87.65277116666667,-87.707857,-87.613533,-87.650154,-87.6785,-87.62196483333334,-87.6776919292,-87.61963383333334,-87.629257,-87.653833,-87.61231966666666,-87.629155,-87.69,-87.71,-87.62943433333334,-87.6259080327,-87.62,-87.6246839761734,-87.617,-87.63582453131676,-87.7,-87.66857,-87.674237,-87.634266,-87.616743,-87.648384,-87.683485,-87.64926,-87.697153,-87.63639,-87.707322,-87.6678554713726,-87.634324,-87.64414,-87.63898133333333,-87.634656,-87.617854,-87.62959566666666,-87.634656,-87.653106,-87.6776919292,-87.648043,-87.62773616666666,-87.64776,-87.583945009,-87.6306265,-87.66394,-87.63580483333334,-87.645451,-87.654966,-87.612813,-87.66148,-87.6,-87.641066,-87.6256886059,-87.654691,-87.629912,-87.626217,-87.6235335,-87.69749833333333,-87.6509645,-87.627754,-87.636282,-87.68712733333334,-87.64169722795485,-87.673688,-87.674237,-87.622072,-87.626761,-87.642884,-87.66394,-87.65304,-87.653449,-87.599861,-87.63,-87.6363895,-87.66993016004562,-87.6010727606,-87.61806433333334,-87.6246839761734,-87.676491,-87.67411172389984,-87.685109,-87.6602845349,-87.62615133333334,-87.63682901859283,-87.61674816666667,-87.628722,-87.6737255,-87.632504,-87.634362,-87.64867,-87.76,-87.64169722795485,-87.653666,-87.65273116666667,-87.6558145,-87.619407,-87.641066,-87.6494219288,-87.65304,-87.65233016666667,-87.6344405,-87.673688,-87.64414,-87.66098386,-87.696027,-87.62790933333333,-87.7061278837,-87.69540333333333,-87.631942,-87.626761,-87.612043,-87.6308760584,-87.63,-87.629634,-87.631697,-87.705866,-87.64872461557388,-87.687275,-87.626217,-87.621743,-87.68033783333334,-87.6321405172348,-87.6860796243,-87.616743,-87.612813,-87.59,-87.629634,-87.68866466666667,-87.6,-87.628722,-87.65840426,-87.71,-87.631501,-87.62455,-87.63165166666667,-87.63089,-87.63639,-87.623727,-87.6641425,-87.62499883333334,-87.670072,-87.6153553902,-87.65840426,-87.64,-87.68,-87.6346,-87.643118,-87.58095816666666,-87.648755,-87.66762316666667,-87.69,-87.641066,-87.64865966666666,-87.622072,-87.656936,-87.694614758,-87.63,-87.617,-87.62603,-87.6344287848,-87.6435,-87.7168135,-87.631501,-87.67704616666667,-87.64948983333333,-87.62,-87.62279838323593,-87.67771566666667,-87.684001,-87.626761,-87.66394,-87.643749,-87.65102460980414,-87.6225025,-87.621743,-87.697977,-87.648789,-87.6554864,-87.6463795,-87.6486905,-87.6385057718,-87.668385,-87.629634,-87.6434005,-87.652855,-87.63958016666666,-87.62455,-87.626804,-87.60099816666667,-87.669807,-87.66,-87.6433534936,-87.648058,-87.59,-87.628722,-87.634266,-87.687022,-87.62455,-87.6488125,-87.619407,-87.677053,-87.623041,-87.61934466666666,-87.64924766666667,-87.62,-87.64543566666667,-87.654264,-87.631929,-87.65,-87.596471,-87.653106,-87.69,-87.63582453131676,-87.6346,-87.62,-87.59,-87.63651251792908,-87.61861681938171,-87.64,-87.69006933333333,-87.662007,-87.62279838323593,-87.636282,-87.64117,-87.66756716666667,-87.7,-87.59,-87.612043,-87.64,-87.64169722795485,-87.672552,-87.65883116666667,-87.669154,-87.671473,-87.62857854366302,-87.6297615,-87.62279838323593,-87.656936,-87.663712,-87.64867,-87.638677,-87.663913,-87.641823,-87.612043,-87.6385057718,-87.6858775,-87.66454,-87.591875,-87.79,-87.6014497734,-87.621743,-87.623041,-87.64781333333333,-87.629318,-87.66102383333333,-87.634656,-87.6295437729,-87.639147,-87.627844,-87.63566762208939,-87.626761,-87.638566,-87.587774,-87.6440978050232,-87.6296265,-87.6475386582,-87.6410685,-87.62805666666667,-87.64961779117584,-87.631697,-87.63440816666666,-87.623727,-87.67621433333333,-87.64864633333333,-87.65389933333333,-87.6626,-87.59,-87.6764600747,-87.639833,-87.64912883333334,-87.66402,-87.641823,-87.627474,-87.63386933333334,-87.659172,-87.632326,-87.627754,-87.69255683333333,-87.64883,-87.634324,-87.71,-87.6391675,-87.626761,-87.64129,-87.627754,-87.64950513839722,-87.667429,-87.634362,-87.61793,-87.64950513839722,-87.62232,-87.65103,-87.63639,-87.648636,-87.6523104689,-87.692706,-87.634324,-87.6435,-87.672477,-87.66863933333333,-87.607267,-87.656936,-87.642746,-87.63724207878113,-87.71,-87.64169722795485,-87.62279838323593,-87.634266,-87.64319233333333,-87.707857,-87.661206,-87.63904883333333,-87.63926683333334,-87.59,-87.62681233333333,-87.63963683333333,-87.66205883333333,-87.61793,-87.631246,-87.6489645,-87.6677,-87.667466164,-87.642884,-87.63078016666667,-87.63486116666667,-87.63173416666666,-87.623041,-87.601334,-87.66,-87.6410879593,-87.636282,-87.64324916666666,-87.641823,-87.65,-87.620104,-87.63639,-87.648625,-87.65,-87.7,-87.631340146,-87.63238933333334,-87.64883,-87.648384,-87.6445705849,-87.674237,-87.653106,-87.6310465,-87.67418666666667,-87.60008633333334,-87.691436887,-87.644120932,-87.66259216666667,-87.68241183333333,-87.697474,-87.679258,-87.64319916666666,-87.674237,-87.636282,-87.65222,-87.68,-87.69711183333334,-87.632105,-87.625961,-87.6259785,-87.6259080327,-87.64706233333334,-87.658751,-87.634362,-87.631501,-87.638742,-87.65114,-87.601334,-87.638973,-87.59642533333333,-87.627829,-87.6400355,-87.637715,-87.67702333333334,-87.65,-87.599861,-87.640591,-87.63163666666667,-87.6601406209,-87.629912,-87.63499633333333,-87.600142479,-87.64664,-87.65,-87.68,-87.6259080327,-87.627690528,-87.652855,-87.617013,-87.6678554713726,-87.654678,-87.61783783333334,-87.6010727606,-87.66,-87.658617,-87.64334583333333,-87.626217,-87.630834,-87.663733721,-87.64883,-87.66598133333333,-87.6,-87.64414,-87.62408432,-87.60004216666667,-87.631501,-87.620104,-87.72,-87.6523048564,-87.63102933333333,-87.638973,-87.6494219288,-87.62694933333333,-87.6259080327,-87.6540612729,-87.66,-87.6954455,-87.655618,-87.667747,-87.63128,-87.6537080423,-87.659172,-87.7014194389,-87.634656,-87.625734,-87.640722,-87.594747,-87.57632374763489,-87.64414,-87.6475386582,-87.67,-87.63128,-87.620104,-87.649077,-87.666611,-87.6357235,-87.6259080327,-87.65227266666666,-87.679028,-87.63,-87.6544865,-87.6602845349,-87.6537080423,-87.72,-87.62,-87.6367805,-87.627754,-87.6219152258,-87.636427,-87.6346715,-87.66,-87.654678,-87.634324,-87.672069,-87.63898883333333,-87.65,-87.635185,-87.633502,-87.6494219288,-87.613533,-87.64,-87.617854,-87.63,-87.65222,-87.6523104689,-87.62351,-87.624117,-87.648384,-87.58,-87.64117,-87.65,-87.634324,-87.599861,-87.641066,-87.62247716666667,-87.64129383333334,-87.65710466666667,-87.6894015,-87.626804,-87.69141266666666,-87.63,-87.629318,-87.64867,-87.65,-87.55,-87.64122283333333,-87.622481,-87.66674637794495,-87.63639,-87.638973,-87.72,-87.65116533333334,-87.72,-87.625813,-87.6529575,-87.633571,-87.59,-87.66789883333334,-87.612043,-87.649077,-87.6214765,-87.628722,-87.67319366666666,-87.6776919292,-87.653794,-87.634656,-87.629318,-87.7,-87.626804,-87.638677,-87.683282,-87.6435,-87.6537080423,-87.6010865,-87.61698933333334,-87.667747,-87.65210666666667,-87.66098386,-87.6346315,-87.63253,-87.6488575,-87.67722,-87.638973,-87.644336,-87.632326,-87.667747,-87.7018089555,-87.62,-87.625734,-87.672552,-87.69,-87.64169722795485,-87.63651251792908,-87.65304,-87.7018089555,-87.62377664,-87.6,-87.619486,-87.623041,-87.637536,-87.634362,-87.695476055,-87.61793,-87.64645383333334,-87.673573,-87.629318,-87.65,-87.624117,-87.6305845355,-87.649993,-87.6626,-87.6586865,-87.639904,-87.653833,-87.6523104689,-87.646439,-87.667252,-87.62408432,-87.59,-87.61893383333333,-87.68412566666666,-87.70665216666667,-87.644336,-87.63898633333334,-87.65103,-87.66913,-87.658865,-87.667429,-87.653106,-87.654406,-87.638437,-87.62163433333333,-87.63128,-87.627875,-87.69,-87.66913,-87.64098107814789,-87.618194,-87.700825,-87.594747,-87.654529,-87.6087991946,-87.642884,-87.65840426,-87.6637476682663,-87.66636083333333,-87.662007,-87.6385325,-87.64268159866333,-87.63854216666667,-87.652705,-87.66,-87.642884,-87.64098107814789,-87.697730184,-87.641066,-87.6487485,-87.667252,-87.63128,-87.658751,-87.62408432,-87.677855,-87.62351,-87.663712,-87.63582453131676,-87.629318,-87.6523048564,-87.6494219288,-87.63651251792908,-87.62377664,-87.64,-87.64645278453827,-87.674237,-87.64961779117584,-87.64926,-87.6246839761734,-87.69,-87.612043,-87.608218,-87.63,-87.62009816666666,-87.66,-87.63427166666666,-87.66,-87.68249833333333,-87.650001,-87.62733233333333,-87.586924,-87.6529865,-87.634362,-87.67,-87.648789,-87.63550400733948,-87.64117,-87.6385057718,-87.64417783333333,-87.64139116666666,-87.628722,-87.629318,-87.654691,-87.65464,-87.664199,-87.6864452757,-87.6,-87.6245605,-87.67564,-87.65001633333333,-87.65103,-87.62232,-87.6,-87.63225083333333,-87.60100683333333,-87.74,-87.63485533333333,-87.6259080327,-87.59,-87.64776,-87.66,-87.634266,-87.64895,-87.6721245,-87.6523104689,-87.6173505,-87.64883,-87.6946525,-87.64117,-87.63483,-87.659141,-87.69145133333333,-87.64098107814789,-87.59,-87.6722,-87.65348216666666,-87.608218,-87.61724033333333,-87.64,-87.634324,-87.639904,-87.68,-87.62058019638062,-87.64888683333334,-87.58766716666666,-87.63084216666667,-87.634266,-87.62634566666667,-87.63834866666667,-87.635185,-87.6756655,-87.62377664,-87.684001,-87.646439,-87.8,-87.68469707,-87.6465995,-87.631697,-87.653833,-87.643749,-87.63400433333334,-87.63253,-87.639192,-87.626761,-87.63087533333334,-87.667968,-87.66824033333333,-87.674237,-87.625813,-87.617854,-87.683825,-87.64407566666667,-87.61853566666667,-87.65346483333333,-87.709219571,-87.63827783333333,-87.71,-87.66394,-87.629634,-87.6216,-87.77,-87.635185,-87.638973,-87.66,-87.634324,-87.624426,-87.68608416666666,-87.627716,-87.636427,-87.64879766666667,-87.6311375,-87.664358,-87.641066,-87.63845183333333,-87.67,-87.6297910363,-87.629634,-87.62578783333333,-87.626761,-87.63559666666667,-87.71653516666666,-87.65107366666666,-87.66801266666667,-87.63,-87.6410879593,-87.64816883333333,-87.672107,-87.648043,-87.626761,-87.65,-87.6602738295,-87.613348,-87.586924,-87.6346,-87.66670716666667,-87.63209383333333,-87.625813,-87.62603,-87.631697,-87.594747,-87.649993,-87.6295209193,-87.66394,-87.639833,-87.599861,-87.634656,-87.66,-87.63169333333333,-87.636005521,-87.62455,-87.61936133333333,-87.61817933333333,-87.639904,-87.637536,-87.639192,-87.650154,-87.635903,-87.638557673,-87.72,-87.653176,-87.636282,-87.629912,-87.6256886059,-87.682437,-87.64926,-87.656495,-87.6,-87.6010727606,-87.64926,-87.62279838323593,-87.70730833333333,-87.634656,-87.639904,-87.631246,-87.635773,-87.639573,-87.637715,-87.66402,-87.63193130493164,-87.64549416666667,-87.6557365,-87.6346945,-87.68,-87.62279838323593,-87.63842133333333,-87.6722,-87.629318,-87.59,-87.675278,-87.63669983333334,-87.58083533333334,-87.75,-87.661501,-87.62628050000001,-87.6,-87.63,-87.631501,-87.63483,-87.62279838323593,-87.6433534936,-87.625813,-87.63582453131676,-87.64098107814789,-87.653818,-87.645451,-87.631246,-87.62248483333333,-87.631246,-87.68016144633293,-87.631501,-87.64645278453827,-87.652705,-87.64873283333333,-87.629634,-87.64826133333334,-87.638181,-87.629318,-87.62862616666666,-87.68016144633293,-87.64,-87.71,-87.6346,-87.586924,-87.63682901859283,-87.64414608478546,-87.664358,-87.629634,-87.61,-87.63089,-87.656853,-87.6,-87.64633166666667,-87.63128,-87.6,-87.65121566666667,-87.641066,-87.654678,-87.6445705849,-87.61,-87.64414,-87.63,-87.6,-87.674237,-87.68697283333333,-87.6,-87.64867,-87.64,-87.63582453131676,-87.634656,-87.625961,-87.62058019638062,-87.651073,-87.639192,-87.645361,-87.6346,-87.622072,-87.64887816666666,-87.641823,-87.62953016666667,-87.66581883333333,-87.626171,-87.6191537415,-87.635185,-87.648128,-87.637671,-87.62411116666667,-87.6429854676,-87.669154,-87.6,-87.62605066666667,-87.62422983333333,-87.667252,-87.6258935,-87.6385057718,-87.656853,-87.67097,-87.648789,-87.616743,-87.653833,-87.59646616666667,-87.64961779117584,-87.666036,-87.63639,-87.642884,-87.64,-87.63566762208939,-87.6439535,-87.6489065,-87.631873965,-87.66721483333333,-87.63566762208939,-87.64398583333333,-87.64895,-87.645361,-87.647071,-87.6,-87.64869783333333,-87.68,-87.672069,-87.6554864,-87.66589366666666,-87.6295437729,-87.648043,-87.6484798752,-87.648755,-87.627844,-87.625716,-87.63193130493164,-87.6,-87.649603,-87.631697,-87.627716,-87.625813,-87.62779683333333,-87.64599144458771,-87.626804,-87.6,-87.658617,-87.62377664,-87.62956883333334,-87.653106,-87.6455405,-87.663913,-87.634362,-87.63639,-87.646439,-87.6353211408,-87.667747,-87.62603,-87.7,-87.6,-87.707322,-87.6626,-87.64332316666666,-87.613533,-87.64895,-87.59,-87.6014497734,-87.65304,-87.647172,-87.66402,-87.586924,-87.6318229814,-87.696027,-87.63504766666667,-87.657065,-87.6655023944,-87.625125,-87.638677,-87.6639805,-87.6014497734,-87.648636,-87.640552,-87.618747,-87.627690528,-87.65,-87.659141,-87.619521,-87.63183166666667,-87.619521,-87.629155,-87.674237,-87.65222,-87.638437,-87.63483,-87.649807,-87.652705,-87.58,-87.629155,-87.627690528,-87.6444478533,-87.6219152258,-87.638181,-87.667252,-87.6677,-87.705866,-87.64018533333333,-87.65,-87.629634,-87.633502,-87.6385057718,-87.626804,-87.62058019638062,-87.648580432,-87.63443007,-87.63550400733948,-87.667252,-87.63483,-87.68,-87.6475386582,-87.6658,-87.586924,-87.648043,-87.648789,-87.62058019638062,-87.61793,-87.6010727606,-87.66402,-87.639366,-87.625813,-87.66760468482971,-87.623981,-87.6194124619,-87.652855,-87.67799816666667,-87.63253,-87.6,-87.64950513839722,-87.638973,-87.662007,-87.642884,-87.6,-87.62377664,-87.6355,-87.63682901859283,-87.6554864,-87.64169722795485,-87.620104,-87.62681516666666,-87.59,-87.599861,-87.659141,-87.654678,-87.669154,-87.62232,-87.6771005,-87.69,-87.64810083333333,-87.65278716666667,-87.636427,-87.625813,-87.653818,-87.662007,-87.667968,-87.677821,-87.697153,-87.67728833333334,-87.69,-87.6010727606,-87.69,-87.6353211408,-87.6554864,-87.62455,-87.638677,-87.67722,-87.6435,-87.62679755687714,-87.707322,-87.62906583333333,-87.624117,-87.6580399274826,-87.71,-87.63161383333333,-87.677855,-87.638973,-87.63375883333333,-87.65018533333334,-87.66594816666667,-87.62455,-87.64,-87.653106,-87.65693416666667,-87.69367233333334,-87.64638036489487,-87.63201566666666,-87.624117,-87.6637476682663,-87.663576,-87.632326,-87.7011951301,-87.636282,-87.65464,-87.668385,-87.668507,-87.580715,-87.62036766666667,-87.677335,-87.649807,-87.669154,-87.61861681938171,-87.635185,-87.7168892935,-87.63,-87.6246839761734,-87.64169722795485,-87.62224066666667,-87.63651251792908,-87.653833,-87.64375766666667,-87.625125,-87.66,-87.671387,-87.616743,-87.78,-87.634656,-87.68,-87.639192,-87.7,-87.658751,-87.62058019638062,-87.62299966666667,-87.77,-87.652662,-87.64098107814789,-87.663913,-87.638426423,-87.645451,-87.66,-87.63,-87.629155,-87.6893070063,-87.67722,-87.6,-87.648384,-87.617854,-87.64,-87.62,-87.65103,-87.631942,-87.6297910363,-87.65103,-87.64,-87.64894966666667,-87.64926,-87.635185,-87.72,-87.716755,-87.6823890209198,-87.64117,-87.6588365,-87.641066,-87.626804,-87.6511,-87.64895,-87.69265919923781,-87.652662,-87.68016144633293,-87.6658,-87.63310833333334,-87.629912,-87.683485,-87.681391,-87.71,-87.6014497734,-87.661501,-87.63443007,-87.65,-87.65547483333333,-87.652662,-87.72,-87.64776,-87.6298595,-87.67756016666667,-87.60110416666667,-87.63462183333333,-87.58,-87.65966,-87.653818,-87.653818,-87.631942,-87.656952,-87.6346,-87.6256886059,-87.683825,-87.67264233333333,-87.6540612729,-87.616743,-87.627754,-87.648625,-87.6713773393,-87.638973,-87.6952959227,-87.72,-87.642884,-87.65840426,-87.619407,-87.62408,-87.612043,-87.6385057718,-87.707322,-87.614492,-87.643292,-87.59,-87.623041,-87.643803,-87.68,-87.634266,-87.69542016666666,-87.641066,-87.68016144633293,-87.71902766666666,-87.638437,-87.634362,-87.64950513839722,-87.6353211408,-87.620104,-87.612043,-87.63188991,-87.63089,-87.635185,-87.668835,-87.652705,-87.6776919292,-87.67419,-87.64645278453827,-87.6882193648,-87.673688,-87.6385057718,-87.623041,-87.646439,-87.636618,-87.69529866666667,-87.63566762208939,-87.653818,-87.617854,-87.64895,-87.662013292,-87.6440978050232,-87.65,-87.66593635082245,-87.652662,-87.658865,-87.65478743,-87.6602845349,-87.63682901859283,-87.62592483333333,-87.629318,-87.66993016004562,-87.67,-87.638124347,-87.6865960164,-87.6246839761734,-87.6153553902,-87.6295209193,-87.62666583333333,-87.694614758,-87.64867,-87.644336,-87.6713773393,-87.633502,-87.651062,-87.648128,-87.63547986745834,-87.62249633333333,-87.6346,-87.698007756,-87.6219152258,-87.6353211408,-87.6626,-87.64926,-87.64414,-87.6,-87.661501,-87.65,-87.669807,-87.625961,-87.64403216666666,-87.64572,-87.638566,-87.62,-87.59987233333334,-87.64,-87.69,-87.671387,-87.64837516666667,-87.681391,-87.65448616666667,-87.6219152258,-87.66786583333334,-87.77447599999999,-87.668507,-87.634362,-87.677821,-87.63554816666667,-87.62,-87.64640633333333,-87.638973,-87.6677,-87.648755,-87.662007,-87.59,-87.623981,-87.6433534936,-87.7,-87.626804,-87.638437,-87.645143,-87.6153553902,-87.667252,-87.614492,-87.6,-87.6,-87.65,-87.638677,-87.6153553902,-87.636618,-87.6445705849,-87.6413355,-87.65103,-87.63547986745834,-87.64274597167967,-87.627690528,-87.580715,-87.62455,-87.74,-87.6433534936,-87.65,-87.667429,-87.64895,-87.6385057718,-87.663576,-87.6308760584,-87.66593635082245,-87.633502,-87.62603,-87.79,-87.64524333333334,-87.60143783333334,-87.65443133333333,-87.6277335692,-87.6540612729,-87.636282,-87.619407,-87.639904,-87.658139,-87.648789,-87.631929,-87.644336,-87.63722866666667,-87.627844,-87.631697,-87.65,-87.6554864,-87.6262305,-87.639366,-87.641648,-87.629634,-87.63838133333333,-87.681391,-87.62797504663467,-87.682532,-87.658971,-87.64,-87.62174966666667,-87.608218,-87.66,-87.64415516666666,-87.630834,-87.6444478533,-87.580715,-87.63089,-87.63219,-87.638888,-87.648789,-87.65103,-87.64,-87.65885333333334,-87.652855,-87.654264,-87.68870428204536,-87.631697,-87.62783423066139,-87.651062,-87.71906516666667,-87.619521,-87.6295209193,-87.663913,-87.66913,-87.63166933333333,-87.662013769,-87.650068,-87.6433534936,-87.617854,-87.65,-87.626172543,-87.63128,-87.627844,-87.68,-87.76,-87.69,-87.672552,-87.71,-87.668385,-87.63901933333334,-87.607267,-87.59,-87.6626,-87.63209583333334,-87.6259080327,-87.63651251792908,-87.69,-87.627690528,-87.6469545,-87.67722,-87.67752716666666,-87.65,-87.677335,-87.659172,-87.66,-87.6602738295,-87.63893833333333,-87.638973,-87.65,-87.707857,-87.656936,-87.587782,-87.638236,-87.59,-87.696704,-87.67,-87.65840426,-87.677855,-87.64338233333334,-87.648625,-87.64664,-87.656495,-87.644336,-87.69,-87.637536,-87.68,-87.63128,-87.65,-87.648789,-87.617854,-87.7,-87.659172,-87.649077,-87.71,-87.62281283333333,-87.59,-87.62857854366302,-87.63565366666667,-87.64895,-87.668835,-87.6680471047,-87.623021,-87.639833,-87.667429,-87.79,-87.6278175,-87.657659,-87.624079,-87.65,-87.6320025,-87.63443007,-87.6658345,-87.66,-87.6385057718,-87.63483,-87.66394,-87.601334,-87.6219152258,-87.6696595,-87.6911650414,-87.638973,-87.66828983333333,-87.63462483333333,-87.649993,-87.69,-87.652855,-87.599861,-87.66402,-87.673688,-87.6823890209198,-87.62167533333333,-87.625813,-87.659172,-87.66913,-87.65469483333334,-87.633879,-87.617,-87.580715,-87.66402,-87.63379783333333,-87.65,-87.6346485,-87.648789,-87.631942,-87.67722,-87.6725225,-87.658751,-87.62377664,-87.658617,-87.626761,-87.62232,-87.64895,-87.648636,-87.64414,-87.66783716666667,-87.641066,-87.62012883333334,-87.63167216666666,-87.61,-87.7,-87.64926,-87.642884,-87.6,-87.69,-87.65840426,-87.6539115,-87.626185,-87.636282,-87.661206,-87.6440978050232,-87.648384,-87.613348,-87.625125,-87.75,-87.68,-87.6722,-87.616743,-87.68809183333333,-87.626804,-87.69810633333333,-87.71,-87.639904,-87.652705,-87.697153,-87.64117,-87.634656,-87.684001,-87.6014885,-87.649603,-87.639573,-87.58092866666667,-87.61,-87.6385057718,-87.62300983333333,-87.63253,-87.64867,-87.6,-87.6,-87.626185,-87.62351,-87.599861,-87.6010727606,-87.65340916666666,-87.6602845349,-87.663576,-87.59,-87.6353211408,-87.64895,-87.61861681938171,-87.654264,-87.67,-87.661501,-87.648384,-87.63639,-87.62351,-87.58,-87.659753,-87.69,-87.648128,-87.637536,-87.679258,-87.64895,-87.6580399274826,-87.631942,-87.630834,-87.648636,-87.6,-87.649077,-87.638675,-87.63682901859283,-87.63375316666666,-87.63483,-87.656853,-87.67,-87.64098107814789,-87.64552083333334,-87.58093416666667,-87.648789,-87.69540516666666,-87.68,-87.62377664,-87.65103,-87.638437,-87.65478743,-87.638677,-87.62279838323593,-87.64,-87.63,-87.62935966666667,-87.648625,-87.68411066666667,-87.64947933333333,-87.71,-87.6229495,-87.673573,-87.625125,-87.654406,-87.648789,-87.6308760584,-87.646439,-87.62054800987242,-87.65966,-87.6351685,-87.638677,-87.636618,-87.612043,-87.69,-87.59,-87.66593635082245,-87.673688,-87.636282,-87.639192,-87.62232,-87.64117,-87.634324,-87.638181,-87.68235033333333,-87.732002,-87.6475386582,-87.677409,-87.661206,-87.6078521774,-87.61,-87.687275,-87.64883,-87.646439,-87.612813,-87.65275516666667,-87.73,-87.64664,-87.65222,-87.674237,-87.6574349533,-87.6,-87.67217,-87.648789,-87.6537080423,-87.65002583333333,-87.641066,-87.6346,-87.63848583333333,-87.62,-87.6554864,-87.6385057718,-87.6785785,-87.67,-87.6363415,-87.626761,-87.6511,-87.630834,-87.65635933333333,-87.63128,-87.62279838323593,-87.629318,-87.652705,-87.653818,-87.6,-87.6626,-87.634362,-87.626804,-87.659753,-87.62,-87.576332211,-87.6308760584,-87.6,-87.638181,-87.6277335692,-87.6014497734,-87.629634,-87.65905616666667,-87.64811716666667,-87.62058019638062,-87.627844,-87.697474,-87.631942,-87.691392,-87.64129,-87.6120555,-87.658751,-87.57632374763489,-87.642884,-87.63635733333334,-87.63128,-87.6295209193,-87.689556,-87.667747,-87.6445705849,-87.62,-87.6658,-87.649077,-87.648043,-87.64194633333334,-87.64414,-87.63566762208939,-87.64,-87.6,-87.649807,-87.63445333333334,-87.612043,-87.64169722795485,-87.62601614,-87.66,-87.6580399274826,-87.63,-87.626652,-87.6,-87.6256886059,-87.629155,-87.63257166666666,-87.63253,-87.6951398068,-87.654529,-87.63162033333333,-87.645361,-87.639366,-87.634656,-87.6346,-87.638973,-87.63131083333333,-87.6445705849,-87.633502,-87.654529,-87.6,-87.629318,-87.6554864,-87.639187,-87.71,-87.64926,-87.638677,-87.65,-87.62408432,-87.6677,-87.634266,-87.6684505,-87.66098386,-87.59,-87.707857,-87.641823,-87.65459333333334,-87.626804,-87.66,-87.641823,-87.634324,-87.6330940425396,-87.626217,-87.63419166666667,-87.614492,-87.612043,-87.65304,-87.63874366666667,-87.62754333333334,-87.62358683333333,-87.612043,-87.6349525,-87.635491,-87.81,-87.68622766666667,-87.67617533333333,-87.70628183333334,-87.7,-87.669154,-87.63768816666666,-87.62377664,-87.68870428204536,-87.696027,-87.6680471047,-87.64268159866333,-87.63833983333333,-87.63954683333333,-87.6523048564,-87.663913,-87.659141,-87.65911316666667,-87.625813,-87.629318,-87.635185,-87.594747,-87.58,-87.59,-87.67373085021973,-87.7,-87.63472366666667,-87.62058019638062,-87.63682901859283,-87.63953,-87.6319852213,-87.68374366666667,-87.69158166666666,-87.6996445,-87.66152516666666,-87.61756933333334,-87.654529,-87.673688,-87.66,-87.590368,-87.64774033333333,-87.629912,-87.642746,-87.617854,-87.64638841152191,-87.64776,-87.63774,-87.71,-87.641066,-87.65966,-87.63,-87.678435,-87.612043,-87.679028,-87.63569066666666,-87.652855,-87.634598,-87.69,-87.63198566666667,-87.67,-87.670072,-87.6259080327,-87.65,-87.63639,-87.6346,-87.59,-87.66142783333333,-87.639032,-87.6475386582,-87.66156683333334,-87.6297910363,-87.6410879593,-87.631929,-87.630834,-87.643118,-87.648043,-87.661206,-87.623727,-87.59,-87.629318,-87.63582453131676,-87.64892233333333,-87.62175768613815,-87.64139383333334,-87.649603,-87.64895,-87.6182625,-87.63,-87.661501,-87.7,-87.684158,-87.6602845349,-87.64776,-87.640552,-87.61933966666666,-87.646439,-87.632059216,-87.698224,-87.677855,-87.654529,-87.64,-87.625125,-87.63,-87.6219152258,-87.639192,-87.65,-87.629912,-87.637536,-87.648595,-87.67744616666667,-87.658865,-87.64490316666667,-87.62279838323593,-87.66384216666667,-87.65508733333333,-87.624117,-87.6743671152,-87.62408,-87.658865,-87.63219,-87.67,-87.648384,-87.64638841152191,-87.650154,-87.5970051479,-87.70145916666667,-87.621857,-87.6385057718,-87.6537080423,-87.64867,-87.654678,-87.63,-87.62455,-87.64165183333333,-87.668385,-87.629155,-87.62377664,-87.6440978050232,-87.63867883333333,-87.69617616666666,-87.631942,-87.594747,-87.64950513839722,-87.6951398068,-87.64,-87.631942,-87.6544965,-87.6444478533,-87.617,-87.66098386,-87.65966,-87.67697083333333,-87.638973,-87.64895,-87.6344287848,-87.661501,-87.659141,-87.587782,-87.6440978050232,-87.652705,-87.723574,-87.617854,-87.63,-87.616743,-87.641823,-87.6,-87.656952,-87.632326,-87.646547198,-87.683593,-87.6,-87.59699216666667,-87.627690528,-87.63253,-87.658751,-87.633502,-87.634656,-87.6295209193,-87.627844,-87.6440978050232,-87.63920833333333,-87.640826,-87.62764233333333,-87.64,-87.641823,-87.6444478533,-87.627690528,-87.67,-87.653106,-87.64776,-87.63566762208939,-87.66856491565704,-87.627889156,-87.654873,-87.6,-87.64872461557388,-87.64926,-87.6295209193,-87.63,-87.621743,-87.64950513839722,-87.67097,-87.68,-87.6259080327,-87.71,-87.624426,-87.659141,-87.67649816666666,-87.66923983333334,-87.638566,-87.6475386582,-87.63715466666666,-87.654691,-87.63219,-87.6385057718,-87.64414,-87.67616533333333,-87.62408,-87.636427,-87.677335,-87.61793,-87.66,-87.629407,-87.650154,-87.631929,-87.62279838323593,-87.63751816666667,-87.6433534936,-87.673573,-87.6385057718,-87.649993,-87.707857,-87.62058019638062,-87.6658,-87.623041,-87.658139,-87.67077666666667,-87.668507,-87.6014497734,-87.6413335,-87.596471,-87.65,-87.653106,-87.62058019638062,-87.6,-87.616797,-87.599861,-87.616743,-87.6246839761734,-87.619521,-87.5970015,-87.68,-87.658617,-87.63128,-87.616743,-87.6534465,-87.626217,-87.6432745,-87.63483,-87.64316866666667,-87.625813,-87.63473883333333,-87.74,-87.69,-87.64867,-87.6511,-87.71,-87.627690528,-87.63158066666666,-87.63462166666666,-87.63188991,-87.7066499009,-87.7,-87.629912,-87.67,-87.64881366666667,-87.67,-87.6440978050232,-87.64169722795485,-87.658751,-87.65,-87.628722,-87.62377333333333,-87.653449,-87.59,-87.668288,-87.631246,-87.5864498959,-87.62,-87.627716,-87.65464,-87.661535,-87.626761,-87.661501,-87.661501,-87.6355,-87.635406,-87.678435,-87.634362,-87.64659216666666,-87.658865,-87.68016144633293,-87.625813,-87.6776919292,-87.64,-87.625961,-87.66593635082245,-87.639192,-87.668385,-87.629634,-87.67919233333333,-87.601334,-87.6677685,-87.6246839761734,-87.6353211408,-87.673935,-87.634362,-87.634656,-87.632326,-87.64867,-87.636427,-87.6626,-87.648636,-87.65240166666666,-87.711567998,-87.63547216666667,-87.63,-87.6466565,-87.636282,-87.654051,-87.67097,-87.63089,-87.6440978050232,-87.64374,-87.66605,-87.673688,-87.64776,-87.636282,-87.76495766666666,-87.64664,-87.68,-87.6742615,-87.6308760584,-87.71,-87.601334,-87.62455,-87.63585266666666,-87.6658,-87.599861,-87.61693166666667,-87.63716466666666,-87.59466166666667,-87.646439,-87.6295209193,-87.667429,-87.661501,-87.627690528,-87.68,-87.62770516666667,-87.63550400733948,-87.6344287848,-87.626804,-87.64419516666666,-87.63483,-87.634362,-87.6385057718,-87.661501,-87.63193130493164,-87.673688,-87.65102460980414,-87.6330940425396,-87.64117,-87.6523048564,-87.65,-87.67,-87.6153553902,-87.63593066666667,-87.62438,-87.64332,-87.64950513839722,-87.64169722795485,-87.631942,-87.64271983333333,-87.68391583333333,-87.634266,-87.614492,-87.619521,-87.6,-87.682297,-87.63,-87.63900888,-87.653818,-87.633502,-87.631501,-87.654678,-87.587782,-87.59,-87.621743,-87.67,-87.636282,-87.63128,-87.629634,-87.613348,-87.673935,-87.63869116666666,-87.64394760131836,-87.656625,-87.62279838323593,-87.643118,-87.63867783333333,-87.621743,-87.6523104689,-87.658751,-87.656495,-87.652662,-87.661535,-87.644336,-87.6256886059,-87.626804,-87.652705,-87.6219152258,-87.624117,-87.65222,-87.81,-87.652705,-87.642884,-87.63651251792908,-87.5970051479,-87.6444478533,-87.635353,-87.6175165471,-87.677335,-87.69,-87.72,-87.663712,-87.654529,-87.629477,-87.668385,-87.626217,-87.63547986745834,-87.63221483333334,-87.687275,-87.60008383333333,-87.639053,-87.6580399274826,-87.658139,-87.6314775,-87.68061283333333,-87.6611982433,-87.639192,-87.649077,-87.624117,-87.6445705849,-87.653818,-87.59991,-87.674237,-87.62351,-87.71,-87.65447416666666,-87.63120183333334,-87.669886,-87.6295437729,-87.71,-87.58,-87.63483,-87.63128,-87.63639,-87.71,-87.66913,-87.70594016666666,-87.6655023944,-87.66913,-87.65103,-87.648128,-87.64117,-87.650001,-87.67764633333333,-87.6293475,-87.6259080327,-87.63965716666667,-87.6,-87.60111177,-87.639366,-87.66402,-87.62351,-87.69,-87.648128,-87.649603,-87.69,-87.6342745,-87.633502,-87.625857115,-87.64806183333333,-87.6484798752,-87.642746,-87.648043,-87.646439,-87.6330940425396,-87.638677,-87.6475386582,-87.644336,-87.631697,-87.631942,-87.633502,-87.6430085,-87.644387,-87.68346833333334,-87.6297910363,-87.6724024047,-87.65103,-87.632326,-87.634656,-87.68,-87.623041,-87.594692826,-87.6537080423,-87.6292535,-87.607267,-87.652855,-87.63156966666666,-87.62279838323593,-87.637536,-87.64,-87.72,-87.62801516666667,-87.65102460980414,-87.626809239,-87.655519,-87.5864498959,-87.648625,-87.64904816666666,-87.626804,-87.634362,-87.631501,-87.666507,-87.641978,-87.59991466666666,-87.7,-87.677335,-87.62058019638062,-87.6364695,-87.69873,-87.65222,-87.67,-87.69,-87.69,-87.6,-87.640552,-87.6,-87.62377664,-87.667747,-87.629318,-87.65,-87.62377664,-87.6678554713726,-87.670072,-87.65297066666666,-87.631501,-87.63483,-87.62797504663467,-87.64,-87.6,-87.6445705849,-87.65,-87.63,-87.626804,-87.596471,-87.63953,-87.61861681938171,-87.636282,-87.63128,-87.64883,-87.63128,-87.6321335,-87.65114,-87.6133635,-87.63,-87.62179383333333,-87.58,-87.672552,-87.645361,-87.687022,-87.64776,-87.656936,-87.65114,-87.64148366666667,-87.6297910363,-87.65966,-87.646439,-87.626217,-87.644336,-87.642884,-87.629634,-87.653818,-87.626575,-87.64926,-87.62455,-87.6497815,-87.64169722795485,-87.633879,-87.58,-87.6784225,-87.64883,-87.596471,-87.6295209193,-87.587782,-87.6537080423,-87.638973,-87.623727,-87.696704,-87.689556,-87.71,-87.6743671152,-87.671257853508,-87.643118,-87.66989266666667,-87.63156233333333,-87.66117916666667,-87.7,-87.64414,-87.594747,-87.631942,-87.627754,-87.599861,-87.6429854676,-87.6315955,-87.636282,-87.62578383333333,-87.65,-87.628722,-87.644336,-87.66841683333334,-87.638566,-87.63483,-87.64954616666667,-87.626804,-87.64546216666666,-87.66,-87.64961779117584,-87.62,-87.62811383333333,-87.64394760131836,-87.638566,-87.6776919292,-87.65703,-87.63161783333334,-87.6014497734,-87.632326,-87.638973,-87.71,-87.594747,-87.63756783333334,-87.639366,-87.6169075,-87.6797395,-87.667252,-87.66593635082245,-87.66257466666667,-87.64117,-87.673567,-87.63845466666666,-87.64883,-87.659172,-87.69265919923781,-87.6295209193,-87.6,-87.7089723944664,-87.65,-87.64628933333333,-87.683359,-87.6429854676,-87.617867,-87.649603,-87.62408,-87.66394,-87.62301766666667,-87.627542,-87.65,-87.6259080327,-87.6,-87.634324,-87.71,-87.638888,-87.638437,-87.74,-87.71,-87.6014497734,-87.6429854676,-87.58,-87.667747,-87.648867,-87.667147,-87.63503066666667,-87.608218,-87.617867,-87.64169722795485,-87.6256886059,-87.64889616666666,-87.62671233333333,-87.646997,-87.625999,-87.631942,-87.60006383333334,-87.65478743,-87.627844,-87.631501,-87.651088476,-87.6295209193,-87.648636,-87.648608,-87.7,-87.62689883333333,-87.62279838323593,-87.66593635082245,-87.625961,-87.596471,-87.638677,-87.580715,-87.673688,-87.65464,-87.623041,-87.667747,-87.648026,-87.658865,-87.607267,-87.686112808,-87.64,-87.644336,-87.626804,-87.601187,-87.63089,-87.64414608478546,-87.7080325,-87.594747,-87.64436166666667,-87.64,-87.658139,-87.6,-87.6475386582,-87.648636,-87.61941283333333,-87.638181,-87.62370733333333,-87.64098107814789,-87.636282,-87.6319705,-87.616743,-87.613277,-87.62408432,-87.66989533333333,-87.649077,-87.6440978050232,-87.64633716666667,-87.6523104689,-87.63128,-87.66,-87.6,-87.662007,-87.62358833333333,-87.6655023944,-87.636427,-87.661501,-87.639474,-87.64113916666666,-87.76,-87.67373085021973,-87.68409816666667,-87.6,-87.64887566666667,-87.61861681938171,-87.631246,-87.626804,-87.62312333333334,-87.642746,-87.644336,-87.648789,-87.686234,-87.6344405,-87.62279838323593,-87.63489466666667,-87.630834,-87.638181,-87.76,-87.586924,-87.66394,-87.673935,-87.6597795,-87.6444478533,-87.65463883333334,-87.7,-87.71,-87.64411133333333,-87.66098386,-87.586924,-87.6014497734,-87.63188991,-87.63,-87.59,-87.71,-87.66,-87.619393349,-87.649993,-87.61954116666666,-87.670030713,-87.71,-87.71,-87.637536,-87.667747,-87.64125616666666,-87.62,-87.65887166666667,-87.673567,-87.6665135,-87.69866383333333,-87.63,-87.658971,-87.64117,-87.62455,-87.63537116666667,-87.6784915,-87.6776855,-87.643118,-87.619298,-87.667747,-87.7,-87.67356833333334,-87.639366,-87.63539083333333,-87.594747,-87.6,-87.64961779117584,-87.64123333333333,-87.635406,-87.6537080423,-87.732002,-87.661501,-87.6689315,-87.643749,-87.6602738295,-87.63814216666667,-87.67373085021973,-87.62463766666667,-87.625734,-87.6475386582,-87.61793,-87.629318,-87.65704866666667,-87.634362,-87.63253,-87.621857,-87.6523048564,-87.61,-87.6,-87.6523048564,-87.671473,-87.613533,-87.6440978050232,-87.67938833333334,-87.69,-87.659753,-87.63639,-87.592464,-87.648636,-87.6626,-87.58692233333333,-87.63477766666666,-87.630834,-87.626804,-87.6231135,-87.6602845349,-87.63161833333334,-87.652662,-87.632326,-87.626185,-87.63128,-87.66857,-87.629318,-87.642884,-87.638742,-87.6353211408,-87.619521,-87.67,-87.63547986745834,-87.67722,-87.63682901859283,-87.63219,-87.71],\"marker\":{\"color\":\"#9ccc84\",\"opacity\":1},\"mode\":\"markers\",\"name\":\"member\",\"showlegend\":true,\"subplot\":\"mapbox\",\"type\":\"scattermapbox\"}],                        {\"template\":{\"data\":{\"histogram2dcontour\":[{\"type\":\"histogram2dcontour\",\"colorbar\":{\"outlinewidth\":0,\"ticks\":\"\"},\"colorscale\":[[0.0,\"#0d0887\"],[0.1111111111111111,\"#46039f\"],[0.2222222222222222,\"#7201a8\"],[0.3333333333333333,\"#9c179e\"],[0.4444444444444444,\"#bd3786\"],[0.5555555555555556,\"#d8576b\"],[0.6666666666666666,\"#ed7953\"],[0.7777777777777778,\"#fb9f3a\"],[0.8888888888888888,\"#fdca26\"],[1.0,\"#f0f921\"]]}],\"choropleth\":[{\"type\":\"choropleth\",\"colorbar\":{\"outlinewidth\":0,\"ticks\":\"\"}}],\"histogram2d\":[{\"type\":\"histogram2d\",\"colorbar\":{\"outlinewidth\":0,\"ticks\":\"\"},\"colorscale\":[[0.0,\"#0d0887\"],[0.1111111111111111,\"#46039f\"],[0.2222222222222222,\"#7201a8\"],[0.3333333333333333,\"#9c179e\"],[0.4444444444444444,\"#bd3786\"],[0.5555555555555556,\"#d8576b\"],[0.6666666666666666,\"#ed7953\"],[0.7777777777777778,\"#fb9f3a\"],[0.8888888888888888,\"#fdca26\"],[1.0,\"#f0f921\"]]}],\"heatmap\":[{\"type\":\"heatmap\",\"colorbar\":{\"outlinewidth\":0,\"ticks\":\"\"},\"colorscale\":[[0.0,\"#0d0887\"],[0.1111111111111111,\"#46039f\"],[0.2222222222222222,\"#7201a8\"],[0.3333333333333333,\"#9c179e\"],[0.4444444444444444,\"#bd3786\"],[0.5555555555555556,\"#d8576b\"],[0.6666666666666666,\"#ed7953\"],[0.7777777777777778,\"#fb9f3a\"],[0.8888888888888888,\"#fdca26\"],[1.0,\"#f0f921\"]]}],\"heatmapgl\":[{\"type\":\"heatmapgl\",\"colorbar\":{\"outlinewidth\":0,\"ticks\":\"\"},\"colorscale\":[[0.0,\"#0d0887\"],[0.1111111111111111,\"#46039f\"],[0.2222222222222222,\"#7201a8\"],[0.3333333333333333,\"#9c179e\"],[0.4444444444444444,\"#bd3786\"],[0.5555555555555556,\"#d8576b\"],[0.6666666666666666,\"#ed7953\"],[0.7777777777777778,\"#fb9f3a\"],[0.8888888888888888,\"#fdca26\"],[1.0,\"#f0f921\"]]}],\"contourcarpet\":[{\"type\":\"contourcarpet\",\"colorbar\":{\"outlinewidth\":0,\"ticks\":\"\"}}],\"contour\":[{\"type\":\"contour\",\"colorbar\":{\"outlinewidth\":0,\"ticks\":\"\"},\"colorscale\":[[0.0,\"#0d0887\"],[0.1111111111111111,\"#46039f\"],[0.2222222222222222,\"#7201a8\"],[0.3333333333333333,\"#9c179e\"],[0.4444444444444444,\"#bd3786\"],[0.5555555555555556,\"#d8576b\"],[0.6666666666666666,\"#ed7953\"],[0.7777777777777778,\"#fb9f3a\"],[0.8888888888888888,\"#fdca26\"],[1.0,\"#f0f921\"]]}],\"surface\":[{\"type\":\"surface\",\"colorbar\":{\"outlinewidth\":0,\"ticks\":\"\"},\"colorscale\":[[0.0,\"#0d0887\"],[0.1111111111111111,\"#46039f\"],[0.2222222222222222,\"#7201a8\"],[0.3333333333333333,\"#9c179e\"],[0.4444444444444444,\"#bd3786\"],[0.5555555555555556,\"#d8576b\"],[0.6666666666666666,\"#ed7953\"],[0.7777777777777778,\"#fb9f3a\"],[0.8888888888888888,\"#fdca26\"],[1.0,\"#f0f921\"]]}],\"mesh3d\":[{\"type\":\"mesh3d\",\"colorbar\":{\"outlinewidth\":0,\"ticks\":\"\"}}],\"scatter\":[{\"fillpattern\":{\"fillmode\":\"overlay\",\"size\":10,\"solidity\":0.2},\"type\":\"scatter\"}],\"parcoords\":[{\"type\":\"parcoords\",\"line\":{\"colorbar\":{\"outlinewidth\":0,\"ticks\":\"\"}}}],\"scatterpolargl\":[{\"type\":\"scatterpolargl\",\"marker\":{\"colorbar\":{\"outlinewidth\":0,\"ticks\":\"\"}}}],\"bar\":[{\"error_x\":{\"color\":\"#2a3f5f\"},\"error_y\":{\"color\":\"#2a3f5f\"},\"marker\":{\"line\":{\"color\":\"#E5ECF6\",\"width\":0.5},\"pattern\":{\"fillmode\":\"overlay\",\"size\":10,\"solidity\":0.2}},\"type\":\"bar\"}],\"scattergeo\":[{\"type\":\"scattergeo\",\"marker\":{\"colorbar\":{\"outlinewidth\":0,\"ticks\":\"\"}}}],\"scatterpolar\":[{\"type\":\"scatterpolar\",\"marker\":{\"colorbar\":{\"outlinewidth\":0,\"ticks\":\"\"}}}],\"histogram\":[{\"marker\":{\"pattern\":{\"fillmode\":\"overlay\",\"size\":10,\"solidity\":0.2}},\"type\":\"histogram\"}],\"scattergl\":[{\"type\":\"scattergl\",\"marker\":{\"colorbar\":{\"outlinewidth\":0,\"ticks\":\"\"}}}],\"scatter3d\":[{\"type\":\"scatter3d\",\"line\":{\"colorbar\":{\"outlinewidth\":0,\"ticks\":\"\"}},\"marker\":{\"colorbar\":{\"outlinewidth\":0,\"ticks\":\"\"}}}],\"scattermapbox\":[{\"type\":\"scattermapbox\",\"marker\":{\"colorbar\":{\"outlinewidth\":0,\"ticks\":\"\"}}}],\"scatterternary\":[{\"type\":\"scatterternary\",\"marker\":{\"colorbar\":{\"outlinewidth\":0,\"ticks\":\"\"}}}],\"scattercarpet\":[{\"type\":\"scattercarpet\",\"marker\":{\"colorbar\":{\"outlinewidth\":0,\"ticks\":\"\"}}}],\"carpet\":[{\"aaxis\":{\"endlinecolor\":\"#2a3f5f\",\"gridcolor\":\"white\",\"linecolor\":\"white\",\"minorgridcolor\":\"white\",\"startlinecolor\":\"#2a3f5f\"},\"baxis\":{\"endlinecolor\":\"#2a3f5f\",\"gridcolor\":\"white\",\"linecolor\":\"white\",\"minorgridcolor\":\"white\",\"startlinecolor\":\"#2a3f5f\"},\"type\":\"carpet\"}],\"table\":[{\"cells\":{\"fill\":{\"color\":\"#EBF0F8\"},\"line\":{\"color\":\"white\"}},\"header\":{\"fill\":{\"color\":\"#C8D4E3\"},\"line\":{\"color\":\"white\"}},\"type\":\"table\"}],\"barpolar\":[{\"marker\":{\"line\":{\"color\":\"#E5ECF6\",\"width\":0.5},\"pattern\":{\"fillmode\":\"overlay\",\"size\":10,\"solidity\":0.2}},\"type\":\"barpolar\"}],\"pie\":[{\"automargin\":true,\"type\":\"pie\"}]},\"layout\":{\"autotypenumbers\":\"strict\",\"colorway\":[\"#636efa\",\"#EF553B\",\"#00cc96\",\"#ab63fa\",\"#FFA15A\",\"#19d3f3\",\"#FF6692\",\"#B6E880\",\"#FF97FF\",\"#FECB52\"],\"font\":{\"color\":\"#2a3f5f\"},\"hovermode\":\"closest\",\"hoverlabel\":{\"align\":\"left\"},\"paper_bgcolor\":\"white\",\"plot_bgcolor\":\"#E5ECF6\",\"polar\":{\"bgcolor\":\"#E5ECF6\",\"angularaxis\":{\"gridcolor\":\"white\",\"linecolor\":\"white\",\"ticks\":\"\"},\"radialaxis\":{\"gridcolor\":\"white\",\"linecolor\":\"white\",\"ticks\":\"\"}},\"ternary\":{\"bgcolor\":\"#E5ECF6\",\"aaxis\":{\"gridcolor\":\"white\",\"linecolor\":\"white\",\"ticks\":\"\"},\"baxis\":{\"gridcolor\":\"white\",\"linecolor\":\"white\",\"ticks\":\"\"},\"caxis\":{\"gridcolor\":\"white\",\"linecolor\":\"white\",\"ticks\":\"\"}},\"coloraxis\":{\"colorbar\":{\"outlinewidth\":0,\"ticks\":\"\"}},\"colorscale\":{\"sequential\":[[0.0,\"#0d0887\"],[0.1111111111111111,\"#46039f\"],[0.2222222222222222,\"#7201a8\"],[0.3333333333333333,\"#9c179e\"],[0.4444444444444444,\"#bd3786\"],[0.5555555555555556,\"#d8576b\"],[0.6666666666666666,\"#ed7953\"],[0.7777777777777778,\"#fb9f3a\"],[0.8888888888888888,\"#fdca26\"],[1.0,\"#f0f921\"]],\"sequentialminus\":[[0.0,\"#0d0887\"],[0.1111111111111111,\"#46039f\"],[0.2222222222222222,\"#7201a8\"],[0.3333333333333333,\"#9c179e\"],[0.4444444444444444,\"#bd3786\"],[0.5555555555555556,\"#d8576b\"],[0.6666666666666666,\"#ed7953\"],[0.7777777777777778,\"#fb9f3a\"],[0.8888888888888888,\"#fdca26\"],[1.0,\"#f0f921\"]],\"diverging\":[[0,\"#8e0152\"],[0.1,\"#c51b7d\"],[0.2,\"#de77ae\"],[0.3,\"#f1b6da\"],[0.4,\"#fde0ef\"],[0.5,\"#f7f7f7\"],[0.6,\"#e6f5d0\"],[0.7,\"#b8e186\"],[0.8,\"#7fbc41\"],[0.9,\"#4d9221\"],[1,\"#276419\"]]},\"xaxis\":{\"gridcolor\":\"white\",\"linecolor\":\"white\",\"ticks\":\"\",\"title\":{\"standoff\":15},\"zerolinecolor\":\"white\",\"automargin\":true,\"zerolinewidth\":2},\"yaxis\":{\"gridcolor\":\"white\",\"linecolor\":\"white\",\"ticks\":\"\",\"title\":{\"standoff\":15},\"zerolinecolor\":\"white\",\"automargin\":true,\"zerolinewidth\":2},\"scene\":{\"xaxis\":{\"backgroundcolor\":\"#E5ECF6\",\"gridcolor\":\"white\",\"linecolor\":\"white\",\"showbackground\":true,\"ticks\":\"\",\"zerolinecolor\":\"white\",\"gridwidth\":2},\"yaxis\":{\"backgroundcolor\":\"#E5ECF6\",\"gridcolor\":\"white\",\"linecolor\":\"white\",\"showbackground\":true,\"ticks\":\"\",\"zerolinecolor\":\"white\",\"gridwidth\":2},\"zaxis\":{\"backgroundcolor\":\"#E5ECF6\",\"gridcolor\":\"white\",\"linecolor\":\"white\",\"showbackground\":true,\"ticks\":\"\",\"zerolinecolor\":\"white\",\"gridwidth\":2}},\"shapedefaults\":{\"line\":{\"color\":\"#2a3f5f\"}},\"annotationdefaults\":{\"arrowcolor\":\"#2a3f5f\",\"arrowhead\":0,\"arrowwidth\":1},\"geo\":{\"bgcolor\":\"white\",\"landcolor\":\"#E5ECF6\",\"subunitcolor\":\"white\",\"showland\":true,\"showlakes\":true,\"lakecolor\":\"white\"},\"title\":{\"x\":0.05},\"mapbox\":{\"style\":\"light\"}}},\"mapbox\":{\"domain\":{\"x\":[0.0,1.0],\"y\":[0.0,1.0]},\"center\":{\"lat\":41.899239174890916,\"lon\":-87.64517372662499},\"zoom\":9,\"style\":\"carto-positron\"},\"legend\":{\"title\":{\"text\":\"member_casual\"},\"tracegroupgap\":0},\"title\":{\"text\":\"User clustering\"}},                        {\"responsive\": true}                    ).then(function(){\n",
       "                            \n",
       "var gd = document.getElementById('88c8fe6c-c24c-4b9d-a538-4661054b2027');\n",
       "var x = new MutationObserver(function (mutations, observer) {{\n",
       "        var display = window.getComputedStyle(gd).display;\n",
       "        if (!display || display === 'none') {{\n",
       "            console.log([gd, 'removed!']);\n",
       "            Plotly.purge(gd);\n",
       "            observer.disconnect();\n",
       "        }}\n",
       "}});\n",
       "\n",
       "// Listen for the removal of the full notebook cells\n",
       "var notebookContainer = gd.closest('#notebook-container');\n",
       "if (notebookContainer) {{\n",
       "    x.observe(notebookContainer, {childList: true});\n",
       "}}\n",
       "\n",
       "// Listen for the clearing of the current output cell\n",
       "var outputEl = gd.closest('.output');\n",
       "if (outputEl) {{\n",
       "    x.observe(outputEl, {childList: true});\n",
       "}}\n",
       "\n",
       "                        })                };                });            </script>        </div>"
      ]
     },
     "metadata": {},
     "output_type": "display_data"
    },
    {
     "name": "stdout",
     "output_type": "stream",
     "text": [
      "\n"
     ]
    },
    {
     "data": {
      "text/html": [
       "<div>                            <div id=\"6a15b84f-6666-42a8-a886-e2617b57f611\" class=\"plotly-graph-div\" style=\"height:525px; width:100%;\"></div>            <script type=\"text/javascript\">                require([\"plotly\"], function(Plotly) {                    window.PLOTLYENV=window.PLOTLYENV || {};                                    if (document.getElementById(\"6a15b84f-6666-42a8-a886-e2617b57f611\")) {                    Plotly.newPlot(                        \"6a15b84f-6666-42a8-a886-e2617b57f611\",                        [{\"hovertemplate\":\"<b>%{hovertext}</b><br><br>start_lat=%{lat}<br>start_lng=%{lon}<extra></extra>\",\"hovertext\":[0.0,1.0,2.0,3.0,4.0,5.0,6.0,7.0,8.0,9.0,10.0,11.0,12.0,13.0,14.0,15.0,16.0,17.0,18.0,19.0,20.0,21.0,22.0,23.0,24.0,25.0,26.0,27.0,28.0,29.0,30.0,31.0,32.0,33.0,34.0,35.0,36.0,37.0,38.0,39.0,40.0,41.0,42.0,43.0,44.0,45.0,46.0,47.0,48.0,49.0,50.0,51.0,52.0,53.0,54.0,55.0,56.0,57.0,58.0,59.0,60.0,61.0,62.0,63.0,64.0,65.0,66.0,67.0,68.0,69.0,70.0,71.0,72.0,73.0,74.0,75.0,76.0,77.0,78.0,79.0,80.0,81.0,82.0,83.0,84.0,85.0,86.0,87.0,88.0,89.0,90.0,91.0,92.0,93.0,94.0,95.0,96.0,97.0,98.0,99.0],\"lat\":[41.899181,41.867886,41.93132,41.880958,41.891264346481535,41.69226255589166,41.879255,41.89993001,41.902973,41.926277,41.79949429373,41.892278,41.892423,41.92393131136619,41.92393131136619,41.93758231600629,41.918306,41.890762,41.894722,41.919936,41.882134,41.90260216666667,41.8839840647265,41.893992,41.902924,41.87785,41.8839840647265,41.870257,41.906724,41.921822,41.923931,41.9029345,41.867888,41.929546,41.909668,41.903119,41.915557166666666,41.87207763285,41.8833295,41.892278,41.94,41.71896342165455,41.79933626261,41.884621,41.877245,41.99925182186,41.928887,41.90976930169,41.894503,41.928712,41.881433666666666,41.92916816666666,41.882091,41.881892,41.88634906269,41.922695,41.886835,41.888243,41.919936,42.01058656284,41.91402671273,41.892278,41.954245,41.945529,41.89675,41.888716036,41.870257,41.87249766666667,41.928712,41.939354,41.793242,41.915983,41.871262,41.925858,41.857813,41.8810317,41.950687,41.890502833333336,41.93758231600629,41.946176,41.961406,41.89691,41.87474885079,41.9437911500595,41.89691,41.909668,41.88592,41.871737,41.902999666666666,41.954383,41.890028,41.885678166666665,41.79949429373,41.898203,41.884989,41.9546205,41.882134,41.87831661183069,41.86715816666667,41.979904652],\"legendgroup\":\"\",\"lon\":[-87.6722,-87.62302,-87.638742,-87.616743,-87.676842212677,-87.64261186122894,-87.639904,-87.63443007,-87.63128,-87.630834,-87.5864498959,-87.612043,-87.614538,-87.63582453131676,-87.63582453131676,-87.6440978050232,-87.636282,-87.631697,-87.634362,-87.64883,-87.625125,-87.631703,-87.6246839761734,-87.629318,-87.637715,-87.62408,-87.6246839761734,-87.639474,-87.63483,-87.64414,-87.635825,-87.63175233333334,-87.623041,-87.643118,-87.648128,-87.673935,-87.6870635,-87.6295437729,-87.6412465,-87.612043,-87.65,-87.60829567909241,-87.6009581145,-87.627834,-87.639366,-87.6713773393,-87.658971,-87.7052804871,-87.617854,-87.653833,-87.648908,-87.64911,-87.639833,-87.648789,-87.6175165471,-87.697153,-87.62232,-87.63639,-87.64883,-87.6624120948,-87.705126462,-87.612043,-87.654406,-87.646439,-87.63089,-87.6444478533,-87.639474,-87.63365016666667,-87.653833,-87.683282,-87.587782,-87.677335,-87.673688,-87.638973,-87.62455,-87.62408432,-87.6687,-87.6221375,-87.6440978050232,-87.673308,-87.676169,-87.621743,-87.6864452757,-87.671257853508,-87.621743,-87.648128,-87.66717,-87.65103,-87.69755216666667,-87.648043,-87.636618,-87.63510483333333,-87.5864498959,-87.637536,-87.61751,-87.67390783333333,-87.625125,-87.64098107814789,-87.62602483333333,-87.681927919],\"marker\":{\"color\":\"#636efa\",\"opacity\":1},\"mode\":\"markers\",\"name\":\"\",\"showlegend\":false,\"subplot\":\"mapbox\",\"type\":\"scattermapbox\"},{\"hovertemplate\":\"member_casual=casual<br>start_lat=%{lat}<br>start_lng=%{lon}<extra></extra>\",\"lat\":[41.867886,41.93132,41.880958,41.891264346481535,41.69226255589166,41.879255,41.89993001,41.902973,41.926277,41.79949429373,41.892278,41.892423,41.92393131136619,41.92393131136619,41.93758231600629,41.918306,41.890762,41.894722,41.919936,41.882134,41.90260216666667,41.8839840647265,41.893992,41.902924,41.87785,41.8839840647265,41.870257,41.906724,41.921822,41.923931,41.9029345,41.867888,41.929546,41.909668,41.903119,41.915557166666666,41.87207763285,41.8833295,41.892278,41.94,41.71896342165455,41.79933626261,41.884621,41.877245],\"legendgroup\":\"casual\",\"line\":{\"color\":\"#9ccc84\"},\"lon\":[-87.62302,-87.638742,-87.616743,-87.676842212677,-87.64261186122894,-87.639904,-87.63443007,-87.63128,-87.630834,-87.5864498959,-87.612043,-87.614538,-87.63582453131676,-87.63582453131676,-87.6440978050232,-87.636282,-87.631697,-87.634362,-87.64883,-87.625125,-87.631703,-87.6246839761734,-87.629318,-87.637715,-87.62408,-87.6246839761734,-87.639474,-87.63483,-87.64414,-87.635825,-87.63175233333334,-87.623041,-87.643118,-87.648128,-87.673935,-87.6870635,-87.6295437729,-87.6412465,-87.612043,-87.65,-87.60829567909241,-87.6009581145,-87.627834,-87.639366],\"mode\":\"lines\",\"name\":\"casual\",\"showlegend\":true,\"subplot\":\"mapbox\",\"type\":\"scattermapbox\"},{\"hovertemplate\":\"member_casual=member<br>start_lat=%{lat}<br>start_lng=%{lon}<extra></extra>\",\"lat\":[41.99925182186,41.928887,41.90976930169,41.894503,41.928712,41.881433666666666,41.92916816666666,41.882091,41.881892,41.88634906269,41.922695,41.886835,41.888243,41.919936,42.01058656284,41.91402671273,41.892278,41.954245,41.945529,41.89675,41.888716036,41.870257,41.87249766666667,41.928712,41.939354,41.793242,41.915983,41.871262,41.925858,41.857813,41.8810317,41.950687,41.890502833333336,41.93758231600629,41.946176,41.961406,41.89691,41.87474885079,41.9437911500595,41.89691,41.909668,41.88592,41.871737,41.902999666666666,41.954383,41.890028,41.885678166666665,41.79949429373,41.898203,41.884989,41.9546205,41.882134,41.87831661183069,41.86715816666667,41.979904652],\"legendgroup\":\"member\",\"line\":{\"color\":\"#9ccbd4\"},\"lon\":[-87.6713773393,-87.658971,-87.7052804871,-87.617854,-87.653833,-87.648908,-87.64911,-87.639833,-87.648789,-87.6175165471,-87.697153,-87.62232,-87.63639,-87.64883,-87.6624120948,-87.705126462,-87.612043,-87.654406,-87.646439,-87.63089,-87.6444478533,-87.639474,-87.63365016666667,-87.653833,-87.683282,-87.587782,-87.677335,-87.673688,-87.638973,-87.62455,-87.62408432,-87.6687,-87.6221375,-87.6440978050232,-87.673308,-87.676169,-87.621743,-87.6864452757,-87.671257853508,-87.621743,-87.648128,-87.66717,-87.65103,-87.69755216666667,-87.648043,-87.636618,-87.63510483333333,-87.5864498959,-87.637536,-87.61751,-87.67390783333333,-87.625125,-87.64098107814789,-87.62602483333333,-87.681927919],\"mode\":\"lines\",\"name\":\"member\",\"showlegend\":true,\"subplot\":\"mapbox\",\"type\":\"scattermapbox\"}],                        {\"template\":{\"data\":{\"histogram2dcontour\":[{\"type\":\"histogram2dcontour\",\"colorbar\":{\"outlinewidth\":0,\"ticks\":\"\"},\"colorscale\":[[0.0,\"#0d0887\"],[0.1111111111111111,\"#46039f\"],[0.2222222222222222,\"#7201a8\"],[0.3333333333333333,\"#9c179e\"],[0.4444444444444444,\"#bd3786\"],[0.5555555555555556,\"#d8576b\"],[0.6666666666666666,\"#ed7953\"],[0.7777777777777778,\"#fb9f3a\"],[0.8888888888888888,\"#fdca26\"],[1.0,\"#f0f921\"]]}],\"choropleth\":[{\"type\":\"choropleth\",\"colorbar\":{\"outlinewidth\":0,\"ticks\":\"\"}}],\"histogram2d\":[{\"type\":\"histogram2d\",\"colorbar\":{\"outlinewidth\":0,\"ticks\":\"\"},\"colorscale\":[[0.0,\"#0d0887\"],[0.1111111111111111,\"#46039f\"],[0.2222222222222222,\"#7201a8\"],[0.3333333333333333,\"#9c179e\"],[0.4444444444444444,\"#bd3786\"],[0.5555555555555556,\"#d8576b\"],[0.6666666666666666,\"#ed7953\"],[0.7777777777777778,\"#fb9f3a\"],[0.8888888888888888,\"#fdca26\"],[1.0,\"#f0f921\"]]}],\"heatmap\":[{\"type\":\"heatmap\",\"colorbar\":{\"outlinewidth\":0,\"ticks\":\"\"},\"colorscale\":[[0.0,\"#0d0887\"],[0.1111111111111111,\"#46039f\"],[0.2222222222222222,\"#7201a8\"],[0.3333333333333333,\"#9c179e\"],[0.4444444444444444,\"#bd3786\"],[0.5555555555555556,\"#d8576b\"],[0.6666666666666666,\"#ed7953\"],[0.7777777777777778,\"#fb9f3a\"],[0.8888888888888888,\"#fdca26\"],[1.0,\"#f0f921\"]]}],\"heatmapgl\":[{\"type\":\"heatmapgl\",\"colorbar\":{\"outlinewidth\":0,\"ticks\":\"\"},\"colorscale\":[[0.0,\"#0d0887\"],[0.1111111111111111,\"#46039f\"],[0.2222222222222222,\"#7201a8\"],[0.3333333333333333,\"#9c179e\"],[0.4444444444444444,\"#bd3786\"],[0.5555555555555556,\"#d8576b\"],[0.6666666666666666,\"#ed7953\"],[0.7777777777777778,\"#fb9f3a\"],[0.8888888888888888,\"#fdca26\"],[1.0,\"#f0f921\"]]}],\"contourcarpet\":[{\"type\":\"contourcarpet\",\"colorbar\":{\"outlinewidth\":0,\"ticks\":\"\"}}],\"contour\":[{\"type\":\"contour\",\"colorbar\":{\"outlinewidth\":0,\"ticks\":\"\"},\"colorscale\":[[0.0,\"#0d0887\"],[0.1111111111111111,\"#46039f\"],[0.2222222222222222,\"#7201a8\"],[0.3333333333333333,\"#9c179e\"],[0.4444444444444444,\"#bd3786\"],[0.5555555555555556,\"#d8576b\"],[0.6666666666666666,\"#ed7953\"],[0.7777777777777778,\"#fb9f3a\"],[0.8888888888888888,\"#fdca26\"],[1.0,\"#f0f921\"]]}],\"surface\":[{\"type\":\"surface\",\"colorbar\":{\"outlinewidth\":0,\"ticks\":\"\"},\"colorscale\":[[0.0,\"#0d0887\"],[0.1111111111111111,\"#46039f\"],[0.2222222222222222,\"#7201a8\"],[0.3333333333333333,\"#9c179e\"],[0.4444444444444444,\"#bd3786\"],[0.5555555555555556,\"#d8576b\"],[0.6666666666666666,\"#ed7953\"],[0.7777777777777778,\"#fb9f3a\"],[0.8888888888888888,\"#fdca26\"],[1.0,\"#f0f921\"]]}],\"mesh3d\":[{\"type\":\"mesh3d\",\"colorbar\":{\"outlinewidth\":0,\"ticks\":\"\"}}],\"scatter\":[{\"fillpattern\":{\"fillmode\":\"overlay\",\"size\":10,\"solidity\":0.2},\"type\":\"scatter\"}],\"parcoords\":[{\"type\":\"parcoords\",\"line\":{\"colorbar\":{\"outlinewidth\":0,\"ticks\":\"\"}}}],\"scatterpolargl\":[{\"type\":\"scatterpolargl\",\"marker\":{\"colorbar\":{\"outlinewidth\":0,\"ticks\":\"\"}}}],\"bar\":[{\"error_x\":{\"color\":\"#2a3f5f\"},\"error_y\":{\"color\":\"#2a3f5f\"},\"marker\":{\"line\":{\"color\":\"#E5ECF6\",\"width\":0.5},\"pattern\":{\"fillmode\":\"overlay\",\"size\":10,\"solidity\":0.2}},\"type\":\"bar\"}],\"scattergeo\":[{\"type\":\"scattergeo\",\"marker\":{\"colorbar\":{\"outlinewidth\":0,\"ticks\":\"\"}}}],\"scatterpolar\":[{\"type\":\"scatterpolar\",\"marker\":{\"colorbar\":{\"outlinewidth\":0,\"ticks\":\"\"}}}],\"histogram\":[{\"marker\":{\"pattern\":{\"fillmode\":\"overlay\",\"size\":10,\"solidity\":0.2}},\"type\":\"histogram\"}],\"scattergl\":[{\"type\":\"scattergl\",\"marker\":{\"colorbar\":{\"outlinewidth\":0,\"ticks\":\"\"}}}],\"scatter3d\":[{\"type\":\"scatter3d\",\"line\":{\"colorbar\":{\"outlinewidth\":0,\"ticks\":\"\"}},\"marker\":{\"colorbar\":{\"outlinewidth\":0,\"ticks\":\"\"}}}],\"scattermapbox\":[{\"type\":\"scattermapbox\",\"marker\":{\"colorbar\":{\"outlinewidth\":0,\"ticks\":\"\"}}}],\"scatterternary\":[{\"type\":\"scatterternary\",\"marker\":{\"colorbar\":{\"outlinewidth\":0,\"ticks\":\"\"}}}],\"scattercarpet\":[{\"type\":\"scattercarpet\",\"marker\":{\"colorbar\":{\"outlinewidth\":0,\"ticks\":\"\"}}}],\"carpet\":[{\"aaxis\":{\"endlinecolor\":\"#2a3f5f\",\"gridcolor\":\"white\",\"linecolor\":\"white\",\"minorgridcolor\":\"white\",\"startlinecolor\":\"#2a3f5f\"},\"baxis\":{\"endlinecolor\":\"#2a3f5f\",\"gridcolor\":\"white\",\"linecolor\":\"white\",\"minorgridcolor\":\"white\",\"startlinecolor\":\"#2a3f5f\"},\"type\":\"carpet\"}],\"table\":[{\"cells\":{\"fill\":{\"color\":\"#EBF0F8\"},\"line\":{\"color\":\"white\"}},\"header\":{\"fill\":{\"color\":\"#C8D4E3\"},\"line\":{\"color\":\"white\"}},\"type\":\"table\"}],\"barpolar\":[{\"marker\":{\"line\":{\"color\":\"#E5ECF6\",\"width\":0.5},\"pattern\":{\"fillmode\":\"overlay\",\"size\":10,\"solidity\":0.2}},\"type\":\"barpolar\"}],\"pie\":[{\"automargin\":true,\"type\":\"pie\"}]},\"layout\":{\"autotypenumbers\":\"strict\",\"colorway\":[\"#636efa\",\"#EF553B\",\"#00cc96\",\"#ab63fa\",\"#FFA15A\",\"#19d3f3\",\"#FF6692\",\"#B6E880\",\"#FF97FF\",\"#FECB52\"],\"font\":{\"color\":\"#2a3f5f\"},\"hovermode\":\"closest\",\"hoverlabel\":{\"align\":\"left\"},\"paper_bgcolor\":\"white\",\"plot_bgcolor\":\"#E5ECF6\",\"polar\":{\"bgcolor\":\"#E5ECF6\",\"angularaxis\":{\"gridcolor\":\"white\",\"linecolor\":\"white\",\"ticks\":\"\"},\"radialaxis\":{\"gridcolor\":\"white\",\"linecolor\":\"white\",\"ticks\":\"\"}},\"ternary\":{\"bgcolor\":\"#E5ECF6\",\"aaxis\":{\"gridcolor\":\"white\",\"linecolor\":\"white\",\"ticks\":\"\"},\"baxis\":{\"gridcolor\":\"white\",\"linecolor\":\"white\",\"ticks\":\"\"},\"caxis\":{\"gridcolor\":\"white\",\"linecolor\":\"white\",\"ticks\":\"\"}},\"coloraxis\":{\"colorbar\":{\"outlinewidth\":0,\"ticks\":\"\"}},\"colorscale\":{\"sequential\":[[0.0,\"#0d0887\"],[0.1111111111111111,\"#46039f\"],[0.2222222222222222,\"#7201a8\"],[0.3333333333333333,\"#9c179e\"],[0.4444444444444444,\"#bd3786\"],[0.5555555555555556,\"#d8576b\"],[0.6666666666666666,\"#ed7953\"],[0.7777777777777778,\"#fb9f3a\"],[0.8888888888888888,\"#fdca26\"],[1.0,\"#f0f921\"]],\"sequentialminus\":[[0.0,\"#0d0887\"],[0.1111111111111111,\"#46039f\"],[0.2222222222222222,\"#7201a8\"],[0.3333333333333333,\"#9c179e\"],[0.4444444444444444,\"#bd3786\"],[0.5555555555555556,\"#d8576b\"],[0.6666666666666666,\"#ed7953\"],[0.7777777777777778,\"#fb9f3a\"],[0.8888888888888888,\"#fdca26\"],[1.0,\"#f0f921\"]],\"diverging\":[[0,\"#8e0152\"],[0.1,\"#c51b7d\"],[0.2,\"#de77ae\"],[0.3,\"#f1b6da\"],[0.4,\"#fde0ef\"],[0.5,\"#f7f7f7\"],[0.6,\"#e6f5d0\"],[0.7,\"#b8e186\"],[0.8,\"#7fbc41\"],[0.9,\"#4d9221\"],[1,\"#276419\"]]},\"xaxis\":{\"gridcolor\":\"white\",\"linecolor\":\"white\",\"ticks\":\"\",\"title\":{\"standoff\":15},\"zerolinecolor\":\"white\",\"automargin\":true,\"zerolinewidth\":2},\"yaxis\":{\"gridcolor\":\"white\",\"linecolor\":\"white\",\"ticks\":\"\",\"title\":{\"standoff\":15},\"zerolinecolor\":\"white\",\"automargin\":true,\"zerolinewidth\":2},\"scene\":{\"xaxis\":{\"backgroundcolor\":\"#E5ECF6\",\"gridcolor\":\"white\",\"linecolor\":\"white\",\"showbackground\":true,\"ticks\":\"\",\"zerolinecolor\":\"white\",\"gridwidth\":2},\"yaxis\":{\"backgroundcolor\":\"#E5ECF6\",\"gridcolor\":\"white\",\"linecolor\":\"white\",\"showbackground\":true,\"ticks\":\"\",\"zerolinecolor\":\"white\",\"gridwidth\":2},\"zaxis\":{\"backgroundcolor\":\"#E5ECF6\",\"gridcolor\":\"white\",\"linecolor\":\"white\",\"showbackground\":true,\"ticks\":\"\",\"zerolinecolor\":\"white\",\"gridwidth\":2}},\"shapedefaults\":{\"line\":{\"color\":\"#2a3f5f\"}},\"annotationdefaults\":{\"arrowcolor\":\"#2a3f5f\",\"arrowhead\":0,\"arrowwidth\":1},\"geo\":{\"bgcolor\":\"white\",\"landcolor\":\"#E5ECF6\",\"subunitcolor\":\"white\",\"showland\":true,\"showlakes\":true,\"lakecolor\":\"white\"},\"title\":{\"x\":0.05},\"mapbox\":{\"style\":\"light\"}}},\"mapbox\":{\"domain\":{\"x\":[0.0,1.0],\"y\":[0.0,1.0]},\"center\":{\"lat\":41.89753296830303,\"lon\":-87.64221750023847},\"zoom\":9,\"style\":\"carto-positron\"},\"legend\":{\"tracegroupgap\":0},\"title\":{\"text\":\"User paths\"}},                        {\"responsive\": true}                    ).then(function(){\n",
       "                            \n",
       "var gd = document.getElementById('6a15b84f-6666-42a8-a886-e2617b57f611');\n",
       "var x = new MutationObserver(function (mutations, observer) {{\n",
       "        var display = window.getComputedStyle(gd).display;\n",
       "        if (!display || display === 'none') {{\n",
       "            console.log([gd, 'removed!']);\n",
       "            Plotly.purge(gd);\n",
       "            observer.disconnect();\n",
       "        }}\n",
       "}});\n",
       "\n",
       "// Listen for the removal of the full notebook cells\n",
       "var notebookContainer = gd.closest('#notebook-container');\n",
       "if (notebookContainer) {{\n",
       "    x.observe(notebookContainer, {childList: true});\n",
       "}}\n",
       "\n",
       "// Listen for the clearing of the current output cell\n",
       "var outputEl = gd.closest('.output');\n",
       "if (outputEl) {{\n",
       "    x.observe(outputEl, {childList: true});\n",
       "}}\n",
       "\n",
       "                        })                };                });            </script>        </div>"
      ]
     },
     "metadata": {},
     "output_type": "display_data"
    }
   ],
   "source": [
    "import plotly.express as px\n",
    "\n",
    "df_sample = df.sample(n=5000)\n",
    "df_20 = df.dropna().sample(n=100).sort_values(by=['member_casual','started_at']).reset_index(drop=True)\n",
    "\n",
    "fig_1= px.scatter_mapbox(df_sample,lat='start_lat',lon='start_lng',color='member_casual',opacity=1,zoom=9,\n",
    "                         color_discrete_sequence=[lblue,green],title='User clustering')\n",
    "\n",
    "#fig = px.line_geo(df_20,lat='start_lat',lon='start_lng')\n",
    "\n",
    "fig_1.update_layout(mapbox_style='carto-positron')\n",
    "\n",
    "fig_1.show()\n",
    "\n",
    "print()\n",
    "\n",
    "fig2 = px.scatter_mapbox(df_20, lat=\"start_lat\", lon=\"start_lng\",\n",
    "                        hover_name=df_20.index,opacity=1,zoom=9,title='User paths')\n",
    "fig2.update_layout(mapbox_style=\"carto-positron\")\n",
    "#fig2.update_layout(margin={\"r\":0,\"t\":0,\"l\":0,\"b\":0})\n",
    "\n",
    "tsp = list(range(1,100))\n",
    "\n",
    "fig2.add_traces(px.line_mapbox(df_20.loc[tsp], lat=\"start_lat\", lon=\"start_lng\",color='member_casual',color_discrete_sequence=[green,lblue]).data)\n",
    "fig2.show()"
   ]
  },
  {
   "cell_type": "markdown",
   "id": "7c07010f",
   "metadata": {
    "papermill": {
     "duration": 0.023103,
     "end_time": "2023-03-30T20:00:06.520464",
     "exception": false,
     "start_time": "2023-03-30T20:00:06.497361",
     "status": "completed"
    },
    "tags": []
   },
   "source": [
    "You can see in the first map, that casual users tend to cluster in the city center, whereas the member users are more scattered in the outskirts of the city.\n",
    "\n",
    "In the second map we can see the paths taken from users out of a random sample of the Data. This map shows a somewhat regular path the member users take, in and out the city center. By contrast, casual users take more irregular paths all around the city.\n",
    "\n",
    "This information could imply that although both users share some paths and cluster in similar areas, casual users tend to ride more in leisure areas where there are parks and sometimes to explore all around the city, and member users follow more straightforward paths from the suburbs into the city center and vice-versa, meaning they might use it more for commuting to work"
   ]
  },
  {
   "cell_type": "markdown",
   "id": "1f1874d2",
   "metadata": {
    "papermill": {
     "duration": 0.022576,
     "end_time": "2023-03-30T20:00:06.566150",
     "exception": false,
     "start_time": "2023-03-30T20:00:06.543574",
     "status": "completed"
    },
    "tags": []
   },
   "source": [
    "# 6.- Act"
   ]
  },
  {
   "cell_type": "markdown",
   "id": "465e4e79",
   "metadata": {
    "papermill": {
     "duration": 0.022916,
     "end_time": "2023-03-30T20:00:06.612150",
     "exception": false,
     "start_time": "2023-03-30T20:00:06.589234",
     "status": "completed"
    },
    "tags": []
   },
   "source": [
    "### Conclusion\n",
    "\n",
    "With these findings we can give some insights and answer the question to the core business task: Indentify the differences between \"Casual\" and \"Member\" users.\n",
    "\n",
    "1. Casual users ride on average longer than member users, but member users ride length doesn't fluctuate as much during the week.\n",
    "2. Member users ride more often than casual riders, except on weekends and during the peak of the summer.\n",
    "3. Member users follow predictable paths from and to the city center, whereas Casual users ride closer to leisure areas and follow less predictable paths.\n",
    "\n",
    "Without more information about the users, like age, job, or gender, we can only infer by the data provided.\n",
    "\n",
    "### Suggestion\n",
    "\n",
    "I would suggest focusing on targeting casual users, showing the benefits of becoming a member user, such as making a good environmental impact by using bike sharing to commute to work instead of using other types of transportation, or how much money they can save by becoming members and still use the service for both leisure and other type of activities."
   ]
  },
  {
   "cell_type": "markdown",
   "id": "f79d054f",
   "metadata": {
    "papermill": {
     "duration": 0.022902,
     "end_time": "2023-03-30T20:00:06.658188",
     "exception": false,
     "start_time": "2023-03-30T20:00:06.635286",
     "status": "completed"
    },
    "tags": []
   },
   "source": [
    "Thanks for reading my case study. I hope you found it useful, and any comments are welcome."
   ]
  }
 ],
 "metadata": {
  "kernelspec": {
   "display_name": "Python 3",
   "language": "python",
   "name": "python3"
  },
  "language_info": {
   "codemirror_mode": {
    "name": "ipython",
    "version": 3
   },
   "file_extension": ".py",
   "mimetype": "text/x-python",
   "name": "python",
   "nbconvert_exporter": "python",
   "pygments_lexer": "ipython3",
   "version": "3.7.12"
  },
  "papermill": {
   "default_parameters": {},
   "duration": 94.108849,
   "end_time": "2023-03-30T20:00:09.301151",
   "environment_variables": {},
   "exception": null,
   "input_path": "__notebook__.ipynb",
   "output_path": "__notebook__.ipynb",
   "parameters": {},
   "start_time": "2023-03-30T19:58:35.192302",
   "version": "2.4.0"
  }
 },
 "nbformat": 4,
 "nbformat_minor": 5
}
