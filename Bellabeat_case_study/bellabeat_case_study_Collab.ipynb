{
  "cells": [
    {
      "cell_type": "markdown",
      "id": "ba9658ab",
      "metadata": {
        "papermill": {
          "duration": 0.014168,
          "end_time": "2023-03-22T16:55:03.796881",
          "exception": false,
          "start_time": "2023-03-22T16:55:03.782713",
          "status": "completed"
        },
        "tags": [],
        "id": "ba9658ab"
      },
      "source": [
        "# 1 Introduction\n",
        "\n"
      ]
    },
    {
      "cell_type": "markdown",
      "id": "526a5efc",
      "metadata": {
        "papermill": {
          "duration": 0.012142,
          "end_time": "2023-03-22T16:55:03.821595",
          "exception": false,
          "start_time": "2023-03-22T16:55:03.809453",
          "status": "completed"
        },
        "tags": [],
        "id": "526a5efc"
      },
      "source": [
        "## How Can a Wellness Technology Company Play It Smart?"
      ]
    },
    {
      "cell_type": "markdown",
      "id": "309a8be0",
      "metadata": {
        "papermill": {
          "duration": 0.012663,
          "end_time": "2023-03-22T16:55:03.847443",
          "exception": false,
          "start_time": "2023-03-22T16:55:03.834780",
          "status": "completed"
        },
        "tags": [],
        "id": "309a8be0"
      },
      "source": [
        "# Step 1: Ask"
      ]
    },
    {
      "cell_type": "markdown",
      "id": "1654da42",
      "metadata": {
        "papermill": {
          "duration": 0.012135,
          "end_time": "2023-03-22T16:55:03.872952",
          "exception": false,
          "start_time": "2023-03-22T16:55:03.860817",
          "status": "completed"
        },
        "tags": [],
        "id": "1654da42"
      },
      "source": [
        "### Background\n",
        "\n",
        "Bellabeat\n",
        "is a high tech company that manufactures health focused smart products.They offer different\n",
        "smart devices that collect data on activity, sleep, stress, and reproductive health to empower women\n",
        "with knowledge about their own health and habits.\n",
        "\n",
        "The main focus of this case is to analyze smart devices fitness data and determine how it could help\n",
        "unlock new growth opportunities for Bellabeat . We will focus on one of Bellabeat’s products: Bellabeat\n",
        "app.\n",
        "\n",
        "The Bellabeat app provides users with health data related to their activity, sleep, stress, menstrual cycle,\n",
        "and mindfulness habits. This data can help users better understand their current habits and make\n",
        "healthy decisions. The Bellabeat app connects to their line of smart wellness products."
      ]
    },
    {
      "cell_type": "markdown",
      "id": "77ec8d8d",
      "metadata": {
        "papermill": {
          "duration": 0.01247,
          "end_time": "2023-03-22T16:55:03.898117",
          "exception": false,
          "start_time": "2023-03-22T16:55:03.885647",
          "status": "completed"
        },
        "tags": [],
        "id": "77ec8d8d"
      },
      "source": [
        "### Key Stakeholders\n",
        "\n",
        "* Urška Sršen Bellabeat cofounder and Chief Creative Officer\n",
        "* Sando Mur Bellabeat cofounder and key member of Bellabeat executive team\n",
        "* Bellabeat Marketing Analytics team"
      ]
    },
    {
      "cell_type": "markdown",
      "id": "6009e368",
      "metadata": {
        "papermill": {
          "duration": 0.012923,
          "end_time": "2023-03-22T16:55:03.925054",
          "exception": false,
          "start_time": "2023-03-22T16:55:03.912131",
          "status": "completed"
        },
        "tags": [],
        "id": "6009e368"
      },
      "source": [
        "### Bussiness Task\n",
        "\n",
        "Given the previous facts, the business task is defined as searching for user patterns of usage of their\n",
        "smart devices in order to gain insights that would later better orientate marketing decisions. So, in one\n",
        "phrase it would be:\n",
        "\n",
        "How do our users use our smart devices?. Identify trends in how consumers use non\n",
        "Bellabeat smart\n",
        "devices to apply insights into Bellabeat’s marketing strategy.\n"
      ]
    },
    {
      "cell_type": "markdown",
      "id": "91d4ccd4",
      "metadata": {
        "papermill": {
          "duration": 0.012814,
          "end_time": "2023-03-22T16:55:03.950991",
          "exception": false,
          "start_time": "2023-03-22T16:55:03.938177",
          "status": "completed"
        },
        "tags": [],
        "id": "91d4ccd4"
      },
      "source": [
        "# Step 2: Prepare"
      ]
    },
    {
      "cell_type": "markdown",
      "id": "abac4f73",
      "metadata": {
        "papermill": {
          "duration": 0.012412,
          "end_time": "2023-03-22T16:55:03.976003",
          "exception": false,
          "start_time": "2023-03-22T16:55:03.963591",
          "status": "completed"
        },
        "tags": [],
        "id": "abac4f73"
      },
      "source": [
        "### Dataset used\n",
        "\n",
        "The data source used for this case study is\n",
        "FitBit Fitness Tracker Data. This dataset is\n",
        "stored in Kaggle and was made available\n",
        "through Mobius and generated by\n",
        "respondents to a distributed survey via\n",
        "Amazon Mechanical Turk between\n",
        "03.12.2016 05.12.2016."
      ]
    },
    {
      "cell_type": "markdown",
      "id": "fe7ab30b",
      "metadata": {
        "papermill": {
          "duration": 0.012615,
          "end_time": "2023-03-22T16:55:04.001674",
          "exception": false,
          "start_time": "2023-03-22T16:55:03.989059",
          "status": "completed"
        },
        "tags": [],
        "id": "fe7ab30b"
      },
      "source": [
        "### Accessibility and privacy of data\n",
        "\n",
        "The data is licensed under CC0: Public\n",
        "Domain, waiving all of his or her rights to\n",
        "the work worldwide under copyright law,\n",
        "including all related and neighboring rights,\n",
        "to the extend by law. The work can be\n",
        "copied, modified, distributed and perform\n",
        "the work, even for commercial purposes,\n",
        "all without asking permission"
      ]
    },
    {
      "cell_type": "markdown",
      "id": "8b99e850",
      "metadata": {
        "papermill": {
          "duration": 0.01516,
          "end_time": "2023-03-22T16:55:04.030076",
          "exception": false,
          "start_time": "2023-03-22T16:55:04.014916",
          "status": "completed"
        },
        "tags": [],
        "id": "8b99e850"
      },
      "source": [
        "### Data organization and verification\n",
        "\n",
        "The dataset is a collection of 18 .csv files.\n",
        "15 in long format, 3 in wide format. The\n",
        "datasets consists of wide ranging\n",
        "information from activity metrics, calories,\n",
        "sleep records, metabolic equivalent of\n",
        "tasks (METs), heart rate and steps; in\n",
        "timeframes of seconds, minutes, hours and\n",
        "days"
      ]
    },
    {
      "cell_type": "markdown",
      "id": "fcf7eff1",
      "metadata": {
        "papermill": {
          "duration": 0.014469,
          "end_time": "2023-03-22T16:55:04.059829",
          "exception": false,
          "start_time": "2023-03-22T16:55:04.045360",
          "status": "completed"
        },
        "tags": [],
        "id": "fcf7eff1"
      },
      "source": [
        "### Data limitations\n",
        "\n",
        "The data has some limitations which could\n",
        "Undermine\n",
        "the results of the analysis\n",
        "Such\n",
        "limitations to take into consideration\n",
        "are:\n",
        "* Missing demographics\n",
        "* Small simple size\n",
        "* Short time period of Data collection"
      ]
    },
    {
      "cell_type": "markdown",
      "id": "b5e6c302",
      "metadata": {
        "papermill": {
          "duration": 0.016647,
          "end_time": "2023-03-22T16:55:04.093657",
          "exception": false,
          "start_time": "2023-03-22T16:55:04.077010",
          "status": "completed"
        },
        "tags": [],
        "id": "b5e6c302"
      },
      "source": [
        "# Step 3: Process"
      ]
    },
    {
      "cell_type": "markdown",
      "id": "661ba1f3",
      "metadata": {
        "papermill": {
          "duration": 0.014212,
          "end_time": "2023-03-22T16:55:04.121993",
          "exception": false,
          "start_time": "2023-03-22T16:55:04.107781",
          "status": "completed"
        },
        "tags": [],
        "id": "661ba1f3"
      },
      "source": [
        "### Loading libraries"
      ]
    },
    {
      "cell_type": "code",
      "source": [
        "#from google.colab import drive\n",
        "#drive.mount('/content/drive')"
      ],
      "metadata": {
        "id": "nspqdQveUBTf",
        "colab": {
          "base_uri": "https://localhost:8080/"
        },
        "outputId": "765bb174-e92a-4186-8dea-2a3c06eb17c2"
      },
      "id": "nspqdQveUBTf",
      "execution_count": 2,
      "outputs": [
        {
          "output_type": "stream",
          "name": "stdout",
          "text": [
            "Mounted at /content/drive\n"
          ]
        }
      ]
    },
    {
      "cell_type": "code",
      "execution_count": 3,
      "id": "98bff900",
      "metadata": {
        "_cell_guid": "b1076dfc-b9ad-4769-8c92-a6c4dae69d19",
        "_uuid": "8f2839f25d086af736a60e9eeb907d3b93b6e0e5",
        "execution": {
          "iopub.execute_input": "2023-03-22T16:55:04.156906Z",
          "iopub.status.busy": "2023-03-22T16:55:04.156464Z",
          "iopub.status.idle": "2023-03-22T16:55:05.546317Z",
          "shell.execute_reply": "2023-03-22T16:55:05.544358Z"
        },
        "papermill": {
          "duration": 1.408667,
          "end_time": "2023-03-22T16:55:05.548998",
          "exception": false,
          "start_time": "2023-03-22T16:55:04.140331",
          "status": "completed"
        },
        "tags": [],
        "id": "98bff900"
      },
      "outputs": [],
      "source": [
        "\n",
        "import numpy as np # linear algebra\n",
        "import pandas as pd # data processing, CSV file I/O (e.g. pd.read_csv)\n",
        "import matplotlib.pyplot as plt\n",
        "import datetime as dt\n",
        "import seaborn as sns\n",
        "\n",
        "from pandas.api.types import CategoricalDtype\n"
      ]
    },
    {
      "cell_type": "markdown",
      "id": "729d582a",
      "metadata": {
        "papermill": {
          "duration": 0.012451,
          "end_time": "2023-03-22T16:55:05.575019",
          "exception": false,
          "start_time": "2023-03-22T16:55:05.562568",
          "status": "completed"
        },
        "tags": [],
        "id": "729d582a"
      },
      "source": [
        "### Importing datasets"
      ]
    },
    {
      "cell_type": "markdown",
      "id": "37bce528",
      "metadata": {
        "papermill": {
          "duration": 0.013071,
          "end_time": "2023-03-22T16:55:05.648368",
          "exception": false,
          "start_time": "2023-03-22T16:55:05.635297",
          "status": "completed"
        },
        "tags": [],
        "id": "37bce528"
      },
      "source": [
        "First, let's import the dataset 'dailyActivity_merged.csv' using the pandas pd.read_csv() function"
      ]
    },
    {
      "cell_type": "code",
      "execution_count": 4,
      "id": "8d1d309e",
      "metadata": {
        "execution": {
          "iopub.execute_input": "2023-03-22T16:55:05.677539Z",
          "iopub.status.busy": "2023-03-22T16:55:05.676301Z",
          "iopub.status.idle": "2023-03-22T16:55:05.704656Z",
          "shell.execute_reply": "2023-03-22T16:55:05.703028Z"
        },
        "papermill": {
          "duration": 0.045616,
          "end_time": "2023-03-22T16:55:05.707276",
          "exception": false,
          "start_time": "2023-03-22T16:55:05.661660",
          "status": "completed"
        },
        "tags": [],
        "id": "8d1d309e"
      },
      "outputs": [],
      "source": [
        "df = pd.read_csv(\"dailyActivity_merged.csv\")"
      ]
    },
    {
      "cell_type": "markdown",
      "id": "af2d8acf",
      "metadata": {
        "papermill": {
          "duration": 0.01473,
          "end_time": "2023-03-22T16:55:05.735862",
          "exception": false,
          "start_time": "2023-03-22T16:55:05.721132",
          "status": "completed"
        },
        "tags": [],
        "id": "af2d8acf"
      },
      "source": [
        "### Data exploration\n",
        "\n",
        "Once uploaded, let's firts see how many columns and rows we have, using the pandas function, .shape"
      ]
    },
    {
      "cell_type": "code",
      "execution_count": 5,
      "id": "4494b78c",
      "metadata": {
        "execution": {
          "iopub.execute_input": "2023-03-22T16:55:05.763733Z",
          "iopub.status.busy": "2023-03-22T16:55:05.763352Z",
          "iopub.status.idle": "2023-03-22T16:55:05.771337Z",
          "shell.execute_reply": "2023-03-22T16:55:05.769945Z"
        },
        "papermill": {
          "duration": 0.025138,
          "end_time": "2023-03-22T16:55:05.774334",
          "exception": false,
          "start_time": "2023-03-22T16:55:05.749196",
          "status": "completed"
        },
        "tags": [],
        "id": "4494b78c",
        "colab": {
          "base_uri": "https://localhost:8080/"
        },
        "outputId": "eccb691d-024c-4124-8e97-f4b2ffdd15f5"
      },
      "outputs": [
        {
          "output_type": "execute_result",
          "data": {
            "text/plain": [
              "(940, 15)"
            ]
          },
          "metadata": {},
          "execution_count": 5
        }
      ],
      "source": [
        "df.shape"
      ]
    },
    {
      "cell_type": "markdown",
      "id": "1a9a81f9",
      "metadata": {
        "papermill": {
          "duration": 0.013095,
          "end_time": "2023-03-22T16:55:05.800567",
          "exception": false,
          "start_time": "2023-03-22T16:55:05.787472",
          "status": "completed"
        },
        "tags": [],
        "id": "1a9a81f9"
      },
      "source": [
        "We can see, we have 940 rows and 15 columns. let's take a look at the names of the columns, using the .columns panda's function"
      ]
    },
    {
      "cell_type": "code",
      "execution_count": 6,
      "id": "1bb0ec1d",
      "metadata": {
        "execution": {
          "iopub.execute_input": "2023-03-22T16:55:05.826523Z",
          "iopub.status.busy": "2023-03-22T16:55:05.826153Z",
          "iopub.status.idle": "2023-03-22T16:55:05.834170Z",
          "shell.execute_reply": "2023-03-22T16:55:05.833169Z"
        },
        "papermill": {
          "duration": 0.023375,
          "end_time": "2023-03-22T16:55:05.836283",
          "exception": false,
          "start_time": "2023-03-22T16:55:05.812908",
          "status": "completed"
        },
        "tags": [],
        "id": "1bb0ec1d",
        "colab": {
          "base_uri": "https://localhost:8080/"
        },
        "outputId": "8b97b5bf-e88b-4c4c-9c92-29771435c82f"
      },
      "outputs": [
        {
          "output_type": "execute_result",
          "data": {
            "text/plain": [
              "Index(['Id', 'ActivityDate', 'TotalSteps', 'TotalDistance', 'TrackerDistance',\n",
              "       'LoggedActivitiesDistance', 'VeryActiveDistance',\n",
              "       'ModeratelyActiveDistance', 'LightActiveDistance',\n",
              "       'SedentaryActiveDistance', 'VeryActiveMinutes', 'FairlyActiveMinutes',\n",
              "       'LightlyActiveMinutes', 'SedentaryMinutes', 'Calories'],\n",
              "      dtype='object')"
            ]
          },
          "metadata": {},
          "execution_count": 6
        }
      ],
      "source": [
        "df.columns"
      ]
    },
    {
      "cell_type": "markdown",
      "id": "7bc13988",
      "metadata": {
        "papermill": {
          "duration": 0.012362,
          "end_time": "2023-03-22T16:55:05.861274",
          "exception": false,
          "start_time": "2023-03-22T16:55:05.848912",
          "status": "completed"
        },
        "tags": [],
        "id": "7bc13988"
      },
      "source": [
        "Knowing the names of the columns, let´s take a quick overview at the rows and the data itself, using the .head() pandas function"
      ]
    },
    {
      "cell_type": "code",
      "execution_count": 7,
      "id": "b3864e38",
      "metadata": {
        "execution": {
          "iopub.execute_input": "2023-03-22T16:55:05.889286Z",
          "iopub.status.busy": "2023-03-22T16:55:05.888923Z",
          "iopub.status.idle": "2023-03-22T16:55:05.923904Z",
          "shell.execute_reply": "2023-03-22T16:55:05.922225Z"
        },
        "papermill": {
          "duration": 0.053045,
          "end_time": "2023-03-22T16:55:05.926606",
          "exception": false,
          "start_time": "2023-03-22T16:55:05.873561",
          "status": "completed"
        },
        "tags": [],
        "id": "b3864e38",
        "colab": {
          "base_uri": "https://localhost:8080/",
          "height": 364
        },
        "outputId": "bf64da68-cb06-46a0-f53f-4ee52ee9607d"
      },
      "outputs": [
        {
          "output_type": "execute_result",
          "data": {
            "text/plain": [
              "           Id ActivityDate  TotalSteps  TotalDistance  TrackerDistance  \\\n",
              "0  1503960366    4/12/2016       13162           8.50             8.50   \n",
              "1  1503960366    4/13/2016       10735           6.97             6.97   \n",
              "2  1503960366    4/14/2016       10460           6.74             6.74   \n",
              "3  1503960366    4/15/2016        9762           6.28             6.28   \n",
              "4  1503960366    4/16/2016       12669           8.16             8.16   \n",
              "5  1503960366    4/17/2016        9705           6.48             6.48   \n",
              "6  1503960366    4/18/2016       13019           8.59             8.59   \n",
              "7  1503960366    4/19/2016       15506           9.88             9.88   \n",
              "\n",
              "   LoggedActivitiesDistance  VeryActiveDistance  ModeratelyActiveDistance  \\\n",
              "0                       0.0                1.88                      0.55   \n",
              "1                       0.0                1.57                      0.69   \n",
              "2                       0.0                2.44                      0.40   \n",
              "3                       0.0                2.14                      1.26   \n",
              "4                       0.0                2.71                      0.41   \n",
              "5                       0.0                3.19                      0.78   \n",
              "6                       0.0                3.25                      0.64   \n",
              "7                       0.0                3.53                      1.32   \n",
              "\n",
              "   LightActiveDistance  SedentaryActiveDistance  VeryActiveMinutes  \\\n",
              "0                 6.06                      0.0                 25   \n",
              "1                 4.71                      0.0                 21   \n",
              "2                 3.91                      0.0                 30   \n",
              "3                 2.83                      0.0                 29   \n",
              "4                 5.04                      0.0                 36   \n",
              "5                 2.51                      0.0                 38   \n",
              "6                 4.71                      0.0                 42   \n",
              "7                 5.03                      0.0                 50   \n",
              "\n",
              "   FairlyActiveMinutes  LightlyActiveMinutes  SedentaryMinutes  Calories  \n",
              "0                   13                   328               728      1985  \n",
              "1                   19                   217               776      1797  \n",
              "2                   11                   181              1218      1776  \n",
              "3                   34                   209               726      1745  \n",
              "4                   10                   221               773      1863  \n",
              "5                   20                   164               539      1728  \n",
              "6                   16                   233              1149      1921  \n",
              "7                   31                   264               775      2035  "
            ],
            "text/html": [
              "\n",
              "  <div id=\"df-8d3f267c-65f2-40c4-9179-9d42af0c316c\">\n",
              "    <div class=\"colab-df-container\">\n",
              "      <div>\n",
              "<style scoped>\n",
              "    .dataframe tbody tr th:only-of-type {\n",
              "        vertical-align: middle;\n",
              "    }\n",
              "\n",
              "    .dataframe tbody tr th {\n",
              "        vertical-align: top;\n",
              "    }\n",
              "\n",
              "    .dataframe thead th {\n",
              "        text-align: right;\n",
              "    }\n",
              "</style>\n",
              "<table border=\"1\" class=\"dataframe\">\n",
              "  <thead>\n",
              "    <tr style=\"text-align: right;\">\n",
              "      <th></th>\n",
              "      <th>Id</th>\n",
              "      <th>ActivityDate</th>\n",
              "      <th>TotalSteps</th>\n",
              "      <th>TotalDistance</th>\n",
              "      <th>TrackerDistance</th>\n",
              "      <th>LoggedActivitiesDistance</th>\n",
              "      <th>VeryActiveDistance</th>\n",
              "      <th>ModeratelyActiveDistance</th>\n",
              "      <th>LightActiveDistance</th>\n",
              "      <th>SedentaryActiveDistance</th>\n",
              "      <th>VeryActiveMinutes</th>\n",
              "      <th>FairlyActiveMinutes</th>\n",
              "      <th>LightlyActiveMinutes</th>\n",
              "      <th>SedentaryMinutes</th>\n",
              "      <th>Calories</th>\n",
              "    </tr>\n",
              "  </thead>\n",
              "  <tbody>\n",
              "    <tr>\n",
              "      <th>0</th>\n",
              "      <td>1503960366</td>\n",
              "      <td>4/12/2016</td>\n",
              "      <td>13162</td>\n",
              "      <td>8.50</td>\n",
              "      <td>8.50</td>\n",
              "      <td>0.0</td>\n",
              "      <td>1.88</td>\n",
              "      <td>0.55</td>\n",
              "      <td>6.06</td>\n",
              "      <td>0.0</td>\n",
              "      <td>25</td>\n",
              "      <td>13</td>\n",
              "      <td>328</td>\n",
              "      <td>728</td>\n",
              "      <td>1985</td>\n",
              "    </tr>\n",
              "    <tr>\n",
              "      <th>1</th>\n",
              "      <td>1503960366</td>\n",
              "      <td>4/13/2016</td>\n",
              "      <td>10735</td>\n",
              "      <td>6.97</td>\n",
              "      <td>6.97</td>\n",
              "      <td>0.0</td>\n",
              "      <td>1.57</td>\n",
              "      <td>0.69</td>\n",
              "      <td>4.71</td>\n",
              "      <td>0.0</td>\n",
              "      <td>21</td>\n",
              "      <td>19</td>\n",
              "      <td>217</td>\n",
              "      <td>776</td>\n",
              "      <td>1797</td>\n",
              "    </tr>\n",
              "    <tr>\n",
              "      <th>2</th>\n",
              "      <td>1503960366</td>\n",
              "      <td>4/14/2016</td>\n",
              "      <td>10460</td>\n",
              "      <td>6.74</td>\n",
              "      <td>6.74</td>\n",
              "      <td>0.0</td>\n",
              "      <td>2.44</td>\n",
              "      <td>0.40</td>\n",
              "      <td>3.91</td>\n",
              "      <td>0.0</td>\n",
              "      <td>30</td>\n",
              "      <td>11</td>\n",
              "      <td>181</td>\n",
              "      <td>1218</td>\n",
              "      <td>1776</td>\n",
              "    </tr>\n",
              "    <tr>\n",
              "      <th>3</th>\n",
              "      <td>1503960366</td>\n",
              "      <td>4/15/2016</td>\n",
              "      <td>9762</td>\n",
              "      <td>6.28</td>\n",
              "      <td>6.28</td>\n",
              "      <td>0.0</td>\n",
              "      <td>2.14</td>\n",
              "      <td>1.26</td>\n",
              "      <td>2.83</td>\n",
              "      <td>0.0</td>\n",
              "      <td>29</td>\n",
              "      <td>34</td>\n",
              "      <td>209</td>\n",
              "      <td>726</td>\n",
              "      <td>1745</td>\n",
              "    </tr>\n",
              "    <tr>\n",
              "      <th>4</th>\n",
              "      <td>1503960366</td>\n",
              "      <td>4/16/2016</td>\n",
              "      <td>12669</td>\n",
              "      <td>8.16</td>\n",
              "      <td>8.16</td>\n",
              "      <td>0.0</td>\n",
              "      <td>2.71</td>\n",
              "      <td>0.41</td>\n",
              "      <td>5.04</td>\n",
              "      <td>0.0</td>\n",
              "      <td>36</td>\n",
              "      <td>10</td>\n",
              "      <td>221</td>\n",
              "      <td>773</td>\n",
              "      <td>1863</td>\n",
              "    </tr>\n",
              "    <tr>\n",
              "      <th>5</th>\n",
              "      <td>1503960366</td>\n",
              "      <td>4/17/2016</td>\n",
              "      <td>9705</td>\n",
              "      <td>6.48</td>\n",
              "      <td>6.48</td>\n",
              "      <td>0.0</td>\n",
              "      <td>3.19</td>\n",
              "      <td>0.78</td>\n",
              "      <td>2.51</td>\n",
              "      <td>0.0</td>\n",
              "      <td>38</td>\n",
              "      <td>20</td>\n",
              "      <td>164</td>\n",
              "      <td>539</td>\n",
              "      <td>1728</td>\n",
              "    </tr>\n",
              "    <tr>\n",
              "      <th>6</th>\n",
              "      <td>1503960366</td>\n",
              "      <td>4/18/2016</td>\n",
              "      <td>13019</td>\n",
              "      <td>8.59</td>\n",
              "      <td>8.59</td>\n",
              "      <td>0.0</td>\n",
              "      <td>3.25</td>\n",
              "      <td>0.64</td>\n",
              "      <td>4.71</td>\n",
              "      <td>0.0</td>\n",
              "      <td>42</td>\n",
              "      <td>16</td>\n",
              "      <td>233</td>\n",
              "      <td>1149</td>\n",
              "      <td>1921</td>\n",
              "    </tr>\n",
              "    <tr>\n",
              "      <th>7</th>\n",
              "      <td>1503960366</td>\n",
              "      <td>4/19/2016</td>\n",
              "      <td>15506</td>\n",
              "      <td>9.88</td>\n",
              "      <td>9.88</td>\n",
              "      <td>0.0</td>\n",
              "      <td>3.53</td>\n",
              "      <td>1.32</td>\n",
              "      <td>5.03</td>\n",
              "      <td>0.0</td>\n",
              "      <td>50</td>\n",
              "      <td>31</td>\n",
              "      <td>264</td>\n",
              "      <td>775</td>\n",
              "      <td>2035</td>\n",
              "    </tr>\n",
              "  </tbody>\n",
              "</table>\n",
              "</div>\n",
              "      <button class=\"colab-df-convert\" onclick=\"convertToInteractive('df-8d3f267c-65f2-40c4-9179-9d42af0c316c')\"\n",
              "              title=\"Convert this dataframe to an interactive table.\"\n",
              "              style=\"display:none;\">\n",
              "        \n",
              "  <svg xmlns=\"http://www.w3.org/2000/svg\" height=\"24px\"viewBox=\"0 0 24 24\"\n",
              "       width=\"24px\">\n",
              "    <path d=\"M0 0h24v24H0V0z\" fill=\"none\"/>\n",
              "    <path d=\"M18.56 5.44l.94 2.06.94-2.06 2.06-.94-2.06-.94-.94-2.06-.94 2.06-2.06.94zm-11 1L8.5 8.5l.94-2.06 2.06-.94-2.06-.94L8.5 2.5l-.94 2.06-2.06.94zm10 10l.94 2.06.94-2.06 2.06-.94-2.06-.94-.94-2.06-.94 2.06-2.06.94z\"/><path d=\"M17.41 7.96l-1.37-1.37c-.4-.4-.92-.59-1.43-.59-.52 0-1.04.2-1.43.59L10.3 9.45l-7.72 7.72c-.78.78-.78 2.05 0 2.83L4 21.41c.39.39.9.59 1.41.59.51 0 1.02-.2 1.41-.59l7.78-7.78 2.81-2.81c.8-.78.8-2.07 0-2.86zM5.41 20L4 18.59l7.72-7.72 1.47 1.35L5.41 20z\"/>\n",
              "  </svg>\n",
              "      </button>\n",
              "      \n",
              "  <style>\n",
              "    .colab-df-container {\n",
              "      display:flex;\n",
              "      flex-wrap:wrap;\n",
              "      gap: 12px;\n",
              "    }\n",
              "\n",
              "    .colab-df-convert {\n",
              "      background-color: #E8F0FE;\n",
              "      border: none;\n",
              "      border-radius: 50%;\n",
              "      cursor: pointer;\n",
              "      display: none;\n",
              "      fill: #1967D2;\n",
              "      height: 32px;\n",
              "      padding: 0 0 0 0;\n",
              "      width: 32px;\n",
              "    }\n",
              "\n",
              "    .colab-df-convert:hover {\n",
              "      background-color: #E2EBFA;\n",
              "      box-shadow: 0px 1px 2px rgba(60, 64, 67, 0.3), 0px 1px 3px 1px rgba(60, 64, 67, 0.15);\n",
              "      fill: #174EA6;\n",
              "    }\n",
              "\n",
              "    [theme=dark] .colab-df-convert {\n",
              "      background-color: #3B4455;\n",
              "      fill: #D2E3FC;\n",
              "    }\n",
              "\n",
              "    [theme=dark] .colab-df-convert:hover {\n",
              "      background-color: #434B5C;\n",
              "      box-shadow: 0px 1px 3px 1px rgba(0, 0, 0, 0.15);\n",
              "      filter: drop-shadow(0px 1px 2px rgba(0, 0, 0, 0.3));\n",
              "      fill: #FFFFFF;\n",
              "    }\n",
              "  </style>\n",
              "\n",
              "      <script>\n",
              "        const buttonEl =\n",
              "          document.querySelector('#df-8d3f267c-65f2-40c4-9179-9d42af0c316c button.colab-df-convert');\n",
              "        buttonEl.style.display =\n",
              "          google.colab.kernel.accessAllowed ? 'block' : 'none';\n",
              "\n",
              "        async function convertToInteractive(key) {\n",
              "          const element = document.querySelector('#df-8d3f267c-65f2-40c4-9179-9d42af0c316c');\n",
              "          const dataTable =\n",
              "            await google.colab.kernel.invokeFunction('convertToInteractive',\n",
              "                                                     [key], {});\n",
              "          if (!dataTable) return;\n",
              "\n",
              "          const docLinkHtml = 'Like what you see? Visit the ' +\n",
              "            '<a target=\"_blank\" href=https://colab.research.google.com/notebooks/data_table.ipynb>data table notebook</a>'\n",
              "            + ' to learn more about interactive tables.';\n",
              "          element.innerHTML = '';\n",
              "          dataTable['output_type'] = 'display_data';\n",
              "          await google.colab.output.renderOutput(dataTable, element);\n",
              "          const docLink = document.createElement('div');\n",
              "          docLink.innerHTML = docLinkHtml;\n",
              "          element.appendChild(docLink);\n",
              "        }\n",
              "      </script>\n",
              "    </div>\n",
              "  </div>\n",
              "  "
            ]
          },
          "metadata": {},
          "execution_count": 7
        }
      ],
      "source": [
        "df.head(8)"
      ]
    },
    {
      "cell_type": "markdown",
      "id": "062d6987",
      "metadata": {
        "papermill": {
          "duration": 0.013191,
          "end_time": "2023-03-22T16:55:05.953345",
          "exception": false,
          "start_time": "2023-03-22T16:55:05.940154",
          "status": "completed"
        },
        "tags": [],
        "id": "062d6987"
      },
      "source": [
        "The dataset stores and tracks the data collected on a daily basis, by the FitBit Fitness tracking devices, such as smartwatches and/or fitness apps.\n",
        "From a quick view we can sumarize the columns as the following:\n",
        "* Id:                        is an unique identifier of the users in the survey\n",
        "* ActivityDate:              is the specific date of the entry\n",
        "* TotalSteps:                the total steps each user did each day\n",
        "* TotalDistance:             the total distance each user did each day\n",
        "* TrackerDistance:           is the distance the device tracked each day\n",
        "* LoggedActivitiesDistance:  is the distance tracked by the device on specific activities\n",
        "* VeryActiveDistance:        The distance traveled at a very active physical state?\n",
        "* ModeratelyActiveDistance:  The distance traveled at a moderately active physical state?\n",
        "* LightActiveDistance:       The distance traveled at a lightly active physical state?\n",
        "* SedentaryActiveDistance:   The distance traveled at a sedentary kind of active physical state?\n",
        "* VeryActiveMinutes:         The minutes spent at a very active physical state?\n",
        "* FairlyActiveMinutes:       The minutes spent at a fairly active physical state?\n",
        "* LightlyActiveMinutes:      The minutes spent at a lightly active physical state?\n",
        "* SedentaryMinutes:          The minutes spent at a lightly active physical state?\n",
        "* Calories:                  Calories burned that specific day"
      ]
    },
    {
      "cell_type": "markdown",
      "id": "390cbe69",
      "metadata": {
        "papermill": {
          "duration": 0.012616,
          "end_time": "2023-03-22T16:55:05.979477",
          "exception": false,
          "start_time": "2023-03-22T16:55:05.966861",
          "status": "completed"
        },
        "tags": [],
        "id": "390cbe69"
      },
      "source": [
        "Once having a look a the columns and the data, we can star the proccess of cleaning"
      ]
    },
    {
      "cell_type": "markdown",
      "id": "f6dd25fa",
      "metadata": {
        "papermill": {
          "duration": 0.012785,
          "end_time": "2023-03-22T16:55:06.005185",
          "exception": false,
          "start_time": "2023-03-22T16:55:05.992400",
          "status": "completed"
        },
        "tags": [],
        "id": "f6dd25fa"
      },
      "source": [
        "## Cleaning the data"
      ]
    },
    {
      "cell_type": "markdown",
      "id": "63b15414",
      "metadata": {
        "papermill": {
          "duration": 0.012788,
          "end_time": "2023-03-22T16:55:06.031023",
          "exception": false,
          "start_time": "2023-03-22T16:55:06.018235",
          "status": "completed"
        },
        "tags": [],
        "id": "63b15414"
      },
      "source": [
        "### Checking Data types\n",
        "\n",
        "First we have to check if the data types align with the content and purpose of the data in each column, we can use the function .dtypes for that"
      ]
    },
    {
      "cell_type": "code",
      "execution_count": 8,
      "id": "dae74ad8",
      "metadata": {
        "execution": {
          "iopub.execute_input": "2023-03-22T16:55:06.058919Z",
          "iopub.status.busy": "2023-03-22T16:55:06.058600Z",
          "iopub.status.idle": "2023-03-22T16:55:06.066842Z",
          "shell.execute_reply": "2023-03-22T16:55:06.065843Z"
        },
        "papermill": {
          "duration": 0.025082,
          "end_time": "2023-03-22T16:55:06.069326",
          "exception": false,
          "start_time": "2023-03-22T16:55:06.044244",
          "status": "completed"
        },
        "tags": [],
        "id": "dae74ad8",
        "colab": {
          "base_uri": "https://localhost:8080/"
        },
        "outputId": "170a9b3c-a024-4686-a64b-9139474f9949"
      },
      "outputs": [
        {
          "output_type": "execute_result",
          "data": {
            "text/plain": [
              "Id                            int64\n",
              "ActivityDate                 object\n",
              "TotalSteps                    int64\n",
              "TotalDistance               float64\n",
              "TrackerDistance             float64\n",
              "LoggedActivitiesDistance    float64\n",
              "VeryActiveDistance          float64\n",
              "ModeratelyActiveDistance    float64\n",
              "LightActiveDistance         float64\n",
              "SedentaryActiveDistance     float64\n",
              "VeryActiveMinutes             int64\n",
              "FairlyActiveMinutes           int64\n",
              "LightlyActiveMinutes          int64\n",
              "SedentaryMinutes              int64\n",
              "Calories                      int64\n",
              "dtype: object"
            ]
          },
          "metadata": {},
          "execution_count": 8
        }
      ],
      "source": [
        "df.dtypes"
      ]
    },
    {
      "cell_type": "markdown",
      "id": "b84ee49c",
      "metadata": {
        "papermill": {
          "duration": 0.013133,
          "end_time": "2023-03-22T16:55:06.095808",
          "exception": false,
          "start_time": "2023-03-22T16:55:06.082675",
          "status": "completed"
        },
        "tags": [],
        "id": "b84ee49c"
      },
      "source": [
        "We can see that the Id columns is an integer, but it should be a string or object in this instance, why? because the Id is only an identifier, and our purpose is not to make mathematic operations with it, sums,multiplications, etc..\n",
        "\n",
        "Also the ActivityDate columns is an object and should be a Date.\n",
        "\n",
        "Other than that all the other columns seem to be the correct data type"
      ]
    },
    {
      "cell_type": "code",
      "execution_count": 9,
      "id": "41eba05e",
      "metadata": {
        "execution": {
          "iopub.execute_input": "2023-03-22T16:55:06.123664Z",
          "iopub.status.busy": "2023-03-22T16:55:06.123299Z",
          "iopub.status.idle": "2023-03-22T16:55:06.147901Z",
          "shell.execute_reply": "2023-03-22T16:55:06.145921Z"
        },
        "papermill": {
          "duration": 0.041424,
          "end_time": "2023-03-22T16:55:06.150344",
          "exception": false,
          "start_time": "2023-03-22T16:55:06.108920",
          "status": "completed"
        },
        "tags": [],
        "id": "41eba05e",
        "colab": {
          "base_uri": "https://localhost:8080/"
        },
        "outputId": "82da0df0-e44d-4581-d5ee-7902badb105d"
      },
      "outputs": [
        {
          "output_type": "execute_result",
          "data": {
            "text/plain": [
              "Id                                  object\n",
              "ActivityDate                datetime64[ns]\n",
              "TotalSteps                           int64\n",
              "TotalDistance                      float64\n",
              "TrackerDistance                    float64\n",
              "LoggedActivitiesDistance           float64\n",
              "VeryActiveDistance                 float64\n",
              "ModeratelyActiveDistance           float64\n",
              "LightActiveDistance                float64\n",
              "SedentaryActiveDistance            float64\n",
              "VeryActiveMinutes                    int64\n",
              "FairlyActiveMinutes                  int64\n",
              "LightlyActiveMinutes                 int64\n",
              "SedentaryMinutes                     int64\n",
              "Calories                             int64\n",
              "dtype: object"
            ]
          },
          "metadata": {},
          "execution_count": 9
        }
      ],
      "source": [
        "df['Id'] = df['Id'].astype(str)\n",
        "df['ActivityDate'] = pd.to_datetime(df['ActivityDate'],format=\"%m/%d/%Y\")\n",
        "df.dtypes # After reformating. We double check the data type"
      ]
    },
    {
      "cell_type": "markdown",
      "id": "bc1bf022",
      "metadata": {
        "papermill": {
          "duration": 0.012523,
          "end_time": "2023-03-22T16:55:06.175810",
          "exception": false,
          "start_time": "2023-03-22T16:55:06.163287",
          "status": "completed"
        },
        "tags": [],
        "id": "bc1bf022"
      },
      "source": [
        "Now we check the formats from before and we will convert the Id column from int to str using the .astype(str) function, and the 'ActivityDate' column from object or string, to datetime"
      ]
    },
    {
      "cell_type": "markdown",
      "id": "94ba8ce0",
      "metadata": {
        "papermill": {
          "duration": 0.012398,
          "end_time": "2023-03-22T16:55:06.200770",
          "exception": false,
          "start_time": "2023-03-22T16:55:06.188372",
          "status": "completed"
        },
        "tags": [],
        "id": "94ba8ce0"
      },
      "source": [
        "### Checking column values\n",
        "\n",
        "After that we can get rid of columns that are not relevant for our analysis.\n",
        "First we note the 'TotalDistance' column, and the other columns related to distance tracking.\n",
        "We see at first glance that 'TotalDistance' and 'Tracker Distance' have similar values, but we are not sure.\n",
        "We also can assum that the 'TrackerDistance' or the 'TotalDistance' is the sum of the different \"*ActiveDistance\" columns, we may be wrong so we check first."
      ]
    },
    {
      "cell_type": "code",
      "execution_count": 10,
      "id": "3a9fc3ce",
      "metadata": {
        "execution": {
          "iopub.execute_input": "2023-03-22T16:55:06.228291Z",
          "iopub.status.busy": "2023-03-22T16:55:06.227946Z",
          "iopub.status.idle": "2023-03-22T16:55:06.251018Z",
          "shell.execute_reply": "2023-03-22T16:55:06.249995Z"
        },
        "papermill": {
          "duration": 0.039407,
          "end_time": "2023-03-22T16:55:06.253028",
          "exception": false,
          "start_time": "2023-03-22T16:55:06.213621",
          "status": "completed"
        },
        "tags": [],
        "id": "3a9fc3ce",
        "colab": {
          "base_uri": "https://localhost:8080/",
          "height": 1000
        },
        "outputId": "56c4126c-cf19-4da2-ad80-14e667f1331d"
      },
      "outputs": [
        {
          "output_type": "execute_result",
          "data": {
            "text/plain": [
              "     TotalDistance  TrackerDistance  LoggedActivitiesDistance  sum_distance\n",
              "668           5.27             5.27                  1.959596          5.08\n",
              "689           9.71             7.88                  4.081692          9.71\n",
              "693           9.27             9.08                  2.785175          9.26\n",
              "707           8.72             8.68                  3.167822          8.73\n",
              "711          10.29             9.48                  4.869783         10.29\n",
              "712           9.65             8.60                  4.851307          9.65\n",
              "713           8.24             7.48                  3.285415          8.25\n",
              "717          10.98             9.91                  4.930550         10.98\n",
              "718          10.48             9.50                  4.942142         10.48\n",
              "719          11.31            10.41                  4.924841         11.32\n",
              "724          13.34            12.20                  4.861792         13.35\n",
              "726          10.22             9.06                  4.885605         10.22\n",
              "728          14.30            13.42                  4.911146         14.31\n",
              "731           9.18             8.72                  2.832326          9.17\n",
              "732          10.87             9.71                  4.912368         10.86\n",
              "734          11.10            10.04                  4.878232         11.10\n",
              "818           6.05             6.05                  2.253081          6.04\n",
              "819           9.82             9.82                  2.092147          9.82\n",
              "820          10.56            10.56                  2.253081         10.56\n",
              "824          10.81            10.81                  2.092147         10.81\n",
              "825          10.36            10.36                  2.253081         10.36\n",
              "826           7.44             7.44                  2.092147          7.45\n",
              "827          12.01            12.01                  2.253081         12.01\n",
              "828           9.67             9.67                  2.092147          9.68\n",
              "831           9.84             9.84                  2.092147          9.84\n",
              "838           4.81             4.81                  2.092147          4.81\n",
              "839           6.91             6.91                  2.253081          6.90\n",
              "841           6.79             6.79                  2.253081          6.79\n",
              "842           5.59             5.59                  2.092147          5.58\n",
              "845           6.65             6.65                  2.092147          6.65\n",
              "846           5.22             5.22                  2.253081          5.22\n",
              "847           7.25             7.25                  2.092147          7.25"
            ],
            "text/html": [
              "\n",
              "  <div id=\"df-2cad7495-8f31-4c9f-81b6-2ff49f7ada76\">\n",
              "    <div class=\"colab-df-container\">\n",
              "      <div>\n",
              "<style scoped>\n",
              "    .dataframe tbody tr th:only-of-type {\n",
              "        vertical-align: middle;\n",
              "    }\n",
              "\n",
              "    .dataframe tbody tr th {\n",
              "        vertical-align: top;\n",
              "    }\n",
              "\n",
              "    .dataframe thead th {\n",
              "        text-align: right;\n",
              "    }\n",
              "</style>\n",
              "<table border=\"1\" class=\"dataframe\">\n",
              "  <thead>\n",
              "    <tr style=\"text-align: right;\">\n",
              "      <th></th>\n",
              "      <th>TotalDistance</th>\n",
              "      <th>TrackerDistance</th>\n",
              "      <th>LoggedActivitiesDistance</th>\n",
              "      <th>sum_distance</th>\n",
              "    </tr>\n",
              "  </thead>\n",
              "  <tbody>\n",
              "    <tr>\n",
              "      <th>668</th>\n",
              "      <td>5.27</td>\n",
              "      <td>5.27</td>\n",
              "      <td>1.959596</td>\n",
              "      <td>5.08</td>\n",
              "    </tr>\n",
              "    <tr>\n",
              "      <th>689</th>\n",
              "      <td>9.71</td>\n",
              "      <td>7.88</td>\n",
              "      <td>4.081692</td>\n",
              "      <td>9.71</td>\n",
              "    </tr>\n",
              "    <tr>\n",
              "      <th>693</th>\n",
              "      <td>9.27</td>\n",
              "      <td>9.08</td>\n",
              "      <td>2.785175</td>\n",
              "      <td>9.26</td>\n",
              "    </tr>\n",
              "    <tr>\n",
              "      <th>707</th>\n",
              "      <td>8.72</td>\n",
              "      <td>8.68</td>\n",
              "      <td>3.167822</td>\n",
              "      <td>8.73</td>\n",
              "    </tr>\n",
              "    <tr>\n",
              "      <th>711</th>\n",
              "      <td>10.29</td>\n",
              "      <td>9.48</td>\n",
              "      <td>4.869783</td>\n",
              "      <td>10.29</td>\n",
              "    </tr>\n",
              "    <tr>\n",
              "      <th>712</th>\n",
              "      <td>9.65</td>\n",
              "      <td>8.60</td>\n",
              "      <td>4.851307</td>\n",
              "      <td>9.65</td>\n",
              "    </tr>\n",
              "    <tr>\n",
              "      <th>713</th>\n",
              "      <td>8.24</td>\n",
              "      <td>7.48</td>\n",
              "      <td>3.285415</td>\n",
              "      <td>8.25</td>\n",
              "    </tr>\n",
              "    <tr>\n",
              "      <th>717</th>\n",
              "      <td>10.98</td>\n",
              "      <td>9.91</td>\n",
              "      <td>4.930550</td>\n",
              "      <td>10.98</td>\n",
              "    </tr>\n",
              "    <tr>\n",
              "      <th>718</th>\n",
              "      <td>10.48</td>\n",
              "      <td>9.50</td>\n",
              "      <td>4.942142</td>\n",
              "      <td>10.48</td>\n",
              "    </tr>\n",
              "    <tr>\n",
              "      <th>719</th>\n",
              "      <td>11.31</td>\n",
              "      <td>10.41</td>\n",
              "      <td>4.924841</td>\n",
              "      <td>11.32</td>\n",
              "    </tr>\n",
              "    <tr>\n",
              "      <th>724</th>\n",
              "      <td>13.34</td>\n",
              "      <td>12.20</td>\n",
              "      <td>4.861792</td>\n",
              "      <td>13.35</td>\n",
              "    </tr>\n",
              "    <tr>\n",
              "      <th>726</th>\n",
              "      <td>10.22</td>\n",
              "      <td>9.06</td>\n",
              "      <td>4.885605</td>\n",
              "      <td>10.22</td>\n",
              "    </tr>\n",
              "    <tr>\n",
              "      <th>728</th>\n",
              "      <td>14.30</td>\n",
              "      <td>13.42</td>\n",
              "      <td>4.911146</td>\n",
              "      <td>14.31</td>\n",
              "    </tr>\n",
              "    <tr>\n",
              "      <th>731</th>\n",
              "      <td>9.18</td>\n",
              "      <td>8.72</td>\n",
              "      <td>2.832326</td>\n",
              "      <td>9.17</td>\n",
              "    </tr>\n",
              "    <tr>\n",
              "      <th>732</th>\n",
              "      <td>10.87</td>\n",
              "      <td>9.71</td>\n",
              "      <td>4.912368</td>\n",
              "      <td>10.86</td>\n",
              "    </tr>\n",
              "    <tr>\n",
              "      <th>734</th>\n",
              "      <td>11.10</td>\n",
              "      <td>10.04</td>\n",
              "      <td>4.878232</td>\n",
              "      <td>11.10</td>\n",
              "    </tr>\n",
              "    <tr>\n",
              "      <th>818</th>\n",
              "      <td>6.05</td>\n",
              "      <td>6.05</td>\n",
              "      <td>2.253081</td>\n",
              "      <td>6.04</td>\n",
              "    </tr>\n",
              "    <tr>\n",
              "      <th>819</th>\n",
              "      <td>9.82</td>\n",
              "      <td>9.82</td>\n",
              "      <td>2.092147</td>\n",
              "      <td>9.82</td>\n",
              "    </tr>\n",
              "    <tr>\n",
              "      <th>820</th>\n",
              "      <td>10.56</td>\n",
              "      <td>10.56</td>\n",
              "      <td>2.253081</td>\n",
              "      <td>10.56</td>\n",
              "    </tr>\n",
              "    <tr>\n",
              "      <th>824</th>\n",
              "      <td>10.81</td>\n",
              "      <td>10.81</td>\n",
              "      <td>2.092147</td>\n",
              "      <td>10.81</td>\n",
              "    </tr>\n",
              "    <tr>\n",
              "      <th>825</th>\n",
              "      <td>10.36</td>\n",
              "      <td>10.36</td>\n",
              "      <td>2.253081</td>\n",
              "      <td>10.36</td>\n",
              "    </tr>\n",
              "    <tr>\n",
              "      <th>826</th>\n",
              "      <td>7.44</td>\n",
              "      <td>7.44</td>\n",
              "      <td>2.092147</td>\n",
              "      <td>7.45</td>\n",
              "    </tr>\n",
              "    <tr>\n",
              "      <th>827</th>\n",
              "      <td>12.01</td>\n",
              "      <td>12.01</td>\n",
              "      <td>2.253081</td>\n",
              "      <td>12.01</td>\n",
              "    </tr>\n",
              "    <tr>\n",
              "      <th>828</th>\n",
              "      <td>9.67</td>\n",
              "      <td>9.67</td>\n",
              "      <td>2.092147</td>\n",
              "      <td>9.68</td>\n",
              "    </tr>\n",
              "    <tr>\n",
              "      <th>831</th>\n",
              "      <td>9.84</td>\n",
              "      <td>9.84</td>\n",
              "      <td>2.092147</td>\n",
              "      <td>9.84</td>\n",
              "    </tr>\n",
              "    <tr>\n",
              "      <th>838</th>\n",
              "      <td>4.81</td>\n",
              "      <td>4.81</td>\n",
              "      <td>2.092147</td>\n",
              "      <td>4.81</td>\n",
              "    </tr>\n",
              "    <tr>\n",
              "      <th>839</th>\n",
              "      <td>6.91</td>\n",
              "      <td>6.91</td>\n",
              "      <td>2.253081</td>\n",
              "      <td>6.90</td>\n",
              "    </tr>\n",
              "    <tr>\n",
              "      <th>841</th>\n",
              "      <td>6.79</td>\n",
              "      <td>6.79</td>\n",
              "      <td>2.253081</td>\n",
              "      <td>6.79</td>\n",
              "    </tr>\n",
              "    <tr>\n",
              "      <th>842</th>\n",
              "      <td>5.59</td>\n",
              "      <td>5.59</td>\n",
              "      <td>2.092147</td>\n",
              "      <td>5.58</td>\n",
              "    </tr>\n",
              "    <tr>\n",
              "      <th>845</th>\n",
              "      <td>6.65</td>\n",
              "      <td>6.65</td>\n",
              "      <td>2.092147</td>\n",
              "      <td>6.65</td>\n",
              "    </tr>\n",
              "    <tr>\n",
              "      <th>846</th>\n",
              "      <td>5.22</td>\n",
              "      <td>5.22</td>\n",
              "      <td>2.253081</td>\n",
              "      <td>5.22</td>\n",
              "    </tr>\n",
              "    <tr>\n",
              "      <th>847</th>\n",
              "      <td>7.25</td>\n",
              "      <td>7.25</td>\n",
              "      <td>2.092147</td>\n",
              "      <td>7.25</td>\n",
              "    </tr>\n",
              "  </tbody>\n",
              "</table>\n",
              "</div>\n",
              "      <button class=\"colab-df-convert\" onclick=\"convertToInteractive('df-2cad7495-8f31-4c9f-81b6-2ff49f7ada76')\"\n",
              "              title=\"Convert this dataframe to an interactive table.\"\n",
              "              style=\"display:none;\">\n",
              "        \n",
              "  <svg xmlns=\"http://www.w3.org/2000/svg\" height=\"24px\"viewBox=\"0 0 24 24\"\n",
              "       width=\"24px\">\n",
              "    <path d=\"M0 0h24v24H0V0z\" fill=\"none\"/>\n",
              "    <path d=\"M18.56 5.44l.94 2.06.94-2.06 2.06-.94-2.06-.94-.94-2.06-.94 2.06-2.06.94zm-11 1L8.5 8.5l.94-2.06 2.06-.94-2.06-.94L8.5 2.5l-.94 2.06-2.06.94zm10 10l.94 2.06.94-2.06 2.06-.94-2.06-.94-.94-2.06-.94 2.06-2.06.94z\"/><path d=\"M17.41 7.96l-1.37-1.37c-.4-.4-.92-.59-1.43-.59-.52 0-1.04.2-1.43.59L10.3 9.45l-7.72 7.72c-.78.78-.78 2.05 0 2.83L4 21.41c.39.39.9.59 1.41.59.51 0 1.02-.2 1.41-.59l7.78-7.78 2.81-2.81c.8-.78.8-2.07 0-2.86zM5.41 20L4 18.59l7.72-7.72 1.47 1.35L5.41 20z\"/>\n",
              "  </svg>\n",
              "      </button>\n",
              "      \n",
              "  <style>\n",
              "    .colab-df-container {\n",
              "      display:flex;\n",
              "      flex-wrap:wrap;\n",
              "      gap: 12px;\n",
              "    }\n",
              "\n",
              "    .colab-df-convert {\n",
              "      background-color: #E8F0FE;\n",
              "      border: none;\n",
              "      border-radius: 50%;\n",
              "      cursor: pointer;\n",
              "      display: none;\n",
              "      fill: #1967D2;\n",
              "      height: 32px;\n",
              "      padding: 0 0 0 0;\n",
              "      width: 32px;\n",
              "    }\n",
              "\n",
              "    .colab-df-convert:hover {\n",
              "      background-color: #E2EBFA;\n",
              "      box-shadow: 0px 1px 2px rgba(60, 64, 67, 0.3), 0px 1px 3px 1px rgba(60, 64, 67, 0.15);\n",
              "      fill: #174EA6;\n",
              "    }\n",
              "\n",
              "    [theme=dark] .colab-df-convert {\n",
              "      background-color: #3B4455;\n",
              "      fill: #D2E3FC;\n",
              "    }\n",
              "\n",
              "    [theme=dark] .colab-df-convert:hover {\n",
              "      background-color: #434B5C;\n",
              "      box-shadow: 0px 1px 3px 1px rgba(0, 0, 0, 0.15);\n",
              "      filter: drop-shadow(0px 1px 2px rgba(0, 0, 0, 0.3));\n",
              "      fill: #FFFFFF;\n",
              "    }\n",
              "  </style>\n",
              "\n",
              "      <script>\n",
              "        const buttonEl =\n",
              "          document.querySelector('#df-2cad7495-8f31-4c9f-81b6-2ff49f7ada76 button.colab-df-convert');\n",
              "        buttonEl.style.display =\n",
              "          google.colab.kernel.accessAllowed ? 'block' : 'none';\n",
              "\n",
              "        async function convertToInteractive(key) {\n",
              "          const element = document.querySelector('#df-2cad7495-8f31-4c9f-81b6-2ff49f7ada76');\n",
              "          const dataTable =\n",
              "            await google.colab.kernel.invokeFunction('convertToInteractive',\n",
              "                                                     [key], {});\n",
              "          if (!dataTable) return;\n",
              "\n",
              "          const docLinkHtml = 'Like what you see? Visit the ' +\n",
              "            '<a target=\"_blank\" href=https://colab.research.google.com/notebooks/data_table.ipynb>data table notebook</a>'\n",
              "            + ' to learn more about interactive tables.';\n",
              "          element.innerHTML = '';\n",
              "          dataTable['output_type'] = 'display_data';\n",
              "          await google.colab.output.renderOutput(dataTable, element);\n",
              "          const docLink = document.createElement('div');\n",
              "          docLink.innerHTML = docLinkHtml;\n",
              "          element.appendChild(docLink);\n",
              "        }\n",
              "      </script>\n",
              "    </div>\n",
              "  </div>\n",
              "  "
            ]
          },
          "metadata": {},
          "execution_count": 10
        }
      ],
      "source": [
        "# We create a new column, adding up the \"ActiveDistance\" columns to see if it's equal to the 'TotalDistance' column, or the 'TrackerDistance' column\n",
        "df['sum_distance'] = df['VeryActiveDistance'] + df['ModeratelyActiveDistance'] + df['LightActiveDistance'] + df['SedentaryActiveDistance']\n",
        "\n",
        "# We also notice that 'LoggedActivitiesDistance' have 0.0 in value in most entries, but we filter to find where has more than 0\n",
        "df.loc[(df['LoggedActivitiesDistance'] > 0),['TotalDistance','TrackerDistance','LoggedActivitiesDistance','sum_distance']]"
      ]
    },
    {
      "cell_type": "markdown",
      "id": "f804c2b5",
      "metadata": {
        "papermill": {
          "duration": 0.013747,
          "end_time": "2023-03-22T16:55:06.280952",
          "exception": false,
          "start_time": "2023-03-22T16:55:06.267205",
          "status": "completed"
        },
        "tags": [],
        "id": "f804c2b5"
      },
      "source": [
        "The previous finding show that despite 'TotalDistance' and 'TrackerDistance' are not always 100% equal, they are the same in most cases.\n",
        "We also see that there are entries in the 'LoggedActivitiesDistance' higher than 0, but are just a few.\n",
        "And finally we see that the sum of the 'ActiveDistance' columns is equal to the 'TotalDistance' column, only differing by 1 decimal due to rounding up."
      ]
    },
    {
      "cell_type": "markdown",
      "id": "c4d492d3",
      "metadata": {
        "papermill": {
          "duration": 0.013917,
          "end_time": "2023-03-22T16:55:06.308803",
          "exception": false,
          "start_time": "2023-03-22T16:55:06.294886",
          "status": "completed"
        },
        "tags": [],
        "id": "c4d492d3"
      },
      "source": [
        "So now, we have to decide if we want to keep all the columns, or deleting some, we conclude that the 'TotalDistance' column and the 'TotalDistance' are equal in most cases, (having the TotalDistance higher values). so we decide to keep 'TotalDistance'.\n",
        "\n",
        "About the 'ActiveDistance' columns, unfortunately we don't have an idea behind the categorization, what is the exact diffence between 'Moderately Active' and 'Very Active', maybe the heartbeat pulse at that moment?, steps per minute?, we don't know from this specific dataset, but we will keep them nonetheless.\n",
        "\n",
        "The same could be said about the 'ActiveMinutes' columns, so we would just add them up in a new column"
      ]
    },
    {
      "cell_type": "code",
      "execution_count": 11,
      "id": "6782b709",
      "metadata": {
        "execution": {
          "iopub.execute_input": "2023-03-22T16:55:06.338885Z",
          "iopub.status.busy": "2023-03-22T16:55:06.338529Z",
          "iopub.status.idle": "2023-03-22T16:55:06.346464Z",
          "shell.execute_reply": "2023-03-22T16:55:06.345074Z"
        },
        "papermill": {
          "duration": 0.025045,
          "end_time": "2023-03-22T16:55:06.348440",
          "exception": false,
          "start_time": "2023-03-22T16:55:06.323395",
          "status": "completed"
        },
        "tags": [],
        "id": "6782b709"
      },
      "outputs": [],
      "source": [
        "df['TotalMinutes'] = df['VeryActiveMinutes'] + df['FairlyActiveMinutes'] + df['LightlyActiveMinutes'] + df['SedentaryMinutes']"
      ]
    },
    {
      "cell_type": "markdown",
      "id": "c4f86654",
      "metadata": {
        "papermill": {
          "duration": 0.014316,
          "end_time": "2023-03-22T16:55:06.377956",
          "exception": false,
          "start_time": "2023-03-22T16:55:06.363640",
          "status": "completed"
        },
        "tags": [],
        "id": "c4f86654"
      },
      "source": [
        "### Renaming columns\n",
        "\n",
        "Now, let's rename the columns with the rename function.\n",
        "And also we want to turn them into lower case with the function str.lower()"
      ]
    },
    {
      "cell_type": "code",
      "execution_count": 12,
      "id": "0ec07c58",
      "metadata": {
        "execution": {
          "iopub.execute_input": "2023-03-22T16:55:06.410583Z",
          "iopub.status.busy": "2023-03-22T16:55:06.410203Z",
          "iopub.status.idle": "2023-03-22T16:55:06.420884Z",
          "shell.execute_reply": "2023-03-22T16:55:06.419708Z"
        },
        "papermill": {
          "duration": 0.02889,
          "end_time": "2023-03-22T16:55:06.423136",
          "exception": false,
          "start_time": "2023-03-22T16:55:06.394246",
          "status": "completed"
        },
        "tags": [],
        "id": "0ec07c58",
        "colab": {
          "base_uri": "https://localhost:8080/"
        },
        "outputId": "28f13d21-897e-4ec2-d8ac-ef29828f3270"
      },
      "outputs": [
        {
          "output_type": "stream",
          "name": "stdout",
          "text": [
            "Double check the name of the columns:\n"
          ]
        },
        {
          "output_type": "execute_result",
          "data": {
            "text/plain": [
              "Index(['id', 'activity_date', 'total_steps', 'total_distance',\n",
              "       'tracker_distance', 'logged_activities_distance',\n",
              "       'very_active_distance', 'moderately_active_distance',\n",
              "       'light_active_distance', 'sedentary_active_distance',\n",
              "       'very_active_minutes', 'fairly_active_minutes',\n",
              "       'lightly_active_minutes', 'sedentary_minutes', 'calories',\n",
              "       'sum_distance', 'totalminutes'],\n",
              "      dtype='object')"
            ]
          },
          "metadata": {},
          "execution_count": 12
        }
      ],
      "source": [
        "df.columns = df.columns.str.lower()\n",
        "df.rename(columns = {'trackerdistance':'tracker_distance','activitydate':'activity_date','totalsteps':'total_steps','totaldistance':'total_distance',\n",
        "       'loggedactivitiesdistance':'logged_activities_distance', 'veryactivedistance':'very_active_distance',\n",
        "       'moderatelyactivedistance':'moderately_active_distance', 'lightactivedistance':'light_active_distance',\n",
        "       'sedentaryactivedistance':'sedentary_active_distance', 'veryactiveminutes':'very_active_minutes',\n",
        "       'fairlyactiveminutes':'fairly_active_minutes','lightlyactiveminutes':'lightly_active_minutes',\n",
        "       'sedentaryminutes':'sedentary_minutes'}\n",
        "         ,inplace=True) # We make the changes permanent by using inplace=True\n",
        "print('Double check the name of the columns:')\n",
        "df.columns"
      ]
    },
    {
      "cell_type": "markdown",
      "id": "47ddc5f1",
      "metadata": {
        "papermill": {
          "duration": 0.014096,
          "end_time": "2023-03-22T16:55:06.452453",
          "exception": false,
          "start_time": "2023-03-22T16:55:06.438357",
          "status": "completed"
        },
        "tags": [],
        "id": "47ddc5f1"
      },
      "source": [
        "### Creating columns\n",
        "\n",
        "Let's add a column in which tell us the day of the week using the datetime function day_name(), and another column with the number of the day of the week, using the function weekday"
      ]
    },
    {
      "cell_type": "code",
      "execution_count": 13,
      "id": "373d1a27",
      "metadata": {
        "execution": {
          "iopub.execute_input": "2023-03-22T16:55:06.486288Z",
          "iopub.status.busy": "2023-03-22T16:55:06.485916Z",
          "iopub.status.idle": "2023-03-22T16:55:06.493752Z",
          "shell.execute_reply": "2023-03-22T16:55:06.492302Z"
        },
        "papermill": {
          "duration": 0.02681,
          "end_time": "2023-03-22T16:55:06.496596",
          "exception": false,
          "start_time": "2023-03-22T16:55:06.469786",
          "status": "completed"
        },
        "tags": [],
        "id": "373d1a27"
      },
      "outputs": [],
      "source": [
        "day_of_week = df['activity_date'].dt.day_name()\n",
        "df['day_of_week'] = day_of_week\n",
        "df['n_day_of_week'] = df['activity_date'].dt.weekday # 0 represents monday, 6 represents sunday"
      ]
    },
    {
      "cell_type": "markdown",
      "id": "3166af8e",
      "metadata": {
        "papermill": {
          "duration": 0.013794,
          "end_time": "2023-03-22T16:55:06.525662",
          "exception": false,
          "start_time": "2023-03-22T16:55:06.511868",
          "status": "completed"
        },
        "tags": [],
        "id": "3166af8e"
      },
      "source": [
        "### Checking empty cells and null values\n",
        "\n",
        "Checking for null values with the function isna().sum()"
      ]
    },
    {
      "cell_type": "code",
      "execution_count": 14,
      "id": "363f36ef",
      "metadata": {
        "execution": {
          "iopub.execute_input": "2023-03-22T16:55:06.554494Z",
          "iopub.status.busy": "2023-03-22T16:55:06.554165Z",
          "iopub.status.idle": "2023-03-22T16:55:06.563094Z",
          "shell.execute_reply": "2023-03-22T16:55:06.561182Z"
        },
        "papermill": {
          "duration": 0.026441,
          "end_time": "2023-03-22T16:55:06.565579",
          "exception": false,
          "start_time": "2023-03-22T16:55:06.539138",
          "status": "completed"
        },
        "tags": [],
        "id": "363f36ef",
        "colab": {
          "base_uri": "https://localhost:8080/"
        },
        "outputId": "0e5867d3-2355-47db-9952-f28ba72c86ce"
      },
      "outputs": [
        {
          "output_type": "stream",
          "name": "stdout",
          "text": [
            "Total number of null values are: \n",
            "id                            0\n",
            "activity_date                 0\n",
            "total_steps                   0\n",
            "total_distance                0\n",
            "tracker_distance              0\n",
            "logged_activities_distance    0\n",
            "very_active_distance          0\n",
            "moderately_active_distance    0\n",
            "light_active_distance         0\n",
            "sedentary_active_distance     0\n",
            "very_active_minutes           0\n",
            "fairly_active_minutes         0\n",
            "lightly_active_minutes        0\n",
            "sedentary_minutes             0\n",
            "calories                      0\n",
            "sum_distance                  0\n",
            "totalminutes                  0\n",
            "day_of_week                   0\n",
            "n_day_of_week                 0\n",
            "dtype: int64\n"
          ]
        }
      ],
      "source": [
        "print('Total number of null values are: ')\n",
        "print(df.isna().sum())"
      ]
    },
    {
      "cell_type": "markdown",
      "id": "3b4cba2a",
      "metadata": {
        "papermill": {
          "duration": 0.01389,
          "end_time": "2023-03-22T16:55:06.594587",
          "exception": false,
          "start_time": "2023-03-22T16:55:06.580697",
          "status": "completed"
        },
        "tags": [],
        "id": "3b4cba2a"
      },
      "source": [
        "Checking for duplicate entries using the function duplicated().sum()"
      ]
    },
    {
      "cell_type": "code",
      "execution_count": 15,
      "id": "906bc999",
      "metadata": {
        "execution": {
          "iopub.execute_input": "2023-03-22T16:55:06.625193Z",
          "iopub.status.busy": "2023-03-22T16:55:06.624853Z",
          "iopub.status.idle": "2023-03-22T16:55:06.639889Z",
          "shell.execute_reply": "2023-03-22T16:55:06.637713Z"
        },
        "papermill": {
          "duration": 0.032963,
          "end_time": "2023-03-22T16:55:06.642361",
          "exception": false,
          "start_time": "2023-03-22T16:55:06.609398",
          "status": "completed"
        },
        "tags": [],
        "id": "906bc999",
        "colab": {
          "base_uri": "https://localhost:8080/"
        },
        "outputId": "927697dc-dbad-4e1d-ab80-f5a9b358d11c"
      },
      "outputs": [
        {
          "output_type": "stream",
          "name": "stdout",
          "text": [
            "Total number of duplicated values are:  0\n"
          ]
        }
      ],
      "source": [
        "print('Total number of duplicated values are: ',df.duplicated().sum())"
      ]
    },
    {
      "cell_type": "markdown",
      "id": "46d5ba23",
      "metadata": {
        "papermill": {
          "duration": 0.013329,
          "end_time": "2023-03-22T16:55:06.669905",
          "exception": false,
          "start_time": "2023-03-22T16:55:06.656576",
          "status": "completed"
        },
        "tags": [],
        "id": "46d5ba23"
      },
      "source": [
        "There are no null values nor duplicated entries"
      ]
    },
    {
      "cell_type": "markdown",
      "id": "cce15b17",
      "metadata": {
        "papermill": {
          "duration": 0.014408,
          "end_time": "2023-03-22T16:55:06.697913",
          "exception": false,
          "start_time": "2023-03-22T16:55:06.683505",
          "status": "completed"
        },
        "tags": [],
        "id": "cce15b17"
      },
      "source": [
        "### Subsetting the data\n",
        "\n",
        "Now we can select only the columns we will use for our analysis. In this case"
      ]
    },
    {
      "cell_type": "code",
      "execution_count": 16,
      "id": "06677c40",
      "metadata": {
        "execution": {
          "iopub.execute_input": "2023-03-22T16:55:06.727437Z",
          "iopub.status.busy": "2023-03-22T16:55:06.727064Z",
          "iopub.status.idle": "2023-03-22T16:55:06.733809Z",
          "shell.execute_reply": "2023-03-22T16:55:06.732673Z"
        },
        "papermill": {
          "duration": 0.023383,
          "end_time": "2023-03-22T16:55:06.735592",
          "exception": false,
          "start_time": "2023-03-22T16:55:06.712209",
          "status": "completed"
        },
        "tags": [],
        "id": "06677c40"
      },
      "outputs": [],
      "source": [
        "df = df[['id', 'activity_date', 'total_steps', 'total_distance',\n",
        "       #'tracker_distance', 'logged_activities_distance',\n",
        "       #'very_active_distance', 'moderately_active_distance',\n",
        "       #'light_active_distance', 'sedentary_active_distance',\n",
        "       'very_active_minutes', 'fairly_active_minutes',\n",
        "       'lightly_active_minutes', 'sedentary_minutes', 'calories',\n",
        "       #'sum_distance','totalminutes', \n",
        "       'day_of_week', 'n_day_of_week'\n",
        "        ]].copy()"
      ]
    },
    {
      "cell_type": "markdown",
      "id": "e6fe46e2",
      "metadata": {
        "papermill": {
          "duration": 0.012965,
          "end_time": "2023-03-22T16:55:06.762339",
          "exception": false,
          "start_time": "2023-03-22T16:55:06.749374",
          "status": "completed"
        },
        "tags": [],
        "id": "e6fe46e2"
      },
      "source": [
        "### Category creation\n",
        "\n",
        "Now I'm going to create my own categorization of the users, by level of physical activity and device usage\n",
        "\n",
        "physical activity would follow these arguments:\n",
        "* Sedentary: less than 6000 daily steps on average\n",
        "* Active:  between 6000 and 12000 daily steps on average\n",
        "* Very active: more than 12000 daily steps on average\n",
        "\n",
        "Device usage will follow these arguments:\n",
        "* Low use: less than 8 hours of use per day.\n",
        "* Normal use: between 8 and 16 hours of use per day.\n",
        "* High use: more than 16 hours of use per day.\n"
      ]
    },
    {
      "cell_type": "markdown",
      "id": "14f25511",
      "metadata": {
        "papermill": {
          "duration": 0.013025,
          "end_time": "2023-03-22T16:55:06.788595",
          "exception": false,
          "start_time": "2023-03-22T16:55:06.775570",
          "status": "completed"
        },
        "tags": [],
        "id": "14f25511"
      },
      "source": [
        "For this dataset, I'll only begin by creating the category 'activity_level'.\n",
        "I will create the other category when I analize a dataset which has data stored in an hourly basis"
      ]
    },
    {
      "cell_type": "code",
      "execution_count": 17,
      "id": "364af88f",
      "metadata": {
        "execution": {
          "iopub.execute_input": "2023-03-22T16:55:06.818902Z",
          "iopub.status.busy": "2023-03-22T16:55:06.818554Z",
          "iopub.status.idle": "2023-03-22T16:55:06.835649Z",
          "shell.execute_reply": "2023-03-22T16:55:06.834541Z"
        },
        "papermill": {
          "duration": 0.034697,
          "end_time": "2023-03-22T16:55:06.837393",
          "exception": false,
          "start_time": "2023-03-22T16:55:06.802696",
          "status": "completed"
        },
        "tags": [],
        "id": "364af88f"
      },
      "outputs": [],
      "source": [
        "# I first group the data by the id\n",
        "id_grp = df.groupby(['id'])\n",
        "\n",
        "# Then I look for the average amount of steps, and sort the results in descending order\n",
        "id_avg_step = id_grp['total_steps'].mean().sort_values(ascending=False)\n",
        "\n",
        "# After that, I turn the results into a dataframe\n",
        "id_avg_step = id_avg_step.to_frame()\n",
        "\n",
        "# I want to create a new column which tells in which category each user fits into, depending on the average amount of steps\n",
        "conditions = [\n",
        "    (id_avg_step <=6000),\n",
        "    (id_avg_step > 6000) & (id_avg_step < 12000),\n",
        "    (id_avg_step >= 12000)\n",
        "] # These are the conditions\n",
        "\n",
        "values = ['sedentary','active','very_active'] # And here are the name of the values\n",
        "\n",
        "# I create a column with the numpy function, np.select to asign each id a category\n",
        "id_avg_step['activity_level'] = np.select(conditions,values)\n",
        "\n",
        "# I store the results in a variable to use it in the next step\n",
        "id_activity_level = id_avg_step['activity_level']\n",
        "\n",
        "# I use a list comprehension to create the column in our original dataset.\n",
        "# With this list comprehension I retrieve the categories where the index match the id column\n",
        "df['activity_level'] = [id_activity_level[c] for c in df['id']]"
      ]
    },
    {
      "cell_type": "markdown",
      "id": "ff09557e",
      "metadata": {
        "papermill": {
          "duration": 0.013974,
          "end_time": "2023-03-22T16:55:06.865092",
          "exception": false,
          "start_time": "2023-03-22T16:55:06.851118",
          "status": "completed"
        },
        "tags": [],
        "id": "ff09557e"
      },
      "source": [
        "# Step 4: Analyze"
      ]
    },
    {
      "cell_type": "markdown",
      "id": "be58b36d",
      "metadata": {
        "papermill": {
          "duration": 0.013935,
          "end_time": "2023-03-22T16:55:06.893204",
          "exception": false,
          "start_time": "2023-03-22T16:55:06.879269",
          "status": "completed"
        },
        "tags": [],
        "id": "be58b36d"
      },
      "source": [
        "Let's check how many unique id's there are with the function nunique().\n",
        "And what are those with the unique() function"
      ]
    },
    {
      "cell_type": "code",
      "execution_count": 18,
      "id": "e7827cb2",
      "metadata": {
        "execution": {
          "iopub.execute_input": "2023-03-22T16:55:06.923018Z",
          "iopub.status.busy": "2023-03-22T16:55:06.922660Z",
          "iopub.status.idle": "2023-03-22T16:55:06.931104Z",
          "shell.execute_reply": "2023-03-22T16:55:06.929637Z"
        },
        "papermill": {
          "duration": 0.026634,
          "end_time": "2023-03-22T16:55:06.934090",
          "exception": false,
          "start_time": "2023-03-22T16:55:06.907456",
          "status": "completed"
        },
        "tags": [],
        "id": "e7827cb2",
        "colab": {
          "base_uri": "https://localhost:8080/"
        },
        "outputId": "d5400918-0361-419f-e3fc-9949d5054cce"
      },
      "outputs": [
        {
          "output_type": "stream",
          "name": "stdout",
          "text": [
            "Number of unique values in id column: 33\n",
            "\n",
            "List of id values: ['1503960366' '1624580081' '1644430081' '1844505072' '1927972279'\n",
            " '2022484408' '2026352035' '2320127002' '2347167796' '2873212765'\n",
            " '3372868164' '3977333714' '4020332650' '4057192912' '4319703577'\n",
            " '4388161847' '4445114986' '4558609924' '4702921684' '5553957443'\n",
            " '5577150313' '6117666160' '6290855005' '6775888955' '6962181067'\n",
            " '7007744171' '7086361926' '8053475328' '8253242879' '8378563200'\n",
            " '8583815059' '8792009665' '8877689391']\n"
          ]
        }
      ],
      "source": [
        "print('Number of unique values in id column:',df['id'].nunique())\n",
        "print()\n",
        "print('List of id values:',df['id'].unique())"
      ]
    },
    {
      "cell_type": "markdown",
      "id": "40b08633",
      "metadata": {
        "papermill": {
          "duration": 0.013821,
          "end_time": "2023-03-22T16:55:06.962601",
          "exception": false,
          "start_time": "2023-03-22T16:55:06.948780",
          "status": "completed"
        },
        "tags": [],
        "id": "40b08633"
      },
      "source": [
        "and now let's see how much they appear in the dataset with value_counts()"
      ]
    },
    {
      "cell_type": "code",
      "execution_count": 19,
      "id": "de4cea4f",
      "metadata": {
        "execution": {
          "iopub.execute_input": "2023-03-22T16:55:06.993107Z",
          "iopub.status.busy": "2023-03-22T16:55:06.991886Z",
          "iopub.status.idle": "2023-03-22T16:55:07.002546Z",
          "shell.execute_reply": "2023-03-22T16:55:07.000475Z"
        },
        "papermill": {
          "duration": 0.028101,
          "end_time": "2023-03-22T16:55:07.004467",
          "exception": false,
          "start_time": "2023-03-22T16:55:06.976366",
          "status": "completed"
        },
        "tags": [],
        "id": "de4cea4f",
        "colab": {
          "base_uri": "https://localhost:8080/"
        },
        "outputId": "5c21171c-98be-4398-f87d-1da833b03631"
      },
      "outputs": [
        {
          "output_type": "stream",
          "name": "stdout",
          "text": [
            "How many times each id appear in the dataset?\n",
            "1503960366    31\n",
            "4319703577    31\n",
            "8583815059    31\n",
            "8378563200    31\n",
            "8053475328    31\n",
            "7086361926    31\n",
            "6962181067    31\n",
            "5553957443    31\n",
            "4702921684    31\n",
            "4558609924    31\n",
            "1624580081    31\n",
            "4388161847    31\n",
            "4445114986    31\n",
            "8877689391    31\n",
            "1927972279    31\n",
            "2873212765    31\n",
            "2320127002    31\n",
            "4020332650    31\n",
            "2026352035    31\n",
            "1844505072    31\n",
            "2022484408    31\n",
            "3977333714    30\n",
            "1644430081    30\n",
            "5577150313    30\n",
            "8792009665    29\n",
            "6290855005    29\n",
            "6117666160    28\n",
            "6775888955    26\n",
            "7007744171    26\n",
            "3372868164    20\n",
            "8253242879    19\n",
            "2347167796    18\n",
            "4057192912     4\n",
            "Name: id, dtype: int64\n"
          ]
        }
      ],
      "source": [
        "print('How many times each id appear in the dataset?')\n",
        "print(df['id'].value_counts())"
      ]
    },
    {
      "cell_type": "markdown",
      "id": "e71f7c25",
      "metadata": {
        "papermill": {
          "duration": 0.013562,
          "end_time": "2023-03-22T16:55:07.032249",
          "exception": false,
          "start_time": "2023-03-22T16:55:07.018687",
          "status": "completed"
        },
        "tags": [],
        "id": "e71f7c25"
      },
      "source": [
        "As we can see, there are 33 unique id's or users, and most appear 31 times throughout the dataset, some less than that"
      ]
    },
    {
      "cell_type": "markdown",
      "id": "8557762e",
      "metadata": {
        "papermill": {
          "duration": 0.014365,
          "end_time": "2023-03-22T16:55:07.061206",
          "exception": false,
          "start_time": "2023-03-22T16:55:07.046841",
          "status": "completed"
        },
        "tags": [],
        "id": "8557762e"
      },
      "source": [
        "Now let's check the date column, what is the minimum date, maximum date, the days between them, and number of unique dates"
      ]
    },
    {
      "cell_type": "code",
      "execution_count": 20,
      "id": "861fc212",
      "metadata": {
        "execution": {
          "iopub.execute_input": "2023-03-22T16:55:07.093187Z",
          "iopub.status.busy": "2023-03-22T16:55:07.091205Z",
          "iopub.status.idle": "2023-03-22T16:55:07.101983Z",
          "shell.execute_reply": "2023-03-22T16:55:07.101274Z"
        },
        "papermill": {
          "duration": 0.02896,
          "end_time": "2023-03-22T16:55:07.103986",
          "exception": false,
          "start_time": "2023-03-22T16:55:07.075026",
          "status": "completed"
        },
        "tags": [],
        "id": "861fc212",
        "colab": {
          "base_uri": "https://localhost:8080/"
        },
        "outputId": "c2e1d490-e81c-4bc0-cbc4-b93b4371d72b"
      },
      "outputs": [
        {
          "output_type": "stream",
          "name": "stdout",
          "text": [
            "The min date is: 2016-04-12 00:00:00\n",
            "The max date is: 2016-05-12 00:00:00\n",
            "The number of unique dates are: 31\n"
          ]
        }
      ],
      "source": [
        "print('The min date is:',min(df['activity_date']))\n",
        "print('The max date is:',max(df['activity_date']))\n",
        "print('The number of unique dates are:',df['activity_date'].nunique())"
      ]
    },
    {
      "cell_type": "markdown",
      "id": "0372f818",
      "metadata": {
        "papermill": {
          "duration": 0.014001,
          "end_time": "2023-03-22T16:55:07.132594",
          "exception": false,
          "start_time": "2023-03-22T16:55:07.118593",
          "status": "completed"
        },
        "tags": [],
        "id": "0372f818"
      },
      "source": [
        "As we can see, we have exactly 31 days, ranging from '2016-04-12' to '2016-05-12'"
      ]
    },
    {
      "cell_type": "markdown",
      "id": "8e72025d",
      "metadata": {
        "papermill": {
          "duration": 0.013662,
          "end_time": "2023-03-22T16:55:07.160839",
          "exception": false,
          "start_time": "2023-03-22T16:55:07.147177",
          "status": "completed"
        },
        "tags": [],
        "id": "8e72025d"
      },
      "source": [
        "Now we can start making an exploratory data analysis"
      ]
    },
    {
      "cell_type": "code",
      "execution_count": 21,
      "id": "b84f45eb",
      "metadata": {
        "execution": {
          "iopub.execute_input": "2023-03-22T16:55:07.191027Z",
          "iopub.status.busy": "2023-03-22T16:55:07.190669Z",
          "iopub.status.idle": "2023-03-22T16:55:07.223109Z",
          "shell.execute_reply": "2023-03-22T16:55:07.222131Z"
        },
        "papermill": {
          "duration": 0.049948,
          "end_time": "2023-03-22T16:55:07.225213",
          "exception": false,
          "start_time": "2023-03-22T16:55:07.175265",
          "status": "completed"
        },
        "tags": [],
        "id": "b84f45eb",
        "colab": {
          "base_uri": "https://localhost:8080/",
          "height": 364
        },
        "outputId": "4cfc4af5-e127-44fe-d62a-6354e27280cb"
      },
      "outputs": [
        {
          "output_type": "execute_result",
          "data": {
            "text/plain": [
              "        total_steps  total_distance  very_active_minutes  \\\n",
              "count    940.000000      940.000000           940.000000   \n",
              "mean    7637.910638        5.489702            21.164894   \n",
              "std     5087.150742        3.924606            32.844803   \n",
              "min        0.000000        0.000000             0.000000   \n",
              "25%     3789.750000        2.620000             0.000000   \n",
              "50%     7405.500000        5.245000             4.000000   \n",
              "75%    10727.000000        7.712500            32.000000   \n",
              "max    36019.000000       28.030001           210.000000   \n",
              "\n",
              "       fairly_active_minutes  lightly_active_minutes  sedentary_minutes  \\\n",
              "count             940.000000              940.000000         940.000000   \n",
              "mean               13.564894              192.812766         991.210638   \n",
              "std                19.987404              109.174700         301.267437   \n",
              "min                 0.000000                0.000000           0.000000   \n",
              "25%                 0.000000              127.000000         729.750000   \n",
              "50%                 6.000000              199.000000        1057.500000   \n",
              "75%                19.000000              264.000000        1229.500000   \n",
              "max               143.000000              518.000000        1440.000000   \n",
              "\n",
              "          calories  n_day_of_week  \n",
              "count   940.000000     940.000000  \n",
              "mean   2303.609574       2.918085  \n",
              "std     718.166862       1.942379  \n",
              "min       0.000000       0.000000  \n",
              "25%    1828.500000       1.000000  \n",
              "50%    2134.000000       3.000000  \n",
              "75%    2793.250000       5.000000  \n",
              "max    4900.000000       6.000000  "
            ],
            "text/html": [
              "\n",
              "  <div id=\"df-bf960419-de11-4770-a8fc-824a749a39dc\">\n",
              "    <div class=\"colab-df-container\">\n",
              "      <div>\n",
              "<style scoped>\n",
              "    .dataframe tbody tr th:only-of-type {\n",
              "        vertical-align: middle;\n",
              "    }\n",
              "\n",
              "    .dataframe tbody tr th {\n",
              "        vertical-align: top;\n",
              "    }\n",
              "\n",
              "    .dataframe thead th {\n",
              "        text-align: right;\n",
              "    }\n",
              "</style>\n",
              "<table border=\"1\" class=\"dataframe\">\n",
              "  <thead>\n",
              "    <tr style=\"text-align: right;\">\n",
              "      <th></th>\n",
              "      <th>total_steps</th>\n",
              "      <th>total_distance</th>\n",
              "      <th>very_active_minutes</th>\n",
              "      <th>fairly_active_minutes</th>\n",
              "      <th>lightly_active_minutes</th>\n",
              "      <th>sedentary_minutes</th>\n",
              "      <th>calories</th>\n",
              "      <th>n_day_of_week</th>\n",
              "    </tr>\n",
              "  </thead>\n",
              "  <tbody>\n",
              "    <tr>\n",
              "      <th>count</th>\n",
              "      <td>940.000000</td>\n",
              "      <td>940.000000</td>\n",
              "      <td>940.000000</td>\n",
              "      <td>940.000000</td>\n",
              "      <td>940.000000</td>\n",
              "      <td>940.000000</td>\n",
              "      <td>940.000000</td>\n",
              "      <td>940.000000</td>\n",
              "    </tr>\n",
              "    <tr>\n",
              "      <th>mean</th>\n",
              "      <td>7637.910638</td>\n",
              "      <td>5.489702</td>\n",
              "      <td>21.164894</td>\n",
              "      <td>13.564894</td>\n",
              "      <td>192.812766</td>\n",
              "      <td>991.210638</td>\n",
              "      <td>2303.609574</td>\n",
              "      <td>2.918085</td>\n",
              "    </tr>\n",
              "    <tr>\n",
              "      <th>std</th>\n",
              "      <td>5087.150742</td>\n",
              "      <td>3.924606</td>\n",
              "      <td>32.844803</td>\n",
              "      <td>19.987404</td>\n",
              "      <td>109.174700</td>\n",
              "      <td>301.267437</td>\n",
              "      <td>718.166862</td>\n",
              "      <td>1.942379</td>\n",
              "    </tr>\n",
              "    <tr>\n",
              "      <th>min</th>\n",
              "      <td>0.000000</td>\n",
              "      <td>0.000000</td>\n",
              "      <td>0.000000</td>\n",
              "      <td>0.000000</td>\n",
              "      <td>0.000000</td>\n",
              "      <td>0.000000</td>\n",
              "      <td>0.000000</td>\n",
              "      <td>0.000000</td>\n",
              "    </tr>\n",
              "    <tr>\n",
              "      <th>25%</th>\n",
              "      <td>3789.750000</td>\n",
              "      <td>2.620000</td>\n",
              "      <td>0.000000</td>\n",
              "      <td>0.000000</td>\n",
              "      <td>127.000000</td>\n",
              "      <td>729.750000</td>\n",
              "      <td>1828.500000</td>\n",
              "      <td>1.000000</td>\n",
              "    </tr>\n",
              "    <tr>\n",
              "      <th>50%</th>\n",
              "      <td>7405.500000</td>\n",
              "      <td>5.245000</td>\n",
              "      <td>4.000000</td>\n",
              "      <td>6.000000</td>\n",
              "      <td>199.000000</td>\n",
              "      <td>1057.500000</td>\n",
              "      <td>2134.000000</td>\n",
              "      <td>3.000000</td>\n",
              "    </tr>\n",
              "    <tr>\n",
              "      <th>75%</th>\n",
              "      <td>10727.000000</td>\n",
              "      <td>7.712500</td>\n",
              "      <td>32.000000</td>\n",
              "      <td>19.000000</td>\n",
              "      <td>264.000000</td>\n",
              "      <td>1229.500000</td>\n",
              "      <td>2793.250000</td>\n",
              "      <td>5.000000</td>\n",
              "    </tr>\n",
              "    <tr>\n",
              "      <th>max</th>\n",
              "      <td>36019.000000</td>\n",
              "      <td>28.030001</td>\n",
              "      <td>210.000000</td>\n",
              "      <td>143.000000</td>\n",
              "      <td>518.000000</td>\n",
              "      <td>1440.000000</td>\n",
              "      <td>4900.000000</td>\n",
              "      <td>6.000000</td>\n",
              "    </tr>\n",
              "  </tbody>\n",
              "</table>\n",
              "</div>\n",
              "      <button class=\"colab-df-convert\" onclick=\"convertToInteractive('df-bf960419-de11-4770-a8fc-824a749a39dc')\"\n",
              "              title=\"Convert this dataframe to an interactive table.\"\n",
              "              style=\"display:none;\">\n",
              "        \n",
              "  <svg xmlns=\"http://www.w3.org/2000/svg\" height=\"24px\"viewBox=\"0 0 24 24\"\n",
              "       width=\"24px\">\n",
              "    <path d=\"M0 0h24v24H0V0z\" fill=\"none\"/>\n",
              "    <path d=\"M18.56 5.44l.94 2.06.94-2.06 2.06-.94-2.06-.94-.94-2.06-.94 2.06-2.06.94zm-11 1L8.5 8.5l.94-2.06 2.06-.94-2.06-.94L8.5 2.5l-.94 2.06-2.06.94zm10 10l.94 2.06.94-2.06 2.06-.94-2.06-.94-.94-2.06-.94 2.06-2.06.94z\"/><path d=\"M17.41 7.96l-1.37-1.37c-.4-.4-.92-.59-1.43-.59-.52 0-1.04.2-1.43.59L10.3 9.45l-7.72 7.72c-.78.78-.78 2.05 0 2.83L4 21.41c.39.39.9.59 1.41.59.51 0 1.02-.2 1.41-.59l7.78-7.78 2.81-2.81c.8-.78.8-2.07 0-2.86zM5.41 20L4 18.59l7.72-7.72 1.47 1.35L5.41 20z\"/>\n",
              "  </svg>\n",
              "      </button>\n",
              "      \n",
              "  <style>\n",
              "    .colab-df-container {\n",
              "      display:flex;\n",
              "      flex-wrap:wrap;\n",
              "      gap: 12px;\n",
              "    }\n",
              "\n",
              "    .colab-df-convert {\n",
              "      background-color: #E8F0FE;\n",
              "      border: none;\n",
              "      border-radius: 50%;\n",
              "      cursor: pointer;\n",
              "      display: none;\n",
              "      fill: #1967D2;\n",
              "      height: 32px;\n",
              "      padding: 0 0 0 0;\n",
              "      width: 32px;\n",
              "    }\n",
              "\n",
              "    .colab-df-convert:hover {\n",
              "      background-color: #E2EBFA;\n",
              "      box-shadow: 0px 1px 2px rgba(60, 64, 67, 0.3), 0px 1px 3px 1px rgba(60, 64, 67, 0.15);\n",
              "      fill: #174EA6;\n",
              "    }\n",
              "\n",
              "    [theme=dark] .colab-df-convert {\n",
              "      background-color: #3B4455;\n",
              "      fill: #D2E3FC;\n",
              "    }\n",
              "\n",
              "    [theme=dark] .colab-df-convert:hover {\n",
              "      background-color: #434B5C;\n",
              "      box-shadow: 0px 1px 3px 1px rgba(0, 0, 0, 0.15);\n",
              "      filter: drop-shadow(0px 1px 2px rgba(0, 0, 0, 0.3));\n",
              "      fill: #FFFFFF;\n",
              "    }\n",
              "  </style>\n",
              "\n",
              "      <script>\n",
              "        const buttonEl =\n",
              "          document.querySelector('#df-bf960419-de11-4770-a8fc-824a749a39dc button.colab-df-convert');\n",
              "        buttonEl.style.display =\n",
              "          google.colab.kernel.accessAllowed ? 'block' : 'none';\n",
              "\n",
              "        async function convertToInteractive(key) {\n",
              "          const element = document.querySelector('#df-bf960419-de11-4770-a8fc-824a749a39dc');\n",
              "          const dataTable =\n",
              "            await google.colab.kernel.invokeFunction('convertToInteractive',\n",
              "                                                     [key], {});\n",
              "          if (!dataTable) return;\n",
              "\n",
              "          const docLinkHtml = 'Like what you see? Visit the ' +\n",
              "            '<a target=\"_blank\" href=https://colab.research.google.com/notebooks/data_table.ipynb>data table notebook</a>'\n",
              "            + ' to learn more about interactive tables.';\n",
              "          element.innerHTML = '';\n",
              "          dataTable['output_type'] = 'display_data';\n",
              "          await google.colab.output.renderOutput(dataTable, element);\n",
              "          const docLink = document.createElement('div');\n",
              "          docLink.innerHTML = docLinkHtml;\n",
              "          element.appendChild(docLink);\n",
              "        }\n",
              "      </script>\n",
              "    </div>\n",
              "  </div>\n",
              "  "
            ]
          },
          "metadata": {},
          "execution_count": 21
        }
      ],
      "source": [
        "# First we use the describe() function to see some statistics\n",
        "df.describe()"
      ]
    },
    {
      "cell_type": "markdown",
      "id": "f1071f37",
      "metadata": {
        "papermill": {
          "duration": 0.013965,
          "end_time": "2023-03-22T16:55:07.254175",
          "exception": false,
          "start_time": "2023-03-22T16:55:07.240210",
          "status": "completed"
        },
        "tags": [],
        "id": "f1071f37"
      },
      "source": [
        "Here we can see the mean or average, the min and max values. the 50% median, etc..\n",
        "\n",
        "We can already see in the max row that someone walked for 28 miles and someone burned 4900 calories, it could be an outlier so we may pay attention to it later"
      ]
    },
    {
      "cell_type": "markdown",
      "id": "b26b0d83",
      "metadata": {
        "papermill": {
          "duration": 0.014329,
          "end_time": "2023-03-22T16:55:07.283299",
          "exception": false,
          "start_time": "2023-03-22T16:55:07.268970",
          "status": "completed"
        },
        "tags": [],
        "id": "b26b0d83"
      },
      "source": [
        "# Step 5.- Share "
      ]
    },
    {
      "cell_type": "markdown",
      "id": "01182203",
      "metadata": {
        "papermill": {
          "duration": 0.015442,
          "end_time": "2023-03-22T16:55:07.313479",
          "exception": false,
          "start_time": "2023-03-22T16:55:07.298037",
          "status": "completed"
        },
        "tags": [],
        "id": "01182203"
      },
      "source": [
        "## Correlation between calories steps and calories\n",
        "\n",
        "What is the correlation between the amount of steps done, and the amount of calories burnt?"
      ]
    },
    {
      "cell_type": "code",
      "execution_count": 22,
      "id": "1037a2a9",
      "metadata": {
        "execution": {
          "iopub.execute_input": "2023-03-22T16:55:07.344978Z",
          "iopub.status.busy": "2023-03-22T16:55:07.344644Z",
          "iopub.status.idle": "2023-03-22T16:55:07.672155Z",
          "shell.execute_reply": "2023-03-22T16:55:07.671132Z"
        },
        "papermill": {
          "duration": 0.345529,
          "end_time": "2023-03-22T16:55:07.674156",
          "exception": false,
          "start_time": "2023-03-22T16:55:07.328627",
          "status": "completed"
        },
        "tags": [],
        "id": "1037a2a9",
        "colab": {
          "base_uri": "https://localhost:8080/",
          "height": 472
        },
        "outputId": "6ac0710f-9943-45a9-823d-bdad5800c234"
      },
      "outputs": [
        {
          "output_type": "display_data",
          "data": {
            "text/plain": [
              "<Figure size 640x480 with 1 Axes>"
            ],
            "image/png": "[encoded data removed]"
          },
          "metadata": {}
        }
      ],
      "source": [
        "ax =sns.scatterplot(x='total_steps', y='calories', data=df,hue='activity_level')\n",
        "\n",
        "#handles, labels = ax.get_legend_handles_labels()\n",
        "#plt.legend(handles, day_of_week, fontsize=7)\n",
        "plt.title('Correlation Calories vs. Steps')\n",
        "\n",
        "plt.show()"
      ]
    },
    {
      "cell_type": "markdown",
      "id": "edc22262",
      "metadata": {
        "papermill": {
          "duration": 0.015633,
          "end_time": "2023-03-22T16:55:07.705684",
          "exception": false,
          "start_time": "2023-03-22T16:55:07.690051",
          "status": "completed"
        },
        "tags": [],
        "id": "edc22262"
      },
      "source": [
        "We can see in this scatterplot a somewhat positive correlation, the more steps done, the more calories burnt.\n",
        "Also we divided the dots by colors, using the activity_level category, so we can see which group is representing the data shown"
      ]
    },
    {
      "cell_type": "markdown",
      "id": "505692b5",
      "metadata": {
        "papermill": {
          "duration": 0.016272,
          "end_time": "2023-03-22T16:55:07.738310",
          "exception": false,
          "start_time": "2023-03-22T16:55:07.722038",
          "status": "completed"
        },
        "tags": [],
        "id": "505692b5"
      },
      "source": [
        "## Average number of steps per day\n",
        "\n",
        "What is the average number of steps per day?"
      ]
    },
    {
      "cell_type": "code",
      "execution_count": 23,
      "id": "65d121ff",
      "metadata": {
        "execution": {
          "iopub.execute_input": "2023-03-22T16:55:07.774072Z",
          "iopub.status.busy": "2023-03-22T16:55:07.773492Z",
          "iopub.status.idle": "2023-03-22T16:55:07.980906Z",
          "shell.execute_reply": "2023-03-22T16:55:07.979284Z"
        },
        "papermill": {
          "duration": 0.229001,
          "end_time": "2023-03-22T16:55:07.983851",
          "exception": false,
          "start_time": "2023-03-22T16:55:07.754850",
          "status": "completed"
        },
        "tags": [],
        "id": "65d121ff",
        "colab": {
          "base_uri": "https://localhost:8080/",
          "height": 564
        },
        "outputId": "a27155cc-96bb-49ef-c30c-a892f1a3bf42"
      },
      "outputs": [
        {
          "output_type": "display_data",
          "data": {
            "text/plain": [
              "<Figure size 900x600 with 1 Axes>"
            ],
            "image/png": "[encoded data removed]"
          },
          "metadata": {}
        }
      ],
      "source": [
        "day_of_week = ['Monday','Tuesday','Wednesday','Thursday', 'Friday','Saturday','Sunday']\n",
        "fig, ax =plt.subplots(1,1,figsize=(9,6))\n",
        "\n",
        "day_grp = df.groupby(['day_of_week'])\n",
        "avg_daily_steps= day_grp['total_steps'].mean()\n",
        "avg_steps = df['total_steps'].mean()\n",
        "\n",
        "plt.bar(avg_daily_steps.index,avg_daily_steps)\n",
        "\n",
        "ax.set_xticks(range(len(day_of_week)))\n",
        "ax.set_xticklabels(day_of_week)\n",
        "\n",
        "ax.axhline(y=avg_daily_steps.mean(),color='red', label='Average daily steps')\n",
        "ax.set_ylabel('Number of steps')\n",
        "ax.set_xlabel('Day of the week')\n",
        "ax.set_title('Avg Number of steps per day')\n",
        "\n",
        "plt.legend()\n",
        "plt.show()"
      ]
    },
    {
      "cell_type": "markdown",
      "id": "b9cbd2f7",
      "metadata": {
        "papermill": {
          "duration": 0.015643,
          "end_time": "2023-03-22T16:55:08.015395",
          "exception": false,
          "start_time": "2023-03-22T16:55:07.999752",
          "status": "completed"
        },
        "tags": [],
        "id": "b9cbd2f7"
      },
      "source": [
        "The results show that Monday, Tuesday and Saturday are the days where the users were more physically active and above the average numbert of steps overall.\n",
        "Wednesday, Thursday, and Friday are below the average but the three fell into the same area.\n",
        "Sunday is the least active of all the weekdays.\n",
        "\n",
        "With this information we can interpret that users tend to be more physically active during the firsts days of the week and during saturdays, giving us a hint of the activities they may do."
      ]
    },
    {
      "cell_type": "markdown",
      "id": "de2acb6a",
      "metadata": {
        "papermill": {
          "duration": 0.015634,
          "end_time": "2023-03-22T16:55:08.046553",
          "exception": false,
          "start_time": "2023-03-22T16:55:08.030919",
          "status": "completed"
        },
        "tags": [],
        "id": "de2acb6a"
      },
      "source": [
        "## Percentage of activity in minutes\n",
        "\n",
        "What percentage of the time are people active?"
      ]
    },
    {
      "cell_type": "code",
      "execution_count": 24,
      "id": "baa8779e",
      "metadata": {
        "execution": {
          "iopub.execute_input": "2023-03-22T16:55:08.079538Z",
          "iopub.status.busy": "2023-03-22T16:55:08.079210Z",
          "iopub.status.idle": "2023-03-22T16:55:08.261357Z",
          "shell.execute_reply": "2023-03-22T16:55:08.260240Z"
        },
        "papermill": {
          "duration": 0.201349,
          "end_time": "2023-03-22T16:55:08.263612",
          "exception": false,
          "start_time": "2023-03-22T16:55:08.062263",
          "status": "completed"
        },
        "tags": [],
        "id": "baa8779e",
        "colab": {
          "base_uri": "https://localhost:8080/",
          "height": 487
        },
        "outputId": "373b9dd2-94ca-4ed7-97be-ebd1471a25ca"
      },
      "outputs": [
        {
          "output_type": "display_data",
          "data": {
            "text/plain": [
              "<Figure size 640x480 with 1 Axes>"
            ],
            "image/png": "[encoded data removed]"
          },
          "metadata": {}
        }
      ],
      "source": [
        "very_active_mins = df['very_active_minutes'].sum() \n",
        "fairly_active_mins = df['fairly_active_minutes'].sum()\n",
        "lightly_active_mins = df['lightly_active_minutes'].sum()\n",
        "sedentary_mins = df['sedentary_minutes'].sum()\n",
        "\n",
        "slices = [very_active_mins,fairly_active_mins,lightly_active_mins,sedentary_mins]\n",
        "labels = ['very active minutes','fairly active minutes','lightly active minutes','sedentary minutes']\n",
        "explode = [0,0,0,0.1]\n",
        "plt.pie(slices, labels = labels, explode = explode, autopct='%1.1f%%',textprops=dict(size=9), shadow=True)\n",
        "\n",
        "plt.title('Percentage of activity in minutes',fontsize=18)\n",
        "plt.tight_layout()\n",
        "\n",
        "plt.show()"
      ]
    },
    {
      "cell_type": "markdown",
      "id": "346afeb2",
      "metadata": {
        "papermill": {
          "duration": 0.023454,
          "end_time": "2023-03-22T16:55:08.309925",
          "exception": false,
          "start_time": "2023-03-22T16:55:08.286471",
          "status": "completed"
        },
        "tags": [],
        "id": "346afeb2"
      },
      "source": [
        "This pie chart shows that the users are in a sedentary state of activity most of the time, a sixth of the time doing light activity and only 2% of the time being active doing proper excercise."
      ]
    },
    {
      "cell_type": "markdown",
      "id": "db2af9e8",
      "metadata": {
        "papermill": {
          "duration": 0.017445,
          "end_time": "2023-03-22T16:55:08.349139",
          "exception": false,
          "start_time": "2023-03-22T16:55:08.331694",
          "status": "completed"
        },
        "tags": [],
        "id": "db2af9e8"
      },
      "source": [
        "## Correlation Between activity level minutes and calories"
      ]
    },
    {
      "cell_type": "code",
      "execution_count": 25,
      "id": "b193e811",
      "metadata": {
        "execution": {
          "iopub.execute_input": "2023-03-22T16:55:08.386588Z",
          "iopub.status.busy": "2023-03-22T16:55:08.385789Z",
          "iopub.status.idle": "2023-03-22T16:55:09.010773Z",
          "shell.execute_reply": "2023-03-22T16:55:09.009736Z"
        },
        "papermill": {
          "duration": 0.646154,
          "end_time": "2023-03-22T16:55:09.013172",
          "exception": false,
          "start_time": "2023-03-22T16:55:08.367018",
          "status": "completed"
        },
        "tags": [],
        "id": "b193e811",
        "colab": {
          "base_uri": "https://localhost:8080/",
          "height": 912
        },
        "outputId": "88384a49-ecb6-4079-af70-018ecfb1a179"
      },
      "outputs": [
        {
          "output_type": "display_data",
          "data": {
            "text/plain": [
              "<Figure size 770x1050 with 4 Axes>"
            ],
            "image/png": "[encoded data removed]"
          },
          "metadata": {}
        }
      ],
      "source": [
        "n_day_of_week = [0,1,2,3,4,5,6]\n",
        "\n",
        "fig, axes = plt.subplots(nrows=2, ncols=2,figsize=(11,15),dpi=70)\n",
        "\n",
        "sns.scatterplot(data=df,x='calories',y='sedentary_minutes',hue='activity_level',ax=axes[0,0],legend=False)\n",
        "\n",
        "sns.scatterplot(data=df,x='calories',y='lightly_active_minutes',hue='activity_level',ax=axes[0,1],legend=False)\n",
        "\n",
        "sns.scatterplot(data=df,x='calories',y='fairly_active_minutes',hue='activity_level',ax=axes[1,0],legend=False)\n",
        "\n",
        "sns.scatterplot(data=df,x='calories',y='very_active_minutes',hue='activity_level',ax=axes[1,1])\n",
        "\n",
        "\n",
        "plt.legend(title='Activity level',title_fontsize=20,bbox_to_anchor=(1.8,2.2),fontsize=18,frameon=True,scatterpoints=1)\n",
        "fig.suptitle('Correlation Between activity level minutes and calories',x=0.5,y=0.92,fontsize=24)\n",
        "plt.show()"
      ]
    },
    {
      "cell_type": "markdown",
      "id": "3268a033",
      "metadata": {
        "papermill": {
          "duration": 0.021477,
          "end_time": "2023-03-22T16:55:09.056697",
          "exception": false,
          "start_time": "2023-03-22T16:55:09.035220",
          "status": "completed"
        },
        "tags": [],
        "id": "3268a033"
      },
      "source": [
        "# Step 6.- Act"
      ]
    },
    {
      "cell_type": "markdown",
      "id": "98012b7c",
      "metadata": {
        "papermill": {
          "duration": 0.020564,
          "end_time": "2023-03-22T16:55:09.099649",
          "exception": false,
          "start_time": "2023-03-22T16:55:09.079085",
          "status": "completed"
        },
        "tags": [],
        "id": "98012b7c"
      },
      "source": [
        "After\n",
        "analyzing FitBit Fitness Tracker Data,\n",
        "we have found some insights that would\n",
        "help influence Bellabeat marketing strategy"
      ]
    },
    {
      "cell_type": "markdown",
      "id": "0fe113db",
      "metadata": {
        "papermill": {
          "duration": 0.019936,
          "end_time": "2023-03-22T16:55:09.139966",
          "exception": false,
          "start_time": "2023-03-22T16:55:09.120030",
          "status": "completed"
        },
        "tags": [],
        "id": "0fe113db"
      },
      "source": [
        "## A multipurpose device\n",
        "\n",
        "Bellabeat\n",
        "can let know users, that their products are not\n",
        "only meant for sports, or excersice related activities As\n",
        "the data show, many users spend more time wearing\n",
        "the tracking device on weekends than on weekdays, this\n",
        "could mean that they relate the product just to sports\n",
        "or for only the usual walking to the park on sundays\n",
        "Bellabeat can show that their products are meant to\n",
        "acompany them wherever they go for any daily\n",
        "activities, such as work And help them track\n",
        "information to improve overall fitness and health This\n",
        "will encourage women from diverse demographic\n",
        "features and backgrounds to use Bellabeat's product\n",
        "meant for all women who care about overall health"
      ]
    },
    {
      "cell_type": "markdown",
      "id": "61776238",
      "metadata": {
        "papermill": {
          "duration": 0.020228,
          "end_time": "2023-03-22T16:55:09.181356",
          "exception": false,
          "start_time": "2023-03-22T16:55:09.161128",
          "status": "completed"
        },
        "tags": [],
        "id": "61776238"
      },
      "source": [
        "## Rewards and reminds\n",
        "Bellabeat\n",
        "can integrate functions within the bellabeat\n",
        "app or other products, such as rewards or incentives,\n",
        "and reminds to encourage their users to hit certain\n",
        "marks These marks could be achieving the minimum\n",
        "amount of 7 500 steps per day, certain calorie burning\n",
        "for people who want to lose weight, or the 8 hour sleep\n",
        "pattern Certain rewards could be showing a\n",
        "leaderboard of top users who have reached and\n",
        "maintained the minimum steps a day for longer, virtual\n",
        "medals or prizes, such as discounts or offers For the\n",
        "reminds part, Bellabeat could send notifications to their\n",
        "users when they are lagging behind in such goals, and\n",
        "also it could offer recomendations to their users to help\n",
        "them with their sleep, or achieving their goals"
      ]
    }
  ],
  "metadata": {
    "kernelspec": {
      "display_name": "Python 3",
      "language": "python",
      "name": "python3"
    },
    "language_info": {
      "codemirror_mode": {
        "name": "ipython",
        "version": 3
      },
      "file_extension": ".py",
      "mimetype": "text/x-python",
      "name": "python",
      "nbconvert_exporter": "python",
      "pygments_lexer": "ipython3",
      "version": "3.7.12"
    },
    "papermill": {
      "default_parameters": {},
      "duration": 15.822076,
      "end_time": "2023-03-22T16:55:10.024724",
      "environment_variables": {},
      "exception": null,
      "input_path": "__notebook__.ipynb",
      "output_path": "__notebook__.ipynb",
      "parameters": {},
      "start_time": "2023-03-22T16:54:54.202648",
      "version": "2.4.0"
    },
    "colab": {
      "provenance": []
    }
  },
  "nbformat": 4,
  "nbformat_minor": 5
}