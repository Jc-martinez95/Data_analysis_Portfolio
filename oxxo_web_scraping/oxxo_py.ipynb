{
  "nbformat": 4,
  "nbformat_minor": 0,
  "metadata": {
    "colab": {
      "provenance": [],
      "authorship_tag": "ABX9TyNUmk1wI2OC8b4DcQmwIcyJ",
      "include_colab_link": true
    },
    "kernelspec": {
      "name": "python3",
      "display_name": "Python 3"
    },
    "language_info": {
      "name": "python"
    }
  },
  "cells": [
    {
      "cell_type": "markdown",
      "metadata": {
        "id": "view-in-github",
        "colab_type": "text"
      },
      "source": [
        "<a href=\"https://colab.research.google.com/github/Jc-martinez95/Data_analysis_Portfolio/blob/main/oxxo_web_scraping/oxxo_py.ipynb\" target=\"_parent\"><img src=\"https://colab.research.google.com/assets/colab-badge.svg\" alt=\"Open In Colab\"/></a>"
      ]
    },
    {
      "cell_type": "markdown",
      "source": [
        "# Web-scrapping Project\n",
        "Author: Juan Martinez.\n",
        "\n",
        "linkedin: [texto del vínculo](https://)\n",
        "This is part of a bigger project to show the distribution of oxxo stores in Mexico. This file is intended to show how to scrappe a website and pull relevant data"
      ],
      "metadata": {
        "id": "26ESWN_B-_JH"
      }
    },
    {
      "cell_type": "markdown",
      "source": [
        "### Prepare the data"
      ],
      "metadata": {
        "id": "jYRfNBWN_cIL"
      }
    },
    {
      "cell_type": "code",
      "execution_count": null,
      "metadata": {
        "id": "k4CQUcBpjbpa"
      },
      "outputs": [],
      "source": [
        "# Importing libraries\n",
        "import requests\n",
        "import re\n",
        "import json\n",
        "from bs4 import BeautifulSoup\n",
        "import pandas as pd"
      ]
    },
    {
      "cell_type": "code",
      "source": [
        "# defining the url variable\n",
        "url = \"https://www.oxxo.com/tiendas?source=link-menu\""
      ],
      "metadata": {
        "id": "75keP37djerA"
      },
      "execution_count": null,
      "outputs": []
    },
    {
      "cell_type": "code",
      "source": [
        "# Connecting to the url\n",
        "response = requests.get(url)"
      ],
      "metadata": {
        "id": "jy_LL_o3jgcN"
      },
      "execution_count": null,
      "outputs": []
    },
    {
      "cell_type": "code",
      "source": [
        "# Creating the html variable\n",
        "html = response.content"
      ],
      "metadata": {
        "id": "MXSUvTBUjkva"
      },
      "execution_count": null,
      "outputs": []
    },
    {
      "cell_type": "markdown",
      "source": [
        "### Extract the data"
      ],
      "metadata": {
        "id": "JJO3YSJoCGQm"
      }
    },
    {
      "cell_type": "code",
      "source": [
        "# Extracting the html\n",
        "soup = BeautifulSoup(html, 'html.parser')"
      ],
      "metadata": {
        "id": "F1-5u50Tjmk5"
      },
      "execution_count": null,
      "outputs": []
    },
    {
      "cell_type": "code",
      "source": [
        "# Saving the html file to view purposes\n",
        "with open('web scraping parser.html','wb') as file:\n",
        "  file.write(soup.prettify('utf-8'))"
      ],
      "metadata": {
        "id": "CVha7E0jjn3y"
      },
      "execution_count": null,
      "outputs": []
    },
    {
      "cell_type": "code",
      "source": [
        "# Selecting the html section to pull the data from\n",
        "div = soup.find_all('div', {'class':'d-flex flex-column h-100'})"
      ],
      "metadata": {
        "id": "pV8Nigkrjp38"
      },
      "execution_count": null,
      "outputs": []
    },
    {
      "cell_type": "code",
      "source": [
        "# Turning the data into str format\n",
        "text = str(div)\n",
        "\n",
        "# Locating json tables\n",
        "match = re.search(r'\\[{.*\\}]', text)"
      ],
      "metadata": {
        "id": "gWvBbdAczn4n"
      },
      "execution_count": null,
      "outputs": []
    },
    {
      "cell_type": "code",
      "source": [
        "# Extracting the json table\n",
        "data = json.loads(match.group(0))"
      ],
      "metadata": {
        "id": "-pfHQED_1hJf"
      },
      "execution_count": null,
      "outputs": []
    },
    {
      "cell_type": "code",
      "source": [
        "# Turning the json table into Data Frame\n",
        "df = pd.DataFrame(data)\n",
        "df"
      ],
      "metadata": {
        "id": "iHixXhT9B0t3"
      },
      "execution_count": null,
      "outputs": []
    },
    {
      "cell_type": "markdown",
      "source": [
        "### Analyze and clean the data"
      ],
      "metadata": {
        "id": "8Q8k1WALCOve"
      }
    },
    {
      "cell_type": "code",
      "source": [
        "# Checking number of rows and columns\n",
        "df.shape"
      ],
      "metadata": {
        "colab": {
          "base_uri": "https://localhost:8080/"
        },
        "id": "vncklJnFCqck",
        "outputId": "f5954cc9-f9a4-482d-c9fe-65793c226515"
      },
      "execution_count": null,
      "outputs": [
        {
          "output_type": "execute_result",
          "data": {
            "text/plain": [
              "(16688, 11)"
            ]
          },
          "metadata": {},
          "execution_count": 13
        }
      ]
    },
    {
      "cell_type": "code",
      "source": [
        "# Checking column names\n",
        "df.columns"
      ],
      "metadata": {
        "colab": {
          "base_uri": "https://localhost:8080/"
        },
        "id": "Ft0BhcTsCWKG",
        "outputId": "50fb09b4-49a5-4199-af25-3e840b71416b"
      },
      "execution_count": null,
      "outputs": [
        {
          "output_type": "execute_result",
          "data": {
            "text/plain": [
              "Index(['id', 'name', 'cr', 'image', 'address', 'lat', 'lon', 'start_time',\n",
              "       'end_time', 'categories', 'panini'],\n",
              "      dtype='object')"
            ]
          },
          "metadata": {},
          "execution_count": 12
        }
      ]
    },
    {
      "cell_type": "code",
      "source": [
        "# Checking column dtypes\n",
        "df.dtypes"
      ],
      "metadata": {
        "colab": {
          "base_uri": "https://localhost:8080/"
        },
        "id": "K_ORFECjCvOV",
        "outputId": "5b24c507-4fa7-4afd-fb06-225e9e81e719"
      },
      "execution_count": null,
      "outputs": [
        {
          "output_type": "execute_result",
          "data": {
            "text/plain": [
              "id             int64\n",
              "name          object\n",
              "cr            object\n",
              "image         object\n",
              "address       object\n",
              "lat           object\n",
              "lon           object\n",
              "start_time    object\n",
              "end_time      object\n",
              "categories    object\n",
              "panini         int64\n",
              "dtype: object"
            ]
          },
          "metadata": {},
          "execution_count": 14
        }
      ]
    },
    {
      "cell_type": "code",
      "source": [
        "# Checking null values\n",
        "df.isnull().sum()"
      ],
      "metadata": {
        "colab": {
          "base_uri": "https://localhost:8080/"
        },
        "id": "sADyZgPODCBU",
        "outputId": "afa82ac6-734e-4949-c413-0afe86223567"
      },
      "execution_count": null,
      "outputs": [
        {
          "output_type": "execute_result",
          "data": {
            "text/plain": [
              "id                0\n",
              "name              0\n",
              "cr                0\n",
              "image         16688\n",
              "address           0\n",
              "lat               0\n",
              "lon               0\n",
              "start_time    15690\n",
              "end_time      15690\n",
              "categories        0\n",
              "panini            0\n",
              "dtype: int64"
            ]
          },
          "metadata": {},
          "execution_count": 15
        }
      ]
    },
    {
      "cell_type": "code",
      "source": [
        "# Creating state column\n",
        "df['state'] = df['address'].str.split(',').str[-1].str.strip().str.title()"
      ],
      "metadata": {
        "id": "v4AcaUdsEfu4",
        "colab": {
          "base_uri": "https://localhost:8080/"
        },
        "outputId": "9b61bb46-7f0f-4c58-b23b-23a02d86d8a7"
      },
      "execution_count": null,
      "outputs": [
        {
          "output_type": "execute_result",
          "data": {
            "text/plain": [
              "0        Baja California\n",
              "1                Chiapas\n",
              "2             Nuevo León\n",
              "3             Guanajuato\n",
              "4             Nuevo León\n",
              "              ...       \n",
              "16683            Chiapas\n",
              "16684            Chiapas\n",
              "16685            Chiapas\n",
              "16686            Chiapas\n",
              "16687            Chiapas\n",
              "Name: state, Length: 16688, dtype: object"
            ]
          },
          "metadata": {},
          "execution_count": 16
        }
      ]
    },
    {
      "cell_type": "code",
      "source": [
        "# Creating city column\n",
        "df['city'] = df['address'].str.split(',').str[3].str.strip().str.title()"
      ],
      "metadata": {
        "colab": {
          "base_uri": "https://localhost:8080/"
        },
        "id": "_C-5_1OmTw3w",
        "outputId": "6556c68c-a35a-45e6-bef5-a43de3cf58da"
      },
      "execution_count": null,
      "outputs": [
        {
          "output_type": "execute_result",
          "data": {
            "text/plain": [
              "0                          Mexicali\n",
              "1                          Suchiate\n",
              "2                            García\n",
              "3             San Miguel De Allende\n",
              "4                         Monterrey\n",
              "                    ...            \n",
              "16683                       Arriaga\n",
              "16684              Tuxtla Gutiérrez\n",
              "16685    San Cristóbal De Las Casas\n",
              "16686              Tuxtla Gutiérrez\n",
              "16687              Tuxtla Gutiérrez\n",
              "Name: city, Length: 16688, dtype: object"
            ]
          },
          "metadata": {},
          "execution_count": 17
        }
      ]
    },
    {
      "cell_type": "code",
      "source": [
        "# Subsetting the data\n",
        "oxxo = df[['id','name','cr','address','city','state','lat','lon',]]"
      ],
      "metadata": {
        "id": "e0T1CrIkWYug"
      },
      "execution_count": null,
      "outputs": []
    },
    {
      "cell_type": "code",
      "source": [
        "# Exporting the data\n",
        "oxxo.to_csv('oxxo_dir.csv',encoding='utf-8',index=False)"
      ],
      "metadata": {
        "id": "poYLnFW7XZyf"
      },
      "execution_count": null,
      "outputs": []
    },
    {
      "cell_type": "markdown",
      "source": [
        "Thank you to watch this python section of the project, the final dashboard can be accesed here: [Looker Dashboard](https://lookerstudio.google.com/reporting/dadadff7-bdfb-4106-9ba9-8e6cec851f99)"
      ],
      "metadata": {
        "id": "xCDexVORDGnL"
      }
    }
  ]
}